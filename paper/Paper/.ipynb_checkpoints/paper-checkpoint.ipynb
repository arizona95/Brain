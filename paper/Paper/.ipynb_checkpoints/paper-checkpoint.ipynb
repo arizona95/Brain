{
 "cells": [
  {
   "cell_type": "code",
   "execution_count": 36,
   "id": "193979cb",
   "metadata": {},
   "outputs": [],
   "source": [
    "import numpy as np\n",
    "np.set_printoptions(precision=6, suppress=True)"
   ]
  },
  {
   "cell_type": "code",
   "execution_count": 84,
   "id": "6cdb2db9",
   "metadata": {},
   "outputs": [],
   "source": [
    "x_0 = np.array([\n",
    "    [2], \n",
    "    [3], \n",
    "    [1], \n",
    "    [2], \n",
    "    [5], \n",
    "])\n",
    "\n",
    "M = np.array([\n",
    "    [1,1], \n",
    "    [1,0], \n",
    "    [0,1], \n",
    "    [0,1], \n",
    "    [0,1], \n",
    "])\n",
    "\n",
    "M_ = np.array([\n",
    "    [1 , 0, 0, 0], \n",
    "    [-1, 0, 0, 0], \n",
    "    [-1, 0, 1, 1], \n",
    "    [0 , 1,-1,-1], \n",
    "    [0 ,-1, 0, 0], \n",
    "])\n",
    "\n",
    "\n",
    "S = np.array([\n",
    "    [1,0 ], \n",
    "    [1,0 ], \n",
    "    [1 ,0 ], \n",
    "    [0 ,1 ], \n",
    "    [0 ,1 ], \n",
    "])\n",
    "\n",
    "\n",
    "D = np.array([\n",
    "    [0 ,1 ], \n",
    "    [1 ,0 ],  \n",
    "])\n",
    "\n",
    "\n",
    "m_c = np.array([\n",
    "    [0.2,], \n",
    "    [0.3,],\n",
    "])\n",
    "\n",
    "q_c = np.array([\n",
    "    [-3,], \n",
    "    [1,],\n",
    "])\n",
    "\n",
    "a = -np.log(np.array([\n",
    "    [4], \n",
    "    [1], \n",
    "    [2], \n",
    "    [1], \n",
    "    [3], \n",
    "]))\n",
    "\n",
    "k = np.array([\n",
    "    [1], \n",
    "    [0.7], \n",
    "    [0.1], \n",
    "    [0],  \n",
    "])\n",
    "\n",
    "v = np.array([\n",
    "    [0], \n",
    "    [0], \n",
    "    [0], \n",
    "    [0.8],  \n",
    "])\n",
    "\n",
    "c = np.array([\n",
    "    [0.1], \n",
    "    [0.1], \n",
    "    [0.1], \n",
    "    [0.2], \n",
    "    [0.1], \n",
    "])\n",
    "\n",
    "\n",
    "x_h = np.array([\n",
    "    [0], \n",
    "    [0], \n",
    "    [0], \n",
    "    [0], \n",
    "    [3], \n",
    "])\n",
    "\n",
    "\n",
    "h = np.array([\n",
    "    [0], \n",
    "    [0], \n",
    "    [0], \n",
    "    [0], \n",
    "    [2], \n",
    "])\n",
    "\n",
    "###\n",
    "\n",
    "p_0 = np.array([\n",
    "    [0], \n",
    "    [0], \n",
    "    [0], \n",
    "    [0], \n",
    "    [0], \n",
    "])"
   ]
  },
  {
   "cell_type": "code",
   "execution_count": 108,
   "id": "b1887486",
   "metadata": {},
   "outputs": [],
   "source": [
    "x, p = x_0, p_0\n",
    "q =  np.dot(  np.diag( np.dot(M, q_c).T[0] ), S )\n",
    "V = np.dot( q, np.dot(1/(D+1)-1, q.T) )\n",
    "m = np.dot( M, m_c)"
   ]
  },
  {
   "cell_type": "code",
   "execution_count": 148,
   "id": "4dd58f3d",
   "metadata": {},
   "outputs": [],
   "source": [
    "def relu(x) :\n",
    "    return np.maximum(0,x)\n",
    "\n",
    "def Energy(x,p) :\n",
    "    global a, V, m\n",
    "    \n",
    "    energy = np.dot(x.T, np.log(x)) + np.dot(a.T, x) + 0.5*np.dot(x.T, np.dot(V, x)) + 0.5*(np.dot( (1/m.T), (p*p*x)))\n",
    "    \n",
    "    return energy[0]\n",
    "\n",
    "def Flow(x,p) :\n",
    "    global M_, k, v, h, x_h, c\n",
    "    \n",
    "    grad_x = (np.log(x)+1).T + a.T + np.dot(x.T, V) + (0.5*(1/m)*p*p).T\n",
    "    grad_p = (0.5*(1/m)*p*x).T\n",
    "    \n",
    "    chemical_flow_x = -np.dot(M_, (k.T*(np.exp( np.dot(grad_x, M_)) -1 )*(np.exp(-0.5*np.dot(grad_x, M_) + 0.5*np.dot(np.log(x.T), np.abs(M_)))) ).T)\n",
    "    hamiltonian_flow_x = np.dot(M_, v*(np.dot(grad_p, M_).T) )\n",
    "    hamiltonian_flow_p = -np.dot(M_, v*(np.dot(grad_x, M_).T) )\n",
    "    colision_flow_p = -c*(grad_p).T\n",
    "    external_homeostasis_flow_x = h*(x_h-x)"
   ]
  },
  {
   "cell_type": "code",
   "execution_count": 149,
   "id": "bae7ae70",
   "metadata": {},
   "outputs": [
    {
     "ename": "ValueError",
     "evalue": "shapes (5,1) and (5,4) not aligned: 1 (dim 1) != 5 (dim 0)",
     "output_type": "error",
     "traceback": [
      "\u001b[1;31m---------------------------------------------------------------------------\u001b[0m",
      "\u001b[1;31mValueError\u001b[0m                                Traceback (most recent call last)",
      "\u001b[1;32m<ipython-input-149-22f11c898500>\u001b[0m in \u001b[0;36m<module>\u001b[1;34m\u001b[0m\n\u001b[0;32m      1\u001b[0m \u001b[0mgrad_x\u001b[0m \u001b[1;33m=\u001b[0m \u001b[1;33m(\u001b[0m\u001b[0mnp\u001b[0m\u001b[1;33m.\u001b[0m\u001b[0mlog\u001b[0m\u001b[1;33m(\u001b[0m\u001b[0mx\u001b[0m\u001b[1;33m)\u001b[0m\u001b[1;33m+\u001b[0m\u001b[1;36m1\u001b[0m\u001b[1;33m)\u001b[0m\u001b[1;33m.\u001b[0m\u001b[0mT\u001b[0m \u001b[1;33m+\u001b[0m \u001b[0ma\u001b[0m\u001b[1;33m.\u001b[0m\u001b[0mT\u001b[0m \u001b[1;33m+\u001b[0m \u001b[0mnp\u001b[0m\u001b[1;33m.\u001b[0m\u001b[0mdot\u001b[0m\u001b[1;33m(\u001b[0m\u001b[0mx\u001b[0m\u001b[1;33m.\u001b[0m\u001b[0mT\u001b[0m\u001b[1;33m,\u001b[0m \u001b[0mV\u001b[0m\u001b[1;33m)\u001b[0m \u001b[1;33m+\u001b[0m \u001b[1;33m(\u001b[0m\u001b[1;36m0.5\u001b[0m\u001b[1;33m*\u001b[0m\u001b[1;33m(\u001b[0m\u001b[1;36m1\u001b[0m\u001b[1;33m/\u001b[0m\u001b[0mm\u001b[0m\u001b[1;33m)\u001b[0m\u001b[1;33m*\u001b[0m\u001b[0mp\u001b[0m\u001b[1;33m*\u001b[0m\u001b[0mp\u001b[0m\u001b[1;33m)\u001b[0m\u001b[1;33m.\u001b[0m\u001b[0mT\u001b[0m\u001b[1;33m\u001b[0m\u001b[1;33m\u001b[0m\u001b[0m\n\u001b[0;32m      2\u001b[0m \u001b[0mgrad_p\u001b[0m \u001b[1;33m=\u001b[0m \u001b[1;33m(\u001b[0m\u001b[1;36m0.5\u001b[0m\u001b[1;33m*\u001b[0m\u001b[1;33m(\u001b[0m\u001b[1;36m1\u001b[0m\u001b[1;33m/\u001b[0m\u001b[0mm\u001b[0m\u001b[1;33m)\u001b[0m\u001b[1;33m*\u001b[0m\u001b[0mp\u001b[0m\u001b[1;33m*\u001b[0m\u001b[0mx\u001b[0m\u001b[1;33m)\u001b[0m\u001b[1;33m.\u001b[0m\u001b[0mT\u001b[0m\u001b[1;33m\u001b[0m\u001b[1;33m\u001b[0m\u001b[0m\n\u001b[1;32m----> 3\u001b[1;33m \u001b[1;33m(\u001b[0m\u001b[0mnp\u001b[0m\u001b[1;33m.\u001b[0m\u001b[0mexp\u001b[0m\u001b[1;33m(\u001b[0m\u001b[1;33m-\u001b[0m\u001b[1;36m0.5\u001b[0m\u001b[1;33m*\u001b[0m\u001b[0mnp\u001b[0m\u001b[1;33m.\u001b[0m\u001b[0mdot\u001b[0m\u001b[1;33m(\u001b[0m\u001b[0mgrad_x\u001b[0m\u001b[1;33m,\u001b[0m \u001b[0mM_\u001b[0m\u001b[1;33m)\u001b[0m \u001b[1;33m+\u001b[0m \u001b[1;36m0.5\u001b[0m\u001b[1;33m*\u001b[0m\u001b[0mnp\u001b[0m\u001b[1;33m.\u001b[0m\u001b[0mdot\u001b[0m\u001b[1;33m(\u001b[0m\u001b[0mnp\u001b[0m\u001b[1;33m.\u001b[0m\u001b[0mlog\u001b[0m\u001b[1;33m(\u001b[0m\u001b[0mx\u001b[0m\u001b[1;33m)\u001b[0m\u001b[1;33m,\u001b[0m \u001b[0mnp\u001b[0m\u001b[1;33m.\u001b[0m\u001b[0mabs\u001b[0m\u001b[1;33m(\u001b[0m\u001b[0mM_\u001b[0m\u001b[1;33m)\u001b[0m\u001b[1;33m)\u001b[0m\u001b[1;33m)\u001b[0m\u001b[1;33m)\u001b[0m\u001b[1;33m\u001b[0m\u001b[1;33m\u001b[0m\u001b[0m\n\u001b[0m",
      "\u001b[1;32m<__array_function__ internals>\u001b[0m in \u001b[0;36mdot\u001b[1;34m(*args, **kwargs)\u001b[0m\n",
      "\u001b[1;31mValueError\u001b[0m: shapes (5,1) and (5,4) not aligned: 1 (dim 1) != 5 (dim 0)"
     ]
    }
   ],
   "source": [
    "grad_x = (np.log(x)+1).T + a.T + np.dot(x.T, V) + (0.5*(1/m)*p*p).T\n",
    "grad_p = (0.5*(1/m)*p*x).T\n",
    "(np.exp(-0.5*np.dot(grad_x, M_) + 0.5*np.dot(np.log(x), np.abs(M_))))"
   ]
  },
  {
   "cell_type": "code",
   "execution_count": 150,
   "id": "3d663b7d",
   "metadata": {},
   "outputs": [
    {
     "ename": "ValueError",
     "evalue": "operands could not be broadcast together with shapes (4,1) (5,1) ",
     "output_type": "error",
     "traceback": [
      "\u001b[1;31m---------------------------------------------------------------------------\u001b[0m",
      "\u001b[1;31mValueError\u001b[0m                                Traceback (most recent call last)",
      "\u001b[1;32m<ipython-input-150-6c1df574a6b7>\u001b[0m in \u001b[0;36m<module>\u001b[1;34m\u001b[0m\n\u001b[1;32m----> 1\u001b[1;33m \u001b[0mFlow\u001b[0m\u001b[1;33m(\u001b[0m\u001b[0mx\u001b[0m\u001b[1;33m,\u001b[0m\u001b[0mp\u001b[0m\u001b[1;33m)\u001b[0m\u001b[1;33m\u001b[0m\u001b[1;33m\u001b[0m\u001b[0m\n\u001b[0m",
      "\u001b[1;32m<ipython-input-148-5d13b1ad91d8>\u001b[0m in \u001b[0;36mFlow\u001b[1;34m(x, p)\u001b[0m\n\u001b[0;32m     18\u001b[0m     \u001b[0mhamiltonian_flow_x\u001b[0m \u001b[1;33m=\u001b[0m \u001b[0mnp\u001b[0m\u001b[1;33m.\u001b[0m\u001b[0mdot\u001b[0m\u001b[1;33m(\u001b[0m\u001b[0mM_\u001b[0m\u001b[1;33m,\u001b[0m \u001b[0mv\u001b[0m\u001b[1;33m*\u001b[0m\u001b[1;33m(\u001b[0m\u001b[0mnp\u001b[0m\u001b[1;33m.\u001b[0m\u001b[0mdot\u001b[0m\u001b[1;33m(\u001b[0m\u001b[0mgrad_p\u001b[0m\u001b[1;33m,\u001b[0m \u001b[0mM_\u001b[0m\u001b[1;33m)\u001b[0m\u001b[1;33m.\u001b[0m\u001b[0mT\u001b[0m\u001b[1;33m)\u001b[0m \u001b[1;33m)\u001b[0m\u001b[1;33m\u001b[0m\u001b[1;33m\u001b[0m\u001b[0m\n\u001b[0;32m     19\u001b[0m     \u001b[0mhamiltonian_flow_p\u001b[0m \u001b[1;33m=\u001b[0m \u001b[1;33m-\u001b[0m\u001b[0mnp\u001b[0m\u001b[1;33m.\u001b[0m\u001b[0mdot\u001b[0m\u001b[1;33m(\u001b[0m\u001b[0mM_\u001b[0m\u001b[1;33m,\u001b[0m \u001b[0mv\u001b[0m\u001b[1;33m*\u001b[0m\u001b[1;33m(\u001b[0m\u001b[0mnp\u001b[0m\u001b[1;33m.\u001b[0m\u001b[0mdot\u001b[0m\u001b[1;33m(\u001b[0m\u001b[0mgrad_x\u001b[0m\u001b[1;33m,\u001b[0m \u001b[0mM_\u001b[0m\u001b[1;33m)\u001b[0m\u001b[1;33m.\u001b[0m\u001b[0mT\u001b[0m\u001b[1;33m)\u001b[0m \u001b[1;33m)\u001b[0m\u001b[1;33m\u001b[0m\u001b[1;33m\u001b[0m\u001b[0m\n\u001b[1;32m---> 20\u001b[1;33m     \u001b[0mcolision_flow_p\u001b[0m \u001b[1;33m=\u001b[0m \u001b[1;33m-\u001b[0m\u001b[0mc\u001b[0m\u001b[1;33m*\u001b[0m\u001b[1;33m(\u001b[0m\u001b[0mgrad_p\u001b[0m\u001b[1;33m)\u001b[0m\u001b[1;33m.\u001b[0m\u001b[0mT\u001b[0m\u001b[1;33m\u001b[0m\u001b[1;33m\u001b[0m\u001b[0m\n\u001b[0m\u001b[0;32m     21\u001b[0m     \u001b[0mexternal_homeostasis_flow_x\u001b[0m \u001b[1;33m=\u001b[0m \u001b[0mh\u001b[0m\u001b[1;33m*\u001b[0m\u001b[1;33m(\u001b[0m\u001b[0mx_h\u001b[0m\u001b[1;33m-\u001b[0m\u001b[0mx\u001b[0m\u001b[1;33m)\u001b[0m\u001b[1;33m\u001b[0m\u001b[1;33m\u001b[0m\u001b[0m\n",
      "\u001b[1;31mValueError\u001b[0m: operands could not be broadcast together with shapes (4,1) (5,1) "
     ]
    }
   ],
   "source": [
    "Flow(x,p) "
   ]
  },
  {
   "cell_type": "code",
   "execution_count": 137,
   "id": "0333ef8f",
   "metadata": {},
   "outputs": [
    {
     "data": {
      "text/plain": [
       "array([[47.156818]])"
      ]
     },
     "execution_count": 137,
     "metadata": {},
     "output_type": "execute_result"
    }
   ],
   "source": [
    "Energy(x,p)"
   ]
  },
  {
   "cell_type": "code",
   "execution_count": 95,
   "id": "cb61049e",
   "metadata": {},
   "outputs": [
    {
     "data": {
      "text/plain": [
       "array([[-2,  0,  0,  0,  0],\n",
       "       [ 0, -3,  0,  0,  0],\n",
       "       [ 0,  0,  1,  0,  0],\n",
       "       [ 0,  0,  0,  1,  0],\n",
       "       [ 0,  0,  0,  0,  1]])"
      ]
     },
     "execution_count": 95,
     "metadata": {},
     "output_type": "execute_result"
    }
   ],
   "source": [
    "np.diag( np.dot(M, q_c).T[0] )"
   ]
  },
  {
   "cell_type": "code",
   "execution_count": 94,
   "id": "86868b98",
   "metadata": {},
   "outputs": [
    {
     "data": {
      "text/plain": [
       "array([-2, -3,  1,  1,  1])"
      ]
     },
     "execution_count": 94,
     "metadata": {},
     "output_type": "execute_result"
    }
   ],
   "source": [
    "np.dot(M, q_c).T[0]"
   ]
  },
  {
   "cell_type": "code",
   "execution_count": 78,
   "id": "65477d4b",
   "metadata": {},
   "outputs": [],
   "source": [
    "Q = np.dot(M,m_q)*S"
   ]
  },
  {
   "cell_type": "code",
   "execution_count": 79,
   "id": "16a89511",
   "metadata": {},
   "outputs": [
    {
     "data": {
      "text/plain": [
       "array([[   2.828427],\n",
       "       [  -2.828427],\n",
       "       [ 226.012498],\n",
       "       [-228.898661],\n",
       "       [   0.057735]])"
      ]
     },
     "execution_count": 79,
     "metadata": {},
     "output_type": "execute_result"
    }
   ],
   "source": [
    "M_ = -M_\n",
    "V = np.dot(np.dot(Q,1/(D+1)-1) , Q.T)\n",
    "\n",
    "m = np.dot(M,m_c)\n",
    "\n",
    "G_x = np.log(x.T)+a.T+np.dot(x.T, V) + (p*p/(2*m)).T\n",
    "\n",
    "dx_dt = -np.dot(M_,(k.T*(np.exp(np.dot(G_x,M_))-1)*np.exp(-0.5*np.dot(G_x,M_))*np.exp(0.5*np.dot(np.log(x.T),np.absolute(M_)))).T)\n",
    "\n",
    "dx_dt"
   ]
  },
  {
   "cell_type": "code",
   "execution_count": 62,
   "id": "cdee6b42",
   "metadata": {},
   "outputs": [
    {
     "data": {
      "text/plain": [
       "array([[ 7. , 10.5, -3.5,  6. ,  6. ]])"
      ]
     },
     "execution_count": 62,
     "metadata": {},
     "output_type": "execute_result"
    }
   ],
   "source": [
    "np.dot(x.T, V)"
   ]
  },
  {
   "cell_type": "code",
   "execution_count": 22,
   "id": "f913c23f",
   "metadata": {},
   "outputs": [
    {
     "data": {
      "text/plain": [
       "array([[ 0. , -9.5,  0. , -9.5]])"
      ]
     },
     "execution_count": 22,
     "metadata": {},
     "output_type": "execute_result"
    }
   ],
   "source": [
    "np.dot(np.dot(x.T, V), M_)"
   ]
  },
  {
   "cell_type": "code",
   "execution_count": null,
   "id": "4bdd841d",
   "metadata": {},
   "outputs": [],
   "source": []
  },
  {
   "cell_type": "code",
   "execution_count": null,
   "id": "ea55cf09",
   "metadata": {},
   "outputs": [],
   "source": []
  },
  {
   "cell_type": "code",
   "execution_count": 81,
   "id": "c9f8ef80",
   "metadata": {},
   "outputs": [
    {
     "data": {
      "text/plain": [
       "array([[  2.828427, 326.915608,  -0.57735 , 326.915608]])"
      ]
     },
     "execution_count": 81,
     "metadata": {},
     "output_type": "execute_result"
    }
   ],
   "source": [
    "M_ = -M_\n",
    "(np.exp(np.dot(G_x,M_))-1)*np.exp(-0.5*np.dot(G_x,M_))*np.exp(0.5*np.dot(np.log(x.T),np.absolute(M_)))"
   ]
  },
  {
   "cell_type": "code",
   "execution_count": 47,
   "id": "cb77aef4",
   "metadata": {},
   "outputs": [
    {
     "data": {
      "text/plain": [
       "array([[1096.633158],\n",
       "       [ 806.842488],\n",
       "       [-134.476264],\n",
       "       [ 806.842488]])"
      ]
     },
     "execution_count": 47,
     "metadata": {},
     "output_type": "execute_result"
    }
   ],
   "source": [
    "M_ = -M_\n",
    "((np.exp(np.dot(G_x,M_))-1)*np.exp(np.dot(G_x,relu(-M_)))).T"
   ]
  },
  {
   "cell_type": "code",
   "execution_count": 53,
   "id": "976fe01b",
   "metadata": {},
   "outputs": [
    {
     "data": {
      "text/plain": [
       "array([[ 7. , -3.5,  6. , -3.5]])"
      ]
     },
     "execution_count": 53,
     "metadata": {},
     "output_type": "execute_result"
    }
   ],
   "source": [
    "np.dot(np.dot(x.T, V), relu(-M_))"
   ]
  },
  {
   "cell_type": "code",
   "execution_count": 81,
   "id": "8fde5153",
   "metadata": {},
   "outputs": [
    {
     "data": {
      "text/plain": [
       "array([[ 1.        ],\n",
       "       [-1.        ],\n",
       "       [ 0.05      ],\n",
       "       [-1.08333333],\n",
       "       [ 0.03333333]])"
      ]
     },
     "execution_count": 81,
     "metadata": {},
     "output_type": "execute_result"
    }
   ],
   "source": [
    "dx_dt"
   ]
  },
  {
   "cell_type": "code",
   "execution_count": 66,
   "id": "6660cf65",
   "metadata": {},
   "outputs": [
    {
     "data": {
      "text/plain": [
       "array([[-0.87737352, -0.75      ,  0.2       , -0.75      ]])"
      ]
     },
     "execution_count": 66,
     "metadata": {},
     "output_type": "execute_result"
    }
   ],
   "source": [
    "(np.exp(np.dot(G_x,M_))-1)"
   ]
  },
  {
   "cell_type": "code",
   "execution_count": 67,
   "id": "b86ceb73",
   "metadata": {},
   "outputs": [
    {
     "data": {
      "text/plain": [
       "array([[-2,  1,  0,  1],\n",
       "       [ 0,  0,  1,  0]])"
      ]
     },
     "execution_count": 67,
     "metadata": {},
     "output_type": "execute_result"
    }
   ],
   "source": [
    "np.dot(S.T,relu(M_))"
   ]
  },
  {
   "cell_type": "code",
   "execution_count": 68,
   "id": "0451b86a",
   "metadata": {},
   "outputs": [
    {
     "data": {
      "text/plain": [
       "array([[-2,  1,  0,  1],\n",
       "       [ 0,  0,  1,  0]])"
      ]
     },
     "execution_count": 68,
     "metadata": {},
     "output_type": "execute_result"
    }
   ],
   "source": [
    "np.dot(S.T,relu(M_))"
   ]
  },
  {
   "cell_type": "code",
   "execution_count": 69,
   "id": "a16bf8e1",
   "metadata": {},
   "outputs": [],
   "source": [
    "V = np.dot(np.dot(S,1/(D+1)-1) , S.T)"
   ]
  },
  {
   "cell_type": "code",
   "execution_count": 41,
   "id": "9e03fd1e",
   "metadata": {},
   "outputs": [
    {
     "data": {
      "text/plain": [
       "array([[ 0. ,  0. ,  0. ,  1. ,  1. ],\n",
       "       [ 0. ,  0. ,  0. ,  1.5,  1.5],\n",
       "       [ 0. ,  0. ,  0. , -0.5, -0.5],\n",
       "       [ 1. ,  1.5, -0.5,  0. ,  0. ],\n",
       "       [ 1. ,  1.5, -0.5,  0. ,  0. ]])"
      ]
     },
     "execution_count": 41,
     "metadata": {},
     "output_type": "execute_result"
    }
   ],
   "source": [
    "V"
   ]
  },
  {
   "cell_type": "code",
   "execution_count": 27,
   "id": "8985d199",
   "metadata": {},
   "outputs": [],
   "source": [
    "temp = np.dot(x.T,V)"
   ]
  },
  {
   "cell_type": "code",
   "execution_count": 30,
   "id": "be03a0c5",
   "metadata": {},
   "outputs": [
    {
     "data": {
      "text/plain": [
       "array([[ 7. , 10.5, -3.5,  6. ,  6. ]])"
      ]
     },
     "execution_count": 30,
     "metadata": {},
     "output_type": "execute_result"
    }
   ],
   "source": [
    "temp"
   ]
  },
  {
   "cell_type": "code",
   "execution_count": 39,
   "id": "4ed239f5",
   "metadata": {},
   "outputs": [
    {
     "data": {
      "text/plain": [
       "array([[ 7. , -3.5,  6. , -3.5]])"
      ]
     },
     "execution_count": 39,
     "metadata": {},
     "output_type": "execute_result"
    }
   ],
   "source": [
    "np.dot(temp, relu(M_))"
   ]
  },
  {
   "cell_type": "code",
   "execution_count": 38,
   "id": "6fcd295f",
   "metadata": {},
   "outputs": [
    {
     "data": {
      "text/plain": [
       "array([[7., 6., 6., 6.]])"
      ]
     },
     "execution_count": 38,
     "metadata": {},
     "output_type": "execute_result"
    }
   ],
   "source": [
    "np.dot(temp, relu(-M_))"
   ]
  },
  {
   "cell_type": "code",
   "execution_count": 9,
   "id": "e94f0990",
   "metadata": {},
   "outputs": [
    {
     "ename": "ValueError",
     "evalue": "output array is not acceptable (must have the right datatype, number of dimensions, and be a C-Array)",
     "output_type": "error",
     "traceback": [
      "\u001b[1;31m---------------------------------------------------------------------------\u001b[0m",
      "\u001b[1;31mValueError\u001b[0m                                Traceback (most recent call last)",
      "\u001b[1;32m<ipython-input-9-418b140a665e>\u001b[0m in \u001b[0;36m<module>\u001b[1;34m\u001b[0m\n\u001b[0;32m      1\u001b[0m \u001b[0ma\u001b[0m \u001b[1;33m=\u001b[0m \u001b[0mnp\u001b[0m\u001b[1;33m.\u001b[0m\u001b[0marray\u001b[0m\u001b[1;33m(\u001b[0m\u001b[1;33m[\u001b[0m\u001b[1;36m1\u001b[0m\u001b[1;33m,\u001b[0m\u001b[1;36m2\u001b[0m\u001b[1;33m]\u001b[0m\u001b[1;33m)\u001b[0m\u001b[1;33m\u001b[0m\u001b[1;33m\u001b[0m\u001b[0m\n\u001b[0;32m      2\u001b[0m \u001b[0mb\u001b[0m \u001b[1;33m=\u001b[0m \u001b[0mnp\u001b[0m\u001b[1;33m.\u001b[0m\u001b[0marray\u001b[0m\u001b[1;33m(\u001b[0m\u001b[1;33m[\u001b[0m\u001b[1;36m3\u001b[0m\u001b[1;33m,\u001b[0m\u001b[1;36m4\u001b[0m\u001b[1;33m]\u001b[0m\u001b[1;33m)\u001b[0m\u001b[1;33m\u001b[0m\u001b[1;33m\u001b[0m\u001b[0m\n\u001b[1;32m----> 3\u001b[1;33m \u001b[0mnp\u001b[0m\u001b[1;33m.\u001b[0m\u001b[0mdot\u001b[0m\u001b[1;33m(\u001b[0m\u001b[0ma\u001b[0m\u001b[1;33m,\u001b[0m\u001b[0mb\u001b[0m\u001b[1;33m,\u001b[0m\u001b[0ma\u001b[0m\u001b[1;33m)\u001b[0m\u001b[1;33m\u001b[0m\u001b[1;33m\u001b[0m\u001b[0m\n\u001b[0m",
      "\u001b[1;32m<__array_function__ internals>\u001b[0m in \u001b[0;36mdot\u001b[1;34m(*args, **kwargs)\u001b[0m\n",
      "\u001b[1;31mValueError\u001b[0m: output array is not acceptable (must have the right datatype, number of dimensions, and be a C-Array)"
     ]
    }
   ],
   "source": [
    "a = np.array([1,2])\n",
    "b = np.array([3,4])\n",
    "np.dot(a,b,a)"
   ]
  },
  {
   "cell_type": "code",
   "execution_count": null,
   "id": "a9b7b789",
   "metadata": {},
   "outputs": [],
   "source": []
  }
 ],
 "metadata": {
  "kernelspec": {
   "display_name": "Python 3",
   "language": "python",
   "name": "python3"
  },
  "language_info": {
   "codemirror_mode": {
    "name": "ipython",
    "version": 3
   },
   "file_extension": ".py",
   "mimetype": "text/x-python",
   "name": "python",
   "nbconvert_exporter": "python",
   "pygments_lexer": "ipython3",
   "version": "3.7.3"
  }
 },
 "nbformat": 4,
 "nbformat_minor": 5
}
