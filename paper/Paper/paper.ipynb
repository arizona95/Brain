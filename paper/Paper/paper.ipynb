{
 "cells": [
  {
   "cell_type": "code",
   "execution_count": 8,
   "id": "f4d01126",
   "metadata": {},
   "outputs": [],
   "source": [
    "import numpy as np\n",
    "import os\n",
    "import neat\n",
    "from scipy.integrate import odeint\n",
    "import matplotlib.pyplot as plt\n",
    "%matplotlib inline\n",
    "np.set_printoptions(precision=6, suppress=True)"
   ]
  },
  {
   "cell_type": "code",
   "execution_count": 2,
   "id": "87660082",
   "metadata": {},
   "outputs": [],
   "source": [
    "x_0 = np.array([\n",
    "    [2], \n",
    "    [3], \n",
    "    [1], \n",
    "    [2], \n",
    "    [5], \n",
    "])\n",
    "\n",
    "M = np.array([\n",
    "    [1,1], \n",
    "    [1,0], \n",
    "    [0,1], \n",
    "    [0,1], \n",
    "    [0,1], \n",
    "])\n",
    "\n",
    "M_ = np.array([\n",
    "    [1 , 0, 0, 0], \n",
    "    [-1, 0, 0, 0], \n",
    "    [-1, 0, 1, 1], \n",
    "    [0 , 1,-1,-1], \n",
    "    [0 ,-1, 0, 0], \n",
    "])\n",
    "\n",
    "\n",
    "S = np.array([\n",
    "    [1,0 ], \n",
    "    [1,0 ], \n",
    "    [1 ,0 ], \n",
    "    [0 ,1 ], \n",
    "    [0 ,1 ], \n",
    "])\n",
    "\n",
    "\n",
    "D = np.array([\n",
    "    [0 ,1 ], \n",
    "    [1 ,0 ],  \n",
    "])\n",
    "\n",
    "\n",
    "m_c = np.array([\n",
    "    [0.2,], \n",
    "    [0.3,],\n",
    "])\n",
    "\n",
    "q_c = np.array([\n",
    "    [-0.3,], \n",
    "    [0.1,],\n",
    "])\n",
    "\n",
    "a = -np.log(np.array([\n",
    "    [1], \n",
    "    [4], \n",
    "    [2], \n",
    "    [3], \n",
    "    [4], \n",
    "]))-1\n",
    "\n",
    "k = np.array([\n",
    "    [1], \n",
    "    [0.7], \n",
    "    [0.1], \n",
    "    [0],  \n",
    "])\n",
    "\n",
    "v = np.array([\n",
    "    [0], \n",
    "    [0], \n",
    "    [0], \n",
    "    [0.8],  \n",
    "])\n",
    "\n",
    "c = np.array([\n",
    "    [0.1], \n",
    "    [0.1], \n",
    "    [0.1], \n",
    "    [0.2], \n",
    "    [0.1], \n",
    "])\n",
    "\n",
    "\n",
    "x_h = np.array([\n",
    "    [0], \n",
    "    [0], \n",
    "    [0], \n",
    "    [0], \n",
    "    [3], \n",
    "])\n",
    "\n",
    "\n",
    "h = np.array([\n",
    "    [0], \n",
    "    [0], \n",
    "    [0], \n",
    "    [0], \n",
    "    [2], \n",
    "])\n",
    "\n",
    "###\n",
    "\n",
    "p_0 = np.array([\n",
    "    [0], \n",
    "    [0], \n",
    "    [0], \n",
    "    [0], \n",
    "    [0], \n",
    "])"
   ]
  },
  {
   "cell_type": "code",
   "execution_count": 3,
   "id": "1ab9e015",
   "metadata": {},
   "outputs": [],
   "source": [
    "x, p = x_0, p_0\n",
    "q =  np.dot(  np.diag( np.dot(M, q_c).T[0] ), S )\n",
    "V = np.dot( q, np.dot(1/(D+1)-1, q.T) )\n",
    "m = np.dot( M, m_c)"
   ]
  },
  {
   "cell_type": "code",
   "execution_count": 4,
   "id": "21415848",
   "metadata": {},
   "outputs": [],
   "source": [
    "def relu(x) :\n",
    "    return np.maximum(0,x)\n",
    "\n",
    "def Energy(x,p) :\n",
    "    global a, V, m\n",
    "    \n",
    "    energy = np.dot(x.T, np.log(x)) + np.dot(a.T, x) + 0.5*np.dot(x.T, np.dot(V, x)) + 0.5*(np.dot( (1/m.T), (p*p*x)))\n",
    "    \n",
    "    return energy[0]\n",
    "\n",
    "def Flow(x,p) :\n",
    "    global M_, k, v, h, x_h, c\n",
    "    \n",
    "    grad_x = (np.log(x)+1).T + a.T + np.dot(x.T, V) + (0.5*(1/m)*p*p).T\n",
    "    grad_p = ((1/m)*p*x).T\n",
    "    \n",
    "    chemical_flow_x = -np.dot(M_, (k.T*(np.exp( np.dot(grad_x, M_)) -1 )*(np.exp(-0.5*np.dot(grad_x, M_) + 0.5*np.dot(np.log(x.T), np.abs(M_)))) ).T)\n",
    "    hamiltonian_flow_x = np.dot(M_, v*(np.dot(grad_p, M_).T) )\n",
    "    hamiltonian_flow_p = -np.dot(M_, v*(np.dot(grad_x, M_).T) )\n",
    "    colision_flow_p = -c*(grad_p).T\n",
    "    external_homeostasis_flow_x = h*(x_h-x)\n",
    "    \n",
    "    #return chemical_flow_x ,   colision_flow_p\n",
    "    return chemical_flow_x + hamiltonian_flow_x,  hamiltonian_flow_p + colision_flow_p\n",
    "    #return chemical_flow_x + hamiltonian_flow_x + external_homeostasis_flow_x,  hamiltonian_flow_p + colision_flow_p"
   ]
  },
  {
   "cell_type": "code",
   "execution_count": 5,
   "id": "b4b938ea",
   "metadata": {},
   "outputs": [
    {
     "data": {
      "text/plain": [
       "array([[2.      , 5.      , 3.333333, 3.333333, 3.333333]])"
      ]
     },
     "execution_count": 5,
     "metadata": {},
     "output_type": "execute_result"
    }
   ],
   "source": [
    "(1/m).T"
   ]
  },
  {
   "cell_type": "code",
   "execution_count": 6,
   "id": "ae86de7a",
   "metadata": {},
   "outputs": [
    {
     "data": {
      "text/plain": [
       "array([[2],\n",
       "       [3],\n",
       "       [1],\n",
       "       [2],\n",
       "       [5]])"
      ]
     },
     "execution_count": 6,
     "metadata": {},
     "output_type": "execute_result"
    }
   ],
   "source": [
    "x"
   ]
  },
  {
   "cell_type": "code",
   "execution_count": 7,
   "id": "3b2caa67",
   "metadata": {},
   "outputs": [
    {
     "data": {
      "text/plain": [
       "(array([[-4.596194],\n",
       "        [ 4.596194],\n",
       "        [ 4.650644],\n",
       "        [ 1.360058],\n",
       "        [-1.414508]]),\n",
       " array([[-0.      ],\n",
       "        [-0.      ],\n",
       "        [ 0.306146],\n",
       "        [-0.306146],\n",
       "        [-0.      ]]))"
      ]
     },
     "execution_count": 7,
     "metadata": {},
     "output_type": "execute_result"
    }
   ],
   "source": [
    "flow_x, flow_p = Flow(x,p) \n",
    "flow_x, flow_p"
   ]
  },
  {
   "cell_type": "code",
   "execution_count": null,
   "id": "0f5307f5",
   "metadata": {},
   "outputs": [],
   "source": []
  },
  {
   "cell_type": "code",
   "execution_count": 8,
   "id": "2b2e9335",
   "metadata": {},
   "outputs": [],
   "source": [
    "energy = Energy(x,p)"
   ]
  },
  {
   "cell_type": "code",
   "execution_count": 9,
   "id": "3c19572a",
   "metadata": {},
   "outputs": [
    {
     "data": {
      "text/plain": [
       "array([[0.],\n",
       "       [0.]])"
      ]
     },
     "execution_count": 9,
     "metadata": {},
     "output_type": "execute_result"
    }
   ],
   "source": [
    "np.dot(M.T, flow_x)"
   ]
  },
  {
   "cell_type": "code",
   "execution_count": 10,
   "id": "75b186be",
   "metadata": {},
   "outputs": [
    {
     "name": "stdout",
     "output_type": "stream",
     "text": [
      "[2 3 1 2 5 0 0 0 0 0]\n",
      "(50, 10)\n"
     ]
    },
    {
     "data": {
      "image/png": "[encoded data removed]",
      "text/plain": [
       "<Figure size 432x288 with 1 Axes>"
      ]
     },
     "metadata": {
      "needs_background": "light"
     },
     "output_type": "display_data"
    },
    {
     "name": "stdout",
     "output_type": "stream",
     "text": [
      "[2. 3. 1. 2. 5.]\n",
      "[1.053578 3.946422 2.135768 2.918823 3.891831]\n"
     ]
    }
   ],
   "source": [
    "\n",
    "def model(xp,t) :\n",
    "    global M_,a, k, v, h, x_h, c\n",
    "    \n",
    "    xp_2d = xp.reshape(2,-1)\n",
    "    x_m = np.array([xp_2d[0]]).T\n",
    "    p_m = np.array([xp_2d[1]]).T\n",
    "    \n",
    "    ###\n",
    "    \n",
    "    grad_x = (np.log(x_m)+1).T + a.T + np.dot(x_m.T, V) + (0.5*(1/m)*p_m*p_m).T\n",
    "    grad_p = ((1/m)*p_m*x_m).T\n",
    "    \n",
    "    chemical_flow_x = -np.dot(M_, (k.T*(np.exp( np.dot(grad_x, M_)) -1 )*(np.exp(-0.5*np.dot(grad_x, M_) + 0.5*np.dot(np.log(x_m.T), np.abs(M_)))) ).T)\n",
    "    hamiltonian_flow_x = np.dot(M_, v*(np.dot(grad_p, M_).T) )\n",
    "    hamiltonian_flow_p = -np.dot(M_, v*(np.dot(grad_x, M_).T) )\n",
    "    colision_flow_p = -c*(grad_p).T\n",
    "    external_homeostasis_flow_x = h*(x_h-x_m)\n",
    "    \n",
    "    \n",
    "    ###\n",
    "    flow_x, flow_p = chemical_flow_x + hamiltonian_flow_x,  hamiltonian_flow_p + colision_flow_p\n",
    "    ##flow_x, flow_p =hamiltonian_flow_x,  hamiltonian_flow_p + colision_flow_p\n",
    "    ##flow_x, flow_p =hamiltonian_flow_x,  hamiltonian_flow_p\n",
    "    dxpdt = np.array([flow_x, flow_p]).reshape(-1)\n",
    "    return dxpdt\n",
    "\n",
    "xp0 = np.array([x, p]).reshape(-1)\n",
    "print(xp0)\n",
    "t = np.linspace(0,10)\n",
    "xp = odeint(model, xp0, t)\n",
    "print(xp.shape)\n",
    "plt.plot(t, xp[:,0], 'r-', label='a')\n",
    "plt.plot(t, xp[:,1], 'b-', label='b')\n",
    "plt.plot(t, xp[:,2], 'g-', label='c')\n",
    "plt.plot(t, xp[:,3], 'c-', label='d')\n",
    "plt.plot(t, xp[:,4], 'm-', label='e')\n",
    "plt.xlabel('time')\n",
    "plt.legend(loc='best')\n",
    "plt.show()\n",
    "\n",
    "\n",
    "print(xp[0,:5])\n",
    "print(xp[-1,:5])"
   ]
  },
  {
   "cell_type": "code",
   "execution_count": null,
   "id": "2b9f410a",
   "metadata": {},
   "outputs": [],
   "source": []
  },
  {
   "cell_type": "code",
   "execution_count": 11,
   "id": "daec3c56",
   "metadata": {},
   "outputs": [],
   "source": [
    "energy = []\n",
    "for i in range(len(xp)) :\n",
    "    energy.append(Energy(np.array([xp[i].reshape(2,-1)[0]]).T,  np.array([xp[i].reshape(2,-1)[1]]).T))"
   ]
  },
  {
   "cell_type": "code",
   "execution_count": 12,
   "id": "0ff583c9",
   "metadata": {},
   "outputs": [
    {
     "data": {
      "image/png": "[encoded data removed]",
      "text/plain": [
       "<Figure size 432x288 with 1 Axes>"
      ]
     },
     "metadata": {
      "needs_background": "light"
     },
     "output_type": "display_data"
    }
   ],
   "source": [
    "plt.plot(t, energy, 'm-', label='e')\n",
    "plt.xlabel('time')\n",
    "plt.legend(loc='best')\n",
    "plt.show()"
   ]
  },
  {
   "cell_type": "code",
   "execution_count": null,
   "id": "b8b80dd6",
   "metadata": {},
   "outputs": [],
   "source": []
  },
  {
   "cell_type": "code",
   "execution_count": null,
   "id": "fd621364",
   "metadata": {},
   "outputs": [],
   "source": []
  },
  {
   "cell_type": "code",
   "execution_count": null,
   "id": "2eb52f01",
   "metadata": {},
   "outputs": [],
   "source": [
    "\n",
    "\n",
    "\n",
    "\n",
    "\n",
    "\n",
    "\n",
    "\n"
   ]
  },
  {
   "cell_type": "code",
   "execution_count": 19,
   "id": "085a247a",
   "metadata": {
    "scrolled": false
   },
   "outputs": [
    {
     "name": "stdout",
     "output_type": "stream",
     "text": [
      "Executing eagerly:  True\n",
      "\n",
      " ****** Running generation 0 ****** \n",
      "\n"
     ]
    },
    {
     "data": {
      "text/html": [
       "<div>\n",
       "<style scoped>\n",
       "    .dataframe tbody tr th:only-of-type {\n",
       "        vertical-align: middle;\n",
       "    }\n",
       "\n",
       "    .dataframe tbody tr th {\n",
       "        vertical-align: top;\n",
       "    }\n",
       "\n",
       "    .dataframe thead th {\n",
       "        text-align: right;\n",
       "    }\n",
       "</style>\n",
       "<table border=\"1\" class=\"dataframe\">\n",
       "  <thead>\n",
       "    <tr style=\"text-align: right;\">\n",
       "      <th></th>\n",
       "      <th>r1-0/0</th>\n",
       "      <th>r1-0/1</th>\n",
       "      <th>r1-1/0</th>\n",
       "      <th>r1-1/1</th>\n",
       "      <th>r2-0/1</th>\n",
       "      <th>r2-1/1</th>\n",
       "      <th>r3-0/1</th>\n",
       "      <th>r3-1/1</th>\n",
       "      <th>1/0/0-0/1-0/0</th>\n",
       "      <th>2/0/4-0/1-0/0</th>\n",
       "      <th>...</th>\n",
       "      <th>1/1/4-1/1-1/0</th>\n",
       "      <th>1/0/0-0/0-1/1</th>\n",
       "      <th>2/0/4-0/0-1/1</th>\n",
       "      <th>1/1/4-0/0-1/1</th>\n",
       "      <th>1/0/0-0/1-1/1</th>\n",
       "      <th>2/0/4-0/1-1/1</th>\n",
       "      <th>1/1/4-0/1-1/1</th>\n",
       "      <th>1/0/0-1/0-1/1</th>\n",
       "      <th>2/0/4-1/0-1/1</th>\n",
       "      <th>1/1/4-1/0-1/1</th>\n",
       "    </tr>\n",
       "  </thead>\n",
       "  <tbody>\n",
       "    <tr>\n",
       "      <th>1/0/0-0/0</th>\n",
       "      <td>2</td>\n",
       "      <td>0</td>\n",
       "      <td>0</td>\n",
       "      <td>0</td>\n",
       "      <td>0</td>\n",
       "      <td>0</td>\n",
       "      <td>0</td>\n",
       "      <td>0</td>\n",
       "      <td>1</td>\n",
       "      <td>0</td>\n",
       "      <td>...</td>\n",
       "      <td>0</td>\n",
       "      <td>-1</td>\n",
       "      <td>0</td>\n",
       "      <td>0</td>\n",
       "      <td>0</td>\n",
       "      <td>0</td>\n",
       "      <td>0</td>\n",
       "      <td>0</td>\n",
       "      <td>0</td>\n",
       "      <td>0</td>\n",
       "    </tr>\n",
       "    <tr>\n",
       "      <th>1/0/0-0/1</th>\n",
       "      <td>0</td>\n",
       "      <td>2</td>\n",
       "      <td>0</td>\n",
       "      <td>0</td>\n",
       "      <td>1</td>\n",
       "      <td>0</td>\n",
       "      <td>1</td>\n",
       "      <td>0</td>\n",
       "      <td>-1</td>\n",
       "      <td>0</td>\n",
       "      <td>...</td>\n",
       "      <td>0</td>\n",
       "      <td>0</td>\n",
       "      <td>0</td>\n",
       "      <td>0</td>\n",
       "      <td>-1</td>\n",
       "      <td>0</td>\n",
       "      <td>0</td>\n",
       "      <td>0</td>\n",
       "      <td>0</td>\n",
       "      <td>0</td>\n",
       "    </tr>\n",
       "    <tr>\n",
       "      <th>1/0/0-1/0</th>\n",
       "      <td>0</td>\n",
       "      <td>0</td>\n",
       "      <td>2</td>\n",
       "      <td>0</td>\n",
       "      <td>0</td>\n",
       "      <td>0</td>\n",
       "      <td>0</td>\n",
       "      <td>0</td>\n",
       "      <td>0</td>\n",
       "      <td>0</td>\n",
       "      <td>...</td>\n",
       "      <td>0</td>\n",
       "      <td>0</td>\n",
       "      <td>0</td>\n",
       "      <td>0</td>\n",
       "      <td>0</td>\n",
       "      <td>0</td>\n",
       "      <td>0</td>\n",
       "      <td>-1</td>\n",
       "      <td>0</td>\n",
       "      <td>0</td>\n",
       "    </tr>\n",
       "    <tr>\n",
       "      <th>1/0/0-1/1</th>\n",
       "      <td>0</td>\n",
       "      <td>0</td>\n",
       "      <td>0</td>\n",
       "      <td>2</td>\n",
       "      <td>0</td>\n",
       "      <td>1</td>\n",
       "      <td>0</td>\n",
       "      <td>1</td>\n",
       "      <td>0</td>\n",
       "      <td>0</td>\n",
       "      <td>...</td>\n",
       "      <td>0</td>\n",
       "      <td>1</td>\n",
       "      <td>0</td>\n",
       "      <td>0</td>\n",
       "      <td>1</td>\n",
       "      <td>0</td>\n",
       "      <td>0</td>\n",
       "      <td>1</td>\n",
       "      <td>0</td>\n",
       "      <td>0</td>\n",
       "    </tr>\n",
       "    <tr>\n",
       "      <th>0/1/0-0/1</th>\n",
       "      <td>0</td>\n",
       "      <td>0</td>\n",
       "      <td>0</td>\n",
       "      <td>0</td>\n",
       "      <td>1</td>\n",
       "      <td>0</td>\n",
       "      <td>1</td>\n",
       "      <td>0</td>\n",
       "      <td>0</td>\n",
       "      <td>0</td>\n",
       "      <td>...</td>\n",
       "      <td>0</td>\n",
       "      <td>0</td>\n",
       "      <td>0</td>\n",
       "      <td>0</td>\n",
       "      <td>0</td>\n",
       "      <td>0</td>\n",
       "      <td>0</td>\n",
       "      <td>0</td>\n",
       "      <td>0</td>\n",
       "      <td>0</td>\n",
       "    </tr>\n",
       "    <tr>\n",
       "      <th>0/1/0-1/1</th>\n",
       "      <td>0</td>\n",
       "      <td>0</td>\n",
       "      <td>0</td>\n",
       "      <td>0</td>\n",
       "      <td>0</td>\n",
       "      <td>1</td>\n",
       "      <td>0</td>\n",
       "      <td>1</td>\n",
       "      <td>0</td>\n",
       "      <td>0</td>\n",
       "      <td>...</td>\n",
       "      <td>0</td>\n",
       "      <td>0</td>\n",
       "      <td>0</td>\n",
       "      <td>0</td>\n",
       "      <td>0</td>\n",
       "      <td>0</td>\n",
       "      <td>0</td>\n",
       "      <td>0</td>\n",
       "      <td>0</td>\n",
       "      <td>0</td>\n",
       "    </tr>\n",
       "    <tr>\n",
       "      <th>2/0/4-0/0</th>\n",
       "      <td>-1</td>\n",
       "      <td>0</td>\n",
       "      <td>0</td>\n",
       "      <td>0</td>\n",
       "      <td>0</td>\n",
       "      <td>0</td>\n",
       "      <td>0</td>\n",
       "      <td>0</td>\n",
       "      <td>0</td>\n",
       "      <td>1</td>\n",
       "      <td>...</td>\n",
       "      <td>0</td>\n",
       "      <td>0</td>\n",
       "      <td>-1</td>\n",
       "      <td>0</td>\n",
       "      <td>0</td>\n",
       "      <td>0</td>\n",
       "      <td>0</td>\n",
       "      <td>0</td>\n",
       "      <td>0</td>\n",
       "      <td>0</td>\n",
       "    </tr>\n",
       "    <tr>\n",
       "      <th>2/0/4-0/1</th>\n",
       "      <td>0</td>\n",
       "      <td>-1</td>\n",
       "      <td>0</td>\n",
       "      <td>0</td>\n",
       "      <td>0</td>\n",
       "      <td>0</td>\n",
       "      <td>0</td>\n",
       "      <td>0</td>\n",
       "      <td>0</td>\n",
       "      <td>-1</td>\n",
       "      <td>...</td>\n",
       "      <td>0</td>\n",
       "      <td>0</td>\n",
       "      <td>0</td>\n",
       "      <td>0</td>\n",
       "      <td>0</td>\n",
       "      <td>-1</td>\n",
       "      <td>0</td>\n",
       "      <td>0</td>\n",
       "      <td>0</td>\n",
       "      <td>0</td>\n",
       "    </tr>\n",
       "    <tr>\n",
       "      <th>2/0/4-1/0</th>\n",
       "      <td>0</td>\n",
       "      <td>0</td>\n",
       "      <td>-1</td>\n",
       "      <td>0</td>\n",
       "      <td>0</td>\n",
       "      <td>0</td>\n",
       "      <td>0</td>\n",
       "      <td>0</td>\n",
       "      <td>0</td>\n",
       "      <td>0</td>\n",
       "      <td>...</td>\n",
       "      <td>0</td>\n",
       "      <td>0</td>\n",
       "      <td>0</td>\n",
       "      <td>0</td>\n",
       "      <td>0</td>\n",
       "      <td>0</td>\n",
       "      <td>0</td>\n",
       "      <td>0</td>\n",
       "      <td>-1</td>\n",
       "      <td>0</td>\n",
       "    </tr>\n",
       "    <tr>\n",
       "      <th>2/0/4-1/1</th>\n",
       "      <td>0</td>\n",
       "      <td>0</td>\n",
       "      <td>0</td>\n",
       "      <td>-1</td>\n",
       "      <td>0</td>\n",
       "      <td>0</td>\n",
       "      <td>0</td>\n",
       "      <td>0</td>\n",
       "      <td>0</td>\n",
       "      <td>0</td>\n",
       "      <td>...</td>\n",
       "      <td>0</td>\n",
       "      <td>0</td>\n",
       "      <td>1</td>\n",
       "      <td>0</td>\n",
       "      <td>0</td>\n",
       "      <td>1</td>\n",
       "      <td>0</td>\n",
       "      <td>0</td>\n",
       "      <td>1</td>\n",
       "      <td>0</td>\n",
       "    </tr>\n",
       "    <tr>\n",
       "      <th>1/1/4-0/0</th>\n",
       "      <td>0</td>\n",
       "      <td>0</td>\n",
       "      <td>0</td>\n",
       "      <td>0</td>\n",
       "      <td>0</td>\n",
       "      <td>0</td>\n",
       "      <td>0</td>\n",
       "      <td>0</td>\n",
       "      <td>0</td>\n",
       "      <td>0</td>\n",
       "      <td>...</td>\n",
       "      <td>0</td>\n",
       "      <td>0</td>\n",
       "      <td>0</td>\n",
       "      <td>-1</td>\n",
       "      <td>0</td>\n",
       "      <td>0</td>\n",
       "      <td>0</td>\n",
       "      <td>0</td>\n",
       "      <td>0</td>\n",
       "      <td>0</td>\n",
       "    </tr>\n",
       "    <tr>\n",
       "      <th>1/1/4-0/1</th>\n",
       "      <td>0</td>\n",
       "      <td>0</td>\n",
       "      <td>0</td>\n",
       "      <td>0</td>\n",
       "      <td>-1</td>\n",
       "      <td>0</td>\n",
       "      <td>-1</td>\n",
       "      <td>0</td>\n",
       "      <td>0</td>\n",
       "      <td>0</td>\n",
       "      <td>...</td>\n",
       "      <td>0</td>\n",
       "      <td>0</td>\n",
       "      <td>0</td>\n",
       "      <td>0</td>\n",
       "      <td>0</td>\n",
       "      <td>0</td>\n",
       "      <td>-1</td>\n",
       "      <td>0</td>\n",
       "      <td>0</td>\n",
       "      <td>0</td>\n",
       "    </tr>\n",
       "    <tr>\n",
       "      <th>1/1/4-1/0</th>\n",
       "      <td>0</td>\n",
       "      <td>0</td>\n",
       "      <td>0</td>\n",
       "      <td>0</td>\n",
       "      <td>0</td>\n",
       "      <td>0</td>\n",
       "      <td>0</td>\n",
       "      <td>0</td>\n",
       "      <td>0</td>\n",
       "      <td>0</td>\n",
       "      <td>...</td>\n",
       "      <td>1</td>\n",
       "      <td>0</td>\n",
       "      <td>0</td>\n",
       "      <td>0</td>\n",
       "      <td>0</td>\n",
       "      <td>0</td>\n",
       "      <td>0</td>\n",
       "      <td>0</td>\n",
       "      <td>0</td>\n",
       "      <td>-1</td>\n",
       "    </tr>\n",
       "    <tr>\n",
       "      <th>1/1/4-1/1</th>\n",
       "      <td>0</td>\n",
       "      <td>0</td>\n",
       "      <td>0</td>\n",
       "      <td>0</td>\n",
       "      <td>0</td>\n",
       "      <td>-1</td>\n",
       "      <td>0</td>\n",
       "      <td>-1</td>\n",
       "      <td>0</td>\n",
       "      <td>0</td>\n",
       "      <td>...</td>\n",
       "      <td>-1</td>\n",
       "      <td>0</td>\n",
       "      <td>0</td>\n",
       "      <td>1</td>\n",
       "      <td>0</td>\n",
       "      <td>0</td>\n",
       "      <td>1</td>\n",
       "      <td>0</td>\n",
       "      <td>0</td>\n",
       "      <td>1</td>\n",
       "    </tr>\n",
       "  </tbody>\n",
       "</table>\n",
       "<p>14 rows × 45 columns</p>\n",
       "</div>"
      ],
      "text/plain": [
       "           r1-0/0  r1-0/1  r1-1/0  r1-1/1  r2-0/1  r2-1/1  r3-0/1  r3-1/1  \\\n",
       "1/0/0-0/0       2       0       0       0       0       0       0       0   \n",
       "1/0/0-0/1       0       2       0       0       1       0       1       0   \n",
       "1/0/0-1/0       0       0       2       0       0       0       0       0   \n",
       "1/0/0-1/1       0       0       0       2       0       1       0       1   \n",
       "0/1/0-0/1       0       0       0       0       1       0       1       0   \n",
       "0/1/0-1/1       0       0       0       0       0       1       0       1   \n",
       "2/0/4-0/0      -1       0       0       0       0       0       0       0   \n",
       "2/0/4-0/1       0      -1       0       0       0       0       0       0   \n",
       "2/0/4-1/0       0       0      -1       0       0       0       0       0   \n",
       "2/0/4-1/1       0       0       0      -1       0       0       0       0   \n",
       "1/1/4-0/0       0       0       0       0       0       0       0       0   \n",
       "1/1/4-0/1       0       0       0       0      -1       0      -1       0   \n",
       "1/1/4-1/0       0       0       0       0       0       0       0       0   \n",
       "1/1/4-1/1       0       0       0       0       0      -1       0      -1   \n",
       "\n",
       "           1/0/0-0/1-0/0  2/0/4-0/1-0/0  ...  1/1/4-1/1-1/0  1/0/0-0/0-1/1  \\\n",
       "1/0/0-0/0              1              0  ...              0             -1   \n",
       "1/0/0-0/1             -1              0  ...              0              0   \n",
       "1/0/0-1/0              0              0  ...              0              0   \n",
       "1/0/0-1/1              0              0  ...              0              1   \n",
       "0/1/0-0/1              0              0  ...              0              0   \n",
       "0/1/0-1/1              0              0  ...              0              0   \n",
       "2/0/4-0/0              0              1  ...              0              0   \n",
       "2/0/4-0/1              0             -1  ...              0              0   \n",
       "2/0/4-1/0              0              0  ...              0              0   \n",
       "2/0/4-1/1              0              0  ...              0              0   \n",
       "1/1/4-0/0              0              0  ...              0              0   \n",
       "1/1/4-0/1              0              0  ...              0              0   \n",
       "1/1/4-1/0              0              0  ...              1              0   \n",
       "1/1/4-1/1              0              0  ...             -1              0   \n",
       "\n",
       "           2/0/4-0/0-1/1  1/1/4-0/0-1/1  1/0/0-0/1-1/1  2/0/4-0/1-1/1  \\\n",
       "1/0/0-0/0              0              0              0              0   \n",
       "1/0/0-0/1              0              0             -1              0   \n",
       "1/0/0-1/0              0              0              0              0   \n",
       "1/0/0-1/1              0              0              1              0   \n",
       "0/1/0-0/1              0              0              0              0   \n",
       "0/1/0-1/1              0              0              0              0   \n",
       "2/0/4-0/0             -1              0              0              0   \n",
       "2/0/4-0/1              0              0              0             -1   \n",
       "2/0/4-1/0              0              0              0              0   \n",
       "2/0/4-1/1              1              0              0              1   \n",
       "1/1/4-0/0              0             -1              0              0   \n",
       "1/1/4-0/1              0              0              0              0   \n",
       "1/1/4-1/0              0              0              0              0   \n",
       "1/1/4-1/1              0              1              0              0   \n",
       "\n",
       "           1/1/4-0/1-1/1  1/0/0-1/0-1/1  2/0/4-1/0-1/1  1/1/4-1/0-1/1  \n",
       "1/0/0-0/0              0              0              0              0  \n",
       "1/0/0-0/1              0              0              0              0  \n",
       "1/0/0-1/0              0             -1              0              0  \n",
       "1/0/0-1/1              0              1              0              0  \n",
       "0/1/0-0/1              0              0              0              0  \n",
       "0/1/0-1/1              0              0              0              0  \n",
       "2/0/4-0/0              0              0              0              0  \n",
       "2/0/4-0/1              0              0              0              0  \n",
       "2/0/4-1/0              0              0             -1              0  \n",
       "2/0/4-1/1              0              0              1              0  \n",
       "1/1/4-0/0              0              0              0              0  \n",
       "1/1/4-0/1             -1              0              0              0  \n",
       "1/1/4-1/0              0              0              0             -1  \n",
       "1/1/4-1/1              1              0              0              1  \n",
       "\n",
       "[14 rows x 45 columns]"
      ]
     },
     "metadata": {},
     "output_type": "display_data"
    },
    {
     "data": {
      "image/svg+xml": [
       "<?xml version=\"1.0\" encoding=\"UTF-8\" standalone=\"no\"?>\r\n",
       "<!DOCTYPE svg PUBLIC \"-//W3C//DTD SVG 1.1//EN\"\r\n",
       " \"http://www.w3.org/Graphics/SVG/1.1/DTD/svg11.dtd\">\r\n",
       "<!-- Generated by graphviz version 2.38.0 (20140413.2041)\r\n",
       " -->\r\n",
       "<!-- Title: G Pages: 1 -->\r\n",
       "<svg width=\"963pt\" height=\"265pt\"\r\n",
       " viewBox=\"0.00 0.00 962.92 264.69\" xmlns=\"http://www.w3.org/2000/svg\" xmlns:xlink=\"http://www.w3.org/1999/xlink\">\r\n",
       "<g id=\"graph0\" class=\"graph\" transform=\"scale(1 1) rotate(0) translate(4 260.692)\">\r\n",
       "<title>G</title>\r\n",
       "<polygon fill=\"white\" stroke=\"none\" points=\"-4,4 -4,-260.692 958.916,-260.692 958.916,4 -4,4\"/>\r\n",
       "<g id=\"clust1\" class=\"cluster\"><title>cluster0/0</title>\r\n",
       "<polygon fill=\"none\" stroke=\"blue\" points=\"176.958,-147 176.958,-222 400.958,-222 400.958,-147 176.958,-147\"/>\r\n",
       "<text text-anchor=\"middle\" x=\"288.958\" y=\"-206.8\" font-family=\"Times New Roman,serif\" font-size=\"14.00\">0/0</text>\r\n",
       "</g>\r\n",
       "<g id=\"clust3\" class=\"cluster\"><title>cluster1/0</title>\r\n",
       "<polygon fill=\"none\" stroke=\"blue\" points=\"408.958,-64 408.958,-139 632.958,-139 632.958,-64 408.958,-64\"/>\r\n",
       "<text text-anchor=\"middle\" x=\"520.958\" y=\"-123.8\" font-family=\"Times New Roman,serif\" font-size=\"14.00\">1/0</text>\r\n",
       "</g>\r\n",
       "<g id=\"clust2\" class=\"cluster\"><title>cluster0/1</title>\r\n",
       "<polygon fill=\"none\" stroke=\"blue\" points=\"101.958,-64 101.958,-139 400.958,-139 400.958,-64 101.958,-64\"/>\r\n",
       "<text text-anchor=\"middle\" x=\"251.458\" y=\"-123.8\" font-family=\"Times New Roman,serif\" font-size=\"14.00\">0/1</text>\r\n",
       "</g>\r\n",
       "<g id=\"clust4\" class=\"cluster\"><title>cluster1/1</title>\r\n",
       "<polygon fill=\"none\" stroke=\"blue\" points=\"408.958,-147 408.958,-222 707.958,-222 707.958,-147 408.958,-147\"/>\r\n",
       "<text text-anchor=\"middle\" x=\"558.458\" y=\"-206.8\" font-family=\"Times New Roman,serif\" font-size=\"14.00\">1/1</text>\r\n",
       "</g>\r\n",
       "<!-- 1/0/0&#45;0/0 -->\r\n",
       "<g id=\"node1\" class=\"node\"><title>1/0/0&#45;0/0</title>\r\n",
       "<ellipse fill=\"none\" stroke=\"black\" cx=\"213.958\" cy=\"-173\" rx=\"28.6953\" ry=\"18\"/>\r\n",
       "<text text-anchor=\"middle\" x=\"213.958\" y=\"-169.3\" font-family=\"Times New Roman,serif\" font-size=\"14.00\">1/0/0</text>\r\n",
       "</g>\r\n",
       "<!-- 1/0/0&#45;0/1 -->\r\n",
       "<g id=\"node4\" class=\"node\"><title>1/0/0&#45;0/1</title>\r\n",
       "<ellipse fill=\"none\" stroke=\"black\" cx=\"213.958\" cy=\"-90\" rx=\"28.6953\" ry=\"18\"/>\r\n",
       "<text text-anchor=\"middle\" x=\"213.958\" y=\"-86.3\" font-family=\"Times New Roman,serif\" font-size=\"14.00\">1/0/0</text>\r\n",
       "</g>\r\n",
       "<!-- 1/0/0&#45;0/0&#45;&#45;1/0/0&#45;0/1 -->\r\n",
       "<g id=\"edge34\" class=\"edge\"><title>1/0/0&#45;0/0&#45;&#45;1/0/0&#45;0/1</title>\r\n",
       "<path fill=\"none\" stroke=\"black\" d=\"M219.551,-155.217C221.094,-141.315 221.094,-121.657 219.548,-107.762\"/>\r\n",
       "</g>\r\n",
       "<!-- 1/0/0&#45;1/0 -->\r\n",
       "<g id=\"node8\" class=\"node\"><title>1/0/0&#45;1/0</title>\r\n",
       "<ellipse fill=\"none\" stroke=\"black\" cx=\"520.958\" cy=\"-90\" rx=\"28.6953\" ry=\"18\"/>\r\n",
       "<text text-anchor=\"middle\" x=\"520.958\" y=\"-86.3\" font-family=\"Times New Roman,serif\" font-size=\"14.00\">1/0/0</text>\r\n",
       "</g>\r\n",
       "<!-- 1/0/0&#45;0/0&#45;&#45;1/0/0&#45;1/0 -->\r\n",
       "<g id=\"edge44\" class=\"edge\"><title>1/0/0&#45;0/0&#45;&#45;1/0/0&#45;1/0</title>\r\n",
       "<path fill=\"none\" stroke=\"black\" d=\"M235.156,-160.503C242.717,-155.36 251.258,-149.828 259.958,-147 284.593,-138.993 469.912,-150.829 492.958,-139 505.688,-132.466 515.335,-119.327 520.232,-108.446\"/>\r\n",
       "</g>\r\n",
       "<!-- 1/0/0&#45;1/1 -->\r\n",
       "<g id=\"node11\" class=\"node\"><title>1/0/0&#45;1/1</title>\r\n",
       "<ellipse fill=\"none\" stroke=\"black\" cx=\"520.958\" cy=\"-173\" rx=\"28.6953\" ry=\"18\"/>\r\n",
       "<text text-anchor=\"middle\" x=\"520.958\" y=\"-169.3\" font-family=\"Times New Roman,serif\" font-size=\"14.00\">1/0/0</text>\r\n",
       "</g>\r\n",
       "<!-- 1/0/0&#45;0/0&#45;&#45;1/0/0&#45;1/1 -->\r\n",
       "<g id=\"edge53\" class=\"edge\"><title>1/0/0&#45;0/0&#45;&#45;1/0/0&#45;1/1</title>\r\n",
       "<path fill=\"none\" stroke=\"black\" d=\"M220.481,-190.68C227.496,-206.819 240.356,-229.681 259.958,-240 302.235,-262.256 432.681,-262.256 474.958,-240 494.56,-229.681 507.42,-206.819 514.435,-190.68\"/>\r\n",
       "</g>\r\n",
       "<!-- r1&#45;0/0 -->\r\n",
       "<g id=\"node15\" class=\"node\"><title>r1&#45;0/0</title>\r\n",
       "<polygon fill=\"lightgrey\" stroke=\"lightgrey\" points=\"45.9579,-108 0.0420985,-90 45.9579,-72 91.8736,-90 45.9579,-108\"/>\r\n",
       "<text text-anchor=\"middle\" x=\"45.9579\" y=\"-86.3\" font-family=\"Times New Roman,serif\" font-size=\"14.00\">r1&#45;0/0</text>\r\n",
       "</g>\r\n",
       "<!-- 1/0/0&#45;0/0&#45;&#45;r1&#45;0/0 -->\r\n",
       "<g id=\"edge1\" class=\"edge\"><title>1/0/0&#45;0/0&#45;&#45;r1&#45;0/0</title>\r\n",
       "<path fill=\"none\" stroke=\"black\" d=\"M185.72,-168.938C159.046,-164.833 119.27,-156.007 88.9579,-139 73.7429,-130.464 59.4078,-116.629 51.1937,-106\"/>\r\n",
       "</g>\r\n",
       "<!-- 1/0/0&#45;0/0&#45;&#45;r1&#45;0/0 -->\r\n",
       "<g id=\"edge2\" class=\"edge\"><title>1/0/0&#45;0/0&#45;&#45;r1&#45;0/0</title>\r\n",
       "<path fill=\"none\" stroke=\"black\" d=\"M186.88,-166.545C164.357,-161.746 132.34,-153.241 106.958,-139 89.8142,-129.382 73.7876,-113.036 61.9813,-102.13\"/>\r\n",
       "</g>\r\n",
       "<!-- 2/0/4&#45;0/0 -->\r\n",
       "<g id=\"node2\" class=\"node\"><title>2/0/4&#45;0/0</title>\r\n",
       "<ellipse fill=\"none\" stroke=\"black\" cx=\"288.958\" cy=\"-173\" rx=\"28.6953\" ry=\"18\"/>\r\n",
       "<text text-anchor=\"middle\" x=\"288.958\" y=\"-169.3\" font-family=\"Times New Roman,serif\" font-size=\"14.00\">2/0/4</text>\r\n",
       "</g>\r\n",
       "<!-- 2/0/4&#45;0/1 -->\r\n",
       "<g id=\"node6\" class=\"node\"><title>2/0/4&#45;0/1</title>\r\n",
       "<ellipse fill=\"none\" stroke=\"black\" cx=\"138.958\" cy=\"-90\" rx=\"28.6953\" ry=\"18\"/>\r\n",
       "<text text-anchor=\"middle\" x=\"138.958\" y=\"-86.3\" font-family=\"Times New Roman,serif\" font-size=\"14.00\">2/0/4</text>\r\n",
       "</g>\r\n",
       "<!-- 2/0/4&#45;0/0&#45;&#45;2/0/4&#45;0/1 -->\r\n",
       "<g id=\"edge35\" class=\"edge\"><title>2/0/4&#45;0/0&#45;&#45;2/0/4&#45;0/1</title>\r\n",
       "<path fill=\"none\" stroke=\"black\" d=\"M277.896,-156.069C272.873,-152.524 266.93,-149.177 260.958,-147 229.047,-135.368 214.609,-155.565 184.958,-139 171.547,-131.508 161.399,-116.949 153.484,-105.821\"/>\r\n",
       "</g>\r\n",
       "<!-- 2/0/4&#45;1/0 -->\r\n",
       "<g id=\"node9\" class=\"node\"><title>2/0/4&#45;1/0</title>\r\n",
       "<ellipse fill=\"none\" stroke=\"black\" cx=\"445.958\" cy=\"-90\" rx=\"28.6953\" ry=\"18\"/>\r\n",
       "<text text-anchor=\"middle\" x=\"445.958\" y=\"-86.3\" font-family=\"Times New Roman,serif\" font-size=\"14.00\">2/0/4</text>\r\n",
       "</g>\r\n",
       "<!-- 2/0/4&#45;0/0&#45;&#45;2/0/4&#45;1/0 -->\r\n",
       "<g id=\"edge45\" class=\"edge\"><title>2/0/4&#45;0/0&#45;&#45;2/0/4&#45;1/0</title>\r\n",
       "<path fill=\"none\" stroke=\"black\" d=\"M310.242,-160.754C317.824,-155.671 326.357,-150.116 334.958,-147 368.138,-134.98 382.694,-155.372 413.958,-139 427.162,-132.085 437.908,-118.971 443.732,-108.195\"/>\r\n",
       "</g>\r\n",
       "<!-- 2/0/4&#45;1/1 -->\r\n",
       "<g id=\"node13\" class=\"node\"><title>2/0/4&#45;1/1</title>\r\n",
       "<ellipse fill=\"none\" stroke=\"black\" cx=\"445.958\" cy=\"-173\" rx=\"28.6953\" ry=\"18\"/>\r\n",
       "<text text-anchor=\"middle\" x=\"445.958\" y=\"-169.3\" font-family=\"Times New Roman,serif\" font-size=\"14.00\">2/0/4</text>\r\n",
       "</g>\r\n",
       "<!-- 2/0/4&#45;0/0&#45;&#45;2/0/4&#45;1/1 -->\r\n",
       "<g id=\"edge54\" class=\"edge\"><title>2/0/4&#45;0/0&#45;&#45;2/0/4&#45;1/1</title>\r\n",
       "<path fill=\"none\" stroke=\"black\" d=\"M295.481,-190.68C302.496,-206.819 315.356,-229.681 334.958,-240 358.948,-252.629 371.723,-252.153 395.958,-240 416.457,-229.72 430.698,-206.608 438.598,-190.419\"/>\r\n",
       "</g>\r\n",
       "<!-- 2/0/4&#45;0/0&#45;&#45;r1&#45;0/0 -->\r\n",
       "<g id=\"edge3\" class=\"edge\"><title>2/0/4&#45;0/0&#45;&#45;r1&#45;0/0</title>\r\n",
       "<path fill=\"none\" stroke=\"black\" d=\"M272.306,-157.942C266.273,-153.641 259.162,-149.412 251.958,-147 219.462,-136.121 129.539,-152.302 97.9579,-139 80.5212,-131.655 65.2454,-115.777 55.8406,-104.29\"/>\r\n",
       "</g>\r\n",
       "<!-- 1/1/4&#45;0/0 -->\r\n",
       "<g id=\"node3\" class=\"node\"><title>1/1/4&#45;0/0</title>\r\n",
       "<ellipse fill=\"none\" stroke=\"black\" cx=\"363.958\" cy=\"-173\" rx=\"28.6953\" ry=\"18\"/>\r\n",
       "<text text-anchor=\"middle\" x=\"363.958\" y=\"-169.3\" font-family=\"Times New Roman,serif\" font-size=\"14.00\">1/1/4</text>\r\n",
       "</g>\r\n",
       "<!-- 1/1/4&#45;0/1 -->\r\n",
       "<g id=\"node7\" class=\"node\"><title>1/1/4&#45;0/1</title>\r\n",
       "<ellipse fill=\"none\" stroke=\"black\" cx=\"288.958\" cy=\"-90\" rx=\"28.6953\" ry=\"18\"/>\r\n",
       "<text text-anchor=\"middle\" x=\"288.958\" y=\"-86.3\" font-family=\"Times New Roman,serif\" font-size=\"14.00\">1/1/4</text>\r\n",
       "</g>\r\n",
       "<!-- 1/1/4&#45;0/0&#45;&#45;1/1/4&#45;0/1 -->\r\n",
       "<g id=\"edge36\" class=\"edge\"><title>1/1/4&#45;0/0&#45;&#45;1/1/4&#45;0/1</title>\r\n",
       "<path fill=\"none\" stroke=\"black\" d=\"M352.891,-156.258C347.214,-151.011 340.594,-144.975 334.958,-139 324.706,-128.131 314.443,-114.552 305.8,-104.612\"/>\r\n",
       "</g>\r\n",
       "<!-- 1/1/4&#45;1/0 -->\r\n",
       "<g id=\"node10\" class=\"node\"><title>1/1/4&#45;1/0</title>\r\n",
       "<ellipse fill=\"none\" stroke=\"black\" cx=\"595.958\" cy=\"-90\" rx=\"28.6953\" ry=\"18\"/>\r\n",
       "<text text-anchor=\"middle\" x=\"595.958\" y=\"-86.3\" font-family=\"Times New Roman,serif\" font-size=\"14.00\">1/1/4</text>\r\n",
       "</g>\r\n",
       "<!-- 1/1/4&#45;0/0&#45;&#45;1/1/4&#45;1/0 -->\r\n",
       "<g id=\"edge46\" class=\"edge\"><title>1/1/4&#45;0/0&#45;&#45;1/1/4&#45;1/0</title>\r\n",
       "<path fill=\"none\" stroke=\"black\" d=\"M385.937,-161.09C394.473,-155.822 404.24,-150.003 413.958,-147 446.698,-136.882 537.61,-154.915 567.958,-139 580.631,-132.354 590.281,-119.223 595.194,-108.372\"/>\r\n",
       "</g>\r\n",
       "<!-- 1/1/4&#45;1/1 -->\r\n",
       "<g id=\"node14\" class=\"node\"><title>1/1/4&#45;1/1</title>\r\n",
       "<ellipse fill=\"none\" stroke=\"black\" cx=\"595.958\" cy=\"-173\" rx=\"28.6953\" ry=\"18\"/>\r\n",
       "<text text-anchor=\"middle\" x=\"595.958\" y=\"-169.3\" font-family=\"Times New Roman,serif\" font-size=\"14.00\">1/1/4</text>\r\n",
       "</g>\r\n",
       "<!-- 1/1/4&#45;0/0&#45;&#45;1/1/4&#45;1/1 -->\r\n",
       "<g id=\"edge55\" class=\"edge\"><title>1/1/4&#45;0/0&#45;&#45;1/1/4&#45;1/1</title>\r\n",
       "<path fill=\"none\" stroke=\"black\" d=\"M371.318,-190.419C379.218,-206.608 393.459,-229.72 413.958,-240 440.973,-253.548 523.215,-254.078 549.958,-240 569.56,-229.681 582.42,-206.819 589.435,-190.68\"/>\r\n",
       "</g>\r\n",
       "<!-- 1/0/0&#45;0/1&#45;&#45;1/0/0&#45;0/0 -->\r\n",
       "<g id=\"edge25\" class=\"edge\"><title>1/0/0&#45;0/1&#45;&#45;1/0/0&#45;0/0</title>\r\n",
       "<path fill=\"none\" stroke=\"black\" d=\"M208.368,-107.762C206.822,-121.657 206.821,-141.315 208.365,-155.217\"/>\r\n",
       "</g>\r\n",
       "<!-- 1/0/0&#45;0/1&#45;&#45;1/0/0&#45;1/0 -->\r\n",
       "<g id=\"edge47\" class=\"edge\"><title>1/0/0&#45;0/1&#45;&#45;1/0/0&#45;1/0</title>\r\n",
       "<path fill=\"none\" stroke=\"black\" d=\"M221.743,-107.507C229.191,-121.428 241.961,-139.181 259.958,-143 283.326,-147.959 451.589,-147.959 474.958,-143 492.955,-139.181 505.725,-121.428 513.173,-107.507\"/>\r\n",
       "</g>\r\n",
       "<!-- 1/0/0&#45;0/1&#45;&#45;1/0/0&#45;1/1 -->\r\n",
       "<g id=\"edge56\" class=\"edge\"><title>1/0/0&#45;0/1&#45;&#45;1/0/0&#45;1/1</title>\r\n",
       "<path fill=\"none\" stroke=\"black\" d=\"M228.342,-106.085C236.179,-117.359 246.291,-131.985 259.958,-139 283.004,-150.829 468.322,-138.993 492.958,-147 499.151,-149.013 505.264,-152.397 510.364,-156.035\"/>\r\n",
       "</g>\r\n",
       "<!-- r1&#45;0/1 -->\r\n",
       "<g id=\"node16\" class=\"node\"><title>r1&#45;0/1</title>\r\n",
       "<polygon fill=\"lightgrey\" stroke=\"lightgrey\" points=\"143.958,-36 98.0421,-18 143.958,-3.55271e-015 189.874,-18 143.958,-36\"/>\r\n",
       "<text text-anchor=\"middle\" x=\"143.958\" y=\"-14.3\" font-family=\"Times New Roman,serif\" font-size=\"14.00\">r1&#45;0/1</text>\r\n",
       "</g>\r\n",
       "<!-- 1/0/0&#45;0/1&#45;&#45;r1&#45;0/1 -->\r\n",
       "<g id=\"edge4\" class=\"edge\"><title>1/0/0&#45;0/1&#45;&#45;r1&#45;0/1</title>\r\n",
       "<path fill=\"none\" stroke=\"black\" d=\"M195.38,-75.8335C181.44,-63.6355 163.309,-45.5464 152.49,-33.0682\"/>\r\n",
       "</g>\r\n",
       "<!-- 1/0/0&#45;0/1&#45;&#45;r1&#45;0/1 -->\r\n",
       "<g id=\"edge5\" class=\"edge\"><title>1/0/0&#45;0/1&#45;&#45;r1&#45;0/1</title>\r\n",
       "<path fill=\"none\" stroke=\"black\" d=\"M203.835,-73.1159C192.13,-59.8851 173.402,-41.3971 159.817,-29.8176\"/>\r\n",
       "</g>\r\n",
       "<!-- r2&#45;0/1 -->\r\n",
       "<g id=\"node19\" class=\"node\"><title>r2&#45;0/1</title>\r\n",
       "<polygon fill=\"lightgrey\" stroke=\"lightgrey\" points=\"253.958,-36 208.042,-18 253.958,-3.55271e-015 299.874,-18 253.958,-36\"/>\r\n",
       "<text text-anchor=\"middle\" x=\"253.958\" y=\"-14.3\" font-family=\"Times New Roman,serif\" font-size=\"14.00\">r2&#45;0/1</text>\r\n",
       "</g>\r\n",
       "<!-- 1/0/0&#45;0/1&#45;&#45;r2&#45;0/1 -->\r\n",
       "<g id=\"edge13\" class=\"edge\"><title>1/0/0&#45;0/1&#45;&#45;r2&#45;0/1</title>\r\n",
       "<path fill=\"none\" stroke=\"black\" d=\"M223.235,-72.7646C230.067,-60.8098 239.268,-44.708 245.815,-33.2499\"/>\r\n",
       "</g>\r\n",
       "<!-- r3&#45;0/1 -->\r\n",
       "<g id=\"node21\" class=\"node\"><title>r3&#45;0/1</title>\r\n",
       "<polygon fill=\"lightgrey\" stroke=\"lightgrey\" points=\"363.958,-36 318.042,-18 363.958,-3.55271e-015 409.874,-18 363.958,-36\"/>\r\n",
       "<text text-anchor=\"middle\" x=\"363.958\" y=\"-14.3\" font-family=\"Times New Roman,serif\" font-size=\"14.00\">r3&#45;0/1</text>\r\n",
       "</g>\r\n",
       "<!-- 1/0/0&#45;0/1&#45;&#45;r3&#45;0/1 -->\r\n",
       "<g id=\"edge20\" class=\"edge\"><title>1/0/0&#45;0/1&#45;&#45;r3&#45;0/1</title>\r\n",
       "<path fill=\"none\" stroke=\"black\" d=\"M231.917,-75.7305C237.817,-71.6835 244.516,-67.4077 250.958,-64 280.449,-48.3983 316.581,-34.9136 339.923,-26.8756\"/>\r\n",
       "</g>\r\n",
       "<!-- 0/1/0&#45;0/1 -->\r\n",
       "<g id=\"node5\" class=\"node\"><title>0/1/0&#45;0/1</title>\r\n",
       "<ellipse fill=\"none\" stroke=\"black\" cx=\"363.958\" cy=\"-90\" rx=\"28.6953\" ry=\"18\"/>\r\n",
       "<text text-anchor=\"middle\" x=\"363.958\" y=\"-86.3\" font-family=\"Times New Roman,serif\" font-size=\"14.00\">0/1/0</text>\r\n",
       "</g>\r\n",
       "<!-- 0/1/0&#45;0/1&#45;&#45;r2&#45;0/1 -->\r\n",
       "<g id=\"edge14\" class=\"edge\"><title>0/1/0&#45;0/1&#45;&#45;r2&#45;0/1</title>\r\n",
       "<path fill=\"none\" stroke=\"black\" d=\"M345.236,-76.1287C339.414,-72.1855 332.95,-67.8687 326.958,-64 308.071,-51.8058 286.067,-38.3408 271.194,-29.3466\"/>\r\n",
       "</g>\r\n",
       "<!-- 0/1/0&#45;0/1&#45;&#45;r3&#45;0/1 -->\r\n",
       "<g id=\"edge19\" class=\"edge\"><title>0/1/0&#45;0/1&#45;&#45;r3&#45;0/1</title>\r\n",
       "<path fill=\"none\" stroke=\"black\" d=\"M363.958,-71.6966C363.958,-60.8463 363.958,-46.9167 363.958,-36.1043\"/>\r\n",
       "</g>\r\n",
       "<!-- 2/0/4&#45;0/1&#45;&#45;2/0/4&#45;0/0 -->\r\n",
       "<g id=\"edge26\" class=\"edge\"><title>2/0/4&#45;0/1&#45;&#45;2/0/4&#45;0/0</title>\r\n",
       "<path fill=\"none\" stroke=\"black\" d=\"M139.841,-108.152C144.804,-118.91 154.466,-132.021 166.958,-139 196.609,-155.565 211.047,-135.368 242.958,-147 251.553,-150.133 260.085,-155.689 267.668,-160.769\"/>\r\n",
       "</g>\r\n",
       "<!-- 2/0/4&#45;0/1&#45;&#45;2/0/4&#45;1/0 -->\r\n",
       "<g id=\"edge48\" class=\"edge\"><title>2/0/4&#45;0/1&#45;&#45;2/0/4&#45;1/0</title>\r\n",
       "<path fill=\"none\" stroke=\"black\" d=\"M146.743,-107.507C154.191,-121.428 166.961,-139.181 184.958,-143 207.892,-147.867 373.024,-147.867 395.958,-143 414.767,-139.008 428.867,-121.072 437.219,-107.158\"/>\r\n",
       "</g>\r\n",
       "<!-- 2/0/4&#45;0/1&#45;&#45;2/0/4&#45;1/1 -->\r\n",
       "<g id=\"edge57\" class=\"edge\"><title>2/0/4&#45;0/1&#45;&#45;2/0/4&#45;1/1</title>\r\n",
       "<path fill=\"none\" stroke=\"black\" d=\"M153.343,-106.083C161.18,-117.356 171.293,-131.981 184.958,-139 207.605,-150.633 389.57,-139.689 413.958,-147 420.985,-149.107 428.026,-152.719 433.875,-156.553\"/>\r\n",
       "</g>\r\n",
       "<!-- 2/0/4&#45;0/1&#45;&#45;r1&#45;0/1 -->\r\n",
       "<g id=\"edge6\" class=\"edge\"><title>2/0/4&#45;0/1&#45;&#45;r1&#45;0/1</title>\r\n",
       "<path fill=\"none\" stroke=\"black\" d=\"M140.194,-71.6966C140.98,-60.6843 141.994,-46.5002 142.771,-35.6223\"/>\r\n",
       "</g>\r\n",
       "<!-- 1/1/4&#45;0/1&#45;&#45;1/1/4&#45;0/0 -->\r\n",
       "<g id=\"edge27\" class=\"edge\"><title>1/1/4&#45;0/1&#45;&#45;1/1/4&#45;0/0</title>\r\n",
       "<path fill=\"none\" stroke=\"black\" d=\"M292.927,-108.102C298.756,-117.577 307.861,-129.356 316.958,-139 324.392,-146.882 333.54,-154.87 342.02,-161.013\"/>\r\n",
       "</g>\r\n",
       "<!-- 1/1/4&#45;0/1&#45;&#45;1/1/4&#45;1/0 -->\r\n",
       "<g id=\"edge49\" class=\"edge\"><title>1/1/4&#45;0/1&#45;&#45;1/1/4&#45;1/0</title>\r\n",
       "<path fill=\"none\" stroke=\"black\" d=\"M296.743,-107.507C304.191,-121.428 316.961,-139.181 334.958,-143 358.326,-147.959 526.589,-147.959 549.958,-143 567.955,-139.181 580.725,-121.428 588.173,-107.507\"/>\r\n",
       "</g>\r\n",
       "<!-- 1/1/4&#45;0/1&#45;&#45;1/1/4&#45;1/1 -->\r\n",
       "<g id=\"edge58\" class=\"edge\"><title>1/1/4&#45;0/1&#45;&#45;1/1/4&#45;1/1</title>\r\n",
       "<path fill=\"none\" stroke=\"black\" d=\"M303.342,-106.085C311.179,-117.359 321.291,-131.985 334.958,-139 358.004,-150.829 543.322,-138.993 567.958,-147 574.151,-149.013 580.264,-152.397 585.364,-156.035\"/>\r\n",
       "</g>\r\n",
       "<!-- 1/1/4&#45;0/1&#45;&#45;r2&#45;0/1 -->\r\n",
       "<g id=\"edge15\" class=\"edge\"><title>1/1/4&#45;0/1&#45;&#45;r2&#45;0/1</title>\r\n",
       "<path fill=\"none\" stroke=\"black\" d=\"M280.663,-72.411C274.761,-60.6055 266.905,-44.8934 261.243,-33.5705\"/>\r\n",
       "</g>\r\n",
       "<!-- 1/1/4&#45;0/1&#45;&#45;r3&#45;0/1 -->\r\n",
       "<g id=\"edge21\" class=\"edge\"><title>1/1/4&#45;0/1&#45;&#45;r3&#45;0/1</title>\r\n",
       "<path fill=\"none\" stroke=\"black\" d=\"M304.498,-74.496C318.228,-61.6813 338.022,-43.2069 350.937,-31.1531\"/>\r\n",
       "</g>\r\n",
       "<!-- 1/0/0&#45;1/0&#45;&#45;1/0/0&#45;0/0 -->\r\n",
       "<g id=\"edge28\" class=\"edge\"><title>1/0/0&#45;1/0&#45;&#45;1/0/0&#45;0/0</title>\r\n",
       "<path fill=\"none\" stroke=\"black\" d=\"M506.574,-106.085C498.737,-117.359 488.625,-131.985 474.958,-139 451.912,-150.829 266.593,-138.993 241.958,-147 235.765,-149.013 229.652,-152.397 224.552,-156.035\"/>\r\n",
       "</g>\r\n",
       "<!-- 1/0/0&#45;1/0&#45;&#45;1/0/0&#45;0/1 -->\r\n",
       "<g id=\"edge37\" class=\"edge\"><title>1/0/0&#45;1/0&#45;&#45;1/0/0&#45;0/1</title>\r\n",
       "<path fill=\"none\" stroke=\"black\" d=\"M513.173,-107.507C505.725,-121.428 492.955,-139.181 474.958,-143 451.589,-147.959 283.326,-147.959 259.958,-143 241.961,-139.181 229.191,-121.428 221.743,-107.507\"/>\r\n",
       "</g>\r\n",
       "<!-- 1/0/0&#45;1/0&#45;&#45;1/0/0&#45;1/1 -->\r\n",
       "<g id=\"edge59\" class=\"edge\"><title>1/0/0&#45;1/0&#45;&#45;1/0/0&#45;1/1</title>\r\n",
       "<path fill=\"none\" stroke=\"black\" d=\"M526.548,-107.762C528.094,-121.657 528.094,-141.315 526.551,-155.217\"/>\r\n",
       "</g>\r\n",
       "<!-- r1&#45;1/0 -->\r\n",
       "<g id=\"node17\" class=\"node\"><title>r1&#45;1/0</title>\r\n",
       "<polygon fill=\"lightgrey\" stroke=\"lightgrey\" points=\"520.958,-36 475.042,-18 520.958,-3.55271e-015 566.874,-18 520.958,-36\"/>\r\n",
       "<text text-anchor=\"middle\" x=\"520.958\" y=\"-14.3\" font-family=\"Times New Roman,serif\" font-size=\"14.00\">r1&#45;1/0</text>\r\n",
       "</g>\r\n",
       "<!-- 1/0/0&#45;1/0&#45;&#45;r1&#45;1/0 -->\r\n",
       "<g id=\"edge7\" class=\"edge\"><title>1/0/0&#45;1/0&#45;&#45;r1&#45;1/0</title>\r\n",
       "<path fill=\"none\" stroke=\"black\" d=\"M515.08,-72.055C513.843,-60.4018 513.922,-45.0715 515.317,-33.888\"/>\r\n",
       "</g>\r\n",
       "<!-- 1/0/0&#45;1/0&#45;&#45;r1&#45;1/0 -->\r\n",
       "<g id=\"edge8\" class=\"edge\"><title>1/0/0&#45;1/0&#45;&#45;r1&#45;1/0</title>\r\n",
       "<path fill=\"none\" stroke=\"black\" d=\"M526.836,-72.055C528.073,-60.4018 527.994,-45.0715 526.599,-33.888\"/>\r\n",
       "</g>\r\n",
       "<!-- 2/0/4&#45;1/0&#45;&#45;2/0/4&#45;0/0 -->\r\n",
       "<g id=\"edge29\" class=\"edge\"><title>2/0/4&#45;1/0&#45;&#45;2/0/4&#45;0/0</title>\r\n",
       "<path fill=\"none\" stroke=\"black\" d=\"M430.635,-105.403C421.785,-116.608 410.327,-131.475 395.958,-139 364.694,-155.372 350.138,-134.98 316.958,-147 310.981,-149.165 305.037,-152.508 300.013,-156.053\"/>\r\n",
       "</g>\r\n",
       "<!-- 2/0/4&#45;1/0&#45;&#45;2/0/4&#45;0/1 -->\r\n",
       "<g id=\"edge38\" class=\"edge\"><title>2/0/4&#45;1/0&#45;&#45;2/0/4&#45;0/1</title>\r\n",
       "<path fill=\"none\" stroke=\"black\" d=\"M437.219,-107.158C428.867,-121.072 414.767,-139.008 395.958,-143 373.024,-147.867 207.892,-147.867 184.958,-143 166.961,-139.181 154.191,-121.428 146.743,-107.507\"/>\r\n",
       "</g>\r\n",
       "<!-- 2/0/4&#45;1/0&#45;&#45;2/0/4&#45;1/1 -->\r\n",
       "<g id=\"edge60\" class=\"edge\"><title>2/0/4&#45;1/0&#45;&#45;2/0/4&#45;1/1</title>\r\n",
       "<path fill=\"none\" stroke=\"black\" d=\"M451.548,-107.762C453.094,-121.657 453.094,-141.315 451.551,-155.217\"/>\r\n",
       "</g>\r\n",
       "<!-- 2/0/4&#45;1/0&#45;&#45;r1&#45;1/0 -->\r\n",
       "<g id=\"edge9\" class=\"edge\"><title>2/0/4&#45;1/0&#45;&#45;r1&#45;1/0</title>\r\n",
       "<path fill=\"none\" stroke=\"black\" d=\"M461.498,-74.496C475.228,-61.6813 495.022,-43.2069 507.937,-31.1531\"/>\r\n",
       "</g>\r\n",
       "<!-- 1/1/4&#45;1/0&#45;&#45;1/1/4&#45;0/0 -->\r\n",
       "<g id=\"edge30\" class=\"edge\"><title>1/1/4&#45;1/0&#45;&#45;1/1/4&#45;0/0</title>\r\n",
       "<path fill=\"none\" stroke=\"black\" d=\"M581.539,-106.019C573.684,-117.256 563.562,-131.865 549.958,-139 519.61,-154.915 428.698,-136.882 395.958,-147 388.948,-149.166 381.913,-152.797 376.064,-156.63\"/>\r\n",
       "</g>\r\n",
       "<!-- 1/1/4&#45;1/0&#45;&#45;1/1/4&#45;0/1 -->\r\n",
       "<g id=\"edge39\" class=\"edge\"><title>1/1/4&#45;1/0&#45;&#45;1/1/4&#45;0/1</title>\r\n",
       "<path fill=\"none\" stroke=\"black\" d=\"M588.173,-107.507C580.725,-121.428 567.955,-139.181 549.958,-143 526.589,-147.959 358.326,-147.959 334.958,-143 316.961,-139.181 304.191,-121.428 296.743,-107.507\"/>\r\n",
       "</g>\r\n",
       "<!-- 1/1/4&#45;1/0&#45;&#45;1/1/4&#45;1/1 -->\r\n",
       "<g id=\"edge61\" class=\"edge\"><title>1/1/4&#45;1/0&#45;&#45;1/1/4&#45;1/1</title>\r\n",
       "<path fill=\"none\" stroke=\"black\" d=\"M601.548,-107.762C603.094,-121.657 603.094,-141.315 601.551,-155.217\"/>\r\n",
       "</g>\r\n",
       "<!-- 1/0/0&#45;1/1&#45;&#45;1/0/0&#45;0/0 -->\r\n",
       "<g id=\"edge31\" class=\"edge\"><title>1/0/0&#45;1/1&#45;&#45;1/0/0&#45;0/0</title>\r\n",
       "<path fill=\"none\" stroke=\"black\" d=\"M514.435,-190.68C507.42,-206.819 494.56,-229.681 474.958,-240 432.681,-262.256 302.235,-262.256 259.958,-240 240.356,-229.681 227.496,-206.819 220.481,-190.68\"/>\r\n",
       "</g>\r\n",
       "<!-- 1/0/0&#45;1/1&#45;&#45;1/0/0&#45;0/1 -->\r\n",
       "<g id=\"edge40\" class=\"edge\"><title>1/0/0&#45;1/1&#45;&#45;1/0/0&#45;0/1</title>\r\n",
       "<path fill=\"none\" stroke=\"black\" d=\"M499.76,-160.503C492.199,-155.36 483.658,-149.828 474.958,-147 450.322,-138.993 265.004,-150.829 241.958,-139 229.227,-132.466 219.581,-119.327 214.683,-108.446\"/>\r\n",
       "</g>\r\n",
       "<!-- 1/0/0&#45;1/1&#45;&#45;1/0/0&#45;1/0 -->\r\n",
       "<g id=\"edge50\" class=\"edge\"><title>1/0/0&#45;1/1&#45;&#45;1/0/0&#45;1/0</title>\r\n",
       "<path fill=\"none\" stroke=\"black\" d=\"M515.365,-155.217C513.821,-141.315 513.822,-121.657 515.368,-107.762\"/>\r\n",
       "</g>\r\n",
       "<!-- r1&#45;1/1 -->\r\n",
       "<g id=\"node18\" class=\"node\"><title>r1&#45;1/1</title>\r\n",
       "<polygon fill=\"lightgrey\" stroke=\"lightgrey\" points=\"688.958,-108 643.042,-90 688.958,-72 734.874,-90 688.958,-108\"/>\r\n",
       "<text text-anchor=\"middle\" x=\"688.958\" y=\"-86.3\" font-family=\"Times New Roman,serif\" font-size=\"14.00\">r1&#45;1/1</text>\r\n",
       "</g>\r\n",
       "<!-- 1/0/0&#45;1/1&#45;&#45;r1&#45;1/1 -->\r\n",
       "<g id=\"edge10\" class=\"edge\"><title>1/0/0&#45;1/1&#45;&#45;r1&#45;1/1</title>\r\n",
       "<path fill=\"none\" stroke=\"black\" d=\"M532.013,-156.053C537.037,-152.508 542.981,-149.165 548.958,-147 582.138,-134.98 595.78,-153.492 627.958,-139 646.106,-130.827 662.109,-113.776 673.695,-102.356\"/>\r\n",
       "</g>\r\n",
       "<!-- 1/0/0&#45;1/1&#45;&#45;r1&#45;1/1 -->\r\n",
       "<g id=\"edge11\" class=\"edge\"><title>1/0/0&#45;1/1&#45;&#45;r1&#45;1/1</title>\r\n",
       "<path fill=\"none\" stroke=\"black\" d=\"M542.242,-160.754C549.824,-155.671 558.357,-150.116 566.958,-147 600.138,-134.98 613.78,-153.492 645.958,-139 662.089,-131.735 676.526,-117.455 684.469,-106.352\"/>\r\n",
       "</g>\r\n",
       "<!-- r2&#45;1/1 -->\r\n",
       "<g id=\"node20\" class=\"node\"><title>r2&#45;1/1</title>\r\n",
       "<polygon fill=\"lightgrey\" stroke=\"lightgrey\" points=\"908.958,-108 863.042,-90 908.958,-72 954.874,-90 908.958,-108\"/>\r\n",
       "<text text-anchor=\"middle\" x=\"908.958\" y=\"-86.3\" font-family=\"Times New Roman,serif\" font-size=\"14.00\">r2&#45;1/1</text>\r\n",
       "</g>\r\n",
       "<!-- 1/0/0&#45;1/1&#45;&#45;r2&#45;1/1 -->\r\n",
       "<g id=\"edge16\" class=\"edge\"><title>1/0/0&#45;1/1&#45;&#45;r2&#45;1/1</title>\r\n",
       "<path fill=\"none\" stroke=\"black\" d=\"M537.208,-158.104C543.316,-153.703 550.576,-149.37 557.958,-147 589.284,-136.944 823.311,-150.967 853.958,-139 872.138,-131.901 888.349,-115.973 898.38,-104.407\"/>\r\n",
       "</g>\r\n",
       "<!-- r3&#45;1/1 -->\r\n",
       "<g id=\"node22\" class=\"node\"><title>r3&#45;1/1</title>\r\n",
       "<polygon fill=\"lightgrey\" stroke=\"lightgrey\" points=\"798.958,-108 753.042,-90 798.958,-72 844.874,-90 798.958,-108\"/>\r\n",
       "<text text-anchor=\"middle\" x=\"798.958\" y=\"-86.3\" font-family=\"Times New Roman,serif\" font-size=\"14.00\">r3&#45;1/1</text>\r\n",
       "</g>\r\n",
       "<!-- 1/0/0&#45;1/1&#45;&#45;r3&#45;1/1 -->\r\n",
       "<g id=\"edge23\" class=\"edge\"><title>1/0/0&#45;1/1&#45;&#45;r3&#45;1/1</title>\r\n",
       "<path fill=\"none\" stroke=\"black\" d=\"M537.23,-158.169C543.339,-153.774 550.596,-149.428 557.958,-147 597.247,-134.041 705.542,-154.356 743.958,-139 762.081,-131.756 778.303,-115.857 788.353,-104.338\"/>\r\n",
       "</g>\r\n",
       "<!-- 0/1/0&#45;1/1 -->\r\n",
       "<g id=\"node12\" class=\"node\"><title>0/1/0&#45;1/1</title>\r\n",
       "<ellipse fill=\"none\" stroke=\"black\" cx=\"670.958\" cy=\"-173\" rx=\"28.6953\" ry=\"18\"/>\r\n",
       "<text text-anchor=\"middle\" x=\"670.958\" y=\"-169.3\" font-family=\"Times New Roman,serif\" font-size=\"14.00\">0/1/0</text>\r\n",
       "</g>\r\n",
       "<!-- 0/1/0&#45;1/1&#45;&#45;0/1/0&#45;0/1 -->\r\n",
       "<g id=\"edge41\" class=\"edge\"><title>0/1/0&#45;1/1&#45;&#45;0/1/0&#45;0/1</title>\r\n",
       "<path fill=\"none\" stroke=\"black\" d=\"M654.697,-158.136C648.588,-153.738 641.33,-149.399 633.958,-147 609.747,-139.123 427.89,-150.061 404.958,-139 391.138,-132.334 380.172,-118.604 373.071,-107.529\"/>\r\n",
       "</g>\r\n",
       "<!-- 0/1/0&#45;1/1&#45;&#45;r2&#45;1/1 -->\r\n",
       "<g id=\"edge17\" class=\"edge\"><title>0/1/0&#45;1/1&#45;&#45;r2&#45;1/1</title>\r\n",
       "<path fill=\"none\" stroke=\"black\" d=\"M699.673,-171.501C736.982,-169.832 803.328,-163.331 853.958,-139 871.549,-130.546 887.879,-114.893 898.1,-103.762\"/>\r\n",
       "</g>\r\n",
       "<!-- 0/1/0&#45;1/1&#45;&#45;r3&#45;1/1 -->\r\n",
       "<g id=\"edge22\" class=\"edge\"><title>0/1/0&#45;1/1&#45;&#45;r3&#45;1/1</title>\r\n",
       "<path fill=\"none\" stroke=\"black\" d=\"M695.211,-163.124C709.873,-157.259 728.629,-148.848 743.958,-139 759.952,-128.725 776.086,-114.011 786.704,-103.588\"/>\r\n",
       "</g>\r\n",
       "<!-- 2/0/4&#45;1/1&#45;&#45;2/0/4&#45;0/0 -->\r\n",
       "<g id=\"edge32\" class=\"edge\"><title>2/0/4&#45;1/1&#45;&#45;2/0/4&#45;0/0</title>\r\n",
       "<path fill=\"none\" stroke=\"black\" d=\"M438.598,-190.419C430.698,-206.608 416.457,-229.72 395.958,-240 371.723,-252.153 358.948,-252.629 334.958,-240 315.356,-229.681 302.496,-206.819 295.481,-190.68\"/>\r\n",
       "</g>\r\n",
       "<!-- 2/0/4&#45;1/1&#45;&#45;2/0/4&#45;0/1 -->\r\n",
       "<g id=\"edge42\" class=\"edge\"><title>2/0/4&#45;1/1&#45;&#45;2/0/4&#45;0/1</title>\r\n",
       "<path fill=\"none\" stroke=\"black\" d=\"M424,-161.022C415.469,-155.735 405.701,-149.921 395.958,-147 371.57,-139.689 189.605,-150.633 166.958,-139 154.229,-132.462 144.582,-119.324 139.685,-108.443\"/>\r\n",
       "</g>\r\n",
       "<!-- 2/0/4&#45;1/1&#45;&#45;2/0/4&#45;1/0 -->\r\n",
       "<g id=\"edge51\" class=\"edge\"><title>2/0/4&#45;1/1&#45;&#45;2/0/4&#45;1/0</title>\r\n",
       "<path fill=\"none\" stroke=\"black\" d=\"M440.365,-155.217C438.821,-141.315 438.822,-121.657 440.368,-107.762\"/>\r\n",
       "</g>\r\n",
       "<!-- 2/0/4&#45;1/1&#45;&#45;r1&#45;1/1 -->\r\n",
       "<g id=\"edge12\" class=\"edge\"><title>2/0/4&#45;1/1&#45;&#45;r1&#45;1/1</title>\r\n",
       "<path fill=\"none\" stroke=\"black\" d=\"M462.61,-157.942C468.643,-153.641 475.753,-149.412 482.958,-147 515.453,-136.121 605.377,-152.302 636.958,-139 654.395,-131.655 669.67,-115.777 679.075,-104.29\"/>\r\n",
       "</g>\r\n",
       "<!-- 1/1/4&#45;1/1&#45;&#45;1/1/4&#45;0/0 -->\r\n",
       "<g id=\"edge33\" class=\"edge\"><title>1/1/4&#45;1/1&#45;&#45;1/1/4&#45;0/0</title>\r\n",
       "<path fill=\"none\" stroke=\"black\" d=\"M589.435,-190.68C582.42,-206.819 569.56,-229.681 549.958,-240 523.215,-254.078 440.973,-253.548 413.958,-240 393.459,-229.72 379.218,-206.608 371.318,-190.419\"/>\r\n",
       "</g>\r\n",
       "<!-- 1/1/4&#45;1/1&#45;&#45;1/1/4&#45;0/1 -->\r\n",
       "<g id=\"edge43\" class=\"edge\"><title>1/1/4&#45;1/1&#45;&#45;1/1/4&#45;0/1</title>\r\n",
       "<path fill=\"none\" stroke=\"black\" d=\"M574.76,-160.503C567.199,-155.36 558.658,-149.828 549.958,-147 525.322,-138.993 340.004,-150.829 316.958,-139 304.227,-132.466 294.581,-119.327 289.683,-108.446\"/>\r\n",
       "</g>\r\n",
       "<!-- 1/1/4&#45;1/1&#45;&#45;1/1/4&#45;1/0 -->\r\n",
       "<g id=\"edge52\" class=\"edge\"><title>1/1/4&#45;1/1&#45;&#45;1/1/4&#45;1/0</title>\r\n",
       "<path fill=\"none\" stroke=\"black\" d=\"M590.365,-155.217C588.821,-141.315 588.822,-121.657 590.368,-107.762\"/>\r\n",
       "</g>\r\n",
       "<!-- 1/1/4&#45;1/1&#45;&#45;r2&#45;1/1 -->\r\n",
       "<g id=\"edge18\" class=\"edge\"><title>1/1/4&#45;1/1&#45;&#45;r2&#45;1/1</title>\r\n",
       "<path fill=\"none\" stroke=\"black\" d=\"M612.22,-158.141C618.329,-153.744 625.587,-149.403 632.958,-147 679.68,-131.765 808.263,-157.085 853.958,-139 872.106,-131.818 888.323,-115.906 898.365,-104.367\"/>\r\n",
       "</g>\r\n",
       "<!-- 1/1/4&#45;1/1&#45;&#45;r3&#45;1/1 -->\r\n",
       "<g id=\"edge24\" class=\"edge\"><title>1/1/4&#45;1/1&#45;&#45;r3&#45;1/1</title>\r\n",
       "<path fill=\"none\" stroke=\"black\" d=\"M612.638,-158.025C618.673,-153.73 625.778,-149.484 632.958,-147 679.701,-130.828 698.3,-158.021 743.958,-139 761.974,-131.494 778.218,-115.649 788.302,-104.213\"/>\r\n",
       "</g>\r\n",
       "</g>\r\n",
       "</svg>\r\n"
      ],
      "text/plain": [
       "<graphviz.dot.Graph at 0x27edbc19d88>"
      ]
     },
     "metadata": {},
     "output_type": "display_data"
    },
    {
     "name": "stderr",
     "output_type": "stream",
     "text": [
      "C:\\Users\\arizona95\\Desktop\\arizona95\\git\\Brain\\paper\\Paper\\tf_neat\\multi_env_eval.py:437: RuntimeWarning: invalid value encountered in log\n",
      "  grad_x = (np.log(x_m) + 1).T + a.T + np.dot(x_m.T, V) + (0.5 * (1 / m) * p_m * p_m).T\n",
      "C:\\Users\\arizona95\\Desktop\\arizona95\\git\\Brain\\paper\\Paper\\tf_neat\\multi_env_eval.py:441: RuntimeWarning: invalid value encountered in log\n",
      "  np.exp(-0.5 * np.dot(grad_x, M_) + 0.5 * np.dot(np.log(x_m.T), np.abs(M_))))).T)\n",
      "C:\\Users\\arizona95\\anaconda3\\envs\\tensorflow\\lib\\site-packages\\scipy\\integrate\\odepack.py:247: ODEintWarning: Excess accuracy requested (tolerances too small). Run with full_output = 1 to get quantitative information.\n",
      "  warnings.warn(warning_msg, ODEintWarning)\n",
      "C:\\Users\\arizona95\\anaconda3\\envs\\tensorflow\\lib\\site-packages\\matplotlib\\ticker.py:2072: RuntimeWarning: overflow encountered in multiply\n",
      "  steps = self._extended_steps * scale\n"
     ]
    },
    {
     "data": {
      "image/png": "[encoded data removed]",
      "text/plain": [
       "<Figure size 432x288 with 1 Axes>"
      ]
     },
     "metadata": {
      "needs_background": "light"
     },
     "output_type": "display_data"
    },
    {
     "name": "stdout",
     "output_type": "stream",
     "text": [
      "[9.99670278 9.99785633 9.52695731 9.99144312 6.34695253 3.73471528\n",
      " 9.99999835 9.99999999 9.99992239 9.99999994 9.97094013 9.99911439\n",
      " 4.0480628  9.99841815 0.         0.         0.         0.\n",
      " 0.         0.         0.         0.         0.         0.\n",
      " 0.         0.         0.         0.        ]\n"
     ]
    },
    {
     "ename": "SystemExit",
     "evalue": "",
     "output_type": "error",
     "traceback": [
      "An exception has occurred, use %tb to see the full traceback.\n",
      "\u001b[1;31mSystemExit\u001b[0m\n"
     ]
    },
    {
     "name": "stderr",
     "output_type": "stream",
     "text": [
      "C:\\Users\\arizona95\\anaconda3\\envs\\tensorflow\\lib\\site-packages\\IPython\\core\\interactiveshell.py:3445: UserWarning: To exit: use 'exit', 'quit', or Ctrl-D.\n",
      "  warn(\"To exit: use 'exit', 'quit', or Ctrl-D.\", stacklevel=1)\n"
     ]
    }
   ],
   "source": [
    "import os\n",
    "import numpy as np\n",
    "import gym\n",
    "import neat\n",
    "import tensorflow as tf\n",
    "from tf_neat.multi_env_eval import MultiEnvEvaluator\n",
    "from tf_neat.neat_reporter import LogReporter\n",
    "from tf_neat.recurrent_net import RecurrentNet\n",
    "import visualize\n",
    "import pandas as pd\n",
    "from IPython.display import display, HTML\n",
    "\n",
    "# Activate eager TensorFlow execution\n",
    "tf.executing_eagerly()\n",
    "print(\"Executing eagerly: \", tf.executing_eagerly())\n",
    "\n",
    "max_env_steps = 200\n",
    "\n",
    "c_v=2\n",
    "s_v=2\n",
    "\n",
    "test = \"\"\n",
    "test1 = \"\"\n",
    "\n",
    "def make_env():\n",
    "    return gym.make(\"CartPole-v0\")\n",
    "\n",
    "\n",
    "def make_net(genome, config, bs):\n",
    "    return RecurrentNet.create(genome, config, bs)\n",
    "\n",
    "\n",
    "def activate_net(net, states):\n",
    "    global test\n",
    "    test =states\n",
    "    outputs = net.activate(states).numpy()\n",
    "    \n",
    "    return  (outputs[:, 0] > 0.5 ).astype(int) \n",
    "\n",
    "\n",
    "def run(n_generations):\n",
    "    # Load the config file, which is assumed to live in\n",
    "    # the same directory as this script.\n",
    "    config_path = os.path.join(os.path.dirname(os.path.abspath('')), \"paper/tf_neat/neat.cfg\")\n",
    "    config = neat.Config(\n",
    "        neat.DefaultGenome,\n",
    "        neat.DefaultReproduction,\n",
    "        neat.DefaultSpeciesSet,\n",
    "        neat.DefaultStagnation,\n",
    "        config_path,\n",
    "    )\n",
    "\n",
    "    evaluator = MultiEnvEvaluator(\n",
    "        make_net, activate_net, make_env=make_env, max_env_steps=max_env_steps\n",
    "    )\n",
    "\n",
    "    def eval_genomes(genomes, config):\n",
    "        global test1\n",
    "        test1 = genomes\n",
    "        for _, genome in genomes:\n",
    "            genome.fitness = evaluator.eval_genome(genome, config)\n",
    "\n",
    "    pop = neat.Population(config)\n",
    "    stats = neat.StatisticsReporter()\n",
    "    pop.add_reporter(stats)\n",
    "    reporter = neat.StdOutReporter(True)\n",
    "    pop.add_reporter(reporter)\n",
    "    logger = LogReporter(\"./logs/neat.json\", evaluator.eval_genome)\n",
    "\n",
    "    pop.run(eval_genomes, n_generations)\n",
    "\n",
    "\n",
    "run(1)"
   ]
  },
  {
   "cell_type": "code",
   "execution_count": 3,
   "id": "dd366e25",
   "metadata": {},
   "outputs": [],
   "source": [
    "import pandas as pd\n",
    "c =[[0, 0], [0, 1]]\n",
    "sn = list(map(lambda x:\"/\".join(str(e) for e in x),c))\n",
    "k =pd.DataFrame.from_dict(c)\n",
    "k.columns = sn\n",
    "k = k.T\n",
    "k.columns = sn"
   ]
  },
  {
   "cell_type": "code",
   "execution_count": 4,
   "id": "b13b243b",
   "metadata": {},
   "outputs": [],
   "source": [
    "from collections import OrderedDict\n",
    "a = dict()\n",
    "a[\"t1\"]=3\n",
    "a[\"t2\"]=2\n",
    "if \"t3\" in a :\n",
    "    print(\"true\")"
   ]
  },
  {
   "cell_type": "code",
   "execution_count": 7,
   "id": "7c852bec",
   "metadata": {},
   "outputs": [
    {
     "data": {
      "text/html": [
       "<div>\n",
       "<style scoped>\n",
       "    .dataframe tbody tr th:only-of-type {\n",
       "        vertical-align: middle;\n",
       "    }\n",
       "\n",
       "    .dataframe tbody tr th {\n",
       "        vertical-align: top;\n",
       "    }\n",
       "\n",
       "    .dataframe thead th {\n",
       "        text-align: right;\n",
       "    }\n",
       "</style>\n",
       "<table border=\"1\" class=\"dataframe\">\n",
       "  <thead>\n",
       "    <tr style=\"text-align: right;\">\n",
       "      <th></th>\n",
       "      <th>0/0</th>\n",
       "      <th>0/1</th>\n",
       "    </tr>\n",
       "  </thead>\n",
       "  <tbody>\n",
       "    <tr>\n",
       "      <th>0/0</th>\n",
       "      <td>0</td>\n",
       "      <td>0</td>\n",
       "    </tr>\n",
       "    <tr>\n",
       "      <th>0/1</th>\n",
       "      <td>0</td>\n",
       "      <td>1</td>\n",
       "    </tr>\n",
       "  </tbody>\n",
       "</table>\n",
       "</div>"
      ],
      "text/plain": [
       "     0/0  0/1\n",
       "0/0    0    0\n",
       "0/1    0    1"
      ]
     },
     "execution_count": 7,
     "metadata": {},
     "output_type": "execute_result"
    }
   ],
   "source": [
    "k"
   ]
  },
  {
   "cell_type": "code",
   "execution_count": 10,
   "id": "b9d5f38f",
   "metadata": {},
   "outputs": [
    {
     "name": "stdout",
     "output_type": "stream",
     "text": [
      "0/0\n",
      "0/1\n"
     ]
    }
   ],
   "source": [
    "for ea in k :\n",
    "    print(ea)"
   ]
  },
  {
   "cell_type": "code",
   "execution_count": 14,
   "id": "210893d1",
   "metadata": {},
   "outputs": [],
   "source": [
    "dict_a = {\"a\":{\"s1\":1, \"s2\":2}, \"b\":{\"s3\":3}}\n",
    "a = pd.DataFrame.from_dict(dict_a).T"
   ]
  },
  {
   "cell_type": "code",
   "execution_count": 15,
   "id": "279030cc",
   "metadata": {
    "scrolled": true
   },
   "outputs": [
    {
     "data": {
      "text/html": [
       "<div>\n",
       "<style scoped>\n",
       "    .dataframe tbody tr th:only-of-type {\n",
       "        vertical-align: middle;\n",
       "    }\n",
       "\n",
       "    .dataframe tbody tr th {\n",
       "        vertical-align: top;\n",
       "    }\n",
       "\n",
       "    .dataframe thead th {\n",
       "        text-align: right;\n",
       "    }\n",
       "</style>\n",
       "<table border=\"1\" class=\"dataframe\">\n",
       "  <thead>\n",
       "    <tr style=\"text-align: right;\">\n",
       "      <th></th>\n",
       "      <th>s1</th>\n",
       "      <th>s2</th>\n",
       "      <th>s3</th>\n",
       "    </tr>\n",
       "  </thead>\n",
       "  <tbody>\n",
       "    <tr>\n",
       "      <th>a</th>\n",
       "      <td>1.0</td>\n",
       "      <td>2.0</td>\n",
       "      <td>NaN</td>\n",
       "    </tr>\n",
       "    <tr>\n",
       "      <th>b</th>\n",
       "      <td>NaN</td>\n",
       "      <td>NaN</td>\n",
       "      <td>3.0</td>\n",
       "    </tr>\n",
       "  </tbody>\n",
       "</table>\n",
       "</div>"
      ],
      "text/plain": [
       "    s1   s2   s3\n",
       "a  1.0  2.0  NaN\n",
       "b  NaN  NaN  3.0"
      ]
     },
     "execution_count": 15,
     "metadata": {},
     "output_type": "execute_result"
    }
   ],
   "source": [
    "a"
   ]
  },
  {
   "cell_type": "code",
   "execution_count": 4,
   "id": "1a1aed8c",
   "metadata": {},
   "outputs": [],
   "source": [
    "a = np.array([np.inf])"
   ]
  },
  {
   "cell_type": "code",
   "execution_count": 6,
   "id": "688683d4",
   "metadata": {},
   "outputs": [
    {
     "data": {
      "text/plain": [
       "array([0.])"
      ]
     },
     "execution_count": 6,
     "metadata": {},
     "output_type": "execute_result"
    }
   ],
   "source": [
    "1/a"
   ]
  },
  {
   "cell_type": "code",
   "execution_count": 8,
   "id": "49a9260f",
   "metadata": {},
   "outputs": [
    {
     "data": {
      "text/plain": [
       "array([[1, 2]], dtype=int64)"
      ]
     },
     "execution_count": 8,
     "metadata": {},
     "output_type": "execute_result"
    }
   ],
   "source": [
    "np.array(a)"
   ]
  },
  {
   "cell_type": "code",
   "execution_count": 14,
   "id": "d17e5145",
   "metadata": {},
   "outputs": [],
   "source": [
    "list_b = [[1,2],[3,4]]\n",
    "b = pd.DataFrame.from_dict(list_b).T"
   ]
  },
  {
   "cell_type": "code",
   "execution_count": 15,
   "id": "86caa74c",
   "metadata": {
    "scrolled": true
   },
   "outputs": [
    {
     "data": {
      "text/html": [
       "<div>\n",
       "<style scoped>\n",
       "    .dataframe tbody tr th:only-of-type {\n",
       "        vertical-align: middle;\n",
       "    }\n",
       "\n",
       "    .dataframe tbody tr th {\n",
       "        vertical-align: top;\n",
       "    }\n",
       "\n",
       "    .dataframe thead th {\n",
       "        text-align: right;\n",
       "    }\n",
       "</style>\n",
       "<table border=\"1\" class=\"dataframe\">\n",
       "  <thead>\n",
       "    <tr style=\"text-align: right;\">\n",
       "      <th></th>\n",
       "      <th>0</th>\n",
       "      <th>1</th>\n",
       "    </tr>\n",
       "  </thead>\n",
       "  <tbody>\n",
       "    <tr>\n",
       "      <th>0</th>\n",
       "      <td>1</td>\n",
       "      <td>3</td>\n",
       "    </tr>\n",
       "    <tr>\n",
       "      <th>1</th>\n",
       "      <td>2</td>\n",
       "      <td>4</td>\n",
       "    </tr>\n",
       "  </tbody>\n",
       "</table>\n",
       "</div>"
      ],
      "text/plain": [
       "   0  1\n",
       "0  1  3\n",
       "1  2  4"
      ]
     },
     "execution_count": 15,
     "metadata": {},
     "output_type": "execute_result"
    }
   ],
   "source": [
    "b"
   ]
  },
  {
   "cell_type": "code",
   "execution_count": 10,
   "id": "a809bc18",
   "metadata": {},
   "outputs": [],
   "source": [
    "import itertools\n",
    "lst = list(map(lambda x:list(x),list(itertools.product([0, 1], repeat=2))))"
   ]
  },
  {
   "cell_type": "code",
   "execution_count": 11,
   "id": "354bc1b5",
   "metadata": {},
   "outputs": [
    {
     "data": {
      "text/plain": [
       "[[0, 0], [0, 1], [1, 0], [1, 1]]"
      ]
     },
     "execution_count": 11,
     "metadata": {},
     "output_type": "execute_result"
    }
   ],
   "source": [
    "lst"
   ]
  },
  {
   "cell_type": "code",
   "execution_count": null,
   "id": "bdbaf831",
   "metadata": {},
   "outputs": [],
   "source": [
    "for k in network_size :\n",
    "    print(v)"
   ]
  },
  {
   "cell_type": "code",
   "execution_count": null,
   "id": "0223db4f",
   "metadata": {},
   "outputs": [],
   "source": [
    "list(np.array([1,2])+np.array([3,4]))"
   ]
  },
  {
   "cell_type": "code",
   "execution_count": null,
   "id": "e7a33856",
   "metadata": {},
   "outputs": [],
   "source": [
    "int(4.5)"
   ]
  },
  {
   "cell_type": "code",
   "execution_count": null,
   "id": "d5927a40",
   "metadata": {},
   "outputs": [],
   "source": [
    "print(np.array([1, 0, 0, 1, 0, 0], dtype=np.float32))"
   ]
  },
  {
   "cell_type": "code",
   "execution_count": null,
   "id": "234344b6",
   "metadata": {},
   "outputs": [],
   "source": [
    "print(tf.convert_to_tensor([1, 0, 0, 1, 0, 0], dtype=tf.float32))"
   ]
  },
  {
   "cell_type": "code",
   "execution_count": null,
   "id": "0e708d34",
   "metadata": {},
   "outputs": [],
   "source": [
    "test"
   ]
  },
  {
   "cell_type": "code",
   "execution_count": null,
   "id": "983f75db",
   "metadata": {},
   "outputs": [],
   "source": [
    "a = [1, 0, 0, 1, 0, 0]\n",
    "\n",
    "[np.array(a)]"
   ]
  },
  {
   "cell_type": "code",
   "execution_count": null,
   "id": "51f2ff7b",
   "metadata": {},
   "outputs": [],
   "source": [
    "test"
   ]
  },
  {
   "cell_type": "code",
   "execution_count": null,
   "id": "90b14351",
   "metadata": {},
   "outputs": [],
   "source": [
    "config_path = os.path.join(os.path.dirname(os.path.abspath('')), \"paper/tf_neat/neat.cfg\")\n",
    "config = neat.Config(\n",
    "    neat.DefaultGenome,\n",
    "    neat.DefaultReproduction,\n",
    "    neat.DefaultSpeciesSet,\n",
    "    neat.DefaultStagnation,\n",
    "    config_path,\n",
    ")"
   ]
  },
  {
   "cell_type": "code",
   "execution_count": null,
   "id": "6da88f16",
   "metadata": {},
   "outputs": [],
   "source": [
    "config.genome_config.input_keys"
   ]
  },
  {
   "cell_type": "code",
   "execution_count": null,
   "id": "9bf537ef",
   "metadata": {},
   "outputs": [],
   "source": []
  },
  {
   "cell_type": "code",
   "execution_count": 8,
   "id": "d966fbaa",
   "metadata": {},
   "outputs": [
    {
     "data": {
      "text/plain": [
       "['__add__',\n",
       " '__class__',\n",
       " '__contains__',\n",
       " '__delattr__',\n",
       " '__delitem__',\n",
       " '__dir__',\n",
       " '__doc__',\n",
       " '__eq__',\n",
       " '__format__',\n",
       " '__ge__',\n",
       " '__getattribute__',\n",
       " '__getitem__',\n",
       " '__gt__',\n",
       " '__hash__',\n",
       " '__iadd__',\n",
       " '__imul__',\n",
       " '__init__',\n",
       " '__init_subclass__',\n",
       " '__iter__',\n",
       " '__le__',\n",
       " '__len__',\n",
       " '__lt__',\n",
       " '__mul__',\n",
       " '__ne__',\n",
       " '__new__',\n",
       " '__reduce__',\n",
       " '__reduce_ex__',\n",
       " '__repr__',\n",
       " '__reversed__',\n",
       " '__rmul__',\n",
       " '__setattr__',\n",
       " '__setitem__',\n",
       " '__sizeof__',\n",
       " '__str__',\n",
       " '__subclasshook__',\n",
       " 'append',\n",
       " 'clear',\n",
       " 'copy',\n",
       " 'count',\n",
       " 'extend',\n",
       " 'index',\n",
       " 'insert',\n",
       " 'pop',\n",
       " 'remove',\n",
       " 'reverse',\n",
       " 'sort']"
      ]
     },
     "execution_count": 8,
     "metadata": {},
     "output_type": "execute_result"
    }
   ],
   "source": [
    "dir(test1)"
   ]
  },
  {
   "cell_type": "code",
   "execution_count": 7,
   "id": "ce79f825",
   "metadata": {},
   "outputs": [
    {
     "data": {
      "text/plain": [
       "<function tuple.count(value, /)>"
      ]
     },
     "execution_count": 7,
     "metadata": {},
     "output_type": "execute_result"
    }
   ],
   "source": [
    "test1"
   ]
  },
  {
   "cell_type": "code",
   "execution_count": 21,
   "id": "af01f668",
   "metadata": {},
   "outputs": [
    {
     "name": "stdout",
     "output_type": "stream",
     "text": [
      "Key: 114\n",
      "Fitness: 9.0\n",
      "Nodes:\n",
      "\t0 DefaultNodeGene(key=0, bias=1.7983796236213394, response=1.0, activation=sigmoid, aggregation=sum)\n",
      "\t114 DefaultNodeGene(key=114, bias=0.7633495953500787, response=1.0, activation=sigmoid, aggregation=sum)\n",
      "Connections:\n",
      "\tDefaultConnectionGene(key=(-3, 114), weight=0.3831917445632024, enabled=True)\n",
      "\tDefaultConnectionGene(key=(-2, 114), weight=0.039226573892899796, enabled=True)\n",
      "\tDefaultConnectionGene(key=(-1, 114), weight=0.6578286707005735, enabled=True)\n",
      "\tDefaultConnectionGene(key=(114, 0), weight=-0.35823329415372324, enabled=True)\n"
     ]
    }
   ],
   "source": [
    "\n",
    "config_path = os.path.join(os.path.dirname(os.path.abspath('')), \"paper/tf_neat/neat.cfg\")\n",
    "config = neat.Config(\n",
    "    neat.DefaultGenome,\n",
    "    neat.DefaultReproduction,\n",
    "    neat.DefaultSpeciesSet,\n",
    "    neat.DefaultStagnation,\n",
    "    config_path,\n",
    ")\n",
    "for _, genome in [test1[2]]:\n",
    "    node_names = {-1:'A', -2: 'B', -3: 'C', -4: 'D', 0:'output'}\n",
    "    stats = neat.StatisticsReporter()\n",
    "    visualize.draw_net(config, genome, True, node_names=node_names)\n",
    "    print(genome)"
   ]
  },
  {
   "cell_type": "code",
   "execution_count": 14,
   "id": "6c64862f",
   "metadata": {},
   "outputs": [
    {
     "name": "stdout",
     "output_type": "stream",
     "text": [
      "123\n"
     ]
    }
   ],
   "source": [
    "a = [1,2,3]\n",
    "\n",
    "print(''.join(str(e) for e in a))\n"
   ]
  },
  {
   "cell_type": "code",
   "execution_count": 12,
   "id": "629fa4cc",
   "metadata": {},
   "outputs": [
    {
     "data": {
      "text/plain": [
       "1"
      ]
     },
     "execution_count": 12,
     "metadata": {},
     "output_type": "execute_result"
    }
   ],
   "source": [
    "a[0]"
   ]
  },
  {
   "cell_type": "code",
   "execution_count": 15,
   "id": "44d79f77",
   "metadata": {},
   "outputs": [
    {
     "data": {
      "text/plain": [
       "0"
      ]
     },
     "execution_count": 15,
     "metadata": {},
     "output_type": "execute_result"
    }
   ],
   "source": [
    "max(-2,0)"
   ]
  },
  {
   "cell_type": "code",
   "execution_count": 4,
   "id": "7799b36e",
   "metadata": {},
   "outputs": [],
   "source": [
    "D = [[0]*3]*3"
   ]
  },
  {
   "cell_type": "code",
   "execution_count": 14,
   "id": "260851f2",
   "metadata": {},
   "outputs": [],
   "source": [
    "D = [[0 for x in range(3)] for y in range(3)] "
   ]
  },
  {
   "cell_type": "code",
   "execution_count": 15,
   "id": "a13143a0",
   "metadata": {},
   "outputs": [
    {
     "data": {
      "text/plain": [
       "[[0, 0, 0], [0, 0, 0], [0, 0, 0]]"
      ]
     },
     "execution_count": 15,
     "metadata": {},
     "output_type": "execute_result"
    }
   ],
   "source": [
    "D"
   ]
  },
  {
   "cell_type": "code",
   "execution_count": 16,
   "id": "4fcbbf12",
   "metadata": {},
   "outputs": [],
   "source": [
    "D[0][0]=1"
   ]
  },
  {
   "cell_type": "code",
   "execution_count": 17,
   "id": "74029496",
   "metadata": {},
   "outputs": [
    {
     "data": {
      "text/plain": [
       "[[1, 0, 0], [0, 0, 0], [0, 0, 0]]"
      ]
     },
     "execution_count": 17,
     "metadata": {},
     "output_type": "execute_result"
    }
   ],
   "source": [
    "D"
   ]
  },
  {
   "cell_type": "code",
   "execution_count": null,
   "id": "5a4136f4",
   "metadata": {},
   "outputs": [],
   "source": []
  }
 ],
 "metadata": {
  "kernelspec": {
   "display_name": "Python 3",
   "language": "python",
   "name": "python3"
  },
  "language_info": {
   "codemirror_mode": {
    "name": "ipython",
    "version": 3
   },
   "file_extension": ".py",
   "mimetype": "text/x-python",
   "name": "python",
   "nbconvert_exporter": "python",
   "pygments_lexer": "ipython3",
   "version": "3.7.10"
  }
 },
 "nbformat": 4,
 "nbformat_minor": 5
}
