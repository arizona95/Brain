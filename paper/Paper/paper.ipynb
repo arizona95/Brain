{
 "cells": [
  {
   "cell_type": "code",
   "execution_count": 1,
   "id": "193979cb",
   "metadata": {},
   "outputs": [],
   "source": [
    "import numpy as np"
   ]
  },
  {
   "cell_type": "code",
   "execution_count": 32,
   "id": "2ab12b73",
   "metadata": {},
   "outputs": [],
   "source": [
    "def relu(x) :\n",
    "    return np.maximum(0,x)"
   ]
  },
  {
   "cell_type": "code",
   "execution_count": 99,
   "id": "6cdb2db9",
   "metadata": {},
   "outputs": [],
   "source": [
    "M = np.array([\n",
    "    [1,1], \n",
    "    [1,0], \n",
    "    [0,1], \n",
    "    [0,1], \n",
    "    [0,1], \n",
    "])\n",
    "\n",
    "M_ = np.array([\n",
    "    [1 , 0, 0, 0], \n",
    "    [-1, 0, 0, 0], \n",
    "    [-1, 1, 0, 1], \n",
    "    [0 ,-1, 1,-1], \n",
    "    [0 , 0,-1, 0], \n",
    "])\n",
    "\n",
    "m_c = np.array([\n",
    "    [0.2,], \n",
    "    [0.3,],\n",
    "])\n",
    "\n",
    "S = np.array([\n",
    "    [-2,0 ], \n",
    "    [-3,0 ], \n",
    "    [1 ,0 ], \n",
    "    [0 ,1 ], \n",
    "    [0 ,1 ], \n",
    "])\n",
    "\n",
    "D = np.array([\n",
    "    [0 ,1 ], \n",
    "    [1 ,0 ],  \n",
    "])\n",
    "\n",
    "x = np.array([\n",
    "    [2], \n",
    "    [3], \n",
    "    [1], \n",
    "    [2], \n",
    "    [5], \n",
    "])\n",
    "\n",
    "p = np.array([\n",
    "    [0], \n",
    "    [0], \n",
    "    [0], \n",
    "    [0], \n",
    "    [0], \n",
    "])\n",
    "\n",
    "x_h = np.array([\n",
    "    [0], \n",
    "    [0], \n",
    "    [0], \n",
    "    [0], \n",
    "    [3], \n",
    "])\n",
    "\n",
    "\n",
    "h = np.array([\n",
    "    [0], \n",
    "    [0], \n",
    "    [0], \n",
    "    [0], \n",
    "    [2], \n",
    "])\n",
    "\n",
    "\n",
    "a = -np.log(np.array([\n",
    "    [4], \n",
    "    [1], \n",
    "    [2], \n",
    "    [1], \n",
    "    [3], \n",
    "]))\n",
    "\n",
    "k = np.array([\n",
    "    [1], \n",
    "    [0.7], \n",
    "    [0.1], \n",
    "    [0],  \n",
    "])\n",
    "\n",
    "v = np.array([\n",
    "    [0], \n",
    "    [0], \n",
    "    [0], \n",
    "    [0.8],  \n",
    "])\n",
    "\n",
    "c = np.array([\n",
    "    [0], \n",
    "    [0], \n",
    "    [0], \n",
    "    [3],  \n",
    "])"
   ]
  },
  {
   "cell_type": "code",
   "execution_count": 100,
   "id": "5d9be87d",
   "metadata": {},
   "outputs": [
    {
     "data": {
      "text/plain": [
       "array([[ 1.        ],\n",
       "       [-1.        ],\n",
       "       [ 0.3999738 ],\n",
       "       [-1.43330714],\n",
       "       [ 0.03333333]])"
      ]
     },
     "execution_count": 100,
     "metadata": {},
     "output_type": "execute_result"
    }
   ],
   "source": [
    "V = np.dot(np.dot(S,1/(D+1)-1) , S.T)\n",
    "\n",
    "m = np.dot(M,m_c)\n",
    "\n",
    "G_x = np.log(x.T)+a.T+np.dot(x.T, V) + (p*p/(2*m)).T\n",
    "\n",
    "dx_dt = -np.dot(M_,(k.T*(np.exp(np.dot(G_x,M_))-1)*np.exp(np.dot(np.log(x.T)+a.T,relu(-M_)))).T)\n",
    "\n",
    "dx_dt"
   ]
  },
  {
   "cell_type": "code",
   "execution_count": 101,
   "id": "c9f8ef80",
   "metadata": {},
   "outputs": [
    {
     "data": {
      "text/plain": [
       "array([[-1.        ],\n",
       "       [-1.99996257],\n",
       "       [ 0.33333333],\n",
       "       [-1.99996257]])"
      ]
     },
     "execution_count": 101,
     "metadata": {},
     "output_type": "execute_result"
    }
   ],
   "source": [
    "((np.exp(np.dot(G_x,M_))-1)*np.exp(np.dot(np.log(x.T)+a.T,relu(-M_)))).T"
   ]
  },
  {
   "cell_type": "code",
   "execution_count": 102,
   "id": "976fe01b",
   "metadata": {},
   "outputs": [
    {
     "data": {
      "text/plain": [
       "array([[ 0. , -9.5,  0. , -9.5]])"
      ]
     },
     "execution_count": 102,
     "metadata": {},
     "output_type": "execute_result"
    }
   ],
   "source": [
    "np.dot(np.dot(x.T, V), M_)"
   ]
  },
  {
   "cell_type": "code",
   "execution_count": 81,
   "id": "8fde5153",
   "metadata": {},
   "outputs": [
    {
     "data": {
      "text/plain": [
       "array([[ 1.        ],\n",
       "       [-1.        ],\n",
       "       [ 0.05      ],\n",
       "       [-1.08333333],\n",
       "       [ 0.03333333]])"
      ]
     },
     "execution_count": 81,
     "metadata": {},
     "output_type": "execute_result"
    }
   ],
   "source": [
    "dx_dt"
   ]
  },
  {
   "cell_type": "code",
   "execution_count": 66,
   "id": "6660cf65",
   "metadata": {},
   "outputs": [
    {
     "data": {
      "text/plain": [
       "array([[-0.87737352, -0.75      ,  0.2       , -0.75      ]])"
      ]
     },
     "execution_count": 66,
     "metadata": {},
     "output_type": "execute_result"
    }
   ],
   "source": [
    "(np.exp(np.dot(G_x,M_))-1)"
   ]
  },
  {
   "cell_type": "code",
   "execution_count": 67,
   "id": "b86ceb73",
   "metadata": {},
   "outputs": [
    {
     "data": {
      "text/plain": [
       "array([[-2,  1,  0,  1],\n",
       "       [ 0,  0,  1,  0]])"
      ]
     },
     "execution_count": 67,
     "metadata": {},
     "output_type": "execute_result"
    }
   ],
   "source": [
    "np.dot(S.T,relu(M_))"
   ]
  },
  {
   "cell_type": "code",
   "execution_count": 68,
   "id": "0451b86a",
   "metadata": {},
   "outputs": [
    {
     "data": {
      "text/plain": [
       "array([[-2,  1,  0,  1],\n",
       "       [ 0,  0,  1,  0]])"
      ]
     },
     "execution_count": 68,
     "metadata": {},
     "output_type": "execute_result"
    }
   ],
   "source": [
    "np.dot(S.T,relu(M_))"
   ]
  },
  {
   "cell_type": "code",
   "execution_count": 69,
   "id": "a16bf8e1",
   "metadata": {},
   "outputs": [],
   "source": [
    "V = np.dot(np.dot(S,1/(D+1)-1) , S.T)"
   ]
  },
  {
   "cell_type": "code",
   "execution_count": 41,
   "id": "9e03fd1e",
   "metadata": {},
   "outputs": [
    {
     "data": {
      "text/plain": [
       "array([[ 0. ,  0. ,  0. ,  1. ,  1. ],\n",
       "       [ 0. ,  0. ,  0. ,  1.5,  1.5],\n",
       "       [ 0. ,  0. ,  0. , -0.5, -0.5],\n",
       "       [ 1. ,  1.5, -0.5,  0. ,  0. ],\n",
       "       [ 1. ,  1.5, -0.5,  0. ,  0. ]])"
      ]
     },
     "execution_count": 41,
     "metadata": {},
     "output_type": "execute_result"
    }
   ],
   "source": [
    "V"
   ]
  },
  {
   "cell_type": "code",
   "execution_count": 27,
   "id": "8985d199",
   "metadata": {},
   "outputs": [],
   "source": [
    "temp = np.dot(x.T,V)"
   ]
  },
  {
   "cell_type": "code",
   "execution_count": 30,
   "id": "be03a0c5",
   "metadata": {},
   "outputs": [
    {
     "data": {
      "text/plain": [
       "array([[ 7. , 10.5, -3.5,  6. ,  6. ]])"
      ]
     },
     "execution_count": 30,
     "metadata": {},
     "output_type": "execute_result"
    }
   ],
   "source": [
    "temp"
   ]
  },
  {
   "cell_type": "code",
   "execution_count": 39,
   "id": "4ed239f5",
   "metadata": {},
   "outputs": [
    {
     "data": {
      "text/plain": [
       "array([[ 7. , -3.5,  6. , -3.5]])"
      ]
     },
     "execution_count": 39,
     "metadata": {},
     "output_type": "execute_result"
    }
   ],
   "source": [
    "np.dot(temp, relu(M_))"
   ]
  },
  {
   "cell_type": "code",
   "execution_count": 38,
   "id": "6fcd295f",
   "metadata": {},
   "outputs": [
    {
     "data": {
      "text/plain": [
       "array([[7., 6., 6., 6.]])"
      ]
     },
     "execution_count": 38,
     "metadata": {},
     "output_type": "execute_result"
    }
   ],
   "source": [
    "np.dot(temp, relu(-M_))"
   ]
  },
  {
   "cell_type": "code",
   "execution_count": 9,
   "id": "e94f0990",
   "metadata": {},
   "outputs": [
    {
     "ename": "ValueError",
     "evalue": "output array is not acceptable (must have the right datatype, number of dimensions, and be a C-Array)",
     "output_type": "error",
     "traceback": [
      "\u001b[1;31m---------------------------------------------------------------------------\u001b[0m",
      "\u001b[1;31mValueError\u001b[0m                                Traceback (most recent call last)",
      "\u001b[1;32m<ipython-input-9-418b140a665e>\u001b[0m in \u001b[0;36m<module>\u001b[1;34m\u001b[0m\n\u001b[0;32m      1\u001b[0m \u001b[0ma\u001b[0m \u001b[1;33m=\u001b[0m \u001b[0mnp\u001b[0m\u001b[1;33m.\u001b[0m\u001b[0marray\u001b[0m\u001b[1;33m(\u001b[0m\u001b[1;33m[\u001b[0m\u001b[1;36m1\u001b[0m\u001b[1;33m,\u001b[0m\u001b[1;36m2\u001b[0m\u001b[1;33m]\u001b[0m\u001b[1;33m)\u001b[0m\u001b[1;33m\u001b[0m\u001b[1;33m\u001b[0m\u001b[0m\n\u001b[0;32m      2\u001b[0m \u001b[0mb\u001b[0m \u001b[1;33m=\u001b[0m \u001b[0mnp\u001b[0m\u001b[1;33m.\u001b[0m\u001b[0marray\u001b[0m\u001b[1;33m(\u001b[0m\u001b[1;33m[\u001b[0m\u001b[1;36m3\u001b[0m\u001b[1;33m,\u001b[0m\u001b[1;36m4\u001b[0m\u001b[1;33m]\u001b[0m\u001b[1;33m)\u001b[0m\u001b[1;33m\u001b[0m\u001b[1;33m\u001b[0m\u001b[0m\n\u001b[1;32m----> 3\u001b[1;33m \u001b[0mnp\u001b[0m\u001b[1;33m.\u001b[0m\u001b[0mdot\u001b[0m\u001b[1;33m(\u001b[0m\u001b[0ma\u001b[0m\u001b[1;33m,\u001b[0m\u001b[0mb\u001b[0m\u001b[1;33m,\u001b[0m\u001b[0ma\u001b[0m\u001b[1;33m)\u001b[0m\u001b[1;33m\u001b[0m\u001b[1;33m\u001b[0m\u001b[0m\n\u001b[0m",
      "\u001b[1;32m<__array_function__ internals>\u001b[0m in \u001b[0;36mdot\u001b[1;34m(*args, **kwargs)\u001b[0m\n",
      "\u001b[1;31mValueError\u001b[0m: output array is not acceptable (must have the right datatype, number of dimensions, and be a C-Array)"
     ]
    }
   ],
   "source": [
    "a = np.array([1,2])\n",
    "b = np.array([3,4])\n",
    "np.dot(a,b,a)"
   ]
  },
  {
   "cell_type": "code",
   "execution_count": null,
   "id": "a9b7b789",
   "metadata": {},
   "outputs": [],
   "source": []
  }
 ],
 "metadata": {
  "kernelspec": {
   "display_name": "Python 3",
   "language": "python",
   "name": "python3"
  },
  "language_info": {
   "codemirror_mode": {
    "name": "ipython",
    "version": 3
   },
   "file_extension": ".py",
   "mimetype": "text/x-python",
   "name": "python",
   "nbconvert_exporter": "python",
   "pygments_lexer": "ipython3",
   "version": "3.7.10"
  }
 },
 "nbformat": 4,
 "nbformat_minor": 5
}
