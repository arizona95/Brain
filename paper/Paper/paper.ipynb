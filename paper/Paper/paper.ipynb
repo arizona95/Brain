{
 "cells": [
  {
   "cell_type": "code",
   "execution_count": 12,
   "id": "f4d01126",
   "metadata": {},
   "outputs": [],
   "source": [
    "import numpy as np\n",
    "import os\n",
    "import neat\n",
    "from scipy.integrate import odeint\n",
    "import matplotlib.pyplot as plt\n",
    "%matplotlib inline\n",
    "np.set_printoptions(precision=6, suppress=True)"
   ]
  },
  {
   "cell_type": "code",
   "execution_count": 13,
   "id": "87660082",
   "metadata": {},
   "outputs": [],
   "source": [
    "x_0 = np.array([\n",
    "    [2], \n",
    "    [3], \n",
    "    [1], \n",
    "    [2], \n",
    "    [5], \n",
    "])\n",
    "\n",
    "M = np.array([\n",
    "    [1,1], \n",
    "    [1,0], \n",
    "    [0,1], \n",
    "    [0,1], \n",
    "    [0,1], \n",
    "])\n",
    "\n",
    "M_ = np.array([\n",
    "    [1 , 0, 0, 0], \n",
    "    [-1, 0, 0, 0], \n",
    "    [-1, 0, 1, 1], \n",
    "    [0 , 1,-1,-1], \n",
    "    [0 ,-1, 0, 0], \n",
    "])\n",
    "\n",
    "\n",
    "S = np.array([\n",
    "    [1,0 ], \n",
    "    [1,0 ], \n",
    "    [1 ,0 ], \n",
    "    [0 ,1 ], \n",
    "    [0 ,1 ], \n",
    "])\n",
    "\n",
    "\n",
    "D = np.array([\n",
    "    [0 ,1 ], \n",
    "    [1 ,0 ],  \n",
    "])\n",
    "\n",
    "\n",
    "m_c = np.array([\n",
    "    [0.2,], \n",
    "    [0.3,],\n",
    "])\n",
    "\n",
    "q_c = np.array([\n",
    "    [-0.3,], \n",
    "    [0.1,],\n",
    "])\n",
    "\n",
    "a = -np.log(np.array([\n",
    "    [1], \n",
    "    [4], \n",
    "    [2], \n",
    "    [3], \n",
    "    [4], \n",
    "]))-1\n",
    "\n",
    "k = np.array([\n",
    "    [1], \n",
    "    [0.7], \n",
    "    [0.1], \n",
    "    [0],  \n",
    "])\n",
    "\n",
    "v = np.array([\n",
    "    [0], \n",
    "    [0], \n",
    "    [0], \n",
    "    [0.8],  \n",
    "])\n",
    "\n",
    "c = np.array([\n",
    "    [0.1], \n",
    "    [0.1], \n",
    "    [0.1], \n",
    "    [0.2], \n",
    "    [0.1], \n",
    "])\n",
    "\n",
    "\n",
    "x_h = np.array([\n",
    "    [0], \n",
    "    [0], \n",
    "    [0], \n",
    "    [0], \n",
    "    [3], \n",
    "])\n",
    "\n",
    "\n",
    "h = np.array([\n",
    "    [0], \n",
    "    [0], \n",
    "    [0], \n",
    "    [0], \n",
    "    [2], \n",
    "])\n",
    "\n",
    "###\n",
    "\n",
    "p_0 = np.array([\n",
    "    [0], \n",
    "    [0], \n",
    "    [0], \n",
    "    [0], \n",
    "    [0], \n",
    "])"
   ]
  },
  {
   "cell_type": "code",
   "execution_count": 39,
   "id": "288393a1",
   "metadata": {},
   "outputs": [
    {
     "ename": "SyntaxError",
     "evalue": "unexpected character after line continuation character (<ipython-input-39-311163127eb4>, line 1)",
     "output_type": "error",
     "traceback": [
      "\u001b[1;36m  File \u001b[1;32m\"<ipython-input-39-311163127eb4>\"\u001b[1;36m, line \u001b[1;32m1\u001b[0m\n\u001b[1;33m    a = 1+\\   \\#test\u001b[0m\n\u001b[1;37m                    ^\u001b[0m\n\u001b[1;31mSyntaxError\u001b[0m\u001b[1;31m:\u001b[0m unexpected character after line continuation character\n"
     ]
    }
   ],
   "source": [
    "a = 1+\\   \\#test\n",
    "2+\\\n",
    "3"
   ]
  },
  {
   "cell_type": "code",
   "execution_count": 14,
   "id": "1ab9e015",
   "metadata": {},
   "outputs": [],
   "source": [
    "x, p = x_0, p_0\n",
    "q =  np.dot(  np.diag( np.dot(M, q_c).T[0] ), S )\n",
    "V = np.dot( q, np.dot(1/(D+1)-1, q.T) )\n",
    "m = np.dot( M, m_c)"
   ]
  },
  {
   "cell_type": "code",
   "execution_count": 15,
   "id": "21415848",
   "metadata": {},
   "outputs": [],
   "source": [
    "def relu(x) :\n",
    "    return np.maximum(0,x)\n",
    "\n",
    "def Energy(x,p) :\n",
    "    global a, V, m\n",
    "    \n",
    "    energy = np.dot(x.T, np.log(x)) + np.dot(a.T, x) + 0.5*np.dot(x.T, np.dot(V, x)) + 0.5*(np.dot( (1/m.T), (p*p*x)))\n",
    "    \n",
    "    return energy[0]\n",
    "\n",
    "def Flow(x,p) :\n",
    "    global M_, k, v, h, x_h, c\n",
    "    \n",
    "    grad_x = (np.log(x)+1).T + a.T + np.dot(x.T, V) + (0.5*(1/m)*p*p).T\n",
    "    grad_p = ((1/m)*p*x).T\n",
    "    \n",
    "    chemical_flow_x = -np.dot(M_, (k.T*(np.exp( np.dot(grad_x, M_)) -1 )*(np.exp(-0.5*np.dot(grad_x, M_) + 0.5*np.dot(np.log(x.T), np.abs(M_)))) ).T)\n",
    "    hamiltonian_flow_x = np.dot(M_, v*(np.dot(grad_p, M_).T) )\n",
    "    hamiltonian_flow_p = -np.dot(M_, v*(np.dot(grad_x, M_).T) )\n",
    "    colision_flow_p = -c*(grad_p).T\n",
    "    external_homeostasis_flow_x = h*(x_h-x)\n",
    "    \n",
    "    #return chemical_flow_x ,   colision_flow_p\n",
    "    return chemical_flow_x + hamiltonian_flow_x,  hamiltonian_flow_p + colision_flow_p\n",
    "    #return chemical_flow_x + hamiltonian_flow_x + external_homeostasis_flow_x,  hamiltonian_flow_p + colision_flow_p"
   ]
  },
  {
   "cell_type": "code",
   "execution_count": 18,
   "id": "75b186be",
   "metadata": {},
   "outputs": [
    {
     "name": "stdout",
     "output_type": "stream",
     "text": [
      "[2 3 1 2 5 0 0 0 0 0]\n",
      "(50, 10)\n"
     ]
    },
    {
     "data": {
      "image/png": "[encoded data removed]",
      "text/plain": [
       "<Figure size 432x288 with 1 Axes>"
      ]
     },
     "metadata": {
      "needs_background": "light"
     },
     "output_type": "display_data"
    },
    {
     "name": "stdout",
     "output_type": "stream",
     "text": [
      "[2. 3. 1. 2. 5.]\n",
      "[1.053578 3.946422 2.135768 2.918823 3.891831]\n"
     ]
    }
   ],
   "source": [
    "\n",
    "def model(xp,t) :\n",
    "    global M_,a, k, v, h, x_h, c\n",
    "    \n",
    "    xp_2d = xp.reshape(2,-1)\n",
    "    x_m = np.array([xp_2d[0]]).T\n",
    "    p_m = np.array([xp_2d[1]]).T\n",
    "    \n",
    "    ###\n",
    "    \n",
    "    grad_x = (np.log(x_m)+1).T + a.T + np.dot(x_m.T, V) + (0.5*(1/m)*p_m*p_m).T\n",
    "    grad_p = ((1/m)*p_m*x_m).T\n",
    "    \n",
    "    chemical_flow_x = -np.dot(M_, (k.T*(np.exp( np.dot(grad_x, M_)) -1 )*(np.exp(-0.5*np.dot(grad_x, M_) + 0.5*np.dot(np.log(x_m.T), np.abs(M_)))) ).T)\n",
    "    hamiltonian_flow_x = np.dot(M_, v*(np.dot(grad_p, M_).T) )\n",
    "    hamiltonian_flow_p = -np.dot(M_, v*(np.dot(grad_x, M_).T) )\n",
    "    colision_flow_p = -c*(grad_p).T\n",
    "    external_homeostasis_flow_x = h*(x_h-x_m)\n",
    "    \n",
    "    \n",
    "    ###\n",
    "    flow_x, flow_p = chemical_flow_x + hamiltonian_flow_x,  hamiltonian_flow_p + colision_flow_p\n",
    "    ##flow_x, flow_p =hamiltonian_flow_x,  hamiltonian_flow_p + colision_flow_p\n",
    "    ##flow_x, flow_p =hamiltonian_flow_x,  hamiltonian_flow_p\n",
    "    dxpdt = np.array([flow_x, flow_p]).reshape(-1)\n",
    "    return dxpdt\n",
    "\n",
    "xp0 = np.array([x, p]).reshape(-1)\n",
    "print(xp0)\n",
    "t = np.linspace(0,10)\n",
    "xp = odeint(model, xp0, t)\n",
    "print(xp.shape)\n",
    "plt.plot(t, xp[:,0], 'r-', label='a')\n",
    "plt.plot(t, xp[:,1], 'b-', label='b')\n",
    "plt.plot(t, xp[:,2], 'g-', label='c')\n",
    "plt.plot(t, xp[:,3], 'c-', label='d')\n",
    "plt.plot(t, xp[:,4], 'm-', label='e')\n",
    "plt.xlabel('time')\n",
    "plt.legend(loc='best')\n",
    "plt.show()\n",
    "\n",
    "\n",
    "print(xp[0,:5])\n",
    "print(xp[-1,:5])"
   ]
  },
  {
   "cell_type": "code",
   "execution_count": 33,
   "id": "2a7bcdde",
   "metadata": {},
   "outputs": [],
   "source": [
    "x[0] = 1"
   ]
  },
  {
   "cell_type": "code",
   "execution_count": 35,
   "id": "4acbce2b",
   "metadata": {},
   "outputs": [],
   "source": [
    "assert (x>0).all()"
   ]
  },
  {
   "cell_type": "code",
   "execution_count": 30,
   "id": "2b9f410a",
   "metadata": {},
   "outputs": [
    {
     "ename": "ValueError",
     "evalue": "The truth value of an array with more than one element is ambiguous. Use a.any() or a.all()",
     "output_type": "error",
     "traceback": [
      "\u001b[1;31m---------------------------------------------------------------------------\u001b[0m",
      "\u001b[1;31mValueError\u001b[0m                                Traceback (most recent call last)",
      "\u001b[1;32m<ipython-input-30-84294d4235c5>\u001b[0m in \u001b[0;36m<module>\u001b[1;34m\u001b[0m\n\u001b[1;32m----> 1\u001b[1;33m \u001b[1;32massert\u001b[0m \u001b[0mx\u001b[0m\u001b[1;33m>\u001b[0m\u001b[1;36m0\u001b[0m\u001b[1;33m\u001b[0m\u001b[1;33m\u001b[0m\u001b[0m\n\u001b[0m",
      "\u001b[1;31mValueError\u001b[0m: The truth value of an array with more than one element is ambiguous. Use a.any() or a.all()"
     ]
    }
   ],
   "source": [
    "assert x>0"
   ]
  },
  {
   "cell_type": "code",
   "execution_count": 11,
   "id": "daec3c56",
   "metadata": {},
   "outputs": [],
   "source": [
    "energy = []\n",
    "for i in range(len(xp)) :\n",
    "    energy.append(Energy(np.array([xp[i].reshape(2,-1)[0]]).T,  np.array([xp[i].reshape(2,-1)[1]]).T))"
   ]
  },
  {
   "cell_type": "code",
   "execution_count": 12,
   "id": "0ff583c9",
   "metadata": {},
   "outputs": [
    {
     "data": {
      "image/png": "[encoded data removed]",
      "text/plain": [
       "<Figure size 432x288 with 1 Axes>"
      ]
     },
     "metadata": {
      "needs_background": "light"
     },
     "output_type": "display_data"
    }
   ],
   "source": [
    "plt.plot(t, energy, 'm-', label='e')\n",
    "plt.xlabel('time')\n",
    "plt.legend(loc='best')\n",
    "plt.show()"
   ]
  },
  {
   "cell_type": "code",
   "execution_count": null,
   "id": "b8b80dd6",
   "metadata": {},
   "outputs": [],
   "source": []
  },
  {
   "cell_type": "code",
   "execution_count": null,
   "id": "fd621364",
   "metadata": {},
   "outputs": [],
   "source": []
  },
  {
   "cell_type": "code",
   "execution_count": null,
   "id": "2eb52f01",
   "metadata": {},
   "outputs": [],
   "source": [
    "\n",
    "\n",
    "\n",
    "\n",
    "\n",
    "\n",
    "\n",
    "\n"
   ]
  },
  {
   "cell_type": "code",
   "execution_count": 3,
   "id": "085a247a",
   "metadata": {
    "scrolled": false
   },
   "outputs": [
    {
     "name": "stdout",
     "output_type": "stream",
     "text": [
      "Executing eagerly:  True\n",
      "\n",
      " ****** Running generation 0 ****** \n",
      "\n"
     ]
    },
    {
     "data": {
      "text/html": [
       "<div>\n",
       "<style scoped>\n",
       "    .dataframe tbody tr th:only-of-type {\n",
       "        vertical-align: middle;\n",
       "    }\n",
       "\n",
       "    .dataframe tbody tr th {\n",
       "        vertical-align: top;\n",
       "    }\n",
       "\n",
       "    .dataframe thead th {\n",
       "        text-align: right;\n",
       "    }\n",
       "</style>\n",
       "<table border=\"1\" class=\"dataframe\">\n",
       "  <thead>\n",
       "    <tr style=\"text-align: right;\">\n",
       "      <th></th>\n",
       "      <th>r4-0/0</th>\n",
       "      <th>r4-0/1</th>\n",
       "      <th>r4-1/0</th>\n",
       "      <th>r4-1/1</th>\n",
       "    </tr>\n",
       "  </thead>\n",
       "  <tbody>\n",
       "    <tr>\n",
       "      <th>0/1/0-0/0</th>\n",
       "      <td>2</td>\n",
       "      <td>0</td>\n",
       "      <td>0</td>\n",
       "      <td>0</td>\n",
       "    </tr>\n",
       "    <tr>\n",
       "      <th>0/1/0-0/1</th>\n",
       "      <td>0</td>\n",
       "      <td>2</td>\n",
       "      <td>0</td>\n",
       "      <td>0</td>\n",
       "    </tr>\n",
       "    <tr>\n",
       "      <th>0/1/0-1/0</th>\n",
       "      <td>0</td>\n",
       "      <td>0</td>\n",
       "      <td>2</td>\n",
       "      <td>0</td>\n",
       "    </tr>\n",
       "    <tr>\n",
       "      <th>0/1/0-1/1</th>\n",
       "      <td>0</td>\n",
       "      <td>0</td>\n",
       "      <td>0</td>\n",
       "      <td>2</td>\n",
       "    </tr>\n",
       "    <tr>\n",
       "      <th>0/2/4-0/0</th>\n",
       "      <td>-1</td>\n",
       "      <td>0</td>\n",
       "      <td>0</td>\n",
       "      <td>0</td>\n",
       "    </tr>\n",
       "    <tr>\n",
       "      <th>0/2/4-0/1</th>\n",
       "      <td>0</td>\n",
       "      <td>-1</td>\n",
       "      <td>0</td>\n",
       "      <td>0</td>\n",
       "    </tr>\n",
       "    <tr>\n",
       "      <th>0/2/4-1/0</th>\n",
       "      <td>0</td>\n",
       "      <td>0</td>\n",
       "      <td>-1</td>\n",
       "      <td>0</td>\n",
       "    </tr>\n",
       "    <tr>\n",
       "      <th>0/2/4-1/1</th>\n",
       "      <td>0</td>\n",
       "      <td>0</td>\n",
       "      <td>0</td>\n",
       "      <td>-1</td>\n",
       "    </tr>\n",
       "  </tbody>\n",
       "</table>\n",
       "</div>"
      ],
      "text/plain": [
       "           r4-0/0  r4-0/1  r4-1/0  r4-1/1\n",
       "0/1/0-0/0       2       0       0       0\n",
       "0/1/0-0/1       0       2       0       0\n",
       "0/1/0-1/0       0       0       2       0\n",
       "0/1/0-1/1       0       0       0       2\n",
       "0/2/4-0/0      -1       0       0       0\n",
       "0/2/4-0/1       0      -1       0       0\n",
       "0/2/4-1/0       0       0      -1       0\n",
       "0/2/4-1/1       0       0       0      -1"
      ]
     },
     "metadata": {},
     "output_type": "display_data"
    },
    {
     "data": {
      "image/svg+xml": [
       "<?xml version=\"1.0\" encoding=\"UTF-8\" standalone=\"no\"?>\r\n",
       "<!DOCTYPE svg PUBLIC \"-//W3C//DTD SVG 1.1//EN\"\r\n",
       " \"http://www.w3.org/Graphics/SVG/1.1/DTD/svg11.dtd\">\r\n",
       "<!-- Generated by graphviz version 2.38.0 (20140413.2041)\r\n",
       " -->\r\n",
       "<!-- Title: G Pages: 1 -->\r\n",
       "<svg width=\"324pt\" height=\"340pt\"\r\n",
       " viewBox=\"0.00 0.00 324.00 340.00\" xmlns=\"http://www.w3.org/2000/svg\" xmlns:xlink=\"http://www.w3.org/1999/xlink\">\r\n",
       "<g id=\"graph0\" class=\"graph\" transform=\"scale(1 1) rotate(0) translate(4 336)\">\r\n",
       "<title>G</title>\r\n",
       "<polygon fill=\"white\" stroke=\"none\" points=\"-4,4 -4,-336 320,-336 320,4 -4,4\"/>\r\n",
       "<g id=\"clust2\" class=\"cluster\"><title>cluster0/1</title>\r\n",
       "<polygon fill=\"none\" stroke=\"blue\" points=\"176.145,-176.296 176.145,-316.296 316.145,-316.296 316.145,-176.296 176.145,-176.296\"/>\r\n",
       "<text text-anchor=\"middle\" x=\"246.145\" y=\"-301.096\" font-family=\"Times New Roman,serif\" font-size=\"14.00\">0/1</text>\r\n",
       "</g>\r\n",
       "<g id=\"clust1\" class=\"cluster\"><title>cluster0/0</title>\r\n",
       "<polygon fill=\"none\" stroke=\"blue\" points=\"0.144865,-192.296 0.144865,-332.296 140.145,-332.296 140.145,-192.296 0.144865,-192.296\"/>\r\n",
       "<text text-anchor=\"middle\" x=\"70.1449\" y=\"-317.096\" font-family=\"Times New Roman,serif\" font-size=\"14.00\">0/0</text>\r\n",
       "</g>\r\n",
       "<g id=\"clust4\" class=\"cluster\"><title>cluster1/1</title>\r\n",
       "<polygon fill=\"none\" stroke=\"blue\" points=\"0.144865,-16.2963 0.144865,-156.296 140.145,-156.296 140.145,-16.2963 0.144865,-16.2963\"/>\r\n",
       "<text text-anchor=\"middle\" x=\"70.1449\" y=\"-141.096\" font-family=\"Times New Roman,serif\" font-size=\"14.00\">1/1</text>\r\n",
       "</g>\r\n",
       "<g id=\"clust3\" class=\"cluster\"><title>cluster1/0</title>\r\n",
       "<polygon fill=\"none\" stroke=\"blue\" points=\"176.145,-0.296263 176.145,-140.296 316.145,-140.296 316.145,-0.296263 176.145,-0.296263\"/>\r\n",
       "<text text-anchor=\"middle\" x=\"246.145\" y=\"-125.096\" font-family=\"Times New Roman,serif\" font-size=\"14.00\">1/0</text>\r\n",
       "</g>\r\n",
       "<!-- 0/1/0&#45;0/0 -->\r\n",
       "<g id=\"node1\" class=\"node\"><title>0/1/0&#45;0/0</title>\r\n",
       "<ellipse fill=\"none\" stroke=\"black\" cx=\"36.2897\" cy=\"-233.593\" rx=\"28.6953\" ry=\"18\"/>\r\n",
       "<text text-anchor=\"middle\" x=\"36.2897\" y=\"-229.893\" font-family=\"Times New Roman,serif\" font-size=\"14.00\">0/1/0</text>\r\n",
       "</g>\r\n",
       "<!-- r4&#45;0/0 -->\r\n",
       "<g id=\"node3\" class=\"node\"><title>r4&#45;0/0</title>\r\n",
       "<polygon fill=\"lightgrey\" stroke=\"lightgrey\" points=\"105.29,-236.593 78.2897,-218.593 105.29,-200.593 132.29,-218.593 105.29,-236.593\"/>\r\n",
       "<text text-anchor=\"middle\" x=\"105.29\" y=\"-214.893\" font-family=\"Times New Roman,serif\" font-size=\"14.00\">r4</text>\r\n",
       "</g>\r\n",
       "<!-- 0/1/0&#45;0/0&#45;&#45;r4&#45;0/0 -->\r\n",
       "<g id=\"edge1\" class=\"edge\"><title>0/1/0&#45;0/0&#45;&#45;r4&#45;0/0</title>\r\n",
       "<path fill=\"none\" stroke=\"black\" d=\"M64.9659,-234.13C74.0784,-232.495 83.7477,-230.081 91.3373,-227.461\"/>\r\n",
       "</g>\r\n",
       "<!-- 0/1/0&#45;0/0&#45;&#45;r4&#45;0/0 -->\r\n",
       "<g id=\"edge2\" class=\"edge\"><title>0/1/0&#45;0/0&#45;&#45;r4&#45;0/0</title>\r\n",
       "<path fill=\"none\" stroke=\"black\" d=\"M58.6655,-222.128C65.4426,-220.25 72.9329,-218.617 79.8924,-217.497\"/>\r\n",
       "</g>\r\n",
       "<!-- 0/2/4&#45;0/0 -->\r\n",
       "<g id=\"node2\" class=\"node\"><title>0/2/4&#45;0/0</title>\r\n",
       "<ellipse fill=\"none\" stroke=\"black\" cx=\"101.29\" cy=\"-283.593\" rx=\"28.6953\" ry=\"18\"/>\r\n",
       "<text text-anchor=\"middle\" x=\"101.29\" y=\"-279.893\" font-family=\"Times New Roman,serif\" font-size=\"14.00\">0/2/4</text>\r\n",
       "</g>\r\n",
       "<!-- 0/2/4&#45;0/0&#45;&#45;r4&#45;0/0 -->\r\n",
       "<g id=\"edge3\" class=\"edge\"><title>0/2/4&#45;0/0&#45;&#45;r4&#45;0/0</title>\r\n",
       "<path fill=\"none\" stroke=\"black\" d=\"M102.404,-265.486C102.968,-256.321 103.65,-245.241 104.209,-236.153\"/>\r\n",
       "</g>\r\n",
       "<!-- 0/1/0&#45;0/1 -->\r\n",
       "<g id=\"node4\" class=\"node\"><title>0/1/0&#45;0/1</title>\r\n",
       "<ellipse fill=\"none\" stroke=\"black\" cx=\"277.29\" cy=\"-267.593\" rx=\"28.6953\" ry=\"18\"/>\r\n",
       "<text text-anchor=\"middle\" x=\"277.29\" y=\"-263.893\" font-family=\"Times New Roman,serif\" font-size=\"14.00\">0/1/0</text>\r\n",
       "</g>\r\n",
       "<!-- r4&#45;0/1 -->\r\n",
       "<g id=\"node6\" class=\"node\"><title>r4&#45;0/1</title>\r\n",
       "<polygon fill=\"lightgrey\" stroke=\"lightgrey\" points=\"281.29,-220.593 254.29,-202.593 281.29,-184.593 308.29,-202.593 281.29,-220.593\"/>\r\n",
       "<text text-anchor=\"middle\" x=\"281.29\" y=\"-198.893\" font-family=\"Times New Roman,serif\" font-size=\"14.00\">r4</text>\r\n",
       "</g>\r\n",
       "<!-- 0/1/0&#45;0/1&#45;&#45;r4&#45;0/1 -->\r\n",
       "<g id=\"edge4\" class=\"edge\"><title>0/1/0&#45;0/1&#45;&#45;r4&#45;0/1</title>\r\n",
       "<path fill=\"none\" stroke=\"black\" d=\"M284.516,-249.863C286.093,-239.703 286.738,-227.099 286.117,-217.461\"/>\r\n",
       "</g>\r\n",
       "<!-- 0/1/0&#45;0/1&#45;&#45;r4&#45;0/1 -->\r\n",
       "<g id=\"edge5\" class=\"edge\"><title>0/1/0&#45;0/1&#45;&#45;r4&#45;0/1</title>\r\n",
       "<path fill=\"none\" stroke=\"black\" d=\"M272.316,-249.802C271.93,-239.36 272.845,-226.351 274.699,-216.634\"/>\r\n",
       "</g>\r\n",
       "<!-- 0/2/4&#45;0/1 -->\r\n",
       "<g id=\"node5\" class=\"node\"><title>0/2/4&#45;0/1</title>\r\n",
       "<ellipse fill=\"none\" stroke=\"black\" cx=\"212.29\" cy=\"-217.593\" rx=\"28.6953\" ry=\"18\"/>\r\n",
       "<text text-anchor=\"middle\" x=\"212.29\" y=\"-213.893\" font-family=\"Times New Roman,serif\" font-size=\"14.00\">0/2/4</text>\r\n",
       "</g>\r\n",
       "<!-- 0/2/4&#45;0/1&#45;&#45;r4&#45;0/1 -->\r\n",
       "<g id=\"edge6\" class=\"edge\"><title>0/2/4&#45;0/1&#45;&#45;r4&#45;0/1</title>\r\n",
       "<path fill=\"none\" stroke=\"black\" d=\"M239.56,-211.664C246.642,-210.125 254.15,-208.493 260.815,-207.044\"/>\r\n",
       "</g>\r\n",
       "<!-- 0/1/0&#45;1/0 -->\r\n",
       "<g id=\"node7\" class=\"node\"><title>0/1/0&#45;1/0</title>\r\n",
       "<ellipse fill=\"none\" stroke=\"black\" cx=\"212.29\" cy=\"-41.5925\" rx=\"28.6953\" ry=\"18\"/>\r\n",
       "<text text-anchor=\"middle\" x=\"212.29\" y=\"-37.8925\" font-family=\"Times New Roman,serif\" font-size=\"14.00\">0/1/0</text>\r\n",
       "</g>\r\n",
       "<!-- r4&#45;1/0 -->\r\n",
       "<g id=\"node9\" class=\"node\"><title>r4&#45;1/0</title>\r\n",
       "<polygon fill=\"lightgrey\" stroke=\"lightgrey\" points=\"281.29,-44.5925 254.29,-26.5925 281.29,-8.59253 308.29,-26.5925 281.29,-44.5925\"/>\r\n",
       "<text text-anchor=\"middle\" x=\"281.29\" y=\"-22.8925\" font-family=\"Times New Roman,serif\" font-size=\"14.00\">r4</text>\r\n",
       "</g>\r\n",
       "<!-- 0/1/0&#45;1/0&#45;&#45;r4&#45;1/0 -->\r\n",
       "<g id=\"edge7\" class=\"edge\"><title>0/1/0&#45;1/0&#45;&#45;r4&#45;1/0</title>\r\n",
       "<path fill=\"none\" stroke=\"black\" d=\"M240.966,-42.1296C250.078,-40.4949 259.748,-38.0809 267.337,-35.4608\"/>\r\n",
       "</g>\r\n",
       "<!-- 0/1/0&#45;1/0&#45;&#45;r4&#45;1/0 -->\r\n",
       "<g id=\"edge8\" class=\"edge\"><title>0/1/0&#45;1/0&#45;&#45;r4&#45;1/0</title>\r\n",
       "<path fill=\"none\" stroke=\"black\" d=\"M234.666,-30.1279C241.443,-28.2503 248.933,-26.6166 255.892,-25.4972\"/>\r\n",
       "</g>\r\n",
       "<!-- 0/2/4&#45;1/0 -->\r\n",
       "<g id=\"node8\" class=\"node\"><title>0/2/4&#45;1/0</title>\r\n",
       "<ellipse fill=\"none\" stroke=\"black\" cx=\"277.29\" cy=\"-91.5925\" rx=\"28.6953\" ry=\"18\"/>\r\n",
       "<text text-anchor=\"middle\" x=\"277.29\" y=\"-87.8925\" font-family=\"Times New Roman,serif\" font-size=\"14.00\">0/2/4</text>\r\n",
       "</g>\r\n",
       "<!-- 0/2/4&#45;1/0&#45;&#45;r4&#45;1/0 -->\r\n",
       "<g id=\"edge9\" class=\"edge\"><title>0/2/4&#45;1/0&#45;&#45;r4&#45;1/0</title>\r\n",
       "<path fill=\"none\" stroke=\"black\" d=\"M278.404,-73.4864C278.968,-64.3207 279.65,-53.2409 280.209,-44.153\"/>\r\n",
       "</g>\r\n",
       "<!-- 0/1/0&#45;1/1 -->\r\n",
       "<g id=\"node10\" class=\"node\"><title>0/1/0&#45;1/1</title>\r\n",
       "<ellipse fill=\"none\" stroke=\"black\" cx=\"101.29\" cy=\"-107.593\" rx=\"28.6953\" ry=\"18\"/>\r\n",
       "<text text-anchor=\"middle\" x=\"101.29\" y=\"-103.893\" font-family=\"Times New Roman,serif\" font-size=\"14.00\">0/1/0</text>\r\n",
       "</g>\r\n",
       "<!-- r4&#45;1/1 -->\r\n",
       "<g id=\"node12\" class=\"node\"><title>r4&#45;1/1</title>\r\n",
       "<polygon fill=\"lightgrey\" stroke=\"lightgrey\" points=\"105.29,-60.5925 78.2897,-42.5925 105.29,-24.5925 132.29,-42.5925 105.29,-60.5925\"/>\r\n",
       "<text text-anchor=\"middle\" x=\"105.29\" y=\"-38.8925\" font-family=\"Times New Roman,serif\" font-size=\"14.00\">r4</text>\r\n",
       "</g>\r\n",
       "<!-- 0/1/0&#45;1/1&#45;&#45;r4&#45;1/1 -->\r\n",
       "<g id=\"edge10\" class=\"edge\"><title>0/1/0&#45;1/1&#45;&#45;r4&#45;1/1</title>\r\n",
       "<path fill=\"none\" stroke=\"black\" d=\"M108.516,-89.8625C110.093,-79.7034 110.738,-67.0992 110.117,-57.461\"/>\r\n",
       "</g>\r\n",
       "<!-- 0/1/0&#45;1/1&#45;&#45;r4&#45;1/1 -->\r\n",
       "<g id=\"edge11\" class=\"edge\"><title>0/1/0&#45;1/1&#45;&#45;r4&#45;1/1</title>\r\n",
       "<path fill=\"none\" stroke=\"black\" d=\"M96.3156,-89.8017C95.9304,-79.3596 96.845,-66.351 98.699,-56.6343\"/>\r\n",
       "</g>\r\n",
       "<!-- 0/2/4&#45;1/1 -->\r\n",
       "<g id=\"node11\" class=\"node\"><title>0/2/4&#45;1/1</title>\r\n",
       "<ellipse fill=\"none\" stroke=\"black\" cx=\"36.2897\" cy=\"-57.5925\" rx=\"28.6953\" ry=\"18\"/>\r\n",
       "<text text-anchor=\"middle\" x=\"36.2897\" y=\"-53.8925\" font-family=\"Times New Roman,serif\" font-size=\"14.00\">0/2/4</text>\r\n",
       "</g>\r\n",
       "<!-- 0/2/4&#45;1/1&#45;&#45;r4&#45;1/1 -->\r\n",
       "<g id=\"edge12\" class=\"edge\"><title>0/2/4&#45;1/1&#45;&#45;r4&#45;1/1</title>\r\n",
       "<path fill=\"none\" stroke=\"black\" d=\"M63.5604,-51.6641C70.6422,-50.1246 78.1495,-48.4926 84.8151,-47.0435\"/>\r\n",
       "</g>\r\n",
       "</g>\r\n",
       "</svg>\r\n"
      ],
      "text/plain": [
       "<graphviz.dot.Graph at 0x19d743f5588>"
      ]
     },
     "metadata": {},
     "output_type": "display_data"
    },
    {
     "data": {
      "image/png": "[encoded data removed]",
      "text/plain": [
       "<Figure size 432x288 with 1 Axes>"
      ]
     },
     "metadata": {
      "needs_background": "light"
     },
     "output_type": "display_data"
    },
    {
     "name": "stdout",
     "output_type": "stream",
     "text": [
      "[8.72794894 7.69994256 7.69425397 8.74675663 9.64162247 9.64542276\n",
      " 9.64436688 9.64549822 0.         0.         0.         0.\n",
      " 0.         0.         0.         0.        ]\n"
     ]
    },
    {
     "ename": "SystemExit",
     "evalue": "",
     "output_type": "error",
     "traceback": [
      "An exception has occurred, use %tb to see the full traceback.\n",
      "\u001b[1;31mSystemExit\u001b[0m\n"
     ]
    },
    {
     "name": "stderr",
     "output_type": "stream",
     "text": [
      "C:\\Users\\arizona95\\anaconda3\\envs\\tensorflow\\lib\\site-packages\\IPython\\core\\interactiveshell.py:3445: UserWarning: To exit: use 'exit', 'quit', or Ctrl-D.\n",
      "  warn(\"To exit: use 'exit', 'quit', or Ctrl-D.\", stacklevel=1)\n"
     ]
    }
   ],
   "source": [
    "import os\n",
    "import numpy as np\n",
    "import gym\n",
    "import neat\n",
    "import tensorflow as tf\n",
    "from tf_neat.multi_env_eval import MultiEnvEvaluator\n",
    "from tf_neat.neat_reporter import LogReporter\n",
    "from tf_neat.recurrent_net import RecurrentNet\n",
    "import visualize\n",
    "import pandas as pd\n",
    "from IPython.display import display, HTML\n",
    "\n",
    "# Activate eager TensorFlow execution\n",
    "tf.executing_eagerly()\n",
    "print(\"Executing eagerly: \", tf.executing_eagerly())\n",
    "\n",
    "max_env_steps = 200\n",
    "\n",
    "c_v=2\n",
    "s_v=2\n",
    "\n",
    "test = \"\"\n",
    "test1 = \"\"\n",
    "\n",
    "def make_env():\n",
    "    return gym.make(\"CartPole-v0\")\n",
    "\n",
    "\n",
    "def make_net(genome, config, bs):\n",
    "    return RecurrentNet.create(genome, config, bs)\n",
    "\n",
    "\n",
    "def activate_net(net, states):\n",
    "    global test\n",
    "    test =states\n",
    "    outputs = net.activate(states).numpy()\n",
    "    \n",
    "    return  (outputs[:, 0] > 0.5 ).astype(int) \n",
    "\n",
    "\n",
    "def run(n_generations):\n",
    "    # Load the config file, which is assumed to live in\n",
    "    # the same directory as this script.\n",
    "    config_path = os.path.join(os.path.dirname(os.path.abspath('')), \"paper/tf_neat/neat.cfg\")\n",
    "    config = neat.Config(\n",
    "        neat.DefaultGenome,\n",
    "        neat.DefaultReproduction,\n",
    "        neat.DefaultSpeciesSet,\n",
    "        neat.DefaultStagnation,\n",
    "        config_path,\n",
    "    )\n",
    "\n",
    "    evaluator = MultiEnvEvaluator(\n",
    "        make_net, activate_net, make_env=make_env, max_env_steps=max_env_steps\n",
    "    )\n",
    "\n",
    "    def eval_genomes(genomes, config):\n",
    "        global test1\n",
    "        test1 = genomes\n",
    "        for _, genome in genomes:\n",
    "            genome.fitness = evaluator.eval_genome(genome, config)\n",
    "\n",
    "    pop = neat.Population(config)\n",
    "    stats = neat.StatisticsReporter()\n",
    "    pop.add_reporter(stats)\n",
    "    reporter = neat.StdOutReporter(True)\n",
    "    pop.add_reporter(reporter)\n",
    "    logger = LogReporter(\"./logs/neat.json\", evaluator.eval_genome)\n",
    "\n",
    "    pop.run(eval_genomes, n_generations)\n",
    "\n",
    "\n",
    "run(1)"
   ]
  },
  {
   "cell_type": "code",
   "execution_count": 3,
   "id": "dd366e25",
   "metadata": {},
   "outputs": [],
   "source": [
    "import pandas as pd\n",
    "c =[[0, 0], [0, 1]]\n",
    "sn = list(map(lambda x:\"/\".join(str(e) for e in x),c))\n",
    "k =pd.DataFrame.from_dict(c)\n",
    "k.columns = sn\n",
    "k = k.T\n",
    "k.columns = sn"
   ]
  },
  {
   "cell_type": "code",
   "execution_count": 9,
   "id": "07df6991",
   "metadata": {},
   "outputs": [],
   "source": [
    "t = np.linspace(0, 100,5)"
   ]
  },
  {
   "cell_type": "code",
   "execution_count": 11,
   "id": "7771b39b",
   "metadata": {},
   "outputs": [
    {
     "data": {
      "text/plain": [
       "array([  0.,  25.,  50.,  75., 100.])"
      ]
     },
     "execution_count": 11,
     "metadata": {},
     "output_type": "execute_result"
    }
   ],
   "source": [
    "t"
   ]
  },
  {
   "cell_type": "code",
   "execution_count": 12,
   "id": "d2663947",
   "metadata": {},
   "outputs": [
    {
     "name": "stderr",
     "output_type": "stream",
     "text": [
      "Warning: gvrender_set_style: unsupported style striped - ignoring\r\n"
     ]
    },
    {
     "data": {
      "image/svg+xml": [
       "<?xml version=\"1.0\" encoding=\"UTF-8\" standalone=\"no\"?>\r\n",
       "<!DOCTYPE svg PUBLIC \"-//W3C//DTD SVG 1.1//EN\"\r\n",
       " \"http://www.w3.org/Graphics/SVG/1.1/DTD/svg11.dtd\">\r\n",
       "<!-- Generated by graphviz version 2.38.0 (20140413.2041)\r\n",
       " -->\r\n",
       "<!-- Title: G Pages: 1 -->\r\n",
       "<svg width=\"77pt\" height=\"116pt\"\r\n",
       " viewBox=\"0.00 0.00 76.89 116.00\" xmlns=\"http://www.w3.org/2000/svg\" xmlns:xlink=\"http://www.w3.org/1999/xlink\">\r\n",
       "<g id=\"graph0\" class=\"graph\" transform=\"scale(1 1) rotate(0) translate(4 112)\">\r\n",
       "<title>G</title>\r\n",
       "<polygon fill=\"white\" stroke=\"none\" points=\"-4,4 -4,-112 72.8939,-112 72.8939,4 -4,4\"/>\r\n",
       "<!-- Hello -->\r\n",
       "<g id=\"node1\" class=\"node\"><title>Hello</title>\r\n",
       "<ellipse fill=\"none\" stroke=\"black\" cx=\"34.4469\" cy=\"-90\" rx=\"29.795\" ry=\"18\"/>\r\n",
       "<text text-anchor=\"middle\" x=\"34.4469\" y=\"-86.3\" font-family=\"Times New Roman,serif\" font-size=\"14.00\">Hello</text>\r\n",
       "</g>\r\n",
       "<!-- World -->\r\n",
       "<g id=\"node2\" class=\"node\"><title>World</title>\r\n",
       "<ellipse fill=\"none\" stroke=\"black\" cx=\"34.4469\" cy=\"-18\" rx=\"34.394\" ry=\"18\"/>\r\n",
       "<text text-anchor=\"middle\" x=\"34.4469\" y=\"-14.3\" font-family=\"Times New Roman,serif\" font-size=\"14.00\">World</text>\r\n",
       "</g>\r\n",
       "<!-- Hello&#45;&gt;World -->\r\n",
       "<g id=\"edge1\" class=\"edge\"><title>Hello&#45;&gt;World</title>\r\n",
       "<path fill=\"none\" stroke=\"black\" d=\"M34.4469,-71.6966C34.4469,-63.9827 34.4469,-54.7125 34.4469,-46.1124\"/>\r\n",
       "<polygon fill=\"black\" stroke=\"black\" points=\"37.947,-46.1043 34.4469,-36.1043 30.947,-46.1044 37.947,-46.1043\"/>\r\n",
       "</g>\r\n",
       "</g>\r\n",
       "</svg>\r\n"
      ],
      "text/plain": [
       "<graphviz.dot.Digraph at 0x1ce98dedbc8>"
      ]
     },
     "metadata": {},
     "output_type": "display_data"
    }
   ],
   "source": [
    "import graphviz\n",
    "\n",
    "g = graphviz.Digraph('G', filename='hello.gv')\n",
    "\n",
    "g.edge('Hello', 'World', style=\"striped\")\n",
    "\n",
    "display(g)"
   ]
  },
  {
   "cell_type": "code",
   "execution_count": 4,
   "id": "b13b243b",
   "metadata": {},
   "outputs": [],
   "source": [
    "from collections import OrderedDict\n",
    "a = dict()\n",
    "a[\"t1\"]=3\n",
    "a[\"t2\"]=2\n",
    "if \"t3\" in a :\n",
    "    print(\"true\")"
   ]
  },
  {
   "cell_type": "code",
   "execution_count": 7,
   "id": "7c852bec",
   "metadata": {},
   "outputs": [
    {
     "data": {
      "text/html": [
       "<div>\n",
       "<style scoped>\n",
       "    .dataframe tbody tr th:only-of-type {\n",
       "        vertical-align: middle;\n",
       "    }\n",
       "\n",
       "    .dataframe tbody tr th {\n",
       "        vertical-align: top;\n",
       "    }\n",
       "\n",
       "    .dataframe thead th {\n",
       "        text-align: right;\n",
       "    }\n",
       "</style>\n",
       "<table border=\"1\" class=\"dataframe\">\n",
       "  <thead>\n",
       "    <tr style=\"text-align: right;\">\n",
       "      <th></th>\n",
       "      <th>0/0</th>\n",
       "      <th>0/1</th>\n",
       "    </tr>\n",
       "  </thead>\n",
       "  <tbody>\n",
       "    <tr>\n",
       "      <th>0/0</th>\n",
       "      <td>0</td>\n",
       "      <td>0</td>\n",
       "    </tr>\n",
       "    <tr>\n",
       "      <th>0/1</th>\n",
       "      <td>0</td>\n",
       "      <td>1</td>\n",
       "    </tr>\n",
       "  </tbody>\n",
       "</table>\n",
       "</div>"
      ],
      "text/plain": [
       "     0/0  0/1\n",
       "0/0    0    0\n",
       "0/1    0    1"
      ]
     },
     "execution_count": 7,
     "metadata": {},
     "output_type": "execute_result"
    }
   ],
   "source": [
    "k"
   ]
  },
  {
   "cell_type": "code",
   "execution_count": 10,
   "id": "b9d5f38f",
   "metadata": {},
   "outputs": [
    {
     "name": "stdout",
     "output_type": "stream",
     "text": [
      "0/0\n",
      "0/1\n"
     ]
    }
   ],
   "source": [
    "for ea in k :\n",
    "    print(ea)"
   ]
  },
  {
   "cell_type": "code",
   "execution_count": 14,
   "id": "210893d1",
   "metadata": {},
   "outputs": [],
   "source": [
    "dict_a = {\"a\":{\"s1\":1, \"s2\":2}, \"b\":{\"s3\":3}}\n",
    "a = pd.DataFrame.from_dict(dict_a).T"
   ]
  },
  {
   "cell_type": "code",
   "execution_count": 15,
   "id": "279030cc",
   "metadata": {
    "scrolled": true
   },
   "outputs": [
    {
     "data": {
      "text/html": [
       "<div>\n",
       "<style scoped>\n",
       "    .dataframe tbody tr th:only-of-type {\n",
       "        vertical-align: middle;\n",
       "    }\n",
       "\n",
       "    .dataframe tbody tr th {\n",
       "        vertical-align: top;\n",
       "    }\n",
       "\n",
       "    .dataframe thead th {\n",
       "        text-align: right;\n",
       "    }\n",
       "</style>\n",
       "<table border=\"1\" class=\"dataframe\">\n",
       "  <thead>\n",
       "    <tr style=\"text-align: right;\">\n",
       "      <th></th>\n",
       "      <th>s1</th>\n",
       "      <th>s2</th>\n",
       "      <th>s3</th>\n",
       "    </tr>\n",
       "  </thead>\n",
       "  <tbody>\n",
       "    <tr>\n",
       "      <th>a</th>\n",
       "      <td>1.0</td>\n",
       "      <td>2.0</td>\n",
       "      <td>NaN</td>\n",
       "    </tr>\n",
       "    <tr>\n",
       "      <th>b</th>\n",
       "      <td>NaN</td>\n",
       "      <td>NaN</td>\n",
       "      <td>3.0</td>\n",
       "    </tr>\n",
       "  </tbody>\n",
       "</table>\n",
       "</div>"
      ],
      "text/plain": [
       "    s1   s2   s3\n",
       "a  1.0  2.0  NaN\n",
       "b  NaN  NaN  3.0"
      ]
     },
     "execution_count": 15,
     "metadata": {},
     "output_type": "execute_result"
    }
   ],
   "source": [
    "a"
   ]
  },
  {
   "cell_type": "code",
   "execution_count": 4,
   "id": "1a1aed8c",
   "metadata": {},
   "outputs": [],
   "source": [
    "a = np.array([np.inf])"
   ]
  },
  {
   "cell_type": "code",
   "execution_count": 6,
   "id": "688683d4",
   "metadata": {},
   "outputs": [
    {
     "data": {
      "text/plain": [
       "array([0.])"
      ]
     },
     "execution_count": 6,
     "metadata": {},
     "output_type": "execute_result"
    }
   ],
   "source": [
    "1/a"
   ]
  },
  {
   "cell_type": "code",
   "execution_count": 8,
   "id": "49a9260f",
   "metadata": {},
   "outputs": [
    {
     "data": {
      "text/plain": [
       "array([[1, 2]], dtype=int64)"
      ]
     },
     "execution_count": 8,
     "metadata": {},
     "output_type": "execute_result"
    }
   ],
   "source": [
    "np.array(a)"
   ]
  },
  {
   "cell_type": "code",
   "execution_count": 14,
   "id": "d17e5145",
   "metadata": {},
   "outputs": [],
   "source": [
    "list_b = [[1,2],[3,4]]\n",
    "b = pd.DataFrame.from_dict(list_b).T"
   ]
  },
  {
   "cell_type": "code",
   "execution_count": 15,
   "id": "86caa74c",
   "metadata": {
    "scrolled": true
   },
   "outputs": [
    {
     "data": {
      "text/html": [
       "<div>\n",
       "<style scoped>\n",
       "    .dataframe tbody tr th:only-of-type {\n",
       "        vertical-align: middle;\n",
       "    }\n",
       "\n",
       "    .dataframe tbody tr th {\n",
       "        vertical-align: top;\n",
       "    }\n",
       "\n",
       "    .dataframe thead th {\n",
       "        text-align: right;\n",
       "    }\n",
       "</style>\n",
       "<table border=\"1\" class=\"dataframe\">\n",
       "  <thead>\n",
       "    <tr style=\"text-align: right;\">\n",
       "      <th></th>\n",
       "      <th>0</th>\n",
       "      <th>1</th>\n",
       "    </tr>\n",
       "  </thead>\n",
       "  <tbody>\n",
       "    <tr>\n",
       "      <th>0</th>\n",
       "      <td>1</td>\n",
       "      <td>3</td>\n",
       "    </tr>\n",
       "    <tr>\n",
       "      <th>1</th>\n",
       "      <td>2</td>\n",
       "      <td>4</td>\n",
       "    </tr>\n",
       "  </tbody>\n",
       "</table>\n",
       "</div>"
      ],
      "text/plain": [
       "   0  1\n",
       "0  1  3\n",
       "1  2  4"
      ]
     },
     "execution_count": 15,
     "metadata": {},
     "output_type": "execute_result"
    }
   ],
   "source": [
    "b"
   ]
  },
  {
   "cell_type": "code",
   "execution_count": 10,
   "id": "a809bc18",
   "metadata": {},
   "outputs": [],
   "source": [
    "import itertools\n",
    "lst = list(map(lambda x:list(x),list(itertools.product([0, 1], repeat=2))))"
   ]
  },
  {
   "cell_type": "code",
   "execution_count": 11,
   "id": "354bc1b5",
   "metadata": {},
   "outputs": [
    {
     "data": {
      "text/plain": [
       "[[0, 0], [0, 1], [1, 0], [1, 1]]"
      ]
     },
     "execution_count": 11,
     "metadata": {},
     "output_type": "execute_result"
    }
   ],
   "source": [
    "lst"
   ]
  },
  {
   "cell_type": "code",
   "execution_count": null,
   "id": "bdbaf831",
   "metadata": {},
   "outputs": [],
   "source": [
    "for k in network_size :\n",
    "    print(v)"
   ]
  },
  {
   "cell_type": "code",
   "execution_count": null,
   "id": "0223db4f",
   "metadata": {},
   "outputs": [],
   "source": [
    "list(np.array([1,2])+np.array([3,4]))"
   ]
  },
  {
   "cell_type": "code",
   "execution_count": null,
   "id": "e7a33856",
   "metadata": {},
   "outputs": [],
   "source": [
    "int(4.5)"
   ]
  },
  {
   "cell_type": "code",
   "execution_count": null,
   "id": "d5927a40",
   "metadata": {},
   "outputs": [],
   "source": [
    "print(np.array([1, 0, 0, 1, 0, 0], dtype=np.float32))"
   ]
  },
  {
   "cell_type": "code",
   "execution_count": null,
   "id": "234344b6",
   "metadata": {},
   "outputs": [],
   "source": [
    "print(tf.convert_to_tensor([1, 0, 0, 1, 0, 0], dtype=tf.float32))"
   ]
  },
  {
   "cell_type": "code",
   "execution_count": null,
   "id": "0e708d34",
   "metadata": {},
   "outputs": [],
   "source": [
    "test"
   ]
  },
  {
   "cell_type": "code",
   "execution_count": null,
   "id": "983f75db",
   "metadata": {},
   "outputs": [],
   "source": [
    "a = [1, 0, 0, 1, 0, 0]\n",
    "\n",
    "[np.array(a)]"
   ]
  },
  {
   "cell_type": "code",
   "execution_count": null,
   "id": "51f2ff7b",
   "metadata": {},
   "outputs": [],
   "source": [
    "test"
   ]
  },
  {
   "cell_type": "code",
   "execution_count": null,
   "id": "90b14351",
   "metadata": {},
   "outputs": [],
   "source": [
    "config_path = os.path.join(os.path.dirname(os.path.abspath('')), \"paper/tf_neat/neat.cfg\")\n",
    "config = neat.Config(\n",
    "    neat.DefaultGenome,\n",
    "    neat.DefaultReproduction,\n",
    "    neat.DefaultSpeciesSet,\n",
    "    neat.DefaultStagnation,\n",
    "    config_path,\n",
    ")"
   ]
  },
  {
   "cell_type": "code",
   "execution_count": null,
   "id": "6da88f16",
   "metadata": {},
   "outputs": [],
   "source": [
    "config.genome_config.input_keys"
   ]
  },
  {
   "cell_type": "code",
   "execution_count": null,
   "id": "9bf537ef",
   "metadata": {},
   "outputs": [],
   "source": []
  },
  {
   "cell_type": "code",
   "execution_count": 8,
   "id": "d966fbaa",
   "metadata": {},
   "outputs": [
    {
     "data": {
      "text/plain": [
       "['__add__',\n",
       " '__class__',\n",
       " '__contains__',\n",
       " '__delattr__',\n",
       " '__delitem__',\n",
       " '__dir__',\n",
       " '__doc__',\n",
       " '__eq__',\n",
       " '__format__',\n",
       " '__ge__',\n",
       " '__getattribute__',\n",
       " '__getitem__',\n",
       " '__gt__',\n",
       " '__hash__',\n",
       " '__iadd__',\n",
       " '__imul__',\n",
       " '__init__',\n",
       " '__init_subclass__',\n",
       " '__iter__',\n",
       " '__le__',\n",
       " '__len__',\n",
       " '__lt__',\n",
       " '__mul__',\n",
       " '__ne__',\n",
       " '__new__',\n",
       " '__reduce__',\n",
       " '__reduce_ex__',\n",
       " '__repr__',\n",
       " '__reversed__',\n",
       " '__rmul__',\n",
       " '__setattr__',\n",
       " '__setitem__',\n",
       " '__sizeof__',\n",
       " '__str__',\n",
       " '__subclasshook__',\n",
       " 'append',\n",
       " 'clear',\n",
       " 'copy',\n",
       " 'count',\n",
       " 'extend',\n",
       " 'index',\n",
       " 'insert',\n",
       " 'pop',\n",
       " 'remove',\n",
       " 'reverse',\n",
       " 'sort']"
      ]
     },
     "execution_count": 8,
     "metadata": {},
     "output_type": "execute_result"
    }
   ],
   "source": [
    "dir(test1)"
   ]
  },
  {
   "cell_type": "code",
   "execution_count": 7,
   "id": "ce79f825",
   "metadata": {},
   "outputs": [
    {
     "data": {
      "text/plain": [
       "<function tuple.count(value, /)>"
      ]
     },
     "execution_count": 7,
     "metadata": {},
     "output_type": "execute_result"
    }
   ],
   "source": [
    "test1"
   ]
  },
  {
   "cell_type": "code",
   "execution_count": 21,
   "id": "af01f668",
   "metadata": {},
   "outputs": [
    {
     "name": "stdout",
     "output_type": "stream",
     "text": [
      "Key: 114\n",
      "Fitness: 9.0\n",
      "Nodes:\n",
      "\t0 DefaultNodeGene(key=0, bias=1.7983796236213394, response=1.0, activation=sigmoid, aggregation=sum)\n",
      "\t114 DefaultNodeGene(key=114, bias=0.7633495953500787, response=1.0, activation=sigmoid, aggregation=sum)\n",
      "Connections:\n",
      "\tDefaultConnectionGene(key=(-3, 114), weight=0.3831917445632024, enabled=True)\n",
      "\tDefaultConnectionGene(key=(-2, 114), weight=0.039226573892899796, enabled=True)\n",
      "\tDefaultConnectionGene(key=(-1, 114), weight=0.6578286707005735, enabled=True)\n",
      "\tDefaultConnectionGene(key=(114, 0), weight=-0.35823329415372324, enabled=True)\n"
     ]
    }
   ],
   "source": [
    "\n",
    "config_path = os.path.join(os.path.dirname(os.path.abspath('')), \"paper/tf_neat/neat.cfg\")\n",
    "config = neat.Config(\n",
    "    neat.DefaultGenome,\n",
    "    neat.DefaultReproduction,\n",
    "    neat.DefaultSpeciesSet,\n",
    "    neat.DefaultStagnation,\n",
    "    config_path,\n",
    ")\n",
    "for _, genome in [test1[2]]:\n",
    "    node_names = {-1:'A', -2: 'B', -3: 'C', -4: 'D', 0:'output'}\n",
    "    stats = neat.StatisticsReporter()\n",
    "    visualize.draw_net(config, genome, True, node_names=node_names)\n",
    "    print(genome)"
   ]
  },
  {
   "cell_type": "code",
   "execution_count": 14,
   "id": "6c64862f",
   "metadata": {},
   "outputs": [
    {
     "name": "stdout",
     "output_type": "stream",
     "text": [
      "123\n"
     ]
    }
   ],
   "source": [
    "a = [1,2,3]\n",
    "\n",
    "print(''.join(str(e) for e in a))\n"
   ]
  },
  {
   "cell_type": "code",
   "execution_count": 12,
   "id": "629fa4cc",
   "metadata": {},
   "outputs": [
    {
     "data": {
      "text/plain": [
       "1"
      ]
     },
     "execution_count": 12,
     "metadata": {},
     "output_type": "execute_result"
    }
   ],
   "source": [
    "a[0]"
   ]
  },
  {
   "cell_type": "code",
   "execution_count": 15,
   "id": "44d79f77",
   "metadata": {},
   "outputs": [
    {
     "data": {
      "text/plain": [
       "0"
      ]
     },
     "execution_count": 15,
     "metadata": {},
     "output_type": "execute_result"
    }
   ],
   "source": [
    "max(-2,0)"
   ]
  },
  {
   "cell_type": "code",
   "execution_count": 4,
   "id": "7799b36e",
   "metadata": {},
   "outputs": [],
   "source": [
    "D = [[0]*3]*3"
   ]
  },
  {
   "cell_type": "code",
   "execution_count": 14,
   "id": "260851f2",
   "metadata": {},
   "outputs": [],
   "source": [
    "D = [[0 for x in range(3)] for y in range(3)] "
   ]
  },
  {
   "cell_type": "code",
   "execution_count": 15,
   "id": "a13143a0",
   "metadata": {},
   "outputs": [
    {
     "data": {
      "text/plain": [
       "[[0, 0, 0], [0, 0, 0], [0, 0, 0]]"
      ]
     },
     "execution_count": 15,
     "metadata": {},
     "output_type": "execute_result"
    }
   ],
   "source": [
    "D"
   ]
  },
  {
   "cell_type": "code",
   "execution_count": 16,
   "id": "4fcbbf12",
   "metadata": {},
   "outputs": [],
   "source": [
    "D[0][0]=1"
   ]
  },
  {
   "cell_type": "code",
   "execution_count": 17,
   "id": "74029496",
   "metadata": {},
   "outputs": [
    {
     "data": {
      "text/plain": [
       "[[1, 0, 0], [0, 0, 0], [0, 0, 0]]"
      ]
     },
     "execution_count": 17,
     "metadata": {},
     "output_type": "execute_result"
    }
   ],
   "source": [
    "D"
   ]
  },
  {
   "cell_type": "code",
   "execution_count": null,
   "id": "5a4136f4",
   "metadata": {},
   "outputs": [],
   "source": []
  }
 ],
 "metadata": {
  "kernelspec": {
   "display_name": "Python 3",
   "language": "python",
   "name": "python3"
  },
  "language_info": {
   "codemirror_mode": {
    "name": "ipython",
    "version": 3
   },
   "file_extension": ".py",
   "mimetype": "text/x-python",
   "name": "python",
   "nbconvert_exporter": "python",
   "pygments_lexer": "ipython3",
   "version": "3.7.10"
  }
 },
 "nbformat": 4,
 "nbformat_minor": 5
}
