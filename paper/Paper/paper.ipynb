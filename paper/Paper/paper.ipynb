{
 "cells": [
  {
   "cell_type": "code",
   "execution_count": 3,
   "id": "193979cb",
   "metadata": {},
   "outputs": [],
   "source": [
    "import numpy as np\n",
    "import MDAnalysis as mda\n",
    "from MDAnalysis.tests.datafiles import PSF, DCD, GRO, XTC\n",
    "np.set_printoptions(precision=6, suppress=True)"
   ]
  },
  {
   "cell_type": "code",
   "execution_count": 153,
   "id": "6cdb2db9",
   "metadata": {},
   "outputs": [],
   "source": [
    "x_0 = np.array([\n",
    "    [2], \n",
    "    [3], \n",
    "    [1], \n",
    "    [2], \n",
    "    [5], \n",
    "])\n",
    "\n",
    "M = np.array([\n",
    "    [1,1], \n",
    "    [1,0], \n",
    "    [0,1], \n",
    "    [0,1], \n",
    "    [0,1], \n",
    "])\n",
    "\n",
    "M_ = np.array([\n",
    "    [1 , 0, 0, 0], \n",
    "    [-1, 0, 0, 0], \n",
    "    [-1, 0, 1, 1], \n",
    "    [0 , 1,-1,-1], \n",
    "    [0 ,-1, 0, 0], \n",
    "])\n",
    "\n",
    "\n",
    "S = np.array([\n",
    "    [1,0 ], \n",
    "    [1,0 ], \n",
    "    [1 ,0 ], \n",
    "    [0 ,1 ], \n",
    "    [0 ,1 ], \n",
    "])\n",
    "\n",
    "\n",
    "D = np.array([\n",
    "    [0 ,1 ], \n",
    "    [1 ,0 ],  \n",
    "])\n",
    "\n",
    "\n",
    "m_c = np.array([\n",
    "    [0.2,], \n",
    "    [0.3,],\n",
    "])\n",
    "\n",
    "q_c = np.array([\n",
    "    [-3,], \n",
    "    [1,],\n",
    "])\n",
    "\n",
    "a = -np.log(np.array([\n",
    "    [4], \n",
    "    [1], \n",
    "    [2], \n",
    "    [1], \n",
    "    [3], \n",
    "]))\n",
    "\n",
    "k = np.array([\n",
    "    [1], \n",
    "    [0.7], \n",
    "    [0.1], \n",
    "    [0],  \n",
    "])\n",
    "\n",
    "v = np.array([\n",
    "    [0], \n",
    "    [0], \n",
    "    [0], \n",
    "    [0.8],  \n",
    "])\n",
    "\n",
    "c = np.array([\n",
    "    [0.1], \n",
    "    [0.1], \n",
    "    [0.1], \n",
    "    [0.2], \n",
    "    [0.1], \n",
    "])\n",
    "\n",
    "\n",
    "x_h = np.array([\n",
    "    [0], \n",
    "    [0], \n",
    "    [0], \n",
    "    [0], \n",
    "    [3], \n",
    "])\n",
    "\n",
    "\n",
    "h = np.array([\n",
    "    [0], \n",
    "    [0], \n",
    "    [0], \n",
    "    [0], \n",
    "    [2], \n",
    "])\n",
    "\n",
    "###\n",
    "\n",
    "p_0 = np.array([\n",
    "    [0], \n",
    "    [0], \n",
    "    [0], \n",
    "    [0], \n",
    "    [0], \n",
    "])"
   ]
  },
  {
   "cell_type": "code",
   "execution_count": 154,
   "id": "8f47058f",
   "metadata": {},
   "outputs": [],
   "source": [
    "x, p = x_0, p_0\n",
    "q =  np.dot(  np.diag( np.dot(M, q_c).T[0] ), S )\n",
    "V = np.dot( q, np.dot(1/(D+1)-1, q.T) )\n",
    "m = np.dot( M, m_c)"
   ]
  },
  {
   "cell_type": "code",
   "execution_count": 173,
   "id": "05299869",
   "metadata": {},
   "outputs": [],
   "source": [
    "def relu(x) :\n",
    "    return np.maximum(0,x)\n",
    "\n",
    "def Energy(x,p) :\n",
    "    global a, V, m\n",
    "    \n",
    "    energy = np.dot(x.T, np.log(x)) + np.dot(a.T, x) + 0.5*np.dot(x.T, np.dot(V, x)) + 0.5*(np.dot( (1/m.T), (p*p*x)))\n",
    "    \n",
    "    return energy[0]\n",
    "\n",
    "def Flow(x,p) :\n",
    "    global M_, k, v, h, x_h, c\n",
    "    \n",
    "    grad_x = (np.log(x)+1).T + a.T + np.dot(x.T, V) + (0.5*(1/m)*p*p).T\n",
    "    grad_p = (0.5*(1/m)*p*x).T\n",
    "    \n",
    "    chemical_flow_x = -np.dot(M_, (k.T*(np.exp( np.dot(grad_x, M_)) -1 )*(np.exp(-0.5*np.dot(grad_x, M_) + 0.5*np.dot(np.log(x.T), np.abs(M_)))) ).T)\n",
    "    hamiltonian_flow_x = np.dot(M_, v*(np.dot(grad_p, M_).T) )\n",
    "    hamiltonian_flow_p = -np.dot(M_, v*(np.dot(grad_x, M_).T) )\n",
    "    colision_flow_p = -c*(grad_p).T\n",
    "    external_homeostasis_flow_x = h*(x_h-x)\n",
    "    \n",
    "    return chemical_flow_x + hamiltonian_flow_x,  hamiltonian_flow_p + colision_flow_p\n",
    "    #return chemical_flow_x + hamiltonian_flow_x + external_homeostasis_flow_x,  hamiltonian_flow_p + colision_flow_p"
   ]
  },
  {
   "cell_type": "code",
   "execution_count": 174,
   "id": "702cd340",
   "metadata": {},
   "outputs": [
    {
     "data": {
      "text/plain": [
       "(array([[  6.137168],\n",
       "        [ -6.137168],\n",
       "        [ 26.554393],\n",
       "        [-33.095706],\n",
       "        [  0.404145]]),\n",
       " array([[-0.      ],\n",
       "        [-0.      ],\n",
       "        [ 8.709035],\n",
       "        [-8.709035],\n",
       "        [-0.      ]]))"
      ]
     },
     "execution_count": 174,
     "metadata": {},
     "output_type": "execute_result"
    }
   ],
   "source": [
    "flow_x, flow_p = Flow(x,p) \n",
    "flow_x, flow_p"
   ]
  },
  {
   "cell_type": "code",
   "execution_count": 170,
   "id": "a40a3ee0",
   "metadata": {},
   "outputs": [],
   "source": [
    "energy = Energy(x,p)"
   ]
  },
  {
   "cell_type": "code",
   "execution_count": 171,
   "id": "6e1f02fe",
   "metadata": {},
   "outputs": [
    {
     "data": {
      "text/plain": [
       "array([[ 0.],\n",
       "       [-4.]])"
      ]
     },
     "execution_count": 171,
     "metadata": {},
     "output_type": "execute_result"
    }
   ],
   "source": [
    "np.dot(M.T, flow_x)"
   ]
  },
  {
   "cell_type": "code",
   "execution_count": 4,
   "id": "a9b7b789",
   "metadata": {},
   "outputs": [
    {
     "name": "stdout",
     "output_type": "stream",
     "text": [
      "<Universe with 3341 atoms>\n",
      "2.1.0\n"
     ]
    }
   ],
   "source": [
    "print(mda.Universe(PSF, DCD))\n",
    "print(mda.__version__)"
   ]
  },
  {
   "cell_type": "code",
   "execution_count": 5,
   "id": "f57b6379",
   "metadata": {},
   "outputs": [
    {
     "name": "stdout",
     "output_type": "stream",
     "text": [
      "<Universe with 3341 atoms>\n",
      "False\n"
     ]
    },
    {
     "name": "stderr",
     "output_type": "stream",
     "text": [
      "C:\\Users\\arizona95\\anaconda3\\envs\\tensorflow\\lib\\site-packages\\MDAnalysis\\core\\universe.py:148: UserWarning: No coordinate reader found for C:\\Users\\arizona95\\anaconda3\\envs\\tensorflow\\lib\\site-packages\\MDAnalysisTests\\data\\adk.psf. Skipping this file.\n",
      "  'this file.'.format(filename))\n"
     ]
    }
   ],
   "source": [
    "psf = mda.Universe(PSF)\n",
    "print(psf)\n",
    "print(hasattr(psf, 'trajectory'))"
   ]
  },
  {
   "cell_type": "code",
   "execution_count": 6,
   "id": "6c309469",
   "metadata": {},
   "outputs": [
    {
     "name": "stdout",
     "output_type": "stream",
     "text": [
      "<Universe with 47681 atoms>\n",
      "1\n"
     ]
    }
   ],
   "source": [
    "gro = mda.Universe(GRO)\n",
    "print(gro)\n",
    "print(len(gro.trajectory))"
   ]
  },
  {
   "cell_type": "code",
   "execution_count": 8,
   "id": "e04c6237",
   "metadata": {},
   "outputs": [
    {
     "name": "stdout",
     "output_type": "stream",
     "text": [
      "<Universe with 3341 atoms>\n",
      "98\n"
     ]
    }
   ],
   "source": [
    "u = mda.Universe(PSF, DCD)\n",
    "print(u)\n",
    "print(len(u.trajectory))"
   ]
  },
  {
   "cell_type": "code",
   "execution_count": 9,
   "id": "e99c4cb9",
   "metadata": {},
   "outputs": [
    {
     "name": "stdout",
     "output_type": "stream",
     "text": [
      "<ResidueGroup [<Residue MET, 1>, <Residue ARG, 2>, <Residue ILE, 3>, ..., <Residue ILE, 212>, <Residue LEU, 213>, <Residue GLY, 214>]>\n"
     ]
    }
   ],
   "source": [
    "print(u.residues)"
   ]
  },
  {
   "cell_type": "code",
   "execution_count": 10,
   "id": "1f273562",
   "metadata": {},
   "outputs": [
    {
     "data": {
      "text/plain": [
       "<AtomGroup with 3341 atoms>"
      ]
     },
     "execution_count": 10,
     "metadata": {},
     "output_type": "execute_result"
    }
   ],
   "source": [
    "u.atoms"
   ]
  },
  {
   "cell_type": "code",
   "execution_count": 11,
   "id": "c3b100f2",
   "metadata": {},
   "outputs": [
    {
     "name": "stdout",
     "output_type": "stream",
     "text": [
      "<AtomGroup [<Atom 3337: HA1 of type 6 of resname GLY, resid 214 and segid 4AKE>, <Atom 3338: HA2 of type 6 of resname GLY, resid 214 and segid 4AKE>, <Atom 3339: C of type 32 of resname GLY, resid 214 and segid 4AKE>, <Atom 3340: OT1 of type 72 of resname GLY, resid 214 and segid 4AKE>, <Atom 3341: OT2 of type 72 of resname GLY, resid 214 and segid 4AKE>]>\n"
     ]
    }
   ],
   "source": [
    "last_five = u.atoms[-5:]\n",
    "print(last_five)"
   ]
  },
  {
   "cell_type": "code",
   "execution_count": 12,
   "id": "339c2a33",
   "metadata": {},
   "outputs": [
    {
     "name": "stdout",
     "output_type": "stream",
     "text": [
      "['N' 'HT1' 'HT2']\n"
     ]
    }
   ],
   "source": [
    "nhh = u.atoms[:3]\n",
    "print(nhh.names)"
   ]
  },
  {
   "cell_type": "code",
   "execution_count": 13,
   "id": "a373ccc8",
   "metadata": {},
   "outputs": [
    {
     "name": "stdout",
     "output_type": "stream",
     "text": [
      "37.99234750892497\n"
     ]
    }
   ],
   "source": [
    "angle_nhh = nhh.angle\n",
    "print(angle_nhh.value())"
   ]
  },
  {
   "cell_type": "code",
   "execution_count": null,
   "id": "8db39423",
   "metadata": {},
   "outputs": [],
   "source": []
  }
 ],
 "metadata": {
  "kernelspec": {
   "display_name": "Python 3",
   "language": "python",
   "name": "python3"
  },
  "language_info": {
   "codemirror_mode": {
    "name": "ipython",
    "version": 3
   },
   "file_extension": ".py",
   "mimetype": "text/x-python",
   "name": "python",
   "nbconvert_exporter": "python",
   "pygments_lexer": "ipython3",
   "version": "3.7.10"
  }
 },
 "nbformat": 4,
 "nbformat_minor": 5
}
