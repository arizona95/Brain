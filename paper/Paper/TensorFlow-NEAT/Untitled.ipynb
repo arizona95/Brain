{
 "cells": [
  {
   "cell_type": "code",
   "execution_count": 3,
   "id": "4e000661",
   "metadata": {},
   "outputs": [],
   "source": [
    "# Copyright (c) 2018 Uber Technologies, Inc.\n",
    "#\n",
    "# Licensed under the Apache License, Version 2.0 (the \"License\");\n",
    "# you may not use this file except in compliance with the License.\n",
    "# You may obtain a copy of the License at\n",
    "#\n",
    "#     http://www.apache.org/licenses/LICENSE-2.0\n",
    "#\n",
    "#     Unless required by applicable law or agreed to in writing, software\n",
    "#     distributed under the License is distributed on an \"AS IS\" BASIS,\n",
    "#     WITHOUT WARRANTIES OR CONDITIONS OF ANY KIND, either express or implied.\n",
    "#     See the License for the specific language governing permissions and\n",
    "#     limitations under the License.\n",
    "\n",
    "import os\n",
    "import numpy as np\n",
    "\n",
    "import click\n",
    "import gym\n",
    "import neat\n",
    "import cProfile\n",
    "import tensorflow as tf\n",
    "\n",
    "from tf_neat.multi_env_eval import MultiEnvEvaluator\n",
    "from tf_neat.neat_reporter import LogReporter\n",
    "from tf_neat.recurrent_net import RecurrentNet\n",
    "\n",
    "import matplotlib.pyplot as plt\n",
    "from IPython import display\n",
    "%matplotlib inline"
   ]
  },
  {
   "cell_type": "code",
   "execution_count": 1,
   "id": "17a41145",
   "metadata": {},
   "outputs": [
    {
     "ename": "NameError",
     "evalue": "name 'tf' is not defined",
     "output_type": "error",
     "traceback": [
      "\u001b[1;31m---------------------------------------------------------------------------\u001b[0m",
      "\u001b[1;31mNameError\u001b[0m                                 Traceback (most recent call last)",
      "\u001b[1;32m<ipython-input-1-00dd0e8131f4>\u001b[0m in \u001b[0;36m<module>\u001b[1;34m\u001b[0m\n\u001b[0;32m      1\u001b[0m \u001b[1;31m# Activate eager TensorFlow execution\u001b[0m\u001b[1;33m\u001b[0m\u001b[1;33m\u001b[0m\u001b[1;33m\u001b[0m\u001b[0m\n\u001b[1;32m----> 2\u001b[1;33m \u001b[0mtf\u001b[0m\u001b[1;33m.\u001b[0m\u001b[0mexecuting_eagerly\u001b[0m\u001b[1;33m(\u001b[0m\u001b[1;33m)\u001b[0m\u001b[1;33m\u001b[0m\u001b[1;33m\u001b[0m\u001b[0m\n\u001b[0m\u001b[0;32m      3\u001b[0m \u001b[0mprint\u001b[0m\u001b[1;33m(\u001b[0m\u001b[1;34m\"Executing eagerly: \"\u001b[0m\u001b[1;33m,\u001b[0m \u001b[0mtf\u001b[0m\u001b[1;33m.\u001b[0m\u001b[0mexecuting_eagerly\u001b[0m\u001b[1;33m(\u001b[0m\u001b[1;33m)\u001b[0m\u001b[1;33m)\u001b[0m\u001b[1;33m\u001b[0m\u001b[1;33m\u001b[0m\u001b[0m\n\u001b[0;32m      4\u001b[0m \u001b[1;33m\u001b[0m\u001b[0m\n\u001b[0;32m      5\u001b[0m \u001b[0mmax_env_steps\u001b[0m \u001b[1;33m=\u001b[0m \u001b[1;36m200\u001b[0m\u001b[1;33m\u001b[0m\u001b[1;33m\u001b[0m\u001b[0m\n",
      "\u001b[1;31mNameError\u001b[0m: name 'tf' is not defined"
     ]
    }
   ],
   "source": [
    "# Activate eager TensorFlow execution\n",
    "tf.executing_eagerly()\n",
    "print(\"Executing eagerly: \", tf.executing_eagerly())\n",
    "\n",
    "max_env_steps = 200\n",
    "\n",
    "def make_env():\n",
    "    return gym.make(\"CartPole-v0\")\n",
    "\n",
    "\n",
    "def make_net(genome, config, bs):\n",
    "    return RecurrentNet.create(genome, config, bs)\n",
    "\n",
    "\n",
    "def activate_net(net, states):\n",
    "    outputs = net.activate(states).numpy()\n",
    "    \n",
    "    return  (outputs[:, 0] > 0.5 ).astype(int) \n",
    "\n",
    "\n",
    "def run(n_generations):\n",
    "    # Load the config file, which is assumed to live in\n",
    "    # the same directory as this script.\n",
    "    config_path = os.path.join(os.path.dirname(os.path.abspath('')), \"Tensorflow-NEAT/examples/simple/neat.cfg\")\n",
    "    config = neat.Config(\n",
    "        neat.DefaultGenome,\n",
    "        neat.DefaultReproduction,\n",
    "        neat.DefaultSpeciesSet,\n",
    "        neat.DefaultStagnation,\n",
    "        config_path,\n",
    "    )\n",
    "\n",
    "    evaluator = MultiEnvEvaluator(\n",
    "        make_net, activate_net, make_env=make_env, max_env_steps=max_env_steps\n",
    "    )\n",
    "\n",
    "    def eval_genomes(genomes, config):\n",
    "        for _, genome in genomes:\n",
    "            genome.fitness = evaluator.eval_genome(genome, config)\n",
    "\n",
    "    pop = neat.Population(config)\n",
    "    stats = neat.StatisticsReporter()\n",
    "    pop.add_reporter(stats)\n",
    "    reporter = neat.StdOutReporter(True)\n",
    "    pop.add_reporter(reporter)\n",
    "    logger = LogReporter(\"./logs/neat.json\", evaluator.eval_genome)\n",
    "    pop.add_reporter(logger)\n",
    "\n",
    "    pop.run(eval_genomes, n_generations)\n",
    "\n",
    "\n",
    "if __name__ == \"__main__\":\n",
    "    run(100)"
   ]
  },
  {
   "cell_type": "code",
   "execution_count": null,
   "id": "a7501bd2",
   "metadata": {},
   "outputs": [],
   "source": []
  },
  {
   "cell_type": "code",
   "execution_count": null,
   "id": "4edce73f",
   "metadata": {},
   "outputs": [],
   "source": []
  }
 ],
 "metadata": {
  "kernelspec": {
   "display_name": "Python 3",
   "language": "python",
   "name": "python3"
  },
  "language_info": {
   "codemirror_mode": {
    "name": "ipython",
    "version": 3
   },
   "file_extension": ".py",
   "mimetype": "text/x-python",
   "name": "python",
   "nbconvert_exporter": "python",
   "pygments_lexer": "ipython3",
   "version": "3.7.3"
  }
 },
 "nbformat": 4,
 "nbformat_minor": 5
}
