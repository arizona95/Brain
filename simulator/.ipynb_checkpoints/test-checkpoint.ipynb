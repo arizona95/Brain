{
 "cells": [
  {
   "cell_type": "code",
   "execution_count": 2,
   "metadata": {},
   "outputs": [
    {
     "name": "stdout",
     "output_type": "stream",
     "text": [
      "======================== build_simulator ==========================\n",
      " ================================================================\n",
      "\n",
      "Elapsed time : 0.03125000 sec \n",
      "======================== make_graph_board ==========================\n",
      " ================================================================\n",
      "\n",
      "Elapsed time : 0.00000000 sec \n"
     ]
    }
   ],
   "source": [
    "from Simulator import Simulator\n",
    "from Timer import Timer\n",
    "\n",
    "with Timer(\"build_simulator\") :\n",
    "    neuron_network_filename = \"Network2\"\n",
    "    simulator = Simulator(neuron_network_filename)\n",
    "    \n",
    "with Timer(\"make_graph_board\") :\n",
    "    simulator.graph.make_graph_board(0)\n",
    "\n",
    "simulator.boarn()"
   ]
  },
  {
   "cell_type": "code",
   "execution_count": null,
   "metadata": {},
   "outputs": [],
   "source": [
    "debug_config = {\"debug_mode\":\"true\"}\n",
    "simulator.graph.debug_set(debug_config)"
   ]
  },
  {
   "cell_type": "code",
   "execution_count": null,
   "metadata": {},
   "outputs": [],
   "source": [
    "debug_config = {\"debug_include\":[\"Inner\"]}\n",
    "simulator.graph.debug_set(debug_config)"
   ]
  },
  {
   "cell_type": "code",
   "execution_count": null,
   "metadata": {},
   "outputs": [],
   "source": [
    "debug_config = {\"debug_remove\":[\"Inner/G0/b#0/Ca+\"]}\n",
    "simulator.graph.debug_set(debug_config)"
   ]
  },
  {
   "cell_type": "code",
   "execution_count": null,
   "metadata": {},
   "outputs": [],
   "source": [
    "with Timer(\"one_step_CPU\") :\n",
    "    for i in range(10000) :\n",
    "        simulator.one_step()"
   ]
  },
  {
   "cell_type": "code",
   "execution_count": 5,
   "metadata": {},
   "outputs": [],
   "source": [
    "import numpy as np\n",
    "import matplotlib.pyplot as plt\n",
    "import math\n",
    "a = 0\n",
    "da =0\n",
    "b = 0\n",
    "db = 0"
   ]
  },
  {
   "cell_type": "code",
   "execution_count": 12,
   "metadata": {},
   "outputs": [
    {
     "data": {
      "image/png": "[encoded data removed]",
      "text/latex": [
       "$\\displaystyle 1 - x + x^{2} - x^{3} + x^{4} - x^{5} + O\\left(x^{6}\\right)$"
      ],
      "text/plain": [
       "         2    3    4    5    ⎛ 6⎞\n",
       "1 - x + x  - x  + x  - x  + O⎝x ⎠"
      ]
     },
     "metadata": {},
     "output_type": "display_data"
    }
   ],
   "source": [
    "from IPython.display import display\n",
    "from sympy import Symbol, init_printing, atan, sqrt, exp\n",
    "init_printing()\n",
    "x = Symbol('x')\n",
    "f = 1/(x+1)\n",
    "f_taylor = f.series(x, x0=0, n=6)\n",
    "display(f_taylor)"
   ]
  },
  {
   "cell_type": "code",
   "execution_count": 14,
   "metadata": {},
   "outputs": [
    {
     "data": {
      "image/png": "[encoded data removed]",
      "text/latex": [
       "$\\displaystyle 1 - x + x^{2} - x^{3} + x^{4} - x^{5} + O\\left(x^{6}\\right)$"
      ],
      "text/plain": [
       "         2    3    4    5    ⎛ 6⎞\n",
       "1 - x + x  - x  + x  - x  + O⎝x ⎠"
      ]
     },
     "execution_count": 14,
     "metadata": {},
     "output_type": "execute_result"
    }
   ],
   "source": [
    "f_taylor"
   ]
  },
  {
   "cell_type": "code",
   "execution_count": 1,
   "metadata": {},
   "outputs": [],
   "source": [
    "import networkx as nx\n",
    "import numpy as np\n",
    "import math\n",
    "import numpy as np\n",
    "import time\n",
    "import matplotlib.pyplot as plt\n",
    "\n",
    "def tayler(c_arr,x):\n",
    "    c_list = c_arr\n",
    "    c_list.reverse()\n",
    "    y = 1\n",
    "    for c in c_list :\n",
    "        y = c[0]*y*x + c[1]\n",
    "\n",
    "    return y\n",
    "\n",
    "def rel(x,dx,parm):\n",
    "    R =tayler([(parm[0],parm[1])],x)\n",
    "    D = tayler([(parm[2],parm[3])],x)\n",
    "    return R*dx + D*dt\n",
    "\n",
    "def graph_show(G) :\n",
    "    pos = nx.spring_layout(G)\n",
    "    nx.draw(G,pos, cmap = plt.get_cmap('jet'))\n",
    "    nx.draw_networkx_labels(G, pos)\n",
    "    plt.show()\n",
    "    plt.clf()\n",
    "    \n",
    "def show_history(value, node_list,vdv):\n",
    "    fig = plt.figure()\n",
    "    node_num = len(node_list)\n",
    "    axv = [0 for j in range(node_num)]\n",
    "    for i in range(node_num):\n",
    "        axv[i] = fig.add_subplot(node_num,1,i+1)\n",
    "    for i,node in enumerate(node_list) :\n",
    "        axv[i].plot(value[node][\"history\"][vdv])\n",
    "        axv[i].set_ylabel(node)\n",
    "    plt.show()\n",
    "    plt.clf()"
   ]
  },
  {
   "cell_type": "code",
   "execution_count": 21,
   "metadata": {
    "scrolled": true
   },
   "outputs": [
    {
     "data": {
      "image/png": "[encoded data removed]",
      "text/plain": [
       "<Figure size 432x288 with 1 Axes>"
      ]
     },
     "metadata": {},
     "output_type": "display_data"
    },
    {
     "data": {
      "text/plain": [
       "<Figure size 432x288 with 0 Axes>"
      ]
     },
     "metadata": {},
     "output_type": "display_data"
    },
    {
     "data": {
      "image/png": "[encoded data removed]",
      "text/plain": [
       "<Figure size 432x288 with 4 Axes>"
      ]
     },
     "metadata": {
      "needs_background": "light"
     },
     "output_type": "display_data"
    },
    {
     "data": {
      "text/plain": [
       "[<matplotlib.lines.Line2D at 0x2831da1fe48>]"
      ]
     },
     "execution_count": 21,
     "metadata": {},
     "output_type": "execute_result"
    },
    {
     "data": {
      "image/png": "[encoded data removed]",
      "text/plain": [
       "<Figure size 432x288 with 1 Axes>"
      ]
     },
     "metadata": {
      "needs_background": "light"
     },
     "output_type": "display_data"
    }
   ],
   "source": [
    "\n",
    "T = 100\n",
    "dt = 1/T\n",
    "WT = T*200\n",
    "value = {}\n",
    "e = math.e\n",
    "\n",
    "#I_input = np.zeros(WT)\n",
    "#I_input[70*T:130*T]=dt\n",
    "Vm = np.load('../temp/huxley/value/vm.npy')\n",
    "I_input = Vm\n",
    "\n",
    "NG = nx.DiGraph()\n",
    "NG.add_node(\"Vm\", init =0)\n",
    "NG.add_node(\"VmS\", init =0)\n",
    "NG.add_node(\"na\", init =0.0058)\n",
    "NG.add_node(\"naS\", init =0.0000058)\n",
    "NG.add_node(\"nb\", init =0.1249)\n",
    "NG.add_node(\"nbS\", init =0.00001249)\n",
    "NG.add_node(\"n121S\", init =0.00001829)\n",
    "NG.add_node(\"n122S\", init =0.00001829+0.0000317)\n",
    "NG.add_node(\"n123S\", init =0.00001829*0.0000317)\n",
    "NG.add_node(\"ntS\", init =0.0000058-0.00001829*0.317)\n",
    "NG.add_node(\"nsS\", init =0.0000317)\n",
    "NG.add_node(\"i\", init =0)\n",
    "NG.add_edge(\"i\",\"Vm\",parm=[0,1,0,0])\n",
    "NG.add_edge(\"Vm\",\"VmS\",parm=[0,0.00001,0,0])\n",
    "\n",
    "x_d1 = 100/((e-1)*(e-1))\n",
    "x_d0 = 0.1/(e-1)\n",
    "\n",
    "NG.add_edge(\"VmS\",\"naS\",parm=[x_d1,x_d0,0,0])\n",
    "NG.add_edge(\"naS\",\"na\",parm=[0,10000,0,0])\n",
    "\n",
    "x_d1 = 125/80\n",
    "x_d0 = -1/80\n",
    "\n",
    "NG.add_edge(\"VmS\",\"nbS\",parm=[x_d1,x_d0,0,0])\n",
    "NG.add_edge(\"nbS\",\"nb\",parm=[0,10000,0,0])\n",
    "\n",
    "NG.add_edge(\"nbS\",\"n121S\",parm=[0,1,0,0])\n",
    "NG.add_edge(\"naS\",\"n121S\",parm=[0,1,0,0])\n",
    "NG.add_edge(\"n121S\",\"n122S\",parm=[-1,1,0,0])\n",
    "NG.add_edge(\"nsS\",\"n122S\",parm=[-1,1,0,0])\n",
    "NG.add_edge(\"n122S\",\"n123S\",parm=[1,1,0,0])\n",
    "#NG.add_edge(\"n121S\",\"n123S\",parm=[0,-1,0,0])\n",
    "#NG.add_edge(\"nsS\",\"n123S\",parm=[0,-1,0,0])\n",
    "NG.add_edge(\"naS\",\"ntS\",parm=[0,1,0,0])\n",
    "NG.add_edge(\"n123S\",\"ntS\",parm=[0,-10000,0,0])\n",
    "#NG.add_edge(\"ntS\",\"nsS\",parm=[0,0,1,0])\n",
    "#NG.add_edge(\"IN\",\"t\",parm=[0,-1,0,0])\n",
    "#NG.add_edge(\"t\",\"IN\",parm=[0,0,0.1,0.05*dt])\n",
    "\n",
    "\n",
    "n_list = NG.nodes()\n",
    "#regist value\n",
    "for node in NG.nodes(data=\"init\") :\n",
    "    value[node[0]] = {\"v\":node[1],\"dv\":0,\"ndv\":0,\"history\":{\"v\":[node[1]], \"dv\":[0]}}\n",
    "\n",
    "for i in range (WT):\n",
    "    \n",
    "    # dv change\n",
    "    for edge in NG.edges(data=\"parm\"):\n",
    "        dvplus = rel(value[edge[0]][\"v\"],value[edge[0]][\"ndv\"],edge[2])\n",
    "        value[edge[1]][\"dv\"] += dvplus\n",
    "        #value[edge[0]][\"dv\"] -= dvplus\n",
    "        \n",
    "        \n",
    "    # value change\n",
    "    for node in value:\n",
    "        value[node][\"v\"] += value[node][\"dv\"]\n",
    "        # history apepnd\n",
    "        value[node][\"history\"][\"v\"].append(value[node][\"v\"])\n",
    "        value[node][\"history\"][\"dv\"].append(value[node][\"dv\"])\n",
    "        # ndv update\n",
    "        value[node][\"ndv\"]= value[node][\"dv\"]\n",
    "        # dv init\n",
    "        value[node][\"dv\"]=0\n",
    "    \n",
    "    # input\n",
    "    value[\"i\"][\"dv\"] = I_input[i] -value[\"i\"][\"v\"]\n",
    "    \n",
    "    \n",
    "graph_show(NG)\n",
    "show_history(value,[\"n121S\",\"n122S\",\"ntS\",\"nsS\"],\"dv\")\n",
    "\n",
    "na_answer = .01 * ((10-Vm) / (np.exp((10-Vm)/10)-1))\n",
    "nb_answer = .125*np.exp(-Vm/80)\n",
    "ns_answer =  np.load('../temp/huxley/value/ns.npy')\n",
    "nt_answer = ns_answer[1:] - ns_answer[:-1]\n",
    "\n",
    "v = (np.array((value['n121S']['history'][\"v\"]))*np.array(value['nsS']['history'][\"v\"]))[:2001]\n",
    "dv = v[1:]-v[:-1]\n",
    "\n",
    "#plt.plot(dv)\n",
    "plt.plot(value['n121S']['history'][\"dv\"][:100])\n",
    "\n",
    "#plt.plot((np.array((value['n121S']['history'][\"v\"]))*np.array(value['nsS']['history'][\"v\"]))[:100])\n",
    "#plt.plot(value['n123S']['history'][\"dv\"][:1000])\n",
    "\n",
    "\n"
   ]
  },
  {
   "cell_type": "code",
   "execution_count": null,
   "metadata": {},
   "outputs": [],
   "source": [
    "\n",
    "T = 100\n",
    "dt = 1/T\n",
    "WT = T*200\n",
    "value = {}\n",
    "e = math.e\n",
    "\n",
    "I_input = np.arange(WT)/(WT/4)\n",
    "\n",
    "NG = nx.DiGraph()\n",
    "NG.add_node(\"i\", init =0)\n",
    "NG.add_node(\"x\", init =0)\n",
    "NG.add_node(\"xS\", init =0)\n",
    "NG.add_node(\"y\", init =0)\n",
    "NG.add_node(\"yS\", init =0)\n",
    "NG.add_node(\"z\", init =0)\n",
    "NG.add_node(\"w\", init =0)\n",
    "NG.add_node(\"wS\", init =0)\n",
    "\n",
    "NG.add_edge(\"i\",\"x\",parm=[0,1,0,0])\n",
    "NG.add_edge(\"i\",\"y\",parm=[0,1,0,0])\n",
    "NG.add_edge(\"x\",\"z\",parm=[-1,1,0,0])\n",
    "NG.add_edge(\"y\",\"z\",parm=[-1,1,0,0])\n",
    "NG.add_edge(\"z\",\"w\",parm=[1,1,0,0])\n",
    "NG.add_edge(\"x\",\"w\",parm=[-1,1,0,0])\n",
    "NG.add_edge(\"y\",\"w\",parm=[-1,1,0,0])\n",
    "\n",
    "\n",
    "n_list = NG.nodes()\n",
    "#regist value\n",
    "for node in NG.nodes(data=\"init\") :\n",
    "    value[node[0]] = {\"v\":node[1],\"dv\":0,\"ndv\":0,\"history\":{\"v\":[node[1]], \"dv\":[0]}}\n",
    "\n",
    "for i in range (WT):\n",
    "    \n",
    "    # dv change\n",
    "    for edge in NG.edges(data=\"parm\"):\n",
    "        dvplus = rel(value[edge[0]][\"v\"],value[edge[0]][\"ndv\"],edge[2])\n",
    "        value[edge[1]][\"dv\"] += dvplus\n",
    "        #value[edge[0]][\"dv\"] -= dvplus\n",
    "        \n",
    "        \n",
    "    # value change\n",
    "    for node in value:\n",
    "        value[node][\"v\"] += value[node][\"dv\"]\n",
    "        # history apepnd\n",
    "        value[node][\"history\"][\"v\"].append(value[node][\"v\"])\n",
    "        value[node][\"history\"][\"dv\"].append(value[node][\"dv\"])\n",
    "        # ndv update\n",
    "        value[node][\"ndv\"]= value[node][\"dv\"]\n",
    "        # dv init\n",
    "        value[node][\"dv\"]=0\n",
    "    \n",
    "    # input\n",
    "    value[\"i\"][\"dv\"] = I_input[i] -value[\"i\"][\"v\"]\n",
    "    \n",
    "    \n",
    "graph_show(NG)\n",
    "show_history(value,[],\"dv\")\n"
   ]
  },
  {
   "cell_type": "code",
   "execution_count": 16,
   "metadata": {},
   "outputs": [
    {
     "ename": "KeyError",
     "evalue": "'IN'",
     "output_type": "error",
     "traceback": [
      "\u001b[1;31m---------------------------------------------------------------------------\u001b[0m",
      "\u001b[1;31mKeyError\u001b[0m                                  Traceback (most recent call last)",
      "\u001b[1;32m<ipython-input-16-fcdc34d1b01d>\u001b[0m in \u001b[0;36m<module>\u001b[1;34m\u001b[0m\n\u001b[1;32m----> 1\u001b[1;33m \u001b[0mvalue\u001b[0m\u001b[1;33m[\u001b[0m\u001b[1;34m'IN'\u001b[0m\u001b[1;33m]\u001b[0m\u001b[1;33m[\u001b[0m\u001b[1;34m'history'\u001b[0m\u001b[1;33m]\u001b[0m\u001b[1;33m[\u001b[0m\u001b[1;34m\"v\"\u001b[0m\u001b[1;33m]\u001b[0m\u001b[1;33m[\u001b[0m\u001b[1;33m-\u001b[0m\u001b[1;36m2000\u001b[0m\u001b[1;33m:\u001b[0m\u001b[1;33m]\u001b[0m\u001b[1;33m\u001b[0m\u001b[1;33m\u001b[0m\u001b[0m\n\u001b[0m",
      "\u001b[1;31mKeyError\u001b[0m: 'IN'"
     ]
    }
   ],
   "source": [
    "value['IN']['history'][\"v\"][-2000:]"
   ]
  },
  {
   "cell_type": "code",
   "execution_count": 17,
   "metadata": {},
   "outputs": [],
   "source": [
    "ns_answer =  np.load('../temp/huxley/value/ns.npy')"
   ]
  },
  {
   "cell_type": "code",
   "execution_count": 62,
   "metadata": {},
   "outputs": [
    {
     "data": {
      "text/plain": [
       "0.3176769140606974"
      ]
     },
     "execution_count": 62,
     "metadata": {},
     "output_type": "execute_result"
    }
   ],
   "source": [
    "ns_answer[0]"
   ]
  },
  {
   "cell_type": "code",
   "execution_count": 388,
   "metadata": {},
   "outputs": [
    {
     "data": {
      "text/plain": [
       "0.12497816283637182"
      ]
     },
     "execution_count": 388,
     "metadata": {},
     "output_type": "execute_result"
    }
   ],
   "source": [
    "nb_answer[0]"
   ]
  },
  {
   "cell_type": "code",
   "execution_count": 238,
   "metadata": {},
   "outputs": [
    {
     "data": {
      "text/plain": [
       "0"
      ]
     },
     "execution_count": 238,
     "metadata": {},
     "output_type": "execute_result"
    }
   ],
   "source": [
    "NG = nx.DiGraph()\n",
    "NG.add_node(\"x\", v=1*dt,dv=0,ndv=0)\n",
    "NG.add_node(\"y\", v=0,dv=0,ndv=0)\n",
    "NG.add_node(\"z\", v=0,dv=0,ndv=0)\n",
    "NG.add_node(\"i\", v=0,dv=0,ndv=0)\n",
    "NG.add_edge(\"i\",\"x\",parm=[0,-1,1,dt])\n",
    "\n",
    "NG.nodes(data=\"v\")['i']\n"
   ]
  },
  {
   "cell_type": "code",
   "execution_count": 245,
   "metadata": {},
   "outputs": [
    {
     "name": "stdout",
     "output_type": "stream",
     "text": [
      "0\n",
      "0\n",
      "0\n",
      "0\n"
     ]
    }
   ],
   "source": [
    "for node in NG.nodes(data=\"init\") :\n",
    "    print(node[1])"
   ]
  },
  {
   "cell_type": "code",
   "execution_count": 111,
   "metadata": {},
   "outputs": [],
   "source": [
    "dt = 1/100\n",
    "def tayler(c_arr,x):\n",
    "    c_list = c_arr\n",
    "    c_list.reverse()\n",
    "    y = 1\n",
    "    for c in c_list :\n",
    "        y = c[0]*y*x + c[1]\n",
    "\n",
    "    return y\n",
    "        \n",
    "\n",
    "\n",
    "def a_to_b(x,dx):\n",
    "    R =tayler([(0,-2)],x)\n",
    "    D = tayler([(0.1,0.05*dt)],x)\n",
    "    return R*dx + D*dt\n",
    "\n",
    "def b_to_a(x,dx):\n",
    "    R = 0\n",
    "    D = tayler([(0.1,0.05*dt)],x)\n",
    "    return R*dx + D*dt"
   ]
  },
  {
   "cell_type": "code",
   "execution_count": 112,
   "metadata": {},
   "outputs": [
    {
     "data": {
      "image/png": "[encoded data removed]",
      "text/plain": [
       "<Figure size 432x288 with 1 Axes>"
      ]
     },
     "metadata": {
      "needs_background": "light"
     },
     "output_type": "display_data"
    },
    {
     "data": {
      "image/png": "[encoded data removed]",
      "text/plain": [
       "<Figure size 432x288 with 1 Axes>"
      ]
     },
     "metadata": {
      "needs_background": "light"
     },
     "output_type": "display_data"
    }
   ],
   "source": [
    "WT =10000\n",
    "\n",
    "a= -2*dt\n",
    "b= 2*dt\n",
    "c= 0\n",
    "d= 0\n",
    "da = 0\n",
    "db = 0\n",
    "dc = 0\n",
    "dd = 0\n",
    "sda = 0\n",
    "sdb = 0\n",
    "sdc = 0\n",
    "sdd = 0\n",
    "history = [[a],[b],[c],[d],[da],[db],[dc],[dd]]\n",
    "#a_input = np.arange(WT)/(50*WT)\n",
    "#b_input = np.arange(WT)/(50*WT)\n",
    "answer = []\n",
    "\n",
    "\n",
    "\n",
    "for i in range (WT):\n",
    "    \n",
    "    db+= a_to_b(a,sda)\n",
    "    da+= b_to_a(b,sdb)\n",
    "    #dd+= c_to_d(c,dc)\n",
    "    #dd+= a_to_d(a,da)\n",
    "    #dd+= b_to_d(b,db)\n",
    "    #da =b_to_a(b,db)\n",
    "    a = a+da\n",
    "    b = b+db\n",
    "    #c = c+dc\n",
    "    #d = d+dd\n",
    "    history[0].append(a)\n",
    "    history[1].append(b)\n",
    "    #history[2].append(c)\n",
    "    #history[3].append(d)\n",
    "    history[4].append(da)\n",
    "    history[5].append(db)\n",
    "    #history[6].append(dc)\n",
    "    #history[7].append(dd)\n",
    "    answer.append(a*b)\n",
    "    sda = da\n",
    "    sdb = db\n",
    "    da = 0\n",
    "    db = 0\n",
    "    \n",
    "    #da = a_input[i] -a\n",
    "    #db = b_input[i] -b\n",
    "    \n",
    "    \n",
    "    \n",
    "plt.clf()\n",
    "plt.plot(history[0])\n",
    "plt.plot(history[1])\n",
    "#plt.plot(history[2])\n",
    "#plt.plot(history[3])\n",
    "#plt.plot(answer)\n",
    "plt.show()\n",
    "\n",
    "plt.plot(history[4])\n",
    "plt.plot(history[5])\n",
    "#plt.plot(history[6])\n",
    "#plt.plot(history[7])\n",
    "plt.show()"
   ]
  },
  {
   "cell_type": "code",
   "execution_count": null,
   "metadata": {},
   "outputs": [],
   "source": []
  },
  {
   "cell_type": "code",
   "execution_count": null,
   "metadata": {},
   "outputs": [],
   "source": []
  },
  {
   "cell_type": "code",
   "execution_count": null,
   "metadata": {},
   "outputs": [],
   "source": []
  },
  {
   "cell_type": "code",
   "execution_count": null,
   "metadata": {},
   "outputs": [],
   "source": []
  },
  {
   "cell_type": "code",
   "execution_count": null,
   "metadata": {},
   "outputs": [],
   "source": [
    "history[0][-2]"
   ]
  },
  {
   "cell_type": "code",
   "execution_count": null,
   "metadata": {},
   "outputs": [],
   "source": [
    "import numpy as np\n",
    " \n",
    "a = np.sin(np.arange(0, 5, 0.001))\n",
    "b = np.sin(np.arange(0, 5, 0.001))"
   ]
  },
  {
   "cell_type": "code",
   "execution_count": null,
   "metadata": {},
   "outputs": [],
   "source": [
    "a.shape"
   ]
  },
  {
   "cell_type": "code",
   "execution_count": null,
   "metadata": {},
   "outputs": [],
   "source": [
    "import numpy as np\n",
    " \n",
    "a = np.full((400,200),2 dtype=float)\n",
    "b = np.full((200,400),1, dtype=float)\n",
    "c = np.full((200,400),0, dtype=float)\n",
    "from scipy.sparse import csr_matrix\n",
    "d = csr_matrix(c)\n",
    "with Timer(\"test_np\") :\n",
    "    for i in range(10000) :\n",
    "        e=d.dot(a)\n",
    "        #d=a*b"
   ]
  },
  {
   "cell_type": "code",
   "execution_count": null,
   "metadata": {},
   "outputs": [],
   "source": [
    "import numpy as np\n",
    "import time\n",
    "import matplotlib.pyplot as plt"
   ]
  },
  {
   "cell_type": "code",
   "execution_count": null,
   "metadata": {},
   "outputs": [],
   "source": [
    "from numba import njit"
   ]
  },
  {
   "cell_type": "code",
   "execution_count": null,
   "metadata": {},
   "outputs": [],
   "source": [
    "\n",
    "def dot_py(A,B):\n",
    "    m, n = A.shape\n",
    "\n",
    "    C = np.zeros((m,n))\n",
    "    \n",
    "    for i in range(100000):\n",
    "        for i in range(0,m):\n",
    "            for j in range(0,n):\n",
    "                C[i,j] = A[i,j]*B[i,j] \n",
    "    return C\n",
    "\n",
    "import numba as nb\n",
    "dot_nb = nb.jit(nopython=True)(dot_py)"
   ]
  },
  {
   "cell_type": "code",
   "execution_count": null,
   "metadata": {},
   "outputs": [],
   "source": [
    "a = np.full((200,100),2, dtype=float)\n",
    "dot_nb(a,a)\n",
    "with Timer(\"test_np\") :\n",
    "    dot_nb(a,a)"
   ]
  },
  {
   "cell_type": "code",
   "execution_count": null,
   "metadata": {},
   "outputs": [],
   "source": [
    "def dot_py2(A,B):\n",
    "    for i in range(100000):\n",
    "        C=A*B\n",
    "    return C\n",
    "    \n",
    " \n",
    "a = np.full((200,100),2, dtype=float)\n",
    "with Timer(\"test_np\") :\n",
    "    dot_py2(a,a)"
   ]
  },
  {
   "cell_type": "code",
   "execution_count": null,
   "metadata": {},
   "outputs": [],
   "source": [
    "c"
   ]
  },
  {
   "cell_type": "code",
   "execution_count": null,
   "metadata": {},
   "outputs": [],
   "source": [
    "%timeit  test1()\n",
    "%timeit  test2()"
   ]
  },
  {
   "cell_type": "code",
   "execution_count": null,
   "metadata": {},
   "outputs": [],
   "source": [
    "plt.plot(tt)\n",
    "plt.show()"
   ]
  },
  {
   "cell_type": "code",
   "execution_count": null,
   "metadata": {},
   "outputs": [],
   "source": [
    "np.__version__"
   ]
  },
  {
   "cell_type": "code",
   "execution_count": null,
   "metadata": {},
   "outputs": [],
   "source": [
    "e.shape"
   ]
  },
  {
   "cell_type": "code",
   "execution_count": null,
   "metadata": {},
   "outputs": [],
   "source": [
    "simulator.graph.debug_dict"
   ]
  },
  {
   "cell_type": "code",
   "execution_count": null,
   "metadata": {},
   "outputs": [],
   "source": [
    "simulator.graph.debug_show"
   ]
  },
  {
   "cell_type": "code",
   "execution_count": null,
   "metadata": {},
   "outputs": [],
   "source": [
    "simulator.neuron_element.Utill.RDF_function"
   ]
  },
  {
   "cell_type": "code",
   "execution_count": null,
   "metadata": {
    "scrolled": true
   },
   "outputs": [],
   "source": [
    "with Timer(\"one_step_CPU\") :\n",
    "    for i in range(1) :\n",
    "        simulator.one_step()"
   ]
  },
  {
   "cell_type": "code",
   "execution_count": null,
   "metadata": {},
   "outputs": [],
   "source": [
    "simulator.graph.hierarchical_graph['neuron_element'].node_dict['Inner/G0/c#0/@Input~Local~Spike']"
   ]
  },
  {
   "cell_type": "code",
   "execution_count": null,
   "metadata": {
    "scrolled": true
   },
   "outputs": [],
   "source": [
    "simulator.graph.hierarchical_graph['neuron_model'].node_dict['Inner/G0/c#0']"
   ]
  },
  {
   "cell_type": "code",
   "execution_count": null,
   "metadata": {},
   "outputs": [],
   "source": [
    "len(simulator.graph.hierarchical_graph[\"neuron_model\"].node_dict)"
   ]
  },
  {
   "cell_type": "code",
   "execution_count": null,
   "metadata": {},
   "outputs": [],
   "source": [
    "import numpy as np\n",
    "a = [[1,2,3],[1,2,3]]\n",
    "b = np.array(a)"
   ]
  },
  {
   "cell_type": "code",
   "execution_count": null,
   "metadata": {},
   "outputs": [],
   "source": [
    "b.shape"
   ]
  },
  {
   "cell_type": "code",
   "execution_count": null,
   "metadata": {},
   "outputs": [],
   "source": [
    "c = b[0]"
   ]
  },
  {
   "cell_type": "code",
   "execution_count": null,
   "metadata": {},
   "outputs": [],
   "source": [
    "c = c+np.array([1,1,1])"
   ]
  },
  {
   "cell_type": "code",
   "execution_count": null,
   "metadata": {},
   "outputs": [],
   "source": [
    "b[0] = np.array([4,5,6])"
   ]
  },
  {
   "cell_type": "code",
   "execution_count": null,
   "metadata": {},
   "outputs": [],
   "source": [
    "b"
   ]
  },
  {
   "cell_type": "code",
   "execution_count": null,
   "metadata": {},
   "outputs": [],
   "source": [
    "import json\n",
    "json.dump(b)"
   ]
  },
  {
   "cell_type": "code",
   "execution_count": null,
   "metadata": {},
   "outputs": [],
   "source": [
    "import matplotlib.pyplot as plt\n",
    "%matplotlib inline\n",
    "simulator.graph.debug_visualization(50, \"Inner/G0/c#0/NMDAR\")"
   ]
  },
  {
   "cell_type": "code",
   "execution_count": null,
   "metadata": {},
   "outputs": [],
   "source": [
    "simulator.graph.hierarchical_up_group_dict"
   ]
  },
  {
   "cell_type": "code",
   "execution_count": null,
   "metadata": {},
   "outputs": [],
   "source": [
    "for neuron_model_label in simulator.graph.hierarchical_graph[\"neuron_model\"].node_dict:\n",
    "    neuron_model = simulator.graph.node_label_dict[neuron_model_label]\n",
    "    print(neuron_model[\"label\"] +\"\\t\\t\"+ str(neuron_model[\"local_synaps_num\"])) "
   ]
  },
  {
   "cell_type": "code",
   "execution_count": null,
   "metadata": {},
   "outputs": [],
   "source": [
    "for neuron_element_label in simulator.graph.hierarchical_graph[\"neuron_element\"].node_dict:\n",
    "    neuron_element = simulator.graph.node_label_dict[neuron_element_label]\n",
    "    print(neuron_element[\"label\"] +\"\\t\\t\"+ str(neuron_element[\"synaps_num\"])) "
   ]
  },
  {
   "cell_type": "code",
   "execution_count": null,
   "metadata": {},
   "outputs": [],
   "source": [
    "simulator.graph.hierarchical_graph[\"neuron_element\"].edge_dict"
   ]
  },
  {
   "cell_type": "code",
   "execution_count": null,
   "metadata": {},
   "outputs": [],
   "source": [
    "simulator.graph.hierarchical_graph[\"neuron_model\"].node_dict[\"Inner/G0/a#0\"]"
   ]
  },
  {
   "cell_type": "code",
   "execution_count": null,
   "metadata": {},
   "outputs": [],
   "source": [
    "simulator.graph.hierarchical_graph[\"neuron_model\"].node_dict[\"LIF Trainer/G0/a#0\"]"
   ]
  },
  {
   "cell_type": "code",
   "execution_count": null,
   "metadata": {},
   "outputs": [],
   "source": [
    "simulator.graph.hierarchical_graph[\"neuron_element\"].node_dict[\"LIF Trainer/G0/a#0/@Input~Global~Spike\"]"
   ]
  },
  {
   "cell_type": "code",
   "execution_count": null,
   "metadata": {},
   "outputs": [],
   "source": [
    "simulator.graph.hierarchical_graph[\"neuron_element\"].node_dict[\"LIF Trainer/G0/a#0/Inner\"]"
   ]
  },
  {
   "cell_type": "code",
   "execution_count": null,
   "metadata": {},
   "outputs": [],
   "source": [
    "simulator.graph.job_list"
   ]
  },
  {
   "cell_type": "code",
   "execution_count": null,
   "metadata": {},
   "outputs": [],
   "source": [
    "import numpy as np\n",
    "a = np.array([[0. , 0. , 0. , 0. , 0. , 0.1, 0.1, 0.1, 0.1, 0.1, 0.1, 0.1, 0.1,\n",
    "         0.1, 0.1, 0. , 0. , 0. , 0. , 0. , 0. , 0. , 0. , 0. , 0. , 0. ,\n",
    "         0. , 0. , 0. , 0. , 0. , 0. ]])\n",
    "\n",
    "np.array([sum(a[:,6])])"
   ]
  },
  {
   "cell_type": "code",
   "execution_count": null,
   "metadata": {},
   "outputs": [],
   "source": [
    "simulator.graph.hierarchical_graph[\"neuron_model\"].node_dict[\"LIF Trainer/G0/a#0\"]"
   ]
  },
  {
   "cell_type": "code",
   "execution_count": null,
   "metadata": {},
   "outputs": [],
   "source": [
    "simulator.graph.global_input_job_list"
   ]
  },
  {
   "cell_type": "code",
   "execution_count": null,
   "metadata": {},
   "outputs": [],
   "source": [
    "a"
   ]
  },
  {
   "cell_type": "code",
   "execution_count": null,
   "metadata": {},
   "outputs": [],
   "source": [
    "simulator.graph.debug_by_networkx()"
   ]
  },
  {
   "cell_type": "code",
   "execution_count": null,
   "metadata": {},
   "outputs": [],
   "source": [
    "simulator.graph.hierarchical_graph[\"neuron_element\"].node_from_dict"
   ]
  },
  {
   "cell_type": "code",
   "execution_count": null,
   "metadata": {},
   "outputs": [],
   "source": [
    "import random\n",
    "random.randint(2,5)"
   ]
  },
  {
   "cell_type": "code",
   "execution_count": null,
   "metadata": {},
   "outputs": [],
   "source": [
    "import numpy as np\n",
    "a = np.array([[1,2],[3,4]])"
   ]
  },
  {
   "cell_type": "code",
   "execution_count": null,
   "metadata": {},
   "outputs": [],
   "source": [
    "b = np.array([[1,2],[3,4]])"
   ]
  },
  {
   "cell_type": "code",
   "execution_count": null,
   "metadata": {},
   "outputs": [],
   "source": [
    "np.zeros(a.shape)"
   ]
  },
  {
   "cell_type": "code",
   "execution_count": null,
   "metadata": {},
   "outputs": [],
   "source": [
    "a = np.array([1,2])"
   ]
  },
  {
   "cell_type": "code",
   "execution_count": null,
   "metadata": {},
   "outputs": [],
   "source": [
    "a = np.array([a])"
   ]
  },
  {
   "cell_type": "code",
   "execution_count": null,
   "metadata": {},
   "outputs": [],
   "source": [
    "a"
   ]
  },
  {
   "cell_type": "code",
   "execution_count": null,
   "metadata": {},
   "outputs": [],
   "source": [
    "b*a"
   ]
  },
  {
   "cell_type": "code",
   "execution_count": null,
   "metadata": {},
   "outputs": [],
   "source": [
    "np.dot(a,b)"
   ]
  },
  {
   "cell_type": "code",
   "execution_count": null,
   "metadata": {},
   "outputs": [],
   "source": [
    "c = np.delete(a,[2,3],0)"
   ]
  },
  {
   "cell_type": "code",
   "execution_count": null,
   "metadata": {},
   "outputs": [],
   "source": [
    "log(a)"
   ]
  },
  {
   "cell_type": "code",
   "execution_count": null,
   "metadata": {},
   "outputs": [],
   "source": [
    "c"
   ]
  },
  {
   "cell_type": "code",
   "execution_count": null,
   "metadata": {},
   "outputs": [],
   "source": [
    "import numpy as np\n",
    "a ={1: np.array([1,2,3,4])}\n",
    "b = {1: np.array([10])}\n",
    "c ={1: np.array([1,2,3,4])}"
   ]
  },
  {
   "cell_type": "code",
   "execution_count": null,
   "metadata": {},
   "outputs": [],
   "source": [
    "d=a.get(1)"
   ]
  },
  {
   "cell_type": "code",
   "execution_count": null,
   "metadata": {},
   "outputs": [],
   "source": [
    "a[1] = b[1]"
   ]
  },
  {
   "cell_type": "code",
   "execution_count": null,
   "metadata": {},
   "outputs": [],
   "source": [
    "d"
   ]
  },
  {
   "cell_type": "code",
   "execution_count": null,
   "metadata": {},
   "outputs": [],
   "source": [
    "b[1] = np.array([20])"
   ]
  },
  {
   "cell_type": "code",
   "execution_count": null,
   "metadata": {},
   "outputs": [],
   "source": [
    "a =np.array([1,2,3,4,25])\n",
    "b =np.array([15])\n",
    "c = a&b"
   ]
  },
  {
   "cell_type": "code",
   "execution_count": null,
   "metadata": {},
   "outputs": [],
   "source": [
    "c"
   ]
  },
  {
   "cell_type": "code",
   "execution_count": null,
   "metadata": {},
   "outputs": [],
   "source": [
    "b"
   ]
  },
  {
   "cell_type": "code",
   "execution_count": null,
   "metadata": {},
   "outputs": [],
   "source": [
    "for v, id in enumerate(a):\n",
    "    print(v)\n",
    "    print(id)"
   ]
  },
  {
   "cell_type": "code",
   "execution_count": null,
   "metadata": {},
   "outputs": [],
   "source": [
    "import numpy as np"
   ]
  },
  {
   "cell_type": "code",
   "execution_count": null,
   "metadata": {},
   "outputs": [],
   "source": [
    "a = {1:{1:1}}\n",
    "b=a[1]\n",
    "b[1]=2\n",
    "a"
   ]
  },
  {
   "cell_type": "code",
   "execution_count": null,
   "metadata": {},
   "outputs": [],
   "source": [
    "len(a)"
   ]
  },
  {
   "cell_type": "code",
   "execution_count": null,
   "metadata": {},
   "outputs": [],
   "source": [
    "import pycuda.driver as cuda"
   ]
  },
  {
   "cell_type": "code",
   "execution_count": null,
   "metadata": {},
   "outputs": [],
   "source": [
    "a = np.array([])"
   ]
  },
  {
   "cell_type": "code",
   "execution_count": null,
   "metadata": {},
   "outputs": [],
   "source": [
    "a = np.concatenate((a, np.array(['ㅁ'])))\n",
    "print(a)"
   ]
  },
  {
   "cell_type": "code",
   "execution_count": null,
   "metadata": {},
   "outputs": [],
   "source": [
    "np.where(a==0)[0]"
   ]
  },
  {
   "cell_type": "code",
   "execution_count": null,
   "metadata": {},
   "outputs": [],
   "source": [
    "import time\n",
    "a = {1:1}\n",
    "b=0\n",
    "\n",
    "#a={}\n",
    "\n",
    "\n",
    "whole_time0 = 0\n",
    "whole_time1 = 0\n",
    "whole_time2 = 0\n",
    "\n",
    "for i in range(1000000) :\n",
    "    \n",
    "    start1 = time.time()\n",
    "    \n",
    "    for k in a :\n",
    "        b=b+a[k]\n",
    "        break\n",
    "    \n",
    "    \n",
    "    end1 = time.time()\n",
    "    whole_time1 = whole_time1+end1 - start1\n",
    "    \n",
    "    \n",
    "    start2 = time.time()\n",
    "    \n",
    "    if len(a)==1 :\n",
    "        b=b+list(a.values())[0]\n",
    "    \n",
    "    \n",
    "    end2 = time.time()\n",
    "    whole_time2 = whole_time2+end2 - start2\n",
    "    \n",
    "    start0 = time.time()\n",
    "    end0 = time.time()\n",
    "    whole_time0 = whole_time0+end0 - start0\n",
    "\n",
    "print(whole_time1 - whole_time0)\n",
    "print(whole_time2 - whole_time0)"
   ]
  },
  {
   "cell_type": "code",
   "execution_count": null,
   "metadata": {},
   "outputs": [],
   "source": [
    "neuron_network.graph.hierarchical_graph[\"neuron_model\"].node_dict"
   ]
  },
  {
   "cell_type": "code",
   "execution_count": null,
   "metadata": {},
   "outputs": [],
   "source": [
    "a = {1:'1',2:'2'}\n",
    "b=a\n",
    "a[3]='3'\n",
    "next(iter(a))"
   ]
  },
  {
   "cell_type": "code",
   "execution_count": null,
   "metadata": {},
   "outputs": [],
   "source": [
    "a={}\n",
    "next(iter(a))"
   ]
  },
  {
   "cell_type": "code",
   "execution_count": null,
   "metadata": {},
   "outputs": [],
   "source": [
    "iter(a)"
   ]
  },
  {
   "cell_type": "code",
   "execution_count": null,
   "metadata": {},
   "outputs": [],
   "source": [
    "a = {1:'1'}\n",
    "next(iter(a))"
   ]
  },
  {
   "cell_type": "code",
   "execution_count": null,
   "metadata": {},
   "outputs": [],
   "source": [
    "c = dict(a)\n",
    "c.update(b)\n",
    "c"
   ]
  },
  {
   "cell_type": "code",
   "execution_count": null,
   "metadata": {
    "scrolled": true
   },
   "outputs": [],
   "source": [
    "neuron_network.graph.hierarchical_graph[\"neuron_group\"].node_dict"
   ]
  },
  {
   "cell_type": "code",
   "execution_count": null,
   "metadata": {},
   "outputs": [],
   "source": [
    "from random import *\n",
    "random()"
   ]
  },
  {
   "cell_type": "code",
   "execution_count": null,
   "metadata": {},
   "outputs": [],
   "source": [
    "NeuralNetwork.graph.hierarchical_graph['neuron_model'].node_dict['Inner@1\\\\n0\\\\Na+ Channel'][\"neuron_model\"].neuron_node"
   ]
  },
  {
   "cell_type": "code",
   "execution_count": null,
   "metadata": {},
   "outputs": [],
   "source": [
    "import random\n",
    "import time\n",
    "import timeit\n",
    "start = timeit.timeit() \n",
    "\n",
    "time.sleep(1)\n",
    "\n",
    "a = random.random()\n",
    "\n",
    "\n",
    "print(timeit.timeit() - start)"
   ]
  },
  {
   "cell_type": "code",
   "execution_count": null,
   "metadata": {},
   "outputs": [],
   "source": [
    "import timeit\n",
    "\n",
    "\n",
    "\n",
    "\n",
    "t1 = timeit.timeit(lambda: \"-\".join(map(str, range(100))), number=10000)\n",
    "print(t1)\n"
   ]
  },
  {
   "cell_type": "code",
   "execution_count": null,
   "metadata": {},
   "outputs": [],
   "source": [
    "NeuralNetwork.network_json"
   ]
  },
  {
   "cell_type": "code",
   "execution_count": null,
   "metadata": {},
   "outputs": [],
   "source": [
    "NeuralNetwork.graph.node_label_dict"
   ]
  },
  {
   "cell_type": "code",
   "execution_count": null,
   "metadata": {},
   "outputs": [],
   "source": [
    "NeuralNetwork.graph.hierarchical_group_dict"
   ]
  },
  {
   "cell_type": "code",
   "execution_count": null,
   "metadata": {},
   "outputs": [],
   "source": [
    "NeuralNetwork.graph.hierarchical_graph['neuron'].edge_dict"
   ]
  },
  {
   "cell_type": "code",
   "execution_count": null,
   "metadata": {},
   "outputs": [],
   "source": [
    "NeuralNetwork.makeInitNeuron()"
   ]
  },
  {
   "cell_type": "code",
   "execution_count": null,
   "metadata": {},
   "outputs": [],
   "source": [
    "NeuralNetwork.neuron_graph.node_dict"
   ]
  },
  {
   "cell_type": "code",
   "execution_count": null,
   "metadata": {},
   "outputs": [],
   "source": [
    "NeuralNetwork.network_json"
   ]
  },
  {
   "cell_type": "code",
   "execution_count": null,
   "metadata": {},
   "outputs": [],
   "source": [
    "NeuralNetwork.neuron_group_dict['Inner@1'].neuron_dict[0].edges"
   ]
  },
  {
   "cell_type": "code",
   "execution_count": null,
   "metadata": {},
   "outputs": [],
   "source": [
    "layer1 = {'nodes':[1,2,3], 'edges':[(1,2),(2,3)]}\n",
    "layer2 = {'nodes':[1,2,3], 'edges':[(1,2),(1,2)]}\n",
    "layer3 = {'nodes':[1,2], 'edges':[(1,2)]}\n",
    "layer4 = {'nodes':[1,2,3,4], 'edges':[(1,2),(1,3),(1,4)]}"
   ]
  },
  {
   "cell_type": "code",
   "execution_count": null,
   "metadata": {},
   "outputs": [],
   "source": []
  },
  {
   "cell_type": "code",
   "execution_count": null,
   "metadata": {},
   "outputs": [],
   "source": [
    "from Graph import Graph\n",
    "\n",
    "testGraph = Graph()\n",
    "\n",
    "testNodeB = [1,2,3,4,5,6,7,8]\n",
    "testEdgeB = [(2,1), (3,1),(4,1),(1,5),(1,6),(1,7), (4,7)]\n",
    "\n",
    "testNodeA = []\n",
    "for node in testNodeB :\n",
    "    testNodeA.append({'label':node})\n",
    "    \n",
    "testEdgeA = []\n",
    "id = 0\n",
    "for edge in testEdgeB :\n",
    "    testEdgeA.append({'from':edge[0], 'to':edge[1], 'label':id})\n",
    "    id = id+1"
   ]
  },
  {
   "cell_type": "code",
   "execution_count": null,
   "metadata": {},
   "outputs": [],
   "source": [
    "testNodeA"
   ]
  },
  {
   "cell_type": "code",
   "execution_count": null,
   "metadata": {},
   "outputs": [],
   "source": [
    "testEdgeA"
   ]
  },
  {
   "cell_type": "code",
   "execution_count": null,
   "metadata": {},
   "outputs": [],
   "source": [
    "testGraphA = {\"nodes\":testNodeA, \"edges\":testEdgeA}"
   ]
  },
  {
   "cell_type": "code",
   "execution_count": null,
   "metadata": {},
   "outputs": [],
   "source": [
    "testGraph.initGraph(testGraphA)"
   ]
  },
  {
   "cell_type": "code",
   "execution_count": null,
   "metadata": {},
   "outputs": [],
   "source": [
    "testGraph.deleteNode({'label':1})"
   ]
  },
  {
   "cell_type": "code",
   "execution_count": null,
   "metadata": {
    "scrolled": true
   },
   "outputs": [],
   "source": [
    "testGraph.node_dict"
   ]
  },
  {
   "cell_type": "code",
   "execution_count": null,
   "metadata": {},
   "outputs": [],
   "source": [
    "testGraph.edge_dict"
   ]
  },
  {
   "cell_type": "code",
   "execution_count": null,
   "metadata": {},
   "outputs": [],
   "source": [
    "testGraph.node_from_dict"
   ]
  },
  {
   "cell_type": "code",
   "execution_count": null,
   "metadata": {},
   "outputs": [],
   "source": [
    "testGraph.node_to_dict"
   ]
  },
  {
   "cell_type": "code",
   "execution_count": null,
   "metadata": {},
   "outputs": [],
   "source": [
    "import networkx as nx"
   ]
  },
  {
   "cell_type": "code",
   "execution_count": null,
   "metadata": {},
   "outputs": [],
   "source": [
    "def R(x) :\n",
    "    return 0\n",
    "    #return x/2\n",
    "\n",
    "def D(x) :\n",
    "    return x/2\n",
    "\n",
    "import numpy as np\n",
    "dt = 1/100\n",
    "T = 10\n",
    "\n",
    "SL = int(T/dt)\n",
    "\n",
    "a = np.sin(np.arange(0, T, dt))\n",
    "da = np.full((SL,),dt, dtype=float)\n",
    "b = np.full((SL,),0, dtype=float)\n",
    "db = np.full((SL,),0, dtype=float)\n",
    "\n",
    "for i in range (SL) :\n",
    "    da[i] = a[i]-a[i-1]\n",
    "    db[i] = R(a[i])*da[i] + D(a[i])*dt\n",
    "    b[i] = b[i-1]+db[i]\n",
    "    \n",
    "ans = np.square(a)/4"
   ]
  },
  {
   "cell_type": "code",
   "execution_count": null,
   "metadata": {},
   "outputs": [],
   "source": [
    "from matplotlib import pyplot as plt\n",
    "\n",
    "plt.plot(a)\n",
    "plt.plot(da)\n",
    "plt.plot(b)\n",
    "plt.plot(db)\n",
    "plt.legend(['a','da','bd','db'])\n",
    "plt.show()\n",
    "\n",
    "plt.plot(a)\n",
    "plt.plot(da)\n",
    "plt.plot(ans)\n",
    "plt.plot(db)\n",
    "plt.legend(['a','da','ans','db'])\n",
    "plt.show()\n",
    "\n",
    "plt.plot(a)\n",
    "plt.plot(da)\n",
    "plt.plot(b)\n",
    "plt.plot(ans)\n",
    "plt.plot(db)\n",
    "plt.legend(['a','da','b','ans','db'])\n",
    "plt.show()"
   ]
  },
  {
   "cell_type": "code",
   "execution_count": null,
   "metadata": {},
   "outputs": [],
   "source": []
  }
 ],
 "metadata": {
  "kernelspec": {
   "display_name": "Python 3",
   "language": "python",
   "name": "python3"
  },
  "language_info": {
   "codemirror_mode": {
    "name": "ipython",
    "version": 3
   },
   "file_extension": ".py",
   "mimetype": "text/x-python",
   "name": "python",
   "nbconvert_exporter": "python",
   "pygments_lexer": "ipython3",
   "version": "3.7.7"
  }
 },
 "nbformat": 4,
 "nbformat_minor": 2
}
