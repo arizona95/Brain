{
 "cells": [
  {
   "cell_type": "code",
   "execution_count": null,
   "metadata": {},
   "outputs": [],
   "source": [
    "import matplotlib.pyplot as plt"
   ]
  },
  {
   "cell_type": "code",
   "execution_count": 1,
   "metadata": {},
   "outputs": [],
   "source": [
    "import importlib\n",
    "import Simulator\n",
    "importlib.reload(Simulator)\n",
    "from Simulator import Simulator\n",
    "\n",
    "neuron_network_filename = \"Network3\"\n",
    "simulator = Simulator(neuron_network_filename)\n",
    "simulator.graph.make_graph_board(0)\n",
    "\n",
    "#simulator.boarn()"
   ]
  },
  {
   "cell_type": "code",
   "execution_count": 3,
   "metadata": {},
   "outputs": [
    {
     "data": {
      "text/plain": [
       "{'label': 'LIF Trainer/G0/a#0',\n",
       " 'neuron': 'LIF',\n",
       " 'role': '@Input',\n",
       " 'locality': 'Local',\n",
       " 'original_label': 'a#0',\n",
       " 'location': [[-314.9583435058594, -915.5],\n",
       "  [0, 0],\n",
       "  [-522.9583435058594, -711.5]],\n",
       " 'local_synaps': array([], dtype=float64),\n",
       " 'local_synaps_index': 0,\n",
       " 'local_synaps_num': 0,\n",
       " 'global_synaps': array(['Train/G0/a -> LIF Trainer/G0/a#0 G0'], dtype='<U35'),\n",
       " 'global_synaps_index': 1,\n",
       " 'global_synaps_num': 1,\n",
       " 'depth': 2,\n",
       " 'hierarchy_name': 'neuron_model'}"
      ]
     },
     "execution_count": 3,
     "metadata": {},
     "output_type": "execute_result"
    }
   ],
   "source": [
    "simulator.graph.hierarchical_graph[\"neuron_model\"].node_dict[\"LIF Trainer/G0/a#0\"]"
   ]
  },
  {
   "cell_type": "code",
   "execution_count": 4,
   "metadata": {},
   "outputs": [
    {
     "data": {
      "text/plain": [
       "{'label': 'LIF Trainer/G0/a#0/@Input~Global~Spike',\n",
       " 'locality': 'Global',\n",
       " 'role': '@Input',\n",
       " 'group': 'Else',\n",
       " 'bound_max': 1,\n",
       " 'bound_min': 0,\n",
       " 'Random': 0,\n",
       " 'initial': 0.1,\n",
       " 'original_label': 'Spike',\n",
       " 'location': [[-314.9583435058594, -915.5],\n",
       "  [0, 0],\n",
       "  [-522.9583435058594, -711.5],\n",
       "  [-379.8745935058593, -569.225]],\n",
       " 'value': {'v': array([0.1]), 'dv': array([0.]), 'ndv': array([0.])},\n",
       " 'queue': array([0., 0., 0., 0., 0., 0., 0., 0., 0., 0., 0., 0., 0., 0., 0., 0., 0.,\n",
       "        0., 0., 0., 0., 0., 0., 0., 0., 0., 0., 0., 0., 0., 0., 0.]),\n",
       " 'time_interval': array([], dtype=float64),\n",
       " 'depth': 3,\n",
       " 'hierarchy_name': 'neuron_element'}"
      ]
     },
     "execution_count": 4,
     "metadata": {},
     "output_type": "execute_result"
    }
   ],
   "source": [
    "simulator.graph.hierarchical_graph[\"neuron_element\"].node_dict[\"LIF Trainer/G0/a#0/@Input~Global~Spike\"]"
   ]
  },
  {
   "cell_type": "code",
   "execution_count": null,
   "metadata": {},
   "outputs": [],
   "source": [
    "c"
   ]
  },
  {
   "cell_type": "code",
   "execution_count": null,
   "metadata": {},
   "outputs": [],
   "source": [
    "simulator.graph.debug_by_networkx()"
   ]
  },
  {
   "cell_type": "code",
   "execution_count": null,
   "metadata": {},
   "outputs": [],
   "source": [
    "simulator.graph.hierarchical_graph[\"neuron_element\"].node_from_dict"
   ]
  },
  {
   "cell_type": "code",
   "execution_count": null,
   "metadata": {},
   "outputs": [],
   "source": [
    "import random\n",
    "random.randint(2,5)"
   ]
  },
  {
   "cell_type": "code",
   "execution_count": null,
   "metadata": {},
   "outputs": [],
   "source": [
    "a = {1:'1'}"
   ]
  },
  {
   "cell_type": "code",
   "execution_count": null,
   "metadata": {},
   "outputs": [],
   "source": [
    "list(a.values())"
   ]
  },
  {
   "cell_type": "code",
   "execution_count": null,
   "metadata": {},
   "outputs": [],
   "source": [
    "import math\n",
    "math.pow(3,2)"
   ]
  },
  {
   "cell_type": "code",
   "execution_count": null,
   "metadata": {},
   "outputs": [],
   "source": [
    "import numpy as np"
   ]
  },
  {
   "cell_type": "code",
   "execution_count": null,
   "metadata": {},
   "outputs": [],
   "source": [
    "a = np.array([])"
   ]
  },
  {
   "cell_type": "code",
   "execution_count": null,
   "metadata": {},
   "outputs": [],
   "source": [
    "a = np.concatenate((a, np.array(['ㅁ'])))\n",
    "print(a)"
   ]
  },
  {
   "cell_type": "code",
   "execution_count": null,
   "metadata": {},
   "outputs": [],
   "source": [
    "np.where(a==0)[0]"
   ]
  },
  {
   "cell_type": "code",
   "execution_count": null,
   "metadata": {},
   "outputs": [],
   "source": [
    "import time\n",
    "a = {1:1}\n",
    "b=0\n",
    "\n",
    "#a={}\n",
    "\n",
    "\n",
    "whole_time0 = 0\n",
    "whole_time1 = 0\n",
    "whole_time2 = 0\n",
    "\n",
    "for i in range(1000000) :\n",
    "    \n",
    "    start1 = time.time()\n",
    "    \n",
    "    for k in a :\n",
    "        b=b+a[k]\n",
    "        break\n",
    "    \n",
    "    \n",
    "    end1 = time.time()\n",
    "    whole_time1 = whole_time1+end1 - start1\n",
    "    \n",
    "    \n",
    "    start2 = time.time()\n",
    "    \n",
    "    if len(a)==1 :\n",
    "        b=b+list(a.values())[0]\n",
    "    \n",
    "    \n",
    "    end2 = time.time()\n",
    "    whole_time2 = whole_time2+end2 - start2\n",
    "    \n",
    "    start0 = time.time()\n",
    "    end0 = time.time()\n",
    "    whole_time0 = whole_time0+end0 - start0\n",
    "\n",
    "print(whole_time1 - whole_time0)\n",
    "print(whole_time2 - whole_time0)"
   ]
  },
  {
   "cell_type": "code",
   "execution_count": null,
   "metadata": {},
   "outputs": [],
   "source": [
    "neuron_network.graph.hierarchical_graph[\"neuron_model\"].node_dict"
   ]
  },
  {
   "cell_type": "code",
   "execution_count": null,
   "metadata": {},
   "outputs": [],
   "source": [
    "a = {1:'1',2:'2'}\n",
    "b=a\n",
    "a[3]='3'\n",
    "next(iter(a))"
   ]
  },
  {
   "cell_type": "code",
   "execution_count": null,
   "metadata": {},
   "outputs": [],
   "source": [
    "a={}\n",
    "next(iter(a))"
   ]
  },
  {
   "cell_type": "code",
   "execution_count": null,
   "metadata": {},
   "outputs": [],
   "source": [
    "iter(a)"
   ]
  },
  {
   "cell_type": "code",
   "execution_count": null,
   "metadata": {},
   "outputs": [],
   "source": [
    "a = {1:'1'}\n",
    "next(iter(a))"
   ]
  },
  {
   "cell_type": "code",
   "execution_count": null,
   "metadata": {},
   "outputs": [],
   "source": [
    "c = dict(a)\n",
    "c.update(b)\n",
    "c"
   ]
  },
  {
   "cell_type": "code",
   "execution_count": null,
   "metadata": {
    "scrolled": true
   },
   "outputs": [],
   "source": [
    "neuron_network.graph.hierarchical_graph[\"neuron_group\"].node_dict"
   ]
  },
  {
   "cell_type": "code",
   "execution_count": null,
   "metadata": {},
   "outputs": [],
   "source": [
    "from random import *\n",
    "random()"
   ]
  },
  {
   "cell_type": "code",
   "execution_count": null,
   "metadata": {},
   "outputs": [],
   "source": [
    "NeuralNetwork.graph.hierarchical_graph['neuron_model'].node_dict['Inner@1\\\\n0\\\\Na+ Channel'][\"neuron_model\"].neuron_node"
   ]
  },
  {
   "cell_type": "code",
   "execution_count": null,
   "metadata": {},
   "outputs": [],
   "source": [
    "import random\n",
    "import time\n",
    "import timeit\n",
    "start = timeit.timeit() \n",
    "\n",
    "time.sleep(1)\n",
    "\n",
    "a = random.random()\n",
    "\n",
    "\n",
    "print(timeit.timeit() - start)"
   ]
  },
  {
   "cell_type": "code",
   "execution_count": null,
   "metadata": {},
   "outputs": [],
   "source": [
    "import timeit\n",
    "\n",
    "\n",
    "\n",
    "\n",
    "t1 = timeit.timeit(lambda: \"-\".join(map(str, range(100))), number=10000)\n",
    "print(t1)\n"
   ]
  },
  {
   "cell_type": "code",
   "execution_count": null,
   "metadata": {},
   "outputs": [],
   "source": [
    "NeuralNetwork.network_json"
   ]
  },
  {
   "cell_type": "code",
   "execution_count": null,
   "metadata": {},
   "outputs": [],
   "source": [
    "NeuralNetwork.graph.node_label_dict"
   ]
  },
  {
   "cell_type": "code",
   "execution_count": null,
   "metadata": {},
   "outputs": [],
   "source": [
    "NeuralNetwork.graph.hierarchical_group_dict"
   ]
  },
  {
   "cell_type": "code",
   "execution_count": null,
   "metadata": {},
   "outputs": [],
   "source": [
    "NeuralNetwork.graph.hierarchical_graph['neuron'].edge_dict"
   ]
  },
  {
   "cell_type": "code",
   "execution_count": null,
   "metadata": {},
   "outputs": [],
   "source": [
    "NeuralNetwork.makeInitNeuron()"
   ]
  },
  {
   "cell_type": "code",
   "execution_count": null,
   "metadata": {},
   "outputs": [],
   "source": [
    "NeuralNetwork.neuron_graph.node_dict"
   ]
  },
  {
   "cell_type": "code",
   "execution_count": null,
   "metadata": {},
   "outputs": [],
   "source": [
    "NeuralNetwork.network_json"
   ]
  },
  {
   "cell_type": "code",
   "execution_count": null,
   "metadata": {},
   "outputs": [],
   "source": [
    "NeuralNetwork.neuron_group_dict['Inner@1'].neuron_dict[0].edges"
   ]
  },
  {
   "cell_type": "code",
   "execution_count": null,
   "metadata": {},
   "outputs": [],
   "source": [
    "layer1 = {'nodes':[1,2,3], 'edges':[(1,2),(2,3)]}\n",
    "layer2 = {'nodes':[1,2,3], 'edges':[(1,2),(1,2)]}\n",
    "layer3 = {'nodes':[1,2], 'edges':[(1,2)]}\n",
    "layer4 = {'nodes':[1,2,3,4], 'edges':[(1,2),(1,3),(1,4)]}"
   ]
  },
  {
   "cell_type": "code",
   "execution_count": null,
   "metadata": {},
   "outputs": [],
   "source": []
  },
  {
   "cell_type": "code",
   "execution_count": null,
   "metadata": {},
   "outputs": [],
   "source": [
    "from Graph import Graph\n",
    "\n",
    "testGraph = Graph()\n",
    "\n",
    "testNodeB = [1,2,3,4,5,6,7,8]\n",
    "testEdgeB = [(2,1), (3,1),(4,1),(1,5),(1,6),(1,7), (4,7)]\n",
    "\n",
    "testNodeA = []\n",
    "for node in testNodeB :\n",
    "    testNodeA.append({'label':node})\n",
    "    \n",
    "testEdgeA = []\n",
    "id = 0\n",
    "for edge in testEdgeB :\n",
    "    testEdgeA.append({'from':edge[0], 'to':edge[1], 'label':id})\n",
    "    id = id+1"
   ]
  },
  {
   "cell_type": "code",
   "execution_count": null,
   "metadata": {},
   "outputs": [],
   "source": [
    "testNodeA"
   ]
  },
  {
   "cell_type": "code",
   "execution_count": null,
   "metadata": {},
   "outputs": [],
   "source": [
    "testEdgeA"
   ]
  },
  {
   "cell_type": "code",
   "execution_count": null,
   "metadata": {},
   "outputs": [],
   "source": [
    "testGraphA = {\"nodes\":testNodeA, \"edges\":testEdgeA}"
   ]
  },
  {
   "cell_type": "code",
   "execution_count": null,
   "metadata": {},
   "outputs": [],
   "source": [
    "testGraph.initGraph(testGraphA)"
   ]
  },
  {
   "cell_type": "code",
   "execution_count": null,
   "metadata": {},
   "outputs": [],
   "source": [
    "testGraph.deleteNode({'label':1})"
   ]
  },
  {
   "cell_type": "code",
   "execution_count": null,
   "metadata": {
    "scrolled": true
   },
   "outputs": [],
   "source": [
    "testGraph.node_dict"
   ]
  },
  {
   "cell_type": "code",
   "execution_count": null,
   "metadata": {},
   "outputs": [],
   "source": [
    "testGraph.edge_dict"
   ]
  },
  {
   "cell_type": "code",
   "execution_count": null,
   "metadata": {},
   "outputs": [],
   "source": [
    "testGraph.node_from_dict"
   ]
  },
  {
   "cell_type": "code",
   "execution_count": null,
   "metadata": {},
   "outputs": [],
   "source": [
    "testGraph.node_to_dict"
   ]
  },
  {
   "cell_type": "code",
   "execution_count": null,
   "metadata": {},
   "outputs": [],
   "source": [
    "import networkx as nx"
   ]
  },
  {
   "cell_type": "code",
   "execution_count": null,
   "metadata": {},
   "outputs": [],
   "source": [
    "dd"
   ]
  },
  {
   "cell_type": "code",
   "execution_count": null,
   "metadata": {},
   "outputs": [],
   "source": []
  },
  {
   "cell_type": "code",
   "execution_count": null,
   "metadata": {},
   "outputs": [],
   "source": []
  },
  {
   "cell_type": "code",
   "execution_count": null,
   "metadata": {},
   "outputs": [],
   "source": []
  },
  {
   "cell_type": "code",
   "execution_count": null,
   "metadata": {},
   "outputs": [],
   "source": [
    "a = [[1,2],[3,4]]"
   ]
  },
  {
   "cell_type": "code",
   "execution_count": null,
   "metadata": {},
   "outputs": [],
   "source": [
    "for loc in a : "
   ]
  },
  {
   "cell_type": "code",
   "execution_count": null,
   "metadata": {},
   "outputs": [],
   "source": []
  },
  {
   "cell_type": "code",
   "execution_count": null,
   "metadata": {},
   "outputs": [],
   "source": []
  },
  {
   "cell_type": "code",
   "execution_count": null,
   "metadata": {},
   "outputs": [],
   "source": []
  }
 ],
 "metadata": {
  "kernelspec": {
   "display_name": "Python 3",
   "language": "python",
   "name": "python3"
  },
  "language_info": {
   "codemirror_mode": {
    "name": "ipython",
    "version": 3
   },
   "file_extension": ".py",
   "mimetype": "text/x-python",
   "name": "python",
   "nbconvert_exporter": "python",
   "pygments_lexer": "ipython3",
   "version": "3.7.3"
  }
 },
 "nbformat": 4,
 "nbformat_minor": 2
}
