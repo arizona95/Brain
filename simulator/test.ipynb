{
 "cells": [
  {
   "cell_type": "code",
   "execution_count": 63,
   "metadata": {},
   "outputs": [
    {
     "name": "stdout",
     "output_type": "stream",
     "text": [
      "======================== build_simulator ==========================\n",
      " ================================================================\n",
      "\n",
      "Elapsed time : 0.04687500 sec \n",
      "======================== make_graph_board ==========================\n",
      " ================================================================\n",
      "\n",
      "Elapsed time : 0.00000000 sec \n"
     ]
    }
   ],
   "source": [
    "from Simulator import Simulator\n",
    "from Timer import Timer\n",
    "\n",
    "with Timer(\"build_simulator\") :\n",
    "    neuron_network_filename = \"Network2\"\n",
    "    simulator = Simulator(neuron_network_filename)\n",
    "    \n",
    "with Timer(\"make_graph_board\") :\n",
    "    simulator.graph.make_graph_board(0)\n",
    "\n",
    "simulator.boarn()"
   ]
  },
  {
   "cell_type": "code",
   "execution_count": null,
   "metadata": {},
   "outputs": [],
   "source": [
    "debug_config = {\"debug_mode\":\"true\"}\n",
    "simulator.graph.debug_set(debug_config)"
   ]
  },
  {
   "cell_type": "code",
   "execution_count": null,
   "metadata": {},
   "outputs": [],
   "source": [
    "debug_config = {\"debug_include\":[\"Inner\"]}\n",
    "simulator.graph.debug_set(debug_config)"
   ]
  },
  {
   "cell_type": "code",
   "execution_count": null,
   "metadata": {},
   "outputs": [],
   "source": [
    "debug_config = {\"debug_remove\":[\"Inner/G0/b#0/Ca+\"]}\n",
    "simulator.graph.debug_set(debug_config)"
   ]
  },
  {
   "cell_type": "code",
   "execution_count": 64,
   "metadata": {},
   "outputs": [
    {
     "name": "stdout",
     "output_type": "stream",
     "text": [
      "======================== one_step_CPU ==========================\n",
      " ================================================================\n",
      "\n",
      "Elapsed time : 18.09375000 sec \n"
     ]
    }
   ],
   "source": [
    "with Timer(\"one_step_CPU\") :\n",
    "    for i in range(10000) :\n",
    "        simulator.one_step()"
   ]
  },
  {
   "cell_type": "code",
   "execution_count": null,
   "metadata": {},
   "outputs": [],
   "source": []
  },
  {
   "cell_type": "code",
   "execution_count": null,
   "metadata": {},
   "outputs": [],
   "source": [
    "import numpy as np\n",
    " \n",
    "a = np.sin(np.arange(0, 5, 0.001))\n",
    "b = np.sin(np.arange(0, 5, 0.001))"
   ]
  },
  {
   "cell_type": "code",
   "execution_count": null,
   "metadata": {},
   "outputs": [],
   "source": [
    "a.shape"
   ]
  },
  {
   "cell_type": "code",
   "execution_count": 23,
   "metadata": {},
   "outputs": [
    {
     "ename": "SyntaxError",
     "evalue": "invalid syntax (<ipython-input-23-18afaea2f26a>, line 3)",
     "output_type": "error",
     "traceback": [
      "\u001b[1;36m  File \u001b[1;32m\"<ipython-input-23-18afaea2f26a>\"\u001b[1;36m, line \u001b[1;32m3\u001b[0m\n\u001b[1;33m    a = np.full((400,200),2 dtype=float)\u001b[0m\n\u001b[1;37m                                ^\u001b[0m\n\u001b[1;31mSyntaxError\u001b[0m\u001b[1;31m:\u001b[0m invalid syntax\n"
     ]
    }
   ],
   "source": [
    "import numpy as np\n",
    " \n",
    "a = np.full((400,200),2 dtype=float)\n",
    "b = np.full((200,400),1, dtype=float)\n",
    "c = np.full((200,400),0, dtype=float)\n",
    "from scipy.sparse import csr_matrix\n",
    "d = csr_matrix(c)\n",
    "with Timer(\"test_np\") :\n",
    "    for i in range(10000) :\n",
    "        e=d.dot(a)\n",
    "        #d=a*b"
   ]
  },
  {
   "cell_type": "code",
   "execution_count": 3,
   "metadata": {},
   "outputs": [],
   "source": [
    "import numpy as np\n",
    "import time\n",
    "import matplotlib.pyplot as plt"
   ]
  },
  {
   "cell_type": "code",
   "execution_count": 20,
   "metadata": {},
   "outputs": [],
   "source": [
    "from numba import njit"
   ]
  },
  {
   "cell_type": "code",
   "execution_count": 61,
   "metadata": {},
   "outputs": [],
   "source": [
    "\n",
    "def dot_py(A,B):\n",
    "    m, n = A.shape\n",
    "\n",
    "    C = np.zeros((m,n))\n",
    "\n",
    "    for i in range(0,m):\n",
    "        for j in range(0,n):\n",
    "            C[i,j] = A[i,j]*B[i,j] \n",
    "    return C\n",
    "\n",
    "import numba as nb\n",
    "dot_nb = nb.jit( nopython = True)(dot_py)"
   ]
  },
  {
   "cell_type": "code",
   "execution_count": 62,
   "metadata": {},
   "outputs": [
    {
     "name": "stdout",
     "output_type": "stream",
     "text": [
      "======================== test_np ==========================\n",
      " ================================================================\n",
      "\n",
      "Elapsed time : 1.43750000 sec \n"
     ]
    }
   ],
   "source": [
    "a = np.full((200,100),2, dtype=float)\n",
    "dot_nb(a,a)\n",
    "with Timer(\"test_np\") :\n",
    "    for i in range(100000):\n",
    "        dot_nb(a,a)"
   ]
  },
  {
   "cell_type": "code",
   "execution_count": null,
   "metadata": {},
   "outputs": [],
   "source": []
  },
  {
   "cell_type": "code",
   "execution_count": 60,
   "metadata": {},
   "outputs": [
    {
     "name": "stdout",
     "output_type": "stream",
     "text": [
      "======================== test_np ==========================\n",
      " ================================================================\n",
      "\n",
      "Elapsed time : 1.10937500 sec \n"
     ]
    }
   ],
   "source": [
    "def dot_py2(A,B):\n",
    "    C=A*B\n",
    "    return C\n",
    "    \n",
    " \n",
    "a = np.full((200,100),2, dtype=float)\n",
    "with Timer(\"test_np\") :\n",
    "    for i in range(100000):\n",
    "        dot_py2(a,a)"
   ]
  },
  {
   "cell_type": "code",
   "execution_count": 8,
   "metadata": {},
   "outputs": [
    {
     "ename": "NameError",
     "evalue": "name 'c' is not defined",
     "output_type": "error",
     "traceback": [
      "\u001b[1;31m---------------------------------------------------------------------------\u001b[0m",
      "\u001b[1;31mNameError\u001b[0m                                 Traceback (most recent call last)",
      "\u001b[1;32m<ipython-input-8-2b66fd261ee5>\u001b[0m in \u001b[0;36m<module>\u001b[1;34m\u001b[0m\n\u001b[1;32m----> 1\u001b[1;33m \u001b[0mc\u001b[0m\u001b[1;33m\u001b[0m\u001b[1;33m\u001b[0m\u001b[0m\n\u001b[0m",
      "\u001b[1;31mNameError\u001b[0m: name 'c' is not defined"
     ]
    }
   ],
   "source": [
    "c"
   ]
  },
  {
   "cell_type": "code",
   "execution_count": 60,
   "metadata": {},
   "outputs": [
    {
     "name": "stdout",
     "output_type": "stream",
     "text": [
      "1.4 ms ± 233 µs per loop (mean ± std. dev. of 7 runs, 100 loops each)\n",
      "1.81 ms ± 854 µs per loop (mean ± std. dev. of 7 runs, 1000 loops each)\n"
     ]
    }
   ],
   "source": [
    "%timeit  test1()\n",
    "%timeit  test2()"
   ]
  },
  {
   "cell_type": "code",
   "execution_count": 43,
   "metadata": {},
   "outputs": [
    {
     "data": {
      "image/png": "[encoded data removed]",
      "text/plain": [
       "<Figure size 432x288 with 1 Axes>"
      ]
     },
     "metadata": {
      "needs_background": "light"
     },
     "output_type": "display_data"
    }
   ],
   "source": [
    "plt.plot(tt)\n",
    "plt.show()"
   ]
  },
  {
   "cell_type": "code",
   "execution_count": 22,
   "metadata": {},
   "outputs": [
    {
     "data": {
      "text/plain": [
       "'1.19.0'"
      ]
     },
     "execution_count": 22,
     "metadata": {},
     "output_type": "execute_result"
    }
   ],
   "source": [
    "np.__version__"
   ]
  },
  {
   "cell_type": "code",
   "execution_count": null,
   "metadata": {},
   "outputs": [],
   "source": [
    "e.shape"
   ]
  },
  {
   "cell_type": "code",
   "execution_count": null,
   "metadata": {},
   "outputs": [],
   "source": [
    "simulator.graph.debug_dict"
   ]
  },
  {
   "cell_type": "code",
   "execution_count": null,
   "metadata": {},
   "outputs": [],
   "source": [
    "simulator.graph.debug_show"
   ]
  },
  {
   "cell_type": "code",
   "execution_count": null,
   "metadata": {},
   "outputs": [],
   "source": [
    "simulator.neuron_element.Utill.RDF_function"
   ]
  },
  {
   "cell_type": "code",
   "execution_count": null,
   "metadata": {
    "scrolled": true
   },
   "outputs": [],
   "source": [
    "with Timer(\"one_step_CPU\") :\n",
    "    for i in range(1) :\n",
    "        simulator.one_step()"
   ]
  },
  {
   "cell_type": "code",
   "execution_count": 65,
   "metadata": {},
   "outputs": [
    {
     "data": {
      "text/plain": [
       "{'label': 'Inner/G0/c#0/@Input~Local~Spike',\n",
       " 'locality': 'Local',\n",
       " 'role': '@Input',\n",
       " 'group': 'Else',\n",
       " 'bound_max': 1,\n",
       " 'bound_min': 0,\n",
       " 'Random': 0,\n",
       " 'initial': 0.1,\n",
       " 'original_label': 'Spike',\n",
       " 'location': [[-314.9583435058594, -769.5],\n",
       "  [0, 0],\n",
       "  [-365.9583435058594, -967.5],\n",
       "  [-915.7394685058595, -544.2037499999999]],\n",
       " 'value': {'v': array([0.1, 0.1, 0.1, 0.1, 0.1, 0.1, 0.1, 0. ]),\n",
       "  'dv': array([0., 0., 0., 0., 0., 0., 0., 0.]),\n",
       "  'ndv': array([0., 0., 0., 0., 0., 0., 0., 0.])},\n",
       " 'synaps_num': -2,\n",
       " 'queue': array([[0.1, 0.1, 0.1, 0.1, 0.1, 0.1, 0.1, 0.1, 0.1, 0.1, 0.1, 0.1, 0.1,\n",
       "         0.1, 0.1, 0.1, 0.1, 0.1, 0.1, 0.1, 0.1, 0.1, 0.1, 0.1, 0.1, 0.1,\n",
       "         0.1, 0.1, 0.1, 0.1, 0.1, 0.1],\n",
       "        [0.1, 0.1, 0.1, 0.1, 0.1, 0.1, 0.1, 0.1, 0.1, 0.1, 0.1, 0.1, 0.1,\n",
       "         0.1, 0.1, 0.1, 0.1, 0.1, 0.1, 0.1, 0.1, 0.1, 0.1, 0.1, 0.1, 0.1,\n",
       "         0.1, 0.1, 0.1, 0.1, 0.1, 0.1],\n",
       "        [0.1, 0.1, 0.1, 0.1, 0.1, 0.1, 0.1, 0.1, 0.1, 0.1, 0.1, 0.1, 0.1,\n",
       "         0.1, 0.1, 0.1, 0.1, 0.1, 0.1, 0.1, 0.1, 0.1, 0.1, 0.1, 0.1, 0.1,\n",
       "         0.1, 0.1, 0.1, 0.1, 0.1, 0.1],\n",
       "        [0.1, 0.1, 0.1, 0.1, 0.1, 0.1, 0.1, 0.1, 0.1, 0.1, 0.1, 0.1, 0.1,\n",
       "         0.1, 0.1, 0.1, 0.1, 0.1, 0.1, 0.1, 0.1, 0.1, 0.1, 0.1, 0.1, 0.1,\n",
       "         0.1, 0.1, 0.1, 0.1, 0.1, 0.1],\n",
       "        [0.1, 0.1, 0.1, 0.1, 0.1, 0.1, 0.1, 0.1, 0.1, 0.1, 0.1, 0.1, 0.1,\n",
       "         0.1, 0.1, 0.1, 0.1, 0.1, 0.1, 0.1, 0.1, 0.1, 0.1, 0.1, 0.1, 0.1,\n",
       "         0.1, 0.1, 0.1, 0.1, 0.1, 0.1],\n",
       "        [0.1, 0.1, 0.1, 0.1, 0.1, 0.1, 0.1, 0.1, 0.1, 0.1, 0.1, 0.1, 0.1,\n",
       "         0.1, 0.1, 0.1, 0.1, 0.1, 0.1, 0.1, 0.1, 0.1, 0.1, 0.1, 0.1, 0.1,\n",
       "         0.1, 0.1, 0.1, 0.1, 0.1, 0.1],\n",
       "        [0.1, 0.1, 0.1, 0.1, 0.1, 0.1, 0.1, 0.1, 0.1, 0.1, 0.1, 0.1, 0.1,\n",
       "         0.1, 0.1, 0.1, 0.1, 0.1, 0.1, 0.1, 0.1, 0.1, 0.1, 0.1, 0.1, 0.1,\n",
       "         0.1, 0.1, 0.1, 0.1, 0.1, 0.1],\n",
       "        [0. , 0. , 0. , 0. , 0. , 0. , 0. , 0. , 0. , 0. , 0. , 0. , 0. ,\n",
       "         0. , 0. , 0. , 0. , 0. , 0. , 0. , 0. , 0. , 0. , 0. , 0. , 0. ,\n",
       "         0. , 0. , 0. , 0. , 0. , 0. ]]),\n",
       " 'time_interval': array([20,  2, 17, 12, 13,  5, 16,  4]),\n",
       " 'time_point': array([ 4, 18,  1, 28, 29, 21,  0, 20], dtype=int32),\n",
       " 'output_pointer': [{'v': array([0.1]), 'dv': array([0.]), 'ndv': array([0.])},\n",
       "  {'v': array([0.1]), 'dv': array([0.]), 'ndv': array([0.])},\n",
       "  {'v': array([0.1]), 'dv': array([0.]), 'ndv': array([0.])},\n",
       "  {'v': array([0.1]), 'dv': array([0.]), 'ndv': array([0.])},\n",
       "  {'v': array([0.1]), 'dv': array([0.]), 'ndv': array([0.])},\n",
       "  {'v': array([0.1]), 'dv': array([0.]), 'ndv': array([0.])},\n",
       "  {'v': array([0.1]), 'dv': array([0.]), 'ndv': array([0.])},\n",
       "  {'v': array([0.1]), 'dv': array([0.]), 'ndv': array([0.])}],\n",
       " 'depth': 3,\n",
       " 'hierarchy_name': 'neuron_element'}"
      ]
     },
     "execution_count": 65,
     "metadata": {},
     "output_type": "execute_result"
    }
   ],
   "source": [
    "simulator.graph.hierarchical_graph['neuron_element'].node_dict['Inner/G0/c#0/@Input~Local~Spike']"
   ]
  },
  {
   "cell_type": "code",
   "execution_count": 66,
   "metadata": {
    "scrolled": true
   },
   "outputs": [
    {
     "data": {
      "text/plain": [
       "{'label': 'Inner/G0/c#0',\n",
       " 'neuron': 'LIF',\n",
       " 'role': '@Input@Output',\n",
       " 'locality': 'Local',\n",
       " 'original_label': 'c#0',\n",
       " 'location': [[-314.9583435058594, -769.5],\n",
       "  [0, 0],\n",
       "  [-365.9583435058594, -967.5]],\n",
       " 'local_synaps': array(['Inner/G0/b#0 -> Inner/G0/c#0 S0',\n",
       "        'Inner/G0/c#0 -> Inner/G0/c#0 S1',\n",
       "        'Inner/G0/a#0 -> Inner/G0/c#0 S2',\n",
       "        'Inner/G0/b#0 -> Inner/G0/c#0 S3',\n",
       "        'Inner/G0/b#0 -> Inner/G0/c#0 S4',\n",
       "        'Inner/G0/a#0 -> Inner/G0/c#0 S5',\n",
       "        'Inner/G0/c#0 -> Inner/G0/c#0 S6',\n",
       "        'Inner/G0/a#0 -> Inner/G0/c#0 S7'], dtype='<U32'),\n",
       " 'local_synaps_index': 8,\n",
       " 'local_synaps_num': 8,\n",
       " 'global_synaps': array([], dtype=float64),\n",
       " 'global_synaps_index': 0,\n",
       " 'global_synaps_num': 0,\n",
       " 'depth': 2,\n",
       " 'hierarchy_name': 'neuron_model'}"
      ]
     },
     "execution_count": 66,
     "metadata": {},
     "output_type": "execute_result"
    }
   ],
   "source": [
    "simulator.graph.hierarchical_graph['neuron_model'].node_dict['Inner/G0/c#0']"
   ]
  },
  {
   "cell_type": "code",
   "execution_count": null,
   "metadata": {},
   "outputs": [],
   "source": [
    "len(simulator.graph.hierarchical_graph[\"neuron_model\"].node_dict)"
   ]
  },
  {
   "cell_type": "code",
   "execution_count": null,
   "metadata": {},
   "outputs": [],
   "source": [
    "import numpy as np\n",
    "a = [[1,2,3],[1,2,3]]\n",
    "b = np.array(a)"
   ]
  },
  {
   "cell_type": "code",
   "execution_count": null,
   "metadata": {},
   "outputs": [],
   "source": [
    "b.shape"
   ]
  },
  {
   "cell_type": "code",
   "execution_count": null,
   "metadata": {},
   "outputs": [],
   "source": [
    "c = b[0]"
   ]
  },
  {
   "cell_type": "code",
   "execution_count": null,
   "metadata": {},
   "outputs": [],
   "source": [
    "c = c+np.array([1,1,1])"
   ]
  },
  {
   "cell_type": "code",
   "execution_count": null,
   "metadata": {},
   "outputs": [],
   "source": [
    "b[0] = np.array([4,5,6])"
   ]
  },
  {
   "cell_type": "code",
   "execution_count": null,
   "metadata": {},
   "outputs": [],
   "source": [
    "b"
   ]
  },
  {
   "cell_type": "code",
   "execution_count": null,
   "metadata": {},
   "outputs": [],
   "source": [
    "import json\n",
    "json.dump(b)"
   ]
  },
  {
   "cell_type": "code",
   "execution_count": null,
   "metadata": {},
   "outputs": [],
   "source": [
    "import matplotlib.pyplot as plt\n",
    "%matplotlib inline\n",
    "simulator.graph.debug_visualization(50, \"Inner/G0/c#0/NMDAR\")"
   ]
  },
  {
   "cell_type": "code",
   "execution_count": null,
   "metadata": {},
   "outputs": [],
   "source": [
    "simulator.graph.hierarchical_up_group_dict"
   ]
  },
  {
   "cell_type": "code",
   "execution_count": null,
   "metadata": {},
   "outputs": [],
   "source": [
    "for neuron_model_label in simulator.graph.hierarchical_graph[\"neuron_model\"].node_dict:\n",
    "    neuron_model = simulator.graph.node_label_dict[neuron_model_label]\n",
    "    print(neuron_model[\"label\"] +\"\\t\\t\"+ str(neuron_model[\"local_synaps_num\"])) "
   ]
  },
  {
   "cell_type": "code",
   "execution_count": null,
   "metadata": {},
   "outputs": [],
   "source": [
    "for neuron_element_label in simulator.graph.hierarchical_graph[\"neuron_element\"].node_dict:\n",
    "    neuron_element = simulator.graph.node_label_dict[neuron_element_label]\n",
    "    print(neuron_element[\"label\"] +\"\\t\\t\"+ str(neuron_element[\"synaps_num\"])) "
   ]
  },
  {
   "cell_type": "code",
   "execution_count": null,
   "metadata": {},
   "outputs": [],
   "source": [
    "simulator.graph.hierarchical_graph[\"neuron_element\"].edge_dict"
   ]
  },
  {
   "cell_type": "code",
   "execution_count": null,
   "metadata": {},
   "outputs": [],
   "source": [
    "simulator.graph.hierarchical_graph[\"neuron_model\"].node_dict[\"Inner/G0/a#0\"]"
   ]
  },
  {
   "cell_type": "code",
   "execution_count": null,
   "metadata": {},
   "outputs": [],
   "source": [
    "simulator.graph.hierarchical_graph[\"neuron_model\"].node_dict[\"LIF Trainer/G0/a#0\"]"
   ]
  },
  {
   "cell_type": "code",
   "execution_count": null,
   "metadata": {},
   "outputs": [],
   "source": [
    "simulator.graph.hierarchical_graph[\"neuron_element\"].node_dict[\"LIF Trainer/G0/a#0/@Input~Global~Spike\"]"
   ]
  },
  {
   "cell_type": "code",
   "execution_count": null,
   "metadata": {},
   "outputs": [],
   "source": [
    "simulator.graph.hierarchical_graph[\"neuron_element\"].node_dict[\"LIF Trainer/G0/a#0/Inner\"]"
   ]
  },
  {
   "cell_type": "code",
   "execution_count": null,
   "metadata": {},
   "outputs": [],
   "source": [
    "simulator.graph.job_list"
   ]
  },
  {
   "cell_type": "code",
   "execution_count": null,
   "metadata": {},
   "outputs": [],
   "source": [
    "import numpy as np\n",
    "a = np.array([[0. , 0. , 0. , 0. , 0. , 0.1, 0.1, 0.1, 0.1, 0.1, 0.1, 0.1, 0.1,\n",
    "         0.1, 0.1, 0. , 0. , 0. , 0. , 0. , 0. , 0. , 0. , 0. , 0. , 0. ,\n",
    "         0. , 0. , 0. , 0. , 0. , 0. ]])\n",
    "\n",
    "np.array([sum(a[:,6])])"
   ]
  },
  {
   "cell_type": "code",
   "execution_count": null,
   "metadata": {},
   "outputs": [],
   "source": [
    "simulator.graph.hierarchical_graph[\"neuron_model\"].node_dict[\"LIF Trainer/G0/a#0\"]"
   ]
  },
  {
   "cell_type": "code",
   "execution_count": null,
   "metadata": {},
   "outputs": [],
   "source": [
    "simulator.graph.global_input_job_list"
   ]
  },
  {
   "cell_type": "code",
   "execution_count": null,
   "metadata": {},
   "outputs": [],
   "source": [
    "a"
   ]
  },
  {
   "cell_type": "code",
   "execution_count": null,
   "metadata": {},
   "outputs": [],
   "source": [
    "simulator.graph.debug_by_networkx()"
   ]
  },
  {
   "cell_type": "code",
   "execution_count": null,
   "metadata": {},
   "outputs": [],
   "source": [
    "simulator.graph.hierarchical_graph[\"neuron_element\"].node_from_dict"
   ]
  },
  {
   "cell_type": "code",
   "execution_count": null,
   "metadata": {},
   "outputs": [],
   "source": [
    "import random\n",
    "random.randint(2,5)"
   ]
  },
  {
   "cell_type": "code",
   "execution_count": null,
   "metadata": {},
   "outputs": [],
   "source": [
    "import numpy as np\n",
    "a = np.array([[1,2],[3,4]])"
   ]
  },
  {
   "cell_type": "code",
   "execution_count": null,
   "metadata": {},
   "outputs": [],
   "source": [
    "b = np.array([[1,2],[3,4]])"
   ]
  },
  {
   "cell_type": "code",
   "execution_count": null,
   "metadata": {},
   "outputs": [],
   "source": [
    "np.zeros(a.shape)"
   ]
  },
  {
   "cell_type": "code",
   "execution_count": null,
   "metadata": {},
   "outputs": [],
   "source": [
    "a = np.array([1,2])"
   ]
  },
  {
   "cell_type": "code",
   "execution_count": null,
   "metadata": {},
   "outputs": [],
   "source": [
    "a = np.array([a])"
   ]
  },
  {
   "cell_type": "code",
   "execution_count": null,
   "metadata": {},
   "outputs": [],
   "source": [
    "a"
   ]
  },
  {
   "cell_type": "code",
   "execution_count": null,
   "metadata": {},
   "outputs": [],
   "source": [
    "b*a"
   ]
  },
  {
   "cell_type": "code",
   "execution_count": null,
   "metadata": {},
   "outputs": [],
   "source": [
    "np.dot(a,b)"
   ]
  },
  {
   "cell_type": "code",
   "execution_count": null,
   "metadata": {},
   "outputs": [],
   "source": [
    "c = np.delete(a,[2,3],0)"
   ]
  },
  {
   "cell_type": "code",
   "execution_count": null,
   "metadata": {},
   "outputs": [],
   "source": [
    "log(a)"
   ]
  },
  {
   "cell_type": "code",
   "execution_count": null,
   "metadata": {},
   "outputs": [],
   "source": [
    "c"
   ]
  },
  {
   "cell_type": "code",
   "execution_count": null,
   "metadata": {},
   "outputs": [],
   "source": [
    "import numpy as np\n",
    "a ={1: np.array([1,2,3,4])}\n",
    "b = {1: np.array([10])}\n",
    "c ={1: np.array([1,2,3,4])}"
   ]
  },
  {
   "cell_type": "code",
   "execution_count": null,
   "metadata": {},
   "outputs": [],
   "source": [
    "d=a.get(1)"
   ]
  },
  {
   "cell_type": "code",
   "execution_count": null,
   "metadata": {},
   "outputs": [],
   "source": [
    "a[1] = b[1]"
   ]
  },
  {
   "cell_type": "code",
   "execution_count": null,
   "metadata": {},
   "outputs": [],
   "source": [
    "d"
   ]
  },
  {
   "cell_type": "code",
   "execution_count": null,
   "metadata": {},
   "outputs": [],
   "source": [
    "b[1] = np.array([20])"
   ]
  },
  {
   "cell_type": "code",
   "execution_count": null,
   "metadata": {},
   "outputs": [],
   "source": [
    "a =np.array([1,2,3,4,25])\n",
    "b =np.array([15])\n",
    "c = a&b"
   ]
  },
  {
   "cell_type": "code",
   "execution_count": null,
   "metadata": {},
   "outputs": [],
   "source": [
    "c"
   ]
  },
  {
   "cell_type": "code",
   "execution_count": null,
   "metadata": {},
   "outputs": [],
   "source": [
    "b"
   ]
  },
  {
   "cell_type": "code",
   "execution_count": null,
   "metadata": {},
   "outputs": [],
   "source": [
    "for v, id in enumerate(a):\n",
    "    print(v)\n",
    "    print(id)"
   ]
  },
  {
   "cell_type": "code",
   "execution_count": null,
   "metadata": {},
   "outputs": [],
   "source": [
    "import numpy as np"
   ]
  },
  {
   "cell_type": "code",
   "execution_count": null,
   "metadata": {},
   "outputs": [],
   "source": [
    "a = {1:{1:1}}\n",
    "b=a[1]\n",
    "b[1]=2\n",
    "a"
   ]
  },
  {
   "cell_type": "code",
   "execution_count": null,
   "metadata": {},
   "outputs": [],
   "source": [
    "len(a)"
   ]
  },
  {
   "cell_type": "code",
   "execution_count": null,
   "metadata": {},
   "outputs": [],
   "source": [
    "import pycuda.driver as cuda"
   ]
  },
  {
   "cell_type": "code",
   "execution_count": null,
   "metadata": {},
   "outputs": [],
   "source": [
    "a = np.array([])"
   ]
  },
  {
   "cell_type": "code",
   "execution_count": null,
   "metadata": {},
   "outputs": [],
   "source": [
    "a = np.concatenate((a, np.array(['ㅁ'])))\n",
    "print(a)"
   ]
  },
  {
   "cell_type": "code",
   "execution_count": null,
   "metadata": {},
   "outputs": [],
   "source": [
    "np.where(a==0)[0]"
   ]
  },
  {
   "cell_type": "code",
   "execution_count": null,
   "metadata": {},
   "outputs": [],
   "source": [
    "import time\n",
    "a = {1:1}\n",
    "b=0\n",
    "\n",
    "#a={}\n",
    "\n",
    "\n",
    "whole_time0 = 0\n",
    "whole_time1 = 0\n",
    "whole_time2 = 0\n",
    "\n",
    "for i in range(1000000) :\n",
    "    \n",
    "    start1 = time.time()\n",
    "    \n",
    "    for k in a :\n",
    "        b=b+a[k]\n",
    "        break\n",
    "    \n",
    "    \n",
    "    end1 = time.time()\n",
    "    whole_time1 = whole_time1+end1 - start1\n",
    "    \n",
    "    \n",
    "    start2 = time.time()\n",
    "    \n",
    "    if len(a)==1 :\n",
    "        b=b+list(a.values())[0]\n",
    "    \n",
    "    \n",
    "    end2 = time.time()\n",
    "    whole_time2 = whole_time2+end2 - start2\n",
    "    \n",
    "    start0 = time.time()\n",
    "    end0 = time.time()\n",
    "    whole_time0 = whole_time0+end0 - start0\n",
    "\n",
    "print(whole_time1 - whole_time0)\n",
    "print(whole_time2 - whole_time0)"
   ]
  },
  {
   "cell_type": "code",
   "execution_count": null,
   "metadata": {},
   "outputs": [],
   "source": [
    "neuron_network.graph.hierarchical_graph[\"neuron_model\"].node_dict"
   ]
  },
  {
   "cell_type": "code",
   "execution_count": null,
   "metadata": {},
   "outputs": [],
   "source": [
    "a = {1:'1',2:'2'}\n",
    "b=a\n",
    "a[3]='3'\n",
    "next(iter(a))"
   ]
  },
  {
   "cell_type": "code",
   "execution_count": null,
   "metadata": {},
   "outputs": [],
   "source": [
    "a={}\n",
    "next(iter(a))"
   ]
  },
  {
   "cell_type": "code",
   "execution_count": null,
   "metadata": {},
   "outputs": [],
   "source": [
    "iter(a)"
   ]
  },
  {
   "cell_type": "code",
   "execution_count": null,
   "metadata": {},
   "outputs": [],
   "source": [
    "a = {1:'1'}\n",
    "next(iter(a))"
   ]
  },
  {
   "cell_type": "code",
   "execution_count": null,
   "metadata": {},
   "outputs": [],
   "source": [
    "c = dict(a)\n",
    "c.update(b)\n",
    "c"
   ]
  },
  {
   "cell_type": "code",
   "execution_count": null,
   "metadata": {
    "scrolled": true
   },
   "outputs": [],
   "source": [
    "neuron_network.graph.hierarchical_graph[\"neuron_group\"].node_dict"
   ]
  },
  {
   "cell_type": "code",
   "execution_count": null,
   "metadata": {},
   "outputs": [],
   "source": [
    "from random import *\n",
    "random()"
   ]
  },
  {
   "cell_type": "code",
   "execution_count": null,
   "metadata": {},
   "outputs": [],
   "source": [
    "NeuralNetwork.graph.hierarchical_graph['neuron_model'].node_dict['Inner@1\\\\n0\\\\Na+ Channel'][\"neuron_model\"].neuron_node"
   ]
  },
  {
   "cell_type": "code",
   "execution_count": null,
   "metadata": {},
   "outputs": [],
   "source": [
    "import random\n",
    "import time\n",
    "import timeit\n",
    "start = timeit.timeit() \n",
    "\n",
    "time.sleep(1)\n",
    "\n",
    "a = random.random()\n",
    "\n",
    "\n",
    "print(timeit.timeit() - start)"
   ]
  },
  {
   "cell_type": "code",
   "execution_count": null,
   "metadata": {},
   "outputs": [],
   "source": [
    "import timeit\n",
    "\n",
    "\n",
    "\n",
    "\n",
    "t1 = timeit.timeit(lambda: \"-\".join(map(str, range(100))), number=10000)\n",
    "print(t1)\n"
   ]
  },
  {
   "cell_type": "code",
   "execution_count": null,
   "metadata": {},
   "outputs": [],
   "source": [
    "NeuralNetwork.network_json"
   ]
  },
  {
   "cell_type": "code",
   "execution_count": null,
   "metadata": {},
   "outputs": [],
   "source": [
    "NeuralNetwork.graph.node_label_dict"
   ]
  },
  {
   "cell_type": "code",
   "execution_count": null,
   "metadata": {},
   "outputs": [],
   "source": [
    "NeuralNetwork.graph.hierarchical_group_dict"
   ]
  },
  {
   "cell_type": "code",
   "execution_count": null,
   "metadata": {},
   "outputs": [],
   "source": [
    "NeuralNetwork.graph.hierarchical_graph['neuron'].edge_dict"
   ]
  },
  {
   "cell_type": "code",
   "execution_count": null,
   "metadata": {},
   "outputs": [],
   "source": [
    "NeuralNetwork.makeInitNeuron()"
   ]
  },
  {
   "cell_type": "code",
   "execution_count": null,
   "metadata": {},
   "outputs": [],
   "source": [
    "NeuralNetwork.neuron_graph.node_dict"
   ]
  },
  {
   "cell_type": "code",
   "execution_count": null,
   "metadata": {},
   "outputs": [],
   "source": [
    "NeuralNetwork.network_json"
   ]
  },
  {
   "cell_type": "code",
   "execution_count": null,
   "metadata": {},
   "outputs": [],
   "source": [
    "NeuralNetwork.neuron_group_dict['Inner@1'].neuron_dict[0].edges"
   ]
  },
  {
   "cell_type": "code",
   "execution_count": null,
   "metadata": {},
   "outputs": [],
   "source": [
    "layer1 = {'nodes':[1,2,3], 'edges':[(1,2),(2,3)]}\n",
    "layer2 = {'nodes':[1,2,3], 'edges':[(1,2),(1,2)]}\n",
    "layer3 = {'nodes':[1,2], 'edges':[(1,2)]}\n",
    "layer4 = {'nodes':[1,2,3,4], 'edges':[(1,2),(1,3),(1,4)]}"
   ]
  },
  {
   "cell_type": "code",
   "execution_count": null,
   "metadata": {},
   "outputs": [],
   "source": []
  },
  {
   "cell_type": "code",
   "execution_count": null,
   "metadata": {},
   "outputs": [],
   "source": [
    "from Graph import Graph\n",
    "\n",
    "testGraph = Graph()\n",
    "\n",
    "testNodeB = [1,2,3,4,5,6,7,8]\n",
    "testEdgeB = [(2,1), (3,1),(4,1),(1,5),(1,6),(1,7), (4,7)]\n",
    "\n",
    "testNodeA = []\n",
    "for node in testNodeB :\n",
    "    testNodeA.append({'label':node})\n",
    "    \n",
    "testEdgeA = []\n",
    "id = 0\n",
    "for edge in testEdgeB :\n",
    "    testEdgeA.append({'from':edge[0], 'to':edge[1], 'label':id})\n",
    "    id = id+1"
   ]
  },
  {
   "cell_type": "code",
   "execution_count": null,
   "metadata": {},
   "outputs": [],
   "source": [
    "testNodeA"
   ]
  },
  {
   "cell_type": "code",
   "execution_count": null,
   "metadata": {},
   "outputs": [],
   "source": [
    "testEdgeA"
   ]
  },
  {
   "cell_type": "code",
   "execution_count": null,
   "metadata": {},
   "outputs": [],
   "source": [
    "testGraphA = {\"nodes\":testNodeA, \"edges\":testEdgeA}"
   ]
  },
  {
   "cell_type": "code",
   "execution_count": null,
   "metadata": {},
   "outputs": [],
   "source": [
    "testGraph.initGraph(testGraphA)"
   ]
  },
  {
   "cell_type": "code",
   "execution_count": null,
   "metadata": {},
   "outputs": [],
   "source": [
    "testGraph.deleteNode({'label':1})"
   ]
  },
  {
   "cell_type": "code",
   "execution_count": null,
   "metadata": {
    "scrolled": true
   },
   "outputs": [],
   "source": [
    "testGraph.node_dict"
   ]
  },
  {
   "cell_type": "code",
   "execution_count": null,
   "metadata": {},
   "outputs": [],
   "source": [
    "testGraph.edge_dict"
   ]
  },
  {
   "cell_type": "code",
   "execution_count": null,
   "metadata": {},
   "outputs": [],
   "source": [
    "testGraph.node_from_dict"
   ]
  },
  {
   "cell_type": "code",
   "execution_count": null,
   "metadata": {},
   "outputs": [],
   "source": [
    "testGraph.node_to_dict"
   ]
  },
  {
   "cell_type": "code",
   "execution_count": null,
   "metadata": {},
   "outputs": [],
   "source": [
    "import networkx as nx"
   ]
  },
  {
   "cell_type": "code",
   "execution_count": null,
   "metadata": {},
   "outputs": [],
   "source": [
    "def R(x) :\n",
    "    return 0\n",
    "    #return x/2\n",
    "\n",
    "def D(x) :\n",
    "    return x/2\n",
    "\n",
    "import numpy as np\n",
    "dt = 1/100\n",
    "T = 10\n",
    "\n",
    "SL = int(T/dt)\n",
    "\n",
    "a = np.sin(np.arange(0, T, dt))\n",
    "da = np.full((SL,),dt, dtype=float)\n",
    "b = np.full((SL,),0, dtype=float)\n",
    "db = np.full((SL,),0, dtype=float)\n",
    "\n",
    "for i in range (SL) :\n",
    "    da[i] = a[i]-a[i-1]\n",
    "    db[i] = R(a[i])*da[i] + D(a[i])*dt\n",
    "    b[i] = b[i-1]+db[i]\n",
    "    \n",
    "ans = np.square(a)/4"
   ]
  },
  {
   "cell_type": "code",
   "execution_count": null,
   "metadata": {},
   "outputs": [],
   "source": [
    "from matplotlib import pyplot as plt\n",
    "\n",
    "plt.plot(a)\n",
    "plt.plot(da)\n",
    "plt.plot(b)\n",
    "plt.plot(db)\n",
    "plt.legend(['a','da','bd','db'])\n",
    "plt.show()\n",
    "\n",
    "plt.plot(a)\n",
    "plt.plot(da)\n",
    "plt.plot(ans)\n",
    "plt.plot(db)\n",
    "plt.legend(['a','da','ans','db'])\n",
    "plt.show()\n",
    "\n",
    "plt.plot(a)\n",
    "plt.plot(da)\n",
    "plt.plot(b)\n",
    "plt.plot(ans)\n",
    "plt.plot(db)\n",
    "plt.legend(['a','da','b','ans','db'])\n",
    "plt.show()"
   ]
  },
  {
   "cell_type": "code",
   "execution_count": null,
   "metadata": {},
   "outputs": [],
   "source": []
  }
 ],
 "metadata": {
  "kernelspec": {
   "display_name": "Python 3",
   "language": "python",
   "name": "python3"
  },
  "language_info": {
   "codemirror_mode": {
    "name": "ipython",
    "version": 3
   },
   "file_extension": ".py",
   "mimetype": "text/x-python",
   "name": "python",
   "nbconvert_exporter": "python",
   "pygments_lexer": "ipython3",
   "version": "3.7.7"
  }
 },
 "nbformat": 4,
 "nbformat_minor": 2
}
