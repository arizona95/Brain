{
 "cells": [
  {
   "cell_type": "code",
   "execution_count": 9,
   "metadata": {},
   "outputs": [],
   "source": [
    "import networkx as nx\n",
    "import numpy as np\n",
    "import math\n",
    "import time\n",
    "import matplotlib.pyplot as plt\n",
    "from Timer import Timer"
   ]
  },
  {
   "cell_type": "code",
   "execution_count": 16,
   "metadata": {},
   "outputs": [],
   "source": [
    "a_np = np.array(a_list)"
   ]
  },
  {
   "cell_type": "code",
   "execution_count": 27,
   "metadata": {},
   "outputs": [
    {
     "name": "stdout",
     "output_type": "stream",
     "text": [
      "======================== pass ==========================\n",
      " ================================================================\n",
      "\n",
      "Elapsed time : 0.09375000 sec \n",
      "======================== add ==========================\n",
      " ================================================================\n",
      "\n",
      "Elapsed time : 1.56250000 sec \n",
      "======================== multiply ==========================\n",
      " ================================================================\n",
      "\n",
      "Elapsed time : 1.60937500 sec \n",
      "======================== exp_log time ==========================\n",
      " ================================================================\n",
      "\n",
      "Elapsed time : 6.70312500 sec \n"
     ]
    }
   ],
   "source": [
    "test_size = 100\n",
    "test_roop = 3000000\n",
    "a_list = [i+1 for i in range(test_size) ]\n",
    "b_list = [i+1 for i in range(test_size) ]\n",
    "a_np = np.array(a_list)\n",
    "b_np = np.array(b_list)\n",
    "with Timer(\"pass\") :\n",
    "    for i in range(test_roop) :\n",
    "        pass\n",
    "    \n",
    "with Timer(\"add\") :   \n",
    "    for i in range(test_roop) :\n",
    "        c_np = np.add(a_np,b_np)\n",
    "        \n",
    "with Timer(\"multiply\") :\n",
    "    for i in range(test_roop) :\n",
    "        c_np = np.multiply(a_np,b_np)\n",
    "    \n",
    "with Timer(\"exp_log time\") :\n",
    "    for i in range(test_roop) :\n",
    "        c_np = np.exp(np.log(a_np))\n",
    "        \n",
    "        \n",
    "        \n",
    "        "
   ]
  },
  {
   "cell_type": "code",
   "execution_count": 8,
   "metadata": {},
   "outputs": [
    {
     "data": {
      "text/plain": [
       "array([0., 1., 2., 3., 4., 5., 6., 7., 8., 9.])"
      ]
     },
     "execution_count": 8,
     "metadata": {},
     "output_type": "execute_result"
    }
   ],
   "source": [
    "b_np"
   ]
  },
  {
   "cell_type": "code",
   "execution_count": 28,
   "metadata": {},
   "outputs": [],
   "source": [
    "\n",
    "T = 100\n",
    "dt = 1/T\n",
    "WT = T*200\n",
    "value = {}\n",
    "e = math.e"
   ]
  },
  {
   "cell_type": "code",
   "execution_count": null,
   "metadata": {},
   "outputs": [],
   "source": [
    "node_initval = [\n",
    "    ['a',0.3],\n",
    "    ['b',0.1],\n",
    "    ['c',0.0]\n",
    "]\n"
   ]
  },
  {
   "cell_type": "code",
   "execution_count": null,
   "metadata": {},
   "outputs": [],
   "source": [
    "edge_initval = [\n",
    "    [['a','b'],'c'],\n",
    "    [['c'],['a','b']]\n",
    "]"
   ]
  },
  {
   "cell_type": "code",
   "execution_count": null,
   "metadata": {},
   "outputs": [],
   "source": [
    "NG = nx.DiGraph()"
   ]
  },
  {
   "cell_type": "code",
   "execution_count": null,
   "metadata": {},
   "outputs": [],
   "source": [
    "a=0.00002\n",
    "b=0.00003\n",
    "\n",
    "c = (1+a)"
   ]
  },
  {
   "cell_type": "code",
   "execution_count": null,
   "metadata": {},
   "outputs": [],
   "source": [
    "material_vector = [\n",
    "    #ion, protein\n",
    "    [\"na\",1]\n",
    "    [\"k\",1]\n",
    "    \"cl\",\n",
    "    \"minus_protein\"\n",
    "    \n",
    "    #channel\n",
    "    \"ch_na\",\n",
    "    \"ch_k\",\n",
    "    \"ch_leak_k\",\n",
    "    \"ch_na_k\"\n",
    "    \n",
    "    #channel activator\n",
    "    \"ch_na_activator\",  #m\n",
    "    \"ch_na_inactivator\",  #h\n",
    "    \"ch_k_activator\",   #n\n",
    "    \n",
    "    #energe\n",
    "    \"atp\" \n",
    "    \n",
    "]"
   ]
  },
  {
   "cell_type": "code",
   "execution_count": 29,
   "metadata": {},
   "outputs": [],
   "source": [
    "node_label = [\n",
    "    #ion, protein\n",
    "    [\"na_in\" ,  [(\"na\",1)], 1, 0 ]\n",
    "    [\"na_out\",  [(\"na\",1)], 1, 0 ]\n",
    "    [\"k_in\",  [(\"k\",1)], 1, 0 ]\n",
    "    [\"k_out\",  [(\"k\",1)], 1, 0 ]\n",
    "    [\"cl_in\",  [(\"cl\",1)], -1, 0 ]\n",
    "    [\"cl_out\",  [(\"cl\",1)], -1, 0 ]\n",
    "    [\"minus_protein_in\",  [(\"minus_protein\",1)], 1, 0 ]\n",
    "    \n",
    "    # Voltage Gated Na+ Channel\n",
    "    [\"ch_na_inactivate\",  [(\"ch_na\",1)], -1, 0 ]\n",
    "    [\"ch_na_activate_run\",  [(\"ch_na\",1), (\"ch_na_activator\",3), (\"ch_na_inactivator\",1), (\"na\",1)], 1, 0 ]\n",
    "    [\"ch_na_activate_rest\",  [(\"ch_na\",1), (\"ch_na_activator\",3), (\"ch_na_inactivator\",1)], 0, 0 ]\n",
    "    [\"ch_na_activator_activate\",  [(\"ch_na_activator\",1)], 0, 0 ]   # m_a\n",
    "    [\"ch_na_activator_inactivate\",  [(\"ch_na_activator\",1)], 0, 0 ]  # m_b\n",
    "    [\"ch_na_inactivator_activate\",  [(\"ch_na_inactivator\",1)], 0, 0 ]  # h_a\n",
    "    [\"ch_na_inactivator_inactivate\",  [(\"ch_na_inactivator\",1)], 0, 0 ]  # h_b\n",
    "    \n",
    "    # Voltage Gated K+ Channel \n",
    "    [\"ch_k_inactivate\",  [(\"ch_k\",1)], 0, 0 ]\n",
    "    [\"ch_k_activate_run\",  [(\"ch_k\",1),  (\"ch_k_activator\",4), (\"k\",1)], 1, 0 ]\n",
    "    [\"ch_k_activate_rest\",  [(\"ch_k\",1), (\"ch_k_activator\",4)], 0, 0 ]\n",
    "    [\"ch_k_activator_activate\",  [(\"ch_k_activator\",1)], 0, 0 ]  # n_a\n",
    "    [\"ch_k_activator_inactivate\",  [(\"ch_k_activator\",1)], 0, 0 ]  # n_b\n",
    "    \n",
    "    # K+ Leak Channel \n",
    "    [\"ch_leak_k_activate_run\",   [(\"ch_leak_k\",1), (\"k\",1)], 0, 0 ]\n",
    "    [\"ch_leak_k_activate_rest\",  [(\"ch_leak_k\",1)], 0, 0 ]\n",
    "    \n",
    "    # Na+/K+ pump\n",
    "    [\"ch_na_k_activate_run\", [(\"ch_na_k\",1), (\"na\",3), (\"k\",2)], 0, 0  \n",
    "    [\"ch_na_k_activate_rest\",[(\"ch_na_k\",1)], 0, 0 ]\n",
    "     \n",
    "     # energe\n",
    "     [\"atp\", [(\"atp\",1)], 0, 0 ]\n",
    "     [\"adp\", [(\"atp\",1)], 0, 0 ]\n",
    "]"
   ]
  },
  {
   "cell_type": "code",
   "execution_count": null,
   "metadata": {},
   "outputs": [],
   "source": [
    "space_node = [\n",
    "    [\"cell_in\",\\\n",
    "     [\"na_in\", \"k_in\", \"cl_in\" ,\"minus_protein_in\", \"ch_na_activator_activate\" \"ch_na_activator_inactivate\",\"ch_na_inactivator_activate\",\\\n",
    "     \"ch_na_inactivator_inactivate\", \"ch_k_activator_activate\", \"ch_k_activator_inactivate\"], [0,0]],\n",
    "    [\"cell_out\",\\\n",
    "     [\"na_out\",\"k_out\",\"cl_out\"], [0,1]],\n",
    "    [\"cell_membrane\",\\\n",
    "     [\"ch_na_inactivate\", \"ch_na_activate_run\", \"ch_na_activate_rest\", \"ch_na_activator_activate\", \"ch_k_inactivate\", \"ch_k_activate_run\",\\\n",
    "      \"ch_k_activate_rest\", \"ch_leak_k_activate_run\", \"ch_leak_k_activate_rest\", \"ch_na_k_activate_run\", \"ch_na_k_activate_rest\"], [0,2]]\n",
    "]"
   ]
  },
  {
   "cell_type": "code",
   "execution_count": null,
   "metadata": {},
   "outputs": [],
   "source": [
    "# edge label 규칙\n",
    "\n",
    "# 1A+3B->2C+4D \n",
    "#  K = e^-p*k[A][B]^3\n",
    "# [ [(\"A\",1),(\"B\",3)],  [(\"C\",2),(\"D\",4)], energe_add, energe potential , k]\n",
    "\n",
    "edge_by_label = [\n",
    "    \n",
    "    ## Voltage Gated Na+ Channel\n",
    "    # m_a <-> m_b \n",
    "    [ [(\"ch_na_activator_activate\",1)], [(\"ch_na_activator_inactivate\",1)]]\n",
    "    [ [(\"ch_na_activator_inactivate\",1)], [(\"ch_na_activator_activate\",1)]]\n",
    "    \n",
    "    # h_a <-> h_b \n",
    "    [ [(\"ch_na_inactivator_activate\",1)], [(\"ch_na_inactivator_inactivate\",1)]]\n",
    "    [ [(\"ch_na_inactivator_inactivate\",1)], [(\"ch_na_inactivator_activate\",1)]]\n",
    "    \n",
    "    # ch_na_inactivate <-> ch_na_activate_rest\n",
    "    [ [(\"ch_na_inactivate\",1),(\"ch_na_activator_activate\",3),(\"ch_na_inactivator_activate\",1)], [(\"ch_k_activate_rest\",1)] ]\n",
    "    [ [(\"ch_k_activate_rest\",1)], [(\"ch_na_inactivate\",1),(\"ch_na_activator_activate\",3),(\"ch_na_inactivator_activate\",1)] ],\n",
    "    \n",
    "    # na_in <- na_out by Voltage Gated Na+ Channel\n",
    "    [ [(\"na_in\",1),(\"ch_na_activate_rest\",1)], [(\"ch_na_activate_run\",1)] ],\n",
    "    [ [(\"ch_na_activate_run\",1)], [(\"na_out\",1),(\"ch_na_activate_rest\",1)] ],\n",
    "    \n",
    "    ## Voltage Gated K+ Channel \n",
    "    # n_a <-> n_b \n",
    "    [ [(\"ch_k_activator_activate\",1)], [(\"ch_k_activator_inactivate\",1)]]\n",
    "    [ [(\"ch_k_activator_inactivate\",1)], [(\"ch_k_activator_activate\",1)]]\n",
    "    \n",
    "    # ch_k_inactivate <-> ch_k_activate_rest\n",
    "    [ [(\"ch_k_inactivate\",1),(\"ch_k_activator_activate\",4)], [(\"ch_k_activate_rest\",1)] ],\n",
    "    [ [(\"ch_k_activate_rest\",1)], [(\"ch_k_inactivate\",1),(\"ch_k_activator_activate\",4)] ],\n",
    "    \n",
    "    # k_in -> k_out by Voltage Gated K+ Channel \n",
    "    [ [(\"k_in\",1),(\"ch_k_activate_rest\",1)], [(\"ch_k_activate_run\",1)] ],\n",
    "    [ [(\"ch_k_activate_run\",1)], [(\"k_out\",1),(\"ch_k_activate_rest\",1)] ],\n",
    "    \n",
    "    ## K+ Leak Channel \n",
    "    # k_in <-> k_out by K+ Leak Channel \n",
    "    [ [(\"k_in\",1),(\"ch_leak_k_activate_rest\",1)], [(\"ch_leak_k_activate_run\",1)] ],\n",
    "    [ [(\"ch_leak_k_activate_run\",1)], [(\"k_out\",1),(\"ch_leak_k_activate_rest\",1)] ],\n",
    "    [ [(\"k_out\",1),(\"ch_leak_k_activate_rest\",1)], [(\"ch_leak_k_activate_run\",1)] ],\n",
    "    [ [(\"ch_leak_k_activate_run\",1)], [(\"k_in\",1),(\"ch_leak_k_activate_rest\",1)] ],\n",
    "    \n",
    "    ## Na+/K+ pump\n",
    "    # k_in <- k_out , na_in -> na_out by Na+/K+ pump - using energe\n",
    "    [ [(\"na_in\",3),(\"k_out\",2),(\"ch_na_k_inactivate\",1), (\"atp\",1)], [(\"ch_leak_k_activate_run\",1), (\"adp\",1)] ],\n",
    "    [ [(\"ch_leak_k_activate_run\",1)], [(\"na_out\",3),(\"k_in\",2),(\"ch_na_k_inactivate\",1)] ],\n",
    "    \n",
    "    # energe by mitocondria\n",
    "    [[(\"adp\",1)],[(\"atp\",1)]],\n",
    "    \n",
    "]"
   ]
  }
 ],
 "metadata": {
  "kernelspec": {
   "display_name": "Python 3",
   "language": "python",
   "name": "python3"
  },
  "language_info": {
   "codemirror_mode": {
    "name": "ipython",
    "version": 3
   },
   "file_extension": ".py",
   "mimetype": "text/x-python",
   "name": "python",
   "nbconvert_exporter": "python",
   "pygments_lexer": "ipython3",
   "version": "3.7.3"
  }
 },
 "nbformat": 4,
 "nbformat_minor": 4
}
