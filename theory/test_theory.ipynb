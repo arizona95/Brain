{
 "cells": [
  {
   "cell_type": "code",
   "execution_count": 9,
   "metadata": {},
   "outputs": [],
   "source": [
    "import networkx as nx\n",
    "import numpy as np\n",
    "import math\n",
    "import time\n",
    "import matplotlib.pyplot as plt\n",
    "from Timer import Timer"
   ]
  },
  {
   "cell_type": "code",
   "execution_count": 16,
   "metadata": {},
   "outputs": [],
   "source": [
    "a_np = np.array(a_list)"
   ]
  },
  {
   "cell_type": "code",
   "execution_count": 27,
   "metadata": {},
   "outputs": [
    {
     "name": "stdout",
     "output_type": "stream",
     "text": [
      "======================== pass ==========================\n",
      " ================================================================\n",
      "\n",
      "Elapsed time : 0.09375000 sec \n",
      "======================== add ==========================\n",
      " ================================================================\n",
      "\n",
      "Elapsed time : 1.56250000 sec \n",
      "======================== multiply ==========================\n",
      " ================================================================\n",
      "\n",
      "Elapsed time : 1.60937500 sec \n",
      "======================== exp_log time ==========================\n",
      " ================================================================\n",
      "\n",
      "Elapsed time : 6.70312500 sec \n"
     ]
    }
   ],
   "source": [
    "test_size = 100\n",
    "test_roop = 3000000\n",
    "a_list = [i+1 for i in range(test_size) ]\n",
    "b_list = [i+1 for i in range(test_size) ]\n",
    "a_np = np.array(a_list)\n",
    "b_np = np.array(b_list)\n",
    "with Timer(\"pass\") :\n",
    "    for i in range(test_roop) :\n",
    "        pass\n",
    "    \n",
    "with Timer(\"add\") :   \n",
    "    for i in range(test_roop) :\n",
    "        c_np = np.add(a_np,b_np)\n",
    "        \n",
    "with Timer(\"multiply\") :\n",
    "    for i in range(test_roop) :\n",
    "        c_np = np.multiply(a_np,b_np)\n",
    "    \n",
    "with Timer(\"exp_log time\") :\n",
    "    for i in range(test_roop) :\n",
    "        c_np = np.exp(np.log(a_np))\n",
    "        \n",
    "        \n",
    "        \n",
    "        "
   ]
  },
  {
   "cell_type": "code",
   "execution_count": 8,
   "metadata": {},
   "outputs": [
    {
     "data": {
      "text/plain": [
       "array([0., 1., 2., 3., 4., 5., 6., 7., 8., 9.])"
      ]
     },
     "execution_count": 8,
     "metadata": {},
     "output_type": "execute_result"
    }
   ],
   "source": [
    "b_np"
   ]
  },
  {
   "cell_type": "code",
   "execution_count": 28,
   "metadata": {},
   "outputs": [],
   "source": [
    "\n",
    "T = 100\n",
    "dt = 1/T\n",
    "WT = T*200\n",
    "value = {}\n",
    "e = math.e"
   ]
  },
  {
   "cell_type": "code",
   "execution_count": null,
   "metadata": {},
   "outputs": [],
   "source": [
    "node_initval = [\n",
    "    ['a',0.3],\n",
    "    ['b',0.1],\n",
    "    ['c',0.0]\n",
    "]\n"
   ]
  },
  {
   "cell_type": "code",
   "execution_count": null,
   "metadata": {},
   "outputs": [],
   "source": [
    "edge_initval = [\n",
    "    [['a','b'],'c'],\n",
    "    [['c'],['a','b']]\n",
    "]"
   ]
  },
  {
   "cell_type": "code",
   "execution_count": null,
   "metadata": {},
   "outputs": [],
   "source": [
    "NG = nx.DiGraph()"
   ]
  },
  {
   "cell_type": "code",
   "execution_count": null,
   "metadata": {},
   "outputs": [],
   "source": [
    "a=0.00002\n",
    "b=0.00003\n",
    "\n",
    "c = (1+a)"
   ]
  },
  {
   "cell_type": "code",
   "execution_count": null,
   "metadata": {},
   "outputs": [],
   "source": []
  },
  {
   "cell_type": "code",
   "execution_count": null,
   "metadata": {},
   "outputs": [],
   "source": []
  },
  {
   "cell_type": "code",
   "execution_count": null,
   "metadata": {},
   "outputs": [],
   "source": []
  },
  {
   "cell_type": "code",
   "execution_count": null,
   "metadata": {},
   "outputs": [],
   "source": []
  }
 ],
 "metadata": {
  "kernelspec": {
   "display_name": "Python 3",
   "language": "python",
   "name": "python3"
  },
  "language_info": {
   "codemirror_mode": {
    "name": "ipython",
    "version": 3
   },
   "file_extension": ".py",
   "mimetype": "text/x-python",
   "name": "python",
   "nbconvert_exporter": "python",
   "pygments_lexer": "ipython3",
   "version": "3.7.3"
  }
 },
 "nbformat": 4,
 "nbformat_minor": 4
}
