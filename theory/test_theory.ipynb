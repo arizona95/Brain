{
 "cells": [
  {
   "cell_type": "code",
   "execution_count": 1,
   "metadata": {},
   "outputs": [],
   "source": [
    "import networkx as nx\n",
    "import numpy as np\n",
    "import math\n",
    "import time\n",
    "import matplotlib.pyplot as plt\n",
    "from Simulator import Simulator\n",
    "from Timer import Timer"
   ]
  },
  {
   "cell_type": "code",
   "execution_count": 2,
   "metadata": {
    "scrolled": true
   },
   "outputs": [
    {
     "name": "stdout",
     "output_type": "stream",
     "text": [
      "======================== build_simulator ==========================\n",
      " ['ch_na_activator_activate', 1]\n",
      "['ch_na_activator_inactivate', 1]\n",
      "['ch_na_inactivator_inactivate', 1]\n",
      "['ch_na_inactivator_activate', 1]\n",
      "['ch_na_inactivator_inactivate', 1]\n",
      "['ch_na_inactivator_inactivate', 1]\n",
      "['ch_na_inactivate', 1]\n",
      "['ch_na_activator_activate', 3]\n",
      "['ch_na_inactivator_activate', 1]\n",
      "['ch_na_activate', 1]\n",
      "['ch_na_activate', 1]\n",
      "['na_in', 1]\n",
      "['ch_na_activate', 1]\n",
      "['na_out', 1]\n",
      "['ch_k_activator_activate', 1]\n",
      "['ch_k_activator_inactivate', 1]\n",
      "['ch_k_inactivate', 1]\n",
      "['ch_k_activator_activate', 4]\n",
      "['ch_k_activate', 1]\n",
      "['ch_k_activate', 1]\n",
      "['k_in', 1]\n",
      "['ch_k_activate', 1]\n",
      "['k_out', 1]\n",
      "['ch_leak_k_activate', 1]\n",
      "['k_in', 1]\n",
      "['ch_leak_k_activate', 1]\n",
      "['k_out', 1]\n",
      "['ch_na_k_activate', 1]\n",
      "['na_in', 3]\n",
      "['k_out', 2]\n",
      "['atp', 1]\n",
      "['adp', 1]\n",
      "================================================================\n",
      "\n",
      "Elapsed time : 0.01562500 sec \n"
     ]
    }
   ],
   "source": [
    "with Timer(\"build_simulator\") :\n",
    "    neuron_model_info_filename = \"HX_model.json\"\n",
    "    simulator = Simulator()\n",
    "    simulator.build(neuron_model_info_filename)"
   ]
  },
  {
   "cell_type": "code",
   "execution_count": 5,
   "metadata": {},
   "outputs": [
    {
     "data": {
      "text/plain": [
       "odict_keys(['1 ch_na_activator_activate => 1 ch_na_activator_inactivate', '1 ch_na_activator_inactivate => 1 ch_na_activator_activate', '1 ch_na_inactivator_inactivate => 1 ch_na_inactivator_activate', '1 ch_na_inactivator_activate + 1 ch_na_inactivator_inactivate => 1 ch_na_inactivator_inactivate', '1 ch_na_inactivator_inactivate => 1 ch_na_inactivator_activate + 1 ch_na_inactivator_inactivate', '1 ch_na_inactivate + 3 ch_na_activator_activate + 1 ch_na_inactivator_activate => 1 ch_na_activate', '1 ch_na_activate => 1 ch_na_inactivate + 3 ch_na_activator_activate + 1 ch_na_inactivator_activate', '1 ch_na_activate + 1 na_in => 1 ch_na_activate + 1 na_out', '1 ch_na_activate + 1 na_out => 1 ch_na_activate + 1 na_in', '1 ch_k_activator_activate => 1 ch_k_activator_inactivate', '1 ch_k_activator_inactivate => 1 ch_k_activator_activate', '1 ch_k_inactivate + 4 ch_k_activator_activate => 1 ch_k_activate', '1 ch_k_activate => 1 ch_k_inactivate + 4 ch_k_activator_activate', '1 ch_k_activate + 1 k_in => 1 ch_k_activate + 1 k_out', '1 ch_k_activate + 1 k_out => 1 ch_k_activate + 1 k_in', '1 ch_leak_k_activate + 1 k_in => 1 ch_leak_k_activate + 1 k_out', '1 ch_leak_k_activate + 1 k_out => 1 ch_leak_k_activate + 1 k_in', '1 ch_na_k_activate + 3 na_in + 2 k_out + 1 atp => 1 ch_na_k_activate + 3 na_out + 2 k_in + 1 adp', '1 adp => 1 atp'])"
      ]
     },
     "execution_count": 5,
     "metadata": {},
     "output_type": "execute_result"
    }
   ],
   "source": [
    "simulator.graph_edge.keys()"
   ]
  },
  {
   "cell_type": "code",
   "execution_count": null,
   "metadata": {},
   "outputs": [],
   "source": [
    "simulator.k1['1 ch_na_activator_activate => 1 ch_na_activator_inactivate']['ch_na_activator_activate']"
   ]
  },
  {
   "cell_type": "code",
   "execution_count": null,
   "metadata": {},
   "outputs": [],
   "source": [
    "simulator.x"
   ]
  },
  {
   "cell_type": "code",
   "execution_count": null,
   "metadata": {},
   "outputs": [],
   "source": [
    "simulator.e_x[0]['ch_na_inactivator_activate']"
   ]
  },
  {
   "cell_type": "code",
   "execution_count": null,
   "metadata": {},
   "outputs": [],
   "source": [
    "simulator.graph_node.keys()"
   ]
  },
  {
   "cell_type": "code",
   "execution_count": null,
   "metadata": {},
   "outputs": [],
   "source": [
    "simulator.graph_node.keys()"
   ]
  },
  {
   "cell_type": "code",
   "execution_count": null,
   "metadata": {},
   "outputs": [],
   "source": [
    "import pandas as pd\n",
    "data = {\n",
    "    'a' :[1],\n",
    "    'b':[1]\n",
    "}\n",
    "pd_data = pd.DataFrame(data)"
   ]
  },
  {
   "cell_type": "code",
   "execution_count": null,
   "metadata": {},
   "outputs": [],
   "source": [
    "np.array(pd_data)"
   ]
  },
  {
   "cell_type": "code",
   "execution_count": null,
   "metadata": {},
   "outputs": [],
   "source": [
    "pd_data['b'] = pd_data['b'] + 1"
   ]
  },
  {
   "cell_type": "code",
   "execution_count": null,
   "metadata": {},
   "outputs": [],
   "source": [
    "pd_data2 = pd_data+ pd_data2"
   ]
  },
  {
   "cell_type": "code",
   "execution_count": null,
   "metadata": {},
   "outputs": [],
   "source": [
    "pd_data2"
   ]
  },
  {
   "cell_type": "code",
   "execution_count": null,
   "metadata": {},
   "outputs": [],
   "source": [
    "pd_data.index"
   ]
  },
  {
   "cell_type": "code",
   "execution_count": null,
   "metadata": {},
   "outputs": [],
   "source": [
    "A = np.array([0,1,2,3])\n",
    "r = np.array([2, 0, 1])\n",
    "\n",
    "column_indices = np.array([ \n",
    "    [0,0,1],\n",
    "    [2,0,0],\n",
    "    [0,3,0]\n",
    "])\n",
    "\n",
    "A[column_indices]"
   ]
  },
  {
   "cell_type": "code",
   "execution_count": null,
   "metadata": {},
   "outputs": [],
   "source": [
    "\n",
    "np.dot(np.transpose(A) ,A)"
   ]
  },
  {
   "cell_type": "code",
   "execution_count": null,
   "metadata": {},
   "outputs": [],
   "source": [
    "A"
   ]
  },
  {
   "cell_type": "code",
   "execution_count": null,
   "metadata": {},
   "outputs": [],
   "source": []
  }
 ],
 "metadata": {
  "kernelspec": {
   "display_name": "Python 3",
   "language": "python",
   "name": "python3"
  },
  "language_info": {
   "codemirror_mode": {
    "name": "ipython",
    "version": 3
   },
   "file_extension": ".py",
   "mimetype": "text/x-python",
   "name": "python",
   "nbconvert_exporter": "python",
   "pygments_lexer": "ipython3",
   "version": "3.7.9"
  }
 },
 "nbformat": 4,
 "nbformat_minor": 4
}
