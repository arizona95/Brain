{
 "cells": [
  {
   "cell_type": "code",
   "execution_count": 3,
   "metadata": {},
   "outputs": [],
   "source": [
    "import networkx as nx\n",
    "import numpy as np\n",
    "import math\n",
    "import numpy as np\n",
    "import time\n",
    "import matplotlib.pyplot as plt\n",
    "from Timer import Timer"
   ]
  },
  {
   "cell_type": "code",
   "execution_count": 4,
   "metadata": {},
   "outputs": [],
   "source": [
    "init_v = [0.2, 0.3, 0.4,]\n",
    "\n",
    "kinetic_T = [\n",
    "    [1,1,0],\n",
    "    [0,0,1]\n",
    "]\n",
    "\n",
    "kinetic_A = [\n",
    "    [1,-1,],\n",
    "    [1,-1,],\n",
    "    [-2,2,],\n",
    "]\n",
    "\n",
    "iv_np = np.array(init_v)\n",
    "kt_np = np.array(kinetic_T)\n",
    "ka_np = np.array(kinetic_A)"
   ]
  },
  {
   "cell_type": "code",
   "execution_count": 8,
   "metadata": {},
   "outputs": [
    {
     "name": "stdout",
     "output_type": "stream",
     "text": [
      "======================== test ==========================\n",
      " ================================================================\n",
      "\n",
      "Elapsed time : 5.42187500 sec \n"
     ]
    }
   ],
   "source": [
    "with Timer(\"test\") :\n",
    "    for i in range (1000000) :\n",
    "        np.log(np.exp(kinetic_A))"
   ]
  },
  {
   "cell_type": "code",
   "execution_count": null,
   "metadata": {},
   "outputs": [],
   "source": []
  }
 ],
 "metadata": {
  "kernelspec": {
   "display_name": "Python 3",
   "language": "python",
   "name": "python3"
  },
  "language_info": {
   "codemirror_mode": {
    "name": "ipython",
    "version": 3
   },
   "file_extension": ".py",
   "mimetype": "text/x-python",
   "name": "python",
   "nbconvert_exporter": "python",
   "pygments_lexer": "ipython3",
   "version": "3.7.9"
  }
 },
 "nbformat": 4,
 "nbformat_minor": 4
}
