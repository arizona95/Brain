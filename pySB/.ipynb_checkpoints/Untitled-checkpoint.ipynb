{
 "cells": [
  {
   "cell_type": "code",
   "execution_count": 1,
   "id": "a6f70307",
   "metadata": {},
   "outputs": [],
   "source": [
    "import numpy as np\n",
    "import math\n",
    "import matplotlib.pyplot as plt\n",
    "%matplotlib inline"
   ]
  },
  {
   "cell_type": "code",
   "execution_count": 2,
   "id": "1f870d61",
   "metadata": {},
   "outputs": [],
   "source": [
    "N=50\n",
    "\n",
    "A = 2\n",
    "B = 2\n",
    "C = 3\n",
    "D = 2\n",
    "\n",
    "t_step_total = 10\n",
    "\n",
    "dt = 0.01"
   ]
  },
  {
   "cell_type": "code",
   "execution_count": 3,
   "id": "ba2451c5",
   "metadata": {},
   "outputs": [],
   "source": [
    "\n",
    "T = np.zeros((N, N, N)) \n",
    "\n",
    "for x in range(N) :\n",
    "    for y in range(N) :\n",
    "        for z in range(N) :\n",
    "            if (x+y-z)%N == 0  : T[x][y][z]=1\n",
    "            else : T[x][y][z]=0\n",
    "                \n",
    "#T\n",
    "\n",
    "A = 2\n",
    "B = 2\n",
    "C = 3\n",
    "D = 2\n",
    "\n",
    "W = np.zeros((N, N)) \n",
    "\n",
    "for x in range(N) :\n",
    "    for y in range(N) :\n",
    "        if x<=y : W[x][y]=  A * math.pow(math.e,(x-y)*B)\n",
    "        else : W[x][y]=  -C * math.pow(math.e, (x-y) * -D)\n",
    "                \n",
    "#W\n",
    "\n",
    "\n",
    "MI = np.zeros((N, N, N)) \n",
    "\n",
    "for x in range(N) :\n",
    "    for y in range(N) :\n",
    "        for z in range(N) :\n",
    "            if y==x and z==x  : MI[x][y][z]=1\n",
    "            else : MI[x][y][z]=0\n",
    "                \n",
    "                "
   ]
  },
  {
   "cell_type": "code",
   "execution_count": 4,
   "id": "ae3917ba",
   "metadata": {},
   "outputs": [],
   "source": [
    "S_AB = np.random.rand(N)\n",
    "PI_A = np.array(range(N))\n",
    "#PI_B = np.array(range(N))\n",
    "#PI_B = np.array(range(N-1,-1,-1))\n",
    "PI_B = np.zeros(N)\n",
    "for x in range(N) :\n",
    "    PI_B[x] = x^2"
   ]
  },
  {
   "cell_type": "code",
   "execution_count": 6,
   "id": "b564351f",
   "metadata": {},
   "outputs": [
    {
     "data": {
      "image/png": "[encoded data removed]",
      "text/plain": [
       "<Figure size 432x288 with 1 Axes>"
      ]
     },
     "metadata": {
      "needs_background": "light"
     },
     "output_type": "display_data"
    }
   ],
   "source": [
    "t_step_total = 100\n",
    "\n",
    "for t_step_num in range(t_step_total) :\n",
    "    S_AB =  S_AB*0.9 + dt * np.dot( np.dot(PI_A,T)* S_AB , np.dot(W, PI_B) )\n",
    "    \n",
    "    PI_B_pred = np.dot(np.dot(S_AB,T), PI_A)\n",
    "    plt.plot(PI_B_pred)\n",
    "    #plt.plot(S_AB)"
   ]
  },
  {
   "cell_type": "code",
   "execution_count": 7,
   "id": "5d82d17d",
   "metadata": {},
   "outputs": [
    {
     "data": {
      "text/plain": [
       "array([ 5, 12, 21])"
      ]
     },
     "execution_count": 7,
     "metadata": {},
     "output_type": "execute_result"
    }
   ],
   "source": [
    "np.array([1,2,3]) * np.array([5,6,7])"
   ]
  },
  {
   "cell_type": "code",
   "execution_count": 8,
   "id": "2fc542f3",
   "metadata": {},
   "outputs": [
    {
     "data": {
      "text/plain": [
       "array([1., 1., 1., 1., 1., 1., 1., 1., 1., 1., 1., 1., 1., 1., 1., 1., 1.,\n",
       "       1., 1., 1., 1., 1., 1., 1., 1., 1., 1., 1., 1., 1., 1., 1., 1., 1.,\n",
       "       1., 1., 1., 1., 1., 1., 1., 1., 1., 1., 1., 1., 1., 1., 1., 1.])"
      ]
     },
     "execution_count": 8,
     "metadata": {},
     "output_type": "execute_result"
    }
   ],
   "source": [
    "PI_B"
   ]
  },
  {
   "cell_type": "code",
   "execution_count": 9,
   "id": "89327850",
   "metadata": {},
   "outputs": [
    {
     "data": {
      "text/plain": [
       "[<matplotlib.lines.Line2D at 0x25c8deda408>]"
      ]
     },
     "execution_count": 9,
     "metadata": {},
     "output_type": "execute_result"
    },
    {
     "data": {
      "image/png": "[encoded data removed]",
      "text/plain": [
       "<Figure size 432x288 with 1 Axes>"
      ]
     },
     "metadata": {
      "needs_background": "light"
     },
     "output_type": "display_data"
    }
   ],
   "source": [
    "plt.plot(np.dot(W, PI_B))"
   ]
  },
  {
   "cell_type": "code",
   "execution_count": 10,
   "id": "ce86e009",
   "metadata": {},
   "outputs": [
    {
     "data": {
      "text/plain": [
       "[<matplotlib.lines.Line2D at 0x25c8df50948>]"
      ]
     },
     "execution_count": 10,
     "metadata": {},
     "output_type": "execute_result"
    },
    {
     "data": {
      "image/png": "[encoded data removed]",
      "text/plain": [
       "<Figure size 432x288 with 1 Axes>"
      ]
     },
     "metadata": {
      "needs_background": "light"
     },
     "output_type": "display_data"
    }
   ],
   "source": [
    "plt.plot(PI_B)"
   ]
  },
  {
   "cell_type": "code",
   "execution_count": null,
   "id": "2ce5bfe0",
   "metadata": {},
   "outputs": [],
   "source": []
  }
 ],
 "metadata": {
  "kernelspec": {
   "display_name": "Python 3",
   "language": "python",
   "name": "python3"
  },
  "language_info": {
   "codemirror_mode": {
    "name": "ipython",
    "version": 3
   },
   "file_extension": ".py",
   "mimetype": "text/x-python",
   "name": "python",
   "nbconvert_exporter": "python",
   "pygments_lexer": "ipython3",
   "version": "3.7.10"
  }
 },
 "nbformat": 4,
 "nbformat_minor": 5
}
