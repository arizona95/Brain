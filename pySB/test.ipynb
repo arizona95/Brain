{
 "cells": [
  {
   "cell_type": "code",
   "execution_count": 1,
   "metadata": {},
   "outputs": [],
   "source": [
    "\n",
    "import tellurium as  tempfile, os, shutil\n",
    "import tellurium as te, tellurium.temiriam as temiriam\n",
    "te.setDefaultPlottingEngine('matplotlib')\n",
    "import phrasedml\n"
   ]
  },
  {
   "cell_type": "code",
   "execution_count": 3,
   "metadata": {},
   "outputs": [
    {
     "data": {
      "image/png": "[encoded data removed]",
      "text/plain": [
       "<Figure size 432x288 with 1 Axes>"
      ]
     },
     "metadata": {},
     "output_type": "display_data"
    },
    {
     "ename": "AttributeError",
     "evalue": "'NoneType' object has no attribute 'AGraph'",
     "output_type": "error",
     "traceback": [
      "\u001b[1;31m---------------------------------------------------------------------------\u001b[0m",
      "\u001b[1;31mAttributeError\u001b[0m                            Traceback (most recent call last)",
      "\u001b[1;32m<ipython-input-3-66b884abcb48>\u001b[0m in \u001b[0;36m<module>\u001b[1;34m\u001b[0m\n\u001b[0;32m      2\u001b[0m \u001b[0mresult\u001b[0m \u001b[1;33m=\u001b[0m \u001b[0mr\u001b[0m\u001b[1;33m.\u001b[0m\u001b[0msimulate\u001b[0m\u001b[1;33m(\u001b[0m\u001b[1;36m0\u001b[0m\u001b[1;33m,\u001b[0m \u001b[1;36m30\u001b[0m\u001b[1;33m,\u001b[0m \u001b[1;36m100\u001b[0m\u001b[1;33m)\u001b[0m\u001b[1;33m\u001b[0m\u001b[1;33m\u001b[0m\u001b[0m\n\u001b[0;32m      3\u001b[0m \u001b[0mr\u001b[0m\u001b[1;33m.\u001b[0m\u001b[0mplot\u001b[0m\u001b[1;33m(\u001b[0m\u001b[0mresult\u001b[0m\u001b[1;33m)\u001b[0m\u001b[1;33m\u001b[0m\u001b[1;33m\u001b[0m\u001b[0m\n\u001b[1;32m----> 4\u001b[1;33m \u001b[0mr\u001b[0m\u001b[1;33m.\u001b[0m\u001b[0mdraw\u001b[0m\u001b[1;33m(\u001b[0m\u001b[1;33m)\u001b[0m\u001b[1;33m\u001b[0m\u001b[1;33m\u001b[0m\u001b[0m\n\u001b[0m\u001b[0;32m      5\u001b[0m \u001b[1;33m\u001b[0m\u001b[0m\n\u001b[0;32m      6\u001b[0m \u001b[0mprint\u001b[0m\u001b[1;33m(\u001b[0m\u001b[0mr\u001b[0m\u001b[1;33m.\u001b[0m\u001b[0mgetFullStoichiometryMatrix\u001b[0m\u001b[1;33m(\u001b[0m\u001b[1;33m)\u001b[0m\u001b[1;33m)\u001b[0m\u001b[1;33m\u001b[0m\u001b[1;33m\u001b[0m\u001b[0m\n",
      "\u001b[1;32m~\\anaconda3\\envs\\tensorflow\\lib\\site-packages\\tellurium\\roadrunner\\extended_roadrunner.py\u001b[0m in \u001b[0;36mdraw\u001b[1;34m(self, **kwargs)\u001b[0m\n\u001b[0;32m    274\u001b[0m \u001b[1;33m\u001b[0m\u001b[0m\n\u001b[0;32m    275\u001b[0m         \u001b[1;32mfrom\u001b[0m \u001b[0mtellurium\u001b[0m \u001b[1;32mimport\u001b[0m \u001b[0mSBMLDiagram\u001b[0m\u001b[1;33m\u001b[0m\u001b[1;33m\u001b[0m\u001b[0m\n\u001b[1;32m--> 276\u001b[1;33m         \u001b[0mdiagram\u001b[0m \u001b[1;33m=\u001b[0m \u001b[0mSBMLDiagram\u001b[0m\u001b[1;33m(\u001b[0m\u001b[0mself\u001b[0m\u001b[1;33m.\u001b[0m\u001b[0mgetSBML\u001b[0m\u001b[1;33m(\u001b[0m\u001b[1;33m)\u001b[0m\u001b[1;33m)\u001b[0m\u001b[1;33m\u001b[0m\u001b[1;33m\u001b[0m\u001b[0m\n\u001b[0m\u001b[0;32m    277\u001b[0m         \u001b[0mdiagram\u001b[0m\u001b[1;33m.\u001b[0m\u001b[0mdraw\u001b[0m\u001b[1;33m(\u001b[0m\u001b[1;33m**\u001b[0m\u001b[0mkwargs\u001b[0m\u001b[1;33m)\u001b[0m\u001b[1;33m\u001b[0m\u001b[1;33m\u001b[0m\u001b[0m\n\u001b[0;32m    278\u001b[0m \u001b[1;33m\u001b[0m\u001b[0m\n",
      "\u001b[1;32m~\\anaconda3\\envs\\tensorflow\\lib\\site-packages\\tellurium\\visualization\\sbmldiagram.py\u001b[0m in \u001b[0;36m__init__\u001b[1;34m(self, sbml, species, reactions, reactants, products, modifiers)\u001b[0m\n\u001b[0;32m     59\u001b[0m                                           \u001b[0mreactants\u001b[0m\u001b[1;33m=\u001b[0m\u001b[0mreactants\u001b[0m\u001b[1;33m,\u001b[0m\u001b[1;33m\u001b[0m\u001b[1;33m\u001b[0m\u001b[0m\n\u001b[0;32m     60\u001b[0m                                           \u001b[0mproducts\u001b[0m\u001b[1;33m=\u001b[0m\u001b[0mproducts\u001b[0m\u001b[1;33m,\u001b[0m\u001b[1;33m\u001b[0m\u001b[1;33m\u001b[0m\u001b[0m\n\u001b[1;32m---> 61\u001b[1;33m                                           modifiers=modifiers)\n\u001b[0m\u001b[0;32m     62\u001b[0m \u001b[1;33m\u001b[0m\u001b[0m\n\u001b[0;32m     63\u001b[0m \u001b[1;33m\u001b[0m\u001b[0m\n",
      "\u001b[1;32m~\\anaconda3\\envs\\tensorflow\\lib\\site-packages\\tellurium\\visualization\\sbmldiagram.py\u001b[0m in \u001b[0;36m_createGraph\u001b[1;34m(model, species, reactions, reactants, products, modifiers)\u001b[0m\n\u001b[0;32m     89\u001b[0m             \u001b[0mwarnings\u001b[0m\u001b[1;33m.\u001b[0m\u001b[0mwarn\u001b[0m\u001b[1;33m(\u001b[0m\u001b[1;34m\"'pygraphviz' could not be imported, cannot draw network diagrams\"\u001b[0m\u001b[1;33m,\u001b[0m \u001b[0mImportWarning\u001b[0m\u001b[1;33m,\u001b[0m \u001b[0mstacklevel\u001b[0m\u001b[1;33m=\u001b[0m\u001b[1;36m2\u001b[0m\u001b[1;33m)\u001b[0m\u001b[1;33m\u001b[0m\u001b[1;33m\u001b[0m\u001b[0m\n\u001b[0;32m     90\u001b[0m \u001b[1;33m\u001b[0m\u001b[0m\n\u001b[1;32m---> 91\u001b[1;33m         \u001b[0mg\u001b[0m \u001b[1;33m=\u001b[0m \u001b[0mpgv\u001b[0m\u001b[1;33m.\u001b[0m\u001b[0mAGraph\u001b[0m\u001b[1;33m(\u001b[0m\u001b[0mstrict\u001b[0m\u001b[1;33m=\u001b[0m\u001b[1;32mFalse\u001b[0m\u001b[1;33m,\u001b[0m \u001b[0mdirected\u001b[0m\u001b[1;33m=\u001b[0m\u001b[1;32mTrue\u001b[0m\u001b[1;33m)\u001b[0m\u001b[1;33m\u001b[0m\u001b[1;33m\u001b[0m\u001b[0m\n\u001b[0m\u001b[0;32m     92\u001b[0m \u001b[1;33m\u001b[0m\u001b[0m\n\u001b[0;32m     93\u001b[0m         \u001b[1;31m# set some default node attributes\u001b[0m\u001b[1;33m\u001b[0m\u001b[1;33m\u001b[0m\u001b[1;33m\u001b[0m\u001b[0m\n",
      "\u001b[1;31mAttributeError\u001b[0m: 'NoneType' object has no attribute 'AGraph'"
     ]
    }
   ],
   "source": [
    "r = te.loadSBMLModel(\"test.xml\")\n",
    "result = r.simulate(0, 30, 100)\n",
    "r.plot(result)\n",
    "r.draw()\n",
    "\n",
    "print(r.getFullStoichiometryMatrix())"
   ]
  },
  {
   "cell_type": "code",
   "execution_count": 4,
   "metadata": {},
   "outputs": [
    {
     "data": {
      "image/png": "[encoded data removed]",
      "text/plain": [
       "<Figure size 432x288 with 1 Axes>"
      ]
     },
     "metadata": {
      "needs_background": "light"
     },
     "output_type": "display_data"
    },
    {
     "ename": "AttributeError",
     "evalue": "'NoneType' object has no attribute 'AGraph'",
     "output_type": "error",
     "traceback": [
      "\u001b[1;31m---------------------------------------------------------------------------\u001b[0m",
      "\u001b[1;31mAttributeError\u001b[0m                            Traceback (most recent call last)",
      "\u001b[1;32m<ipython-input-4-b3f7b93a8ffd>\u001b[0m in \u001b[0;36m<module>\u001b[1;34m\u001b[0m\n\u001b[0;32m     14\u001b[0m \u001b[0mresult\u001b[0m \u001b[1;33m=\u001b[0m \u001b[0mr\u001b[0m\u001b[1;33m.\u001b[0m\u001b[0msimulate\u001b[0m\u001b[1;33m(\u001b[0m\u001b[1;36m0\u001b[0m\u001b[1;33m,\u001b[0m \u001b[1;36m20\u001b[0m\u001b[1;33m,\u001b[0m \u001b[1;36m51\u001b[0m\u001b[1;33m)\u001b[0m\u001b[1;33m\u001b[0m\u001b[1;33m\u001b[0m\u001b[0m\n\u001b[0;32m     15\u001b[0m \u001b[0mte\u001b[0m\u001b[1;33m.\u001b[0m\u001b[0mplotArray\u001b[0m\u001b[1;33m(\u001b[0m\u001b[0mresult\u001b[0m\u001b[1;33m)\u001b[0m\u001b[1;33m;\u001b[0m\u001b[1;33m\u001b[0m\u001b[1;33m\u001b[0m\u001b[0m\n\u001b[1;32m---> 16\u001b[1;33m \u001b[0mr\u001b[0m\u001b[1;33m.\u001b[0m\u001b[0mdraw\u001b[0m\u001b[1;33m(\u001b[0m\u001b[1;33m)\u001b[0m\u001b[1;33m\u001b[0m\u001b[1;33m\u001b[0m\u001b[0m\n\u001b[0m",
      "\u001b[1;32m~\\anaconda3\\envs\\tensorflow\\lib\\site-packages\\tellurium\\roadrunner\\extended_roadrunner.py\u001b[0m in \u001b[0;36mdraw\u001b[1;34m(self, **kwargs)\u001b[0m\n\u001b[0;32m    274\u001b[0m \u001b[1;33m\u001b[0m\u001b[0m\n\u001b[0;32m    275\u001b[0m         \u001b[1;32mfrom\u001b[0m \u001b[0mtellurium\u001b[0m \u001b[1;32mimport\u001b[0m \u001b[0mSBMLDiagram\u001b[0m\u001b[1;33m\u001b[0m\u001b[1;33m\u001b[0m\u001b[0m\n\u001b[1;32m--> 276\u001b[1;33m         \u001b[0mdiagram\u001b[0m \u001b[1;33m=\u001b[0m \u001b[0mSBMLDiagram\u001b[0m\u001b[1;33m(\u001b[0m\u001b[0mself\u001b[0m\u001b[1;33m.\u001b[0m\u001b[0mgetSBML\u001b[0m\u001b[1;33m(\u001b[0m\u001b[1;33m)\u001b[0m\u001b[1;33m)\u001b[0m\u001b[1;33m\u001b[0m\u001b[1;33m\u001b[0m\u001b[0m\n\u001b[0m\u001b[0;32m    277\u001b[0m         \u001b[0mdiagram\u001b[0m\u001b[1;33m.\u001b[0m\u001b[0mdraw\u001b[0m\u001b[1;33m(\u001b[0m\u001b[1;33m**\u001b[0m\u001b[0mkwargs\u001b[0m\u001b[1;33m)\u001b[0m\u001b[1;33m\u001b[0m\u001b[1;33m\u001b[0m\u001b[0m\n\u001b[0;32m    278\u001b[0m \u001b[1;33m\u001b[0m\u001b[0m\n",
      "\u001b[1;32m~\\anaconda3\\envs\\tensorflow\\lib\\site-packages\\tellurium\\visualization\\sbmldiagram.py\u001b[0m in \u001b[0;36m__init__\u001b[1;34m(self, sbml, species, reactions, reactants, products, modifiers)\u001b[0m\n\u001b[0;32m     59\u001b[0m                                           \u001b[0mreactants\u001b[0m\u001b[1;33m=\u001b[0m\u001b[0mreactants\u001b[0m\u001b[1;33m,\u001b[0m\u001b[1;33m\u001b[0m\u001b[1;33m\u001b[0m\u001b[0m\n\u001b[0;32m     60\u001b[0m                                           \u001b[0mproducts\u001b[0m\u001b[1;33m=\u001b[0m\u001b[0mproducts\u001b[0m\u001b[1;33m,\u001b[0m\u001b[1;33m\u001b[0m\u001b[1;33m\u001b[0m\u001b[0m\n\u001b[1;32m---> 61\u001b[1;33m                                           modifiers=modifiers)\n\u001b[0m\u001b[0;32m     62\u001b[0m \u001b[1;33m\u001b[0m\u001b[0m\n\u001b[0;32m     63\u001b[0m \u001b[1;33m\u001b[0m\u001b[0m\n",
      "\u001b[1;32m~\\anaconda3\\envs\\tensorflow\\lib\\site-packages\\tellurium\\visualization\\sbmldiagram.py\u001b[0m in \u001b[0;36m_createGraph\u001b[1;34m(model, species, reactions, reactants, products, modifiers)\u001b[0m\n\u001b[0;32m     89\u001b[0m             \u001b[0mwarnings\u001b[0m\u001b[1;33m.\u001b[0m\u001b[0mwarn\u001b[0m\u001b[1;33m(\u001b[0m\u001b[1;34m\"'pygraphviz' could not be imported, cannot draw network diagrams\"\u001b[0m\u001b[1;33m,\u001b[0m \u001b[0mImportWarning\u001b[0m\u001b[1;33m,\u001b[0m \u001b[0mstacklevel\u001b[0m\u001b[1;33m=\u001b[0m\u001b[1;36m2\u001b[0m\u001b[1;33m)\u001b[0m\u001b[1;33m\u001b[0m\u001b[1;33m\u001b[0m\u001b[0m\n\u001b[0;32m     90\u001b[0m \u001b[1;33m\u001b[0m\u001b[0m\n\u001b[1;32m---> 91\u001b[1;33m         \u001b[0mg\u001b[0m \u001b[1;33m=\u001b[0m \u001b[0mpgv\u001b[0m\u001b[1;33m.\u001b[0m\u001b[0mAGraph\u001b[0m\u001b[1;33m(\u001b[0m\u001b[0mstrict\u001b[0m\u001b[1;33m=\u001b[0m\u001b[1;32mFalse\u001b[0m\u001b[1;33m,\u001b[0m \u001b[0mdirected\u001b[0m\u001b[1;33m=\u001b[0m\u001b[1;32mTrue\u001b[0m\u001b[1;33m)\u001b[0m\u001b[1;33m\u001b[0m\u001b[1;33m\u001b[0m\u001b[0m\n\u001b[0m\u001b[0;32m     92\u001b[0m \u001b[1;33m\u001b[0m\u001b[0m\n\u001b[0;32m     93\u001b[0m         \u001b[1;31m# set some default node attributes\u001b[0m\u001b[1;33m\u001b[0m\u001b[1;33m\u001b[0m\u001b[1;33m\u001b[0m\u001b[0m\n",
      "\u001b[1;31mAttributeError\u001b[0m: 'NoneType' object has no attribute 'AGraph'"
     ]
    }
   ],
   "source": [
    "\n",
    "\n",
    "r = te.loada('''\n",
    "  model pathway()\n",
    "    S1 -> S2; S1*S2^2*k1\n",
    "    S2 -> S1; S2*S1^2*k1\n",
    "\n",
    "    # Initialize values\n",
    "    S1 = 1.9;\n",
    "    S2 = 2;\n",
    "    \n",
    "    k1 = 0.02;\n",
    "  end\n",
    "''')\n",
    "\n",
    "result = r.simulate(0, 20, 51)\n",
    "te.plotArray(result);\n",
    "r.draw()"
   ]
  },
  {
   "cell_type": "code",
   "execution_count": null,
   "metadata": {},
   "outputs": [],
   "source": [
    "\n",
    "r = te.loada('''\n",
    "  model pathway()\n",
    "    S1 + S2 -> 2 S3; k1*S1*S2\n",
    "    3 S3 -> 4 S4 + 6 S5; k2*S3^3\n",
    "    k1 = 0.1;k2 = 0.1;\n",
    "  end\n",
    "''')\n",
    "print(r.getCurrentAntimony())"
   ]
  },
  {
   "cell_type": "code",
   "execution_count": null,
   "metadata": {},
   "outputs": [],
   "source": [
    "import tellurium as te\n",
    "from roadrunner import Config\n",
    "\n",
    "# We do not want CONSERVED MOIETIES set to true in this case\n",
    "Config.setValue(Config.LOADSBMLOPTIONS_CONSERVED_MOIETIES, False)\n",
    "\n",
    "# Generating different waveforms\n",
    "model = '''\n",
    "  model waveforms()\n",
    "     # All waves have the following amplitude and period\n",
    "     amplitude = 1\n",
    "     period = 10\n",
    "\n",
    "     # These events set the 'UpDown' variable to 1 or 0 according to the period.\n",
    "     UpDown=0\n",
    "     at sin(2*pi*time/period) >  0, t0=false: UpDown = 1\n",
    "     at sin(2*pi*time/period) <= 0, t0=false: UpDown = 0\n",
    "\n",
    "     # Simple Sine wave with y displaced by 3\n",
    "     SineWave := amplitude/2*sin(2*pi*time/period) + 3\n",
    "\n",
    "     # Square wave with y displaced by 1.5\n",
    "     SquareWave := amplitude*UpDown + 1.5\n",
    "\n",
    "     # Triangle waveform with given period and y displaced by 1\n",
    "     TriangleWave = 1\n",
    "     TriangleWave' = amplitude*2*(UpDown - 0.5)/period\n",
    "\n",
    "     # Saw tooth wave form with given period\n",
    "     SawTooth = amplitude/2\n",
    "     SawTooth' = amplitude/period\n",
    "     at UpDown==0: SawTooth = 0\n",
    "\n",
    "     # Simple ramp\n",
    "     Ramp := 0.03*time\n",
    "  end\n",
    "'''\n",
    "\n",
    "r = te.loada(model)\n",
    "\n",
    "r.timeCourseSelections = ['time', 'SineWave', 'SquareWave', 'SawTooth', 'TriangleWave', 'Ramp']\n",
    "result = r.simulate (0, 90, 500)\n",
    "r.plot(result)\n",
    "\n",
    "# reset to default config\n",
    "Config.setValue(Config.LOADSBMLOPTIONS_CONSERVED_MOIETIES, False)"
   ]
  },
  {
   "cell_type": "code",
   "execution_count": null,
   "metadata": {},
   "outputs": [],
   "source": [
    "import tellurium as te\n",
    "import numpy as np\n",
    "\n",
    "r = te.loada('S1 -> S2; k1*S1; k1 = 0.1; S1 = 40')\n",
    "r.integrator = 'gillespie'\n",
    "r.integrator.seed = 1234\n",
    "\n",
    "results = []\n",
    "for k in range(1, 50):\n",
    "    r.reset()\n",
    "    s = r.simulate(0, 40)\n",
    "    results.append(s)\n",
    "    r.plot(s, show=False, alpha=0.7)\n",
    "te.show()"
   ]
  },
  {
   "cell_type": "code",
   "execution_count": null,
   "metadata": {},
   "outputs": [],
   "source": [
    "results = []\n",
    "for k in range(1, 20):\n",
    "    r.reset()\n",
    "    r.setSeed(123456)\n",
    "    s = r.simulate(0, 40)\n",
    "    results.append(s)\n",
    "    r.plot(s, show=False, loc=None, color='black', alpha=0.7)\n",
    "te.show()"
   ]
  },
  {
   "cell_type": "code",
   "execution_count": null,
   "metadata": {},
   "outputs": [],
   "source": [
    "import tellurium as te\n",
    "\n",
    "antimony_str = '''\n",
    "// Created by libAntimony v2.9\n",
    "model *case_09()\n",
    "\n",
    "// Compartments and Species:\n",
    "compartment compartment_;\n",
    "species MKKK in compartment_, MKKK_P in compartment_, MKK in compartment_;\n",
    "species MKK_P in compartment_, MKK_PP in compartment_, MAPK in compartment_;\n",
    "species MAPK_P in compartment_, MAPK_PP in compartment_;\n",
    "\n",
    "// Reactions:\n",
    "J0: MKKK => MKKK_P; (J0_V1*MKKK)/((1 + (MAPK_PP/J0_Ki)^J0_n)*(J0_K1 + MKKK));\n",
    "J1: MKKK_P => MKKK; (J1_V2*MKKK_P)/(J1_KK2 + MKKK_P);\n",
    "J2: MKK => MKK_P; (J2_k3*MKKK_P*MKK)/(J2_KK3 + MKK);\n",
    "J3: MKK_P => MKK_PP; (J3_k4*MKKK_P*MKK_P)/(J3_KK4 + MKK_P);\n",
    "J4: MKK_PP => MKK_P; (J4_V5*MKK_PP)/(J4_KK5 + MKK_PP);\n",
    "J5: MKK_P => MKK; (J5_V6*MKK_P)/(J5_KK6 + MKK_P);\n",
    "J6: MAPK => MAPK_P; (J6_k7*MKK_PP*MAPK)/(J6_KK7 + MAPK);\n",
    "J7: MAPK_P => MAPK_PP; (J7_k8*MKK_PP*MAPK_P)/(J7_KK8 + MAPK_P);\n",
    "J8: MAPK_PP => MAPK_P; (J8_V9*MAPK_PP)/(J8_KK9 + MAPK_PP);\n",
    "J9: MAPK_P => MAPK; (J9_V10*MAPK_P)/(J9_KK10 + MAPK_P);\n",
    "\n",
    "// Species initializations:\n",
    "MKKK = 90;\n",
    "MKKK_P = 10;\n",
    "MKK = 280;\n",
    "MKK_P = 10;\n",
    "MKK_PP = 10;\n",
    "MAPK = 280;\n",
    "MAPK_P = 10;\n",
    "MAPK_PP = 10;\n",
    "\n",
    "// Compartment initializations:\n",
    "compartment_ = 1;\n",
    "\n",
    "// Variable initializations:\n",
    "J0_V1 = 2.5;\n",
    "J0_Ki = 9;\n",
    "J0_n = 1;\n",
    "J0_K1 = 10;\n",
    "J1_V2 = 0.25;\n",
    "J1_KK2 = 8;\n",
    "J2_k3 = 0.025;\n",
    "J2_KK3 = 15;\n",
    "J3_k4 = 0.025;\n",
    "J3_KK4 = 15;\n",
    "J4_V5 = 0.75;\n",
    "J4_KK5 = 15;\n",
    "J5_V6 = 0.75;\n",
    "J5_KK6 = 15;\n",
    "J6_k7 = 0.025;\n",
    "J6_KK7 = 15;\n",
    "J7_k8 = 0.025;\n",
    "J7_KK8 = 15;\n",
    "J8_V9 = 0.5;\n",
    "J8_KK9 = 15;\n",
    "J9_V10 = 0.5;\n",
    "J9_KK10 = 15;\n",
    "\n",
    "// Other declarations:\n",
    "const compartment_, J0_V1, J0_Ki, J0_n, J0_K1, J1_V2, J1_KK2, J2_k3, J2_KK3;\n",
    "const J3_k4, J3_KK4, J4_V5, J4_KK5, J5_V6, J5_KK6, J6_k7, J6_KK7, J7_k8;\n",
    "const J7_KK8, J8_V9, J8_KK9, J9_V10, J9_KK10;\n",
    "end\n",
    "'''\n",
    "\n",
    "phrasedml_str = '''\n",
    "  mod1 = model \"case_09\"\n",
    "  # sim1 = simulate uniform_stochastic(0, 4000, 1000)\n",
    "  sim1 = simulate uniform(0, 4000, 1000)\n",
    "  task1 = run sim1 on mod1\n",
    "  repeat1 = repeat task1 for local.x in uniform(0, 10, 10), reset=true\n",
    "  plot \"MAPK oscillations\" repeat1.MAPK vs repeat1.time vs repeat1.MAPK_P, repeat1.MAPK vs repeat1.time vs repeat1.MAPK_PP, repeat1.MAPK vs repeat1.time vs repeat1.MKK\n",
    "  # report repeat1.MAPK vs repeat1.time vs repeat1.MAPK_P, repeat1.MAPK vs repeat1.time vs repeat1.MAPK_PP, repeat1.MAPK vs repeat1.time vs repeat1.MKK\n",
    "'''\n",
    "\n",
    "# create the inline OMEX string\n",
    "inline_omex = '\\n'.join([antimony_str, phrasedml_str])\n",
    "\n",
    "# execute the inline OMEX\n",
    "te.executeInlineOmex(inline_omex)"
   ]
  },
  {
   "cell_type": "code",
   "execution_count": null,
   "metadata": {},
   "outputs": [],
   "source": [
    "import tellurium as te\n",
    "import matplotlib.pyplot as plt\n",
    "import numpy\n",
    "# Example showing use of events and how to set the y axis limits\n",
    "r = te.loada ('''\n",
    "  $Xo -> S;   Xo/(km + S^h);\n",
    "  S -> $w;  k1*S;\n",
    "\n",
    "     # initialize\n",
    "     h = 1;   # Hill coefficient\n",
    "     k1 = 1;  km = 0.1;\n",
    "     S = 1.5; Xo = 2\n",
    "\n",
    "     at (time > 10): Xo = 5;\n",
    "     at (time > 20): Xo = 2;\n",
    "''')\n",
    "r.Xo=1\n",
    "\n",
    "# Time course simulation\n",
    "m1 = r.simulate (0, 15, 100, ['time', 'Xo', 'S']);\n",
    "r.Xo=1\n",
    "m2 = r.simulate (15, 40, 100, ['time', 'Xo', 'S']);\n",
    "r.Xo=10\n",
    "m3 = r.simulate (40, 60, 100, ['time', 'Xo', 'S']);\n",
    "\n",
    "m = numpy.vstack([m1, m2, m3])\n",
    "p = te.plot(m[:,0], m[:,1], name='trace1')\n"
   ]
  },
  {
   "cell_type": "code",
   "execution_count": null,
   "metadata": {},
   "outputs": [],
   "source": [
    "import tellurium as te\n",
    "\n",
    "# Example of using antimony to create a stoichiometry matrix\n",
    "r = te.loada('''\n",
    " J1: -> S1; v1;\n",
    " J2: S1 -> S2; v2;\n",
    " J3: S2 -> ; v3;\n",
    " J4: S3 -> S1; v4;\n",
    " J5: S3 -> S2; v5;\n",
    " J6: -> S3; v6;\n",
    "\n",
    " v1=1; v2=1; v3=1; v4=1; v5=1; v6=1;\n",
    "''')\n",
    "\n",
    "print(r.getFullStoichiometryMatrix())"
   ]
  },
  {
   "cell_type": "code",
   "execution_count": null,
   "metadata": {},
   "outputs": [],
   "source": [
    "r = te.loada('''\n",
    "    $Xo -> S1; vo;\n",
    "    S1 -> S2; k1*S1 - k2*S2;\n",
    "    S2 -> $X1; k3*S2;\n",
    "\n",
    "    vo = 1\n",
    "    k1 = 2; k2 = 0; k3 = 3;\n",
    "''')\n",
    "\n",
    "# parameter scan\n",
    "p = te.ParameterScan(r,\n",
    "    # settings\n",
    "    startTime = 0,\n",
    "    endTime = 6,\n",
    "    numberOfPoints = 50,\n",
    "    startValue = 1,\n",
    "    endValue = 5,\n",
    "    colormap = \"cool\",\n",
    "    independent = [\"Time\", \"k1\"],\n",
    "    dependent = \"S1\",\n",
    "    xlabel = \"Time\",\n",
    "    ylabel = \"x\",\n",
    "    title = \"Model\"\n",
    ")\n",
    "# plot\n",
    "p.plotSurface()"
   ]
  },
  {
   "cell_type": "code",
   "execution_count": null,
   "metadata": {},
   "outputs": [],
   "source": []
  }
 ],
 "metadata": {
  "kernelspec": {
   "display_name": "Python 3",
   "language": "python",
   "name": "python3"
  },
  "language_info": {
   "codemirror_mode": {
    "name": "ipython",
    "version": 3
   },
   "file_extension": ".py",
   "mimetype": "text/x-python",
   "name": "python",
   "nbconvert_exporter": "python",
   "pygments_lexer": "ipython3",
   "version": "3.7.3"
  }
 },
 "nbformat": 4,
 "nbformat_minor": 4
}
