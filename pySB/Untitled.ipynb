{
 "cells": [
  {
   "cell_type": "code",
   "execution_count": 2,
   "id": "a6f70307",
   "metadata": {},
   "outputs": [],
   "source": [
    "import numpy as np\n",
    "import math"
   ]
  },
  {
   "cell_type": "code",
   "execution_count": null,
   "id": "803e9aa2",
   "metadata": {},
   "outputs": [],
   "source": []
  },
  {
   "cell_type": "code",
   "execution_count": null,
   "id": "ca1e18ab",
   "metadata": {},
   "outputs": [],
   "source": []
  },
  {
   "cell_type": "code",
   "execution_count": null,
   "id": "b1b1913a",
   "metadata": {},
   "outputs": [],
   "source": []
  },
  {
   "cell_type": "code",
   "execution_count": 35,
   "id": "ba2451c5",
   "metadata": {},
   "outputs": [],
   "source": [
    "N=5\n",
    "T = np.zeros((N, N, N)) \n",
    "\n",
    "for x in range(N) :\n",
    "    for y in range(N) :\n",
    "        for z in range(N) :\n",
    "            if (x+y-z)%N == 0  : T[x][y][z]=1\n",
    "                \n",
    "#T"
   ]
  },
  {
   "cell_type": "code",
   "execution_count": 68,
   "id": "ae3917ba",
   "metadata": {},
   "outputs": [],
   "source": [
    "S_AB = np.random.rand(N)\n"
   ]
  },
  {
   "cell_type": "code",
   "execution_count": 69,
   "id": "96a8097c",
   "metadata": {},
   "outputs": [],
   "source": [
    "M_AB = np.dot(S_AB,T)"
   ]
  },
  {
   "cell_type": "code",
   "execution_count": 70,
   "id": "20e1e607",
   "metadata": {},
   "outputs": [],
   "source": [
    "PI_A = np.array(range(N))"
   ]
  },
  {
   "cell_type": "code",
   "execution_count": 71,
   "id": "7f2bfdaa",
   "metadata": {},
   "outputs": [],
   "source": [
    "PI_B = np.array(range(N-1,-1,-1))"
   ]
  },
  {
   "cell_type": "code",
   "execution_count": 72,
   "id": "a3897770",
   "metadata": {
    "scrolled": true
   },
   "outputs": [
    {
     "data": {
      "text/plain": [
       "array([[ 2.00000000e+00,  2.70670566e-01,  3.66312778e-02,\n",
       "         4.95750435e-03,  6.70925256e-04],\n",
       "       [-4.06005850e-01,  2.00000000e+00,  2.70670566e-01,\n",
       "         3.66312778e-02,  4.95750435e-03],\n",
       "       [-5.49469167e-02, -4.06005850e-01,  2.00000000e+00,\n",
       "         2.70670566e-01,  3.66312778e-02],\n",
       "       [-7.43625653e-03, -5.49469167e-02, -4.06005850e-01,\n",
       "         2.00000000e+00,  2.70670566e-01],\n",
       "       [-1.00638788e-03, -7.43625653e-03, -5.49469167e-02,\n",
       "        -4.06005850e-01,  2.00000000e+00]])"
      ]
     },
     "execution_count": 72,
     "metadata": {},
     "output_type": "execute_result"
    }
   ],
   "source": [
    "A = 2\n",
    "B = 2\n",
    "C = 3\n",
    "D = 2\n",
    "\n",
    "W = np.zeros((N, N)) \n",
    "\n",
    "for x in range(N) :\n",
    "    for y in range(N) :\n",
    "        if x<=y : W[x][y]=  A * math.pow(math.e,(x-y)*B)\n",
    "        else : W[x][y]=  -C * math.pow(math.e, (x-y) * -D)\n",
    "                \n",
    "W"
   ]
  },
  {
   "cell_type": "code",
   "execution_count": 83,
   "id": "c2f5a70c",
   "metadata": {},
   "outputs": [
    {
     "data": {
      "text/plain": [
       "array([0.64576602, 0.17550189, 0.07368498, 0.36184457, 0.10038898])"
      ]
     },
     "execution_count": 83,
     "metadata": {},
     "output_type": "execute_result"
    }
   ],
   "source": [
    "S_AB"
   ]
  },
  {
   "cell_type": "code",
   "execution_count": 80,
   "id": "1da96203",
   "metadata": {},
   "outputs": [
    {
     "data": {
      "text/plain": [
       "array([1.80996149, 2.66520304, 2.21316661, 3.20192814, 3.68160516])"
      ]
     },
     "execution_count": 80,
     "metadata": {},
     "output_type": "execute_result"
    }
   ],
   "source": [
    "np.dot(M_AB, PI_A)"
   ]
  },
  {
   "cell_type": "code",
   "execution_count": 78,
   "id": "d553a864",
   "metadata": {},
   "outputs": [
    {
     "data": {
      "text/plain": [
       "array([0, 1, 2, 3, 4])"
      ]
     },
     "execution_count": 78,
     "metadata": {},
     "output_type": "execute_result"
    }
   ],
   "source": [
    "np.dot(M_AB, PI_A)"
   ]
  },
  {
   "cell_type": "code",
   "execution_count": 82,
   "id": "e234bc4f",
   "metadata": {},
   "outputs": [
    {
     "data": {
      "text/plain": [
       "36.45641126817882"
      ]
     },
     "execution_count": 82,
     "metadata": {},
     "output_type": "execute_result"
    }
   ],
   "source": [
    "np.dot( np.dot(PI_A, M_AB) , np.dot(W, PI_B) )"
   ]
  },
  {
   "cell_type": "code",
   "execution_count": null,
   "id": "5d82d17d",
   "metadata": {},
   "outputs": [],
   "source": []
  },
  {
   "cell_type": "code",
   "execution_count": null,
   "id": "63055431",
   "metadata": {},
   "outputs": [],
   "source": []
  },
  {
   "cell_type": "code",
   "execution_count": null,
   "id": "d783c873",
   "metadata": {},
   "outputs": [],
   "source": []
  },
  {
   "cell_type": "code",
   "execution_count": null,
   "id": "a6d4c09b",
   "metadata": {},
   "outputs": [],
   "source": []
  },
  {
   "cell_type": "code",
   "execution_count": 29,
   "id": "06110178",
   "metadata": {},
   "outputs": [],
   "source": [
    "N = 30\n",
    "A = np.random.rand(N)"
   ]
  },
  {
   "cell_type": "code",
   "execution_count": 30,
   "id": "76980073",
   "metadata": {},
   "outputs": [],
   "source": [
    "B = np.random.rand(N)"
   ]
  },
  {
   "cell_type": "code",
   "execution_count": 31,
   "id": "019d8604",
   "metadata": {},
   "outputs": [
    {
     "data": {
      "text/plain": [
       "7.623923663880596"
      ]
     },
     "execution_count": 31,
     "metadata": {},
     "output_type": "execute_result"
    }
   ],
   "source": [
    "np.dot( A, B)"
   ]
  },
  {
   "cell_type": "code",
   "execution_count": 32,
   "id": "f3fe8ca7",
   "metadata": {},
   "outputs": [],
   "source": [
    "B_A = (B -  A* (np.dot(A,B) / sum(A)))"
   ]
  },
  {
   "cell_type": "code",
   "execution_count": 33,
   "id": "1d901c33",
   "metadata": {},
   "outputs": [
    {
     "data": {
      "text/plain": [
       "4.883182719157525"
      ]
     },
     "execution_count": 33,
     "metadata": {},
     "output_type": "execute_result"
    }
   ],
   "source": [
    "np.dot(B_A, B_A)"
   ]
  },
  {
   "cell_type": "code",
   "execution_count": 34,
   "id": "5f7cb62e",
   "metadata": {},
   "outputs": [
    {
     "data": {
      "text/plain": [
       "9.453173090364603"
      ]
     },
     "execution_count": 34,
     "metadata": {},
     "output_type": "execute_result"
    }
   ],
   "source": [
    "np.dot(B, B)"
   ]
  },
  {
   "cell_type": "code",
   "execution_count": 36,
   "id": "96b45a75",
   "metadata": {},
   "outputs": [
    {
     "data": {
      "text/plain": [
       "array([[[1., 0., 0., 0., 0.],\n",
       "        [0., 1., 0., 0., 0.],\n",
       "        [0., 0., 1., 0., 0.],\n",
       "        [0., 0., 0., 1., 0.],\n",
       "        [0., 0., 0., 0., 1.]],\n",
       "\n",
       "       [[0., 1., 0., 0., 0.],\n",
       "        [0., 0., 1., 0., 0.],\n",
       "        [0., 0., 0., 1., 0.],\n",
       "        [0., 0., 0., 0., 1.],\n",
       "        [1., 0., 0., 0., 0.]],\n",
       "\n",
       "       [[0., 0., 1., 0., 0.],\n",
       "        [0., 0., 0., 1., 0.],\n",
       "        [0., 0., 0., 0., 1.],\n",
       "        [1., 0., 0., 0., 0.],\n",
       "        [0., 1., 0., 0., 0.]],\n",
       "\n",
       "       [[0., 0., 0., 1., 0.],\n",
       "        [0., 0., 0., 0., 1.],\n",
       "        [1., 0., 0., 0., 0.],\n",
       "        [0., 1., 0., 0., 0.],\n",
       "        [0., 0., 1., 0., 0.]],\n",
       "\n",
       "       [[0., 0., 0., 0., 1.],\n",
       "        [1., 0., 0., 0., 0.],\n",
       "        [0., 1., 0., 0., 0.],\n",
       "        [0., 0., 1., 0., 0.],\n",
       "        [0., 0., 0., 1., 0.]]])"
      ]
     },
     "execution_count": 36,
     "metadata": {},
     "output_type": "execute_result"
    }
   ],
   "source": [
    "T"
   ]
  },
  {
   "cell_type": "code",
   "execution_count": 38,
   "id": "875c44d8",
   "metadata": {},
   "outputs": [
    {
     "data": {
      "text/plain": [
       "(5, 5, 5, 5)"
      ]
     },
     "execution_count": 38,
     "metadata": {},
     "output_type": "execute_result"
    }
   ],
   "source": [
    "np.dot (T, T).shape"
   ]
  },
  {
   "cell_type": "code",
   "execution_count": null,
   "id": "05d8d24c",
   "metadata": {},
   "outputs": [],
   "source": []
  }
 ],
 "metadata": {
  "kernelspec": {
   "display_name": "Python 3",
   "language": "python",
   "name": "python3"
  },
  "language_info": {
   "codemirror_mode": {
    "name": "ipython",
    "version": 3
   },
   "file_extension": ".py",
   "mimetype": "text/x-python",
   "name": "python",
   "nbconvert_exporter": "python",
   "pygments_lexer": "ipython3",
   "version": "3.7.3"
  }
 },
 "nbformat": 4,
 "nbformat_minor": 5
}
