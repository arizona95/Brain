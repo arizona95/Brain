{
 "cells": [
  {
   "cell_type": "code",
   "execution_count": 1,
   "id": "a6f70307",
   "metadata": {},
   "outputs": [],
   "source": [
    "import numpy as np\n",
    "import math"
   ]
  },
  {
   "cell_type": "code",
   "execution_count": 67,
   "id": "ba2451c5",
   "metadata": {},
   "outputs": [],
   "source": [
    "N=5\n",
    "T = np.zeros((N, N, N)) \n",
    "\n",
    "for x in range(N) :\n",
    "    for y in range(N) :\n",
    "        for z in range(N) :\n",
    "            if (x+y-z)%N == 0  : T[x][y][z]=1\n",
    "                \n",
    "#T"
   ]
  },
  {
   "cell_type": "code",
   "execution_count": 68,
   "id": "ae3917ba",
   "metadata": {},
   "outputs": [],
   "source": [
    "S_AB = np.random.rand(N)\n"
   ]
  },
  {
   "cell_type": "code",
   "execution_count": 69,
   "id": "96a8097c",
   "metadata": {},
   "outputs": [],
   "source": [
    "M_AB = np.dot(S_AB,T)"
   ]
  },
  {
   "cell_type": "code",
   "execution_count": 70,
   "id": "20e1e607",
   "metadata": {},
   "outputs": [],
   "source": [
    "PI_A = np.array(range(N))"
   ]
  },
  {
   "cell_type": "code",
   "execution_count": 71,
   "id": "7f2bfdaa",
   "metadata": {},
   "outputs": [],
   "source": [
    "PI_B = np.array(range(N-1,-1,-1))"
   ]
  },
  {
   "cell_type": "code",
   "execution_count": 72,
   "id": "a3897770",
   "metadata": {
    "scrolled": true
   },
   "outputs": [
    {
     "data": {
      "text/plain": [
       "array([[ 2.00000000e+00,  2.70670566e-01,  3.66312778e-02,\n",
       "         4.95750435e-03,  6.70925256e-04],\n",
       "       [-4.06005850e-01,  2.00000000e+00,  2.70670566e-01,\n",
       "         3.66312778e-02,  4.95750435e-03],\n",
       "       [-5.49469167e-02, -4.06005850e-01,  2.00000000e+00,\n",
       "         2.70670566e-01,  3.66312778e-02],\n",
       "       [-7.43625653e-03, -5.49469167e-02, -4.06005850e-01,\n",
       "         2.00000000e+00,  2.70670566e-01],\n",
       "       [-1.00638788e-03, -7.43625653e-03, -5.49469167e-02,\n",
       "        -4.06005850e-01,  2.00000000e+00]])"
      ]
     },
     "execution_count": 72,
     "metadata": {},
     "output_type": "execute_result"
    }
   ],
   "source": [
    "A = 2\n",
    "B = 2\n",
    "C = 3\n",
    "D = 2\n",
    "\n",
    "W = np.zeros((N, N)) \n",
    "\n",
    "for x in range(N) :\n",
    "    for y in range(N) :\n",
    "        if x<=y : W[x][y]=  A * math.pow(math.e,(x-y)*B)\n",
    "        else : W[x][y]=  -C * math.pow(math.e, (x-y) * -D)\n",
    "                \n",
    "W"
   ]
  },
  {
   "cell_type": "code",
   "execution_count": 83,
   "id": "c2f5a70c",
   "metadata": {},
   "outputs": [
    {
     "data": {
      "text/plain": [
       "array([0.64576602, 0.17550189, 0.07368498, 0.36184457, 0.10038898])"
      ]
     },
     "execution_count": 83,
     "metadata": {},
     "output_type": "execute_result"
    }
   ],
   "source": [
    "S_AB"
   ]
  },
  {
   "cell_type": "code",
   "execution_count": 80,
   "id": "1da96203",
   "metadata": {},
   "outputs": [
    {
     "data": {
      "text/plain": [
       "array([1.80996149, 2.66520304, 2.21316661, 3.20192814, 3.68160516])"
      ]
     },
     "execution_count": 80,
     "metadata": {},
     "output_type": "execute_result"
    }
   ],
   "source": [
    "np.dot(M_AB, PI_A)"
   ]
  },
  {
   "cell_type": "code",
   "execution_count": 78,
   "id": "d553a864",
   "metadata": {},
   "outputs": [
    {
     "data": {
      "text/plain": [
       "array([0, 1, 2, 3, 4])"
      ]
     },
     "execution_count": 78,
     "metadata": {},
     "output_type": "execute_result"
    }
   ],
   "source": [
    "np.dot(M_AB, PI_A)"
   ]
  },
  {
   "cell_type": "code",
   "execution_count": 82,
   "id": "e234bc4f",
   "metadata": {},
   "outputs": [
    {
     "data": {
      "text/plain": [
       "36.45641126817882"
      ]
     },
     "execution_count": 82,
     "metadata": {},
     "output_type": "execute_result"
    }
   ],
   "source": [
    "np.dot( np.dot(PI_A, M_AB) , np.dot(W, PI_B) )"
   ]
  },
  {
   "cell_type": "code",
   "execution_count": null,
   "id": "5d82d17d",
   "metadata": {},
   "outputs": [],
   "source": []
  }
 ],
 "metadata": {
  "kernelspec": {
   "display_name": "Python 3",
   "language": "python",
   "name": "python3"
  },
  "language_info": {
   "codemirror_mode": {
    "name": "ipython",
    "version": 3
   },
   "file_extension": ".py",
   "mimetype": "text/x-python",
   "name": "python",
   "nbconvert_exporter": "python",
   "pygments_lexer": "ipython3",
   "version": "3.7.10"
  }
 },
 "nbformat": 4,
 "nbformat_minor": 5
}
